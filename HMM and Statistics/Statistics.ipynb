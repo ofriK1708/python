{
 "cells": [
  {
   "cell_type": "code",
   "execution_count": null,
   "id": "6cd03838",
   "metadata": {},
   "outputs": [],
   "source": [
    "data = open('DataFile.txt', 'r')\n",
    "count = 0\n",
    "sum = 0\n",
    "sumPow2 = 0\n",
    "for line in data:\n",
    "    for num in map(int, line.split()):\n",
    "        if count == 0:\n",
    "            max_num = min_num = num\n",
    "        else:\n",
    "            if num > max_num:\n",
    "                max_num = num\n",
    "            if num < min_num:\n",
    "                min_num = num\n",
    "        count += 1\n",
    "        sum += num\n",
    "        sumPow2 += num ** 2\n",
    "data.close()\n",
    "average = sum / count\n",
    "var = (sumPow2 - count * (average ** 2)) / count\n",
    "Standard_Deviation = (var ** 0.5)\n",
    "\n",
    "print('Average:', average)\n",
    "print('Variance:', var)\n",
    "print('Standard Deviation:', Standard_Deviation)\n",
    "print('Minimum:', min_num)\n",
    "print('Maximum:', max_num)\n",
    "\n",
    "# finding Percentile 60%\n",
    "\n",
    "data = open('DataFile.txt', 'r')\n",
    "found = False\n",
    "while not found:\n",
    "    mid = (max_num + min_num) / 2\n",
    "    smaller = 0\n",
    "    bigger = 0\n",
    "    for line in data:\n",
    "        for num in map(int, line.split()):\n",
    "            if num <= mid:\n",
    "                smaller += 1\n",
    "            elif num >= mid:\n",
    "                bigger += 1\n",
    "    data.seek(0)\n",
    "    if 0.595 <= smaller / count <= 0.605:\n",
    "        found = True\n",
    "    else:\n",
    "        if smaller / count < 0.6:\n",
    "            min_num = mid\n",
    "        else:\n",
    "            max_num = mid\n",
    "print('Percentile 60%:', mid)\n"
   ]
  }
 ],
 "metadata": {
  "kernelspec": {
   "display_name": "Python 3 (ipykernel)",
   "language": "python",
   "name": "python3"
  },
  "language_info": {
   "codemirror_mode": {
    "name": "ipython",
    "version": 3
   },
   "file_extension": ".py",
   "mimetype": "text/x-python",
   "name": "python",
   "nbconvert_exporter": "python",
   "pygments_lexer": "ipython3",
   "version": "3.11.7"
  }
 },
 "nbformat": 4,
 "nbformat_minor": 5
}
