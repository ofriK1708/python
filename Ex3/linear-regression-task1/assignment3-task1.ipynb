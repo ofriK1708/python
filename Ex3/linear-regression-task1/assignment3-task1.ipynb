{
 "cells": [
  {
   "cell_type": "code",
   "id": "e1345b1b-071b-4853-b6d0-c732fd2284a8",
   "metadata": {
    "tags": [],
    "ExecuteTime": {
     "end_time": "2025-05-12T13:52:13.876128Z",
     "start_time": "2025-05-12T13:52:12.740315Z"
    }
   },
   "source": [
    "import numpy as np\n",
    "import pandas as pd\n",
    "import statsmodels.api as sm"
   ],
   "outputs": [],
   "execution_count": 1
  },
  {
   "cell_type": "code",
   "id": "22f46665-c9f0-40d0-97fb-55c11a0060e2",
   "metadata": {
    "tags": [],
    "ExecuteTime": {
     "end_time": "2025-05-12T13:52:13.956192Z",
     "start_time": "2025-05-12T13:52:13.949681Z"
    }
   },
   "source": [
    "df = pd.read_csv('insurance_data.csv')\n",
    "df.info()"
   ],
   "outputs": [
    {
     "name": "stdout",
     "output_type": "stream",
     "text": [
      "<class 'pandas.core.frame.DataFrame'>\n",
      "RangeIndex: 1250 entries, 0 to 1249\n",
      "Data columns (total 8 columns):\n",
      " #   Column    Non-Null Count  Dtype  \n",
      "---  ------    --------------  -----  \n",
      " 0   age       1250 non-null   int64  \n",
      " 1   gender    1250 non-null   object \n",
      " 2   BMI       1250 non-null   float64\n",
      " 3   weight    1248 non-null   float64\n",
      " 4   children  1250 non-null   int64  \n",
      " 5   smoker    1249 non-null   object \n",
      " 6   region    1250 non-null   object \n",
      " 7   expenses  1248 non-null   float64\n",
      "dtypes: float64(3), int64(2), object(3)\n",
      "memory usage: 78.3+ KB\n"
     ]
    }
   ],
   "execution_count": 2
  },
  {
   "cell_type": "code",
   "id": "479584e7-c40f-4b18-8da1-fcdb0cd72f65",
   "metadata": {
    "tags": [],
    "ExecuteTime": {
     "end_time": "2025-05-12T13:52:13.971531Z",
     "start_time": "2025-05-12T13:52:13.969297Z"
    }
   },
   "source": [
    "# comments:\n",
    "\n",
    "# (1) there is a small amount of rows with missing values - they can be dropped\n",
    "\n",
    "# (2) you may want to make use of https://pandas.pydata.org/docs/reference/api/pandas.get_dummies.html\n",
    "# read through the function documentation carefully, and use dtype=float for the \"dtype\" parameter\n",
    "\n",
    "# (3) perform all your computations (solve the task) before the questions part, in a complete, clear and effective manner\n",
    "\n",
    "# (4) in the questions part only print answers based on your solution"
   ],
   "outputs": [],
   "execution_count": 3
  },
  {
   "metadata": {
    "ExecuteTime": {
     "end_time": "2025-05-12T14:20:57.698544Z",
     "start_time": "2025-05-12T14:20:57.660027Z"
    }
   },
   "cell_type": "code",
   "source": [
    "from sklearn.preprocessing import StandardScaler\n",
    "\n",
    "df = df.dropna()\n",
    "df_encoded = pd.get_dummies(df,columns=['gender','smoker','region'], drop_first=True, dtype=float)\n",
    "scaler = StandardScaler()\n",
    "\n",
    "\n",
    "x_multi_coll = np.array(df_encoded.drop(columns=['expenses']))\n",
    "x_non_multi_coll = np.array(df_encoded.drop(columns=['expenses', 'weight']))\n",
    "x_only_significant = np.array(df_encoded.drop(columns=['expenses', 'weight','children', 'region_northwest']))\n",
    "x_only_significant_scaling = scaler.fit_transform(x_only_significant)\n",
    "\n",
    "y = np.array(df_encoded['expenses'])\n",
    "\n",
    "x_multi_coll = sm.add_constant(x_multi_coll)\n",
    "x_non_multi_coll = sm.add_constant(x_non_multi_coll)\n",
    "x_only_significant = sm.add_constant(x_only_significant)\n",
    "x_only_significant_scaling = sm.add_constant(x_only_significant_scaling)\n",
    "\n",
    "model_multi_coll = sm.OLS(y, x_multi_coll)\n",
    "model_non_multi_coll = sm.OLS(y, x_non_multi_coll)\n",
    "model_only_significant = sm.OLS(y, x_only_significant)\n",
    "model_only_significant_scaling = sm.OLS(y, x_only_significant_scaling)\n",
    "\n",
    "results_multi_coll = model_multi_coll.fit()\n",
    "results_non_multi_coll = model_non_multi_coll.fit()\n",
    "results_only_significant = model_only_significant.fit()\n",
    "results_only_significant_scaling = model_only_significant_scaling.fit()\n",
    "\n",
    "\n",
    "# print(df_encoded.drop(columns=['expenses', 'BMI']).columns)\n",
    "results_multi_coll.summary()\n"
   ],
   "id": "c33f98492e30be17",
   "outputs": [
    {
     "data": {
      "text/plain": [
       "<class 'statsmodels.iolib.summary.Summary'>\n",
       "\"\"\"\n",
       "                            OLS Regression Results                            \n",
       "==============================================================================\n",
       "Dep. Variable:                      y   R-squared:                       0.750\n",
       "Model:                            OLS   Adj. R-squared:                  0.748\n",
       "Method:                 Least Squares   F-statistic:                     412.0\n",
       "Date:                Mon, 12 May 2025   Prob (F-statistic):               0.00\n",
       "Time:                        17:20:57   Log-Likelihood:                -12603.\n",
       "No. Observations:                1245   AIC:                         2.523e+04\n",
       "Df Residuals:                    1235   BIC:                         2.528e+04\n",
       "Df Model:                           9                                         \n",
       "Covariance Type:            nonrobust                                         \n",
       "==============================================================================\n",
       "                 coef    std err          t      P>|t|      [0.025      0.975]\n",
       "------------------------------------------------------------------------------\n",
       "const      -1.435e+04   1112.067    -12.904      0.000   -1.65e+04   -1.22e+04\n",
       "x1           259.5958     12.354     21.012      0.000     235.358     283.834\n",
       "x2           386.4056     40.218      9.608      0.000     307.503     465.308\n",
       "x3           -20.7583     12.618     -1.645      0.100     -45.513       3.996\n",
       "x4           124.4372    139.801      0.890      0.374    -149.836     398.711\n",
       "x5          -123.5982    344.596     -0.359      0.720    -799.656     552.460\n",
       "x6          2.397e+04    431.116     55.595      0.000    2.31e+04    2.48e+04\n",
       "x7          -312.6693    493.827     -0.633      0.527   -1281.503     656.164\n",
       "x8         -1113.1248    496.451     -2.242      0.025   -2087.106    -139.144\n",
       "x9         -1065.1986    497.073     -2.143      0.032   -2040.400     -89.997\n",
       "==============================================================================\n",
       "Omnibus:                      268.860   Durbin-Watson:                   2.070\n",
       "Prob(Omnibus):                  0.000   Jarque-Bera (JB):              608.893\n",
       "Skew:                           1.187   Prob(JB):                    6.03e-133\n",
       "Kurtosis:                       5.469   Cond. No.                         607.\n",
       "==============================================================================\n",
       "\n",
       "Notes:\n",
       "[1] Standard Errors assume that the covariance matrix of the errors is correctly specified.\n",
       "\"\"\""
      ],
      "text/html": [
       "<table class=\"simpletable\">\n",
       "<caption>OLS Regression Results</caption>\n",
       "<tr>\n",
       "  <th>Dep. Variable:</th>            <td>y</td>        <th>  R-squared:         </th> <td>   0.750</td> \n",
       "</tr>\n",
       "<tr>\n",
       "  <th>Model:</th>                   <td>OLS</td>       <th>  Adj. R-squared:    </th> <td>   0.748</td> \n",
       "</tr>\n",
       "<tr>\n",
       "  <th>Method:</th>             <td>Least Squares</td>  <th>  F-statistic:       </th> <td>   412.0</td> \n",
       "</tr>\n",
       "<tr>\n",
       "  <th>Date:</th>             <td>Mon, 12 May 2025</td> <th>  Prob (F-statistic):</th>  <td>  0.00</td>  \n",
       "</tr>\n",
       "<tr>\n",
       "  <th>Time:</th>                 <td>17:20:57</td>     <th>  Log-Likelihood:    </th> <td> -12603.</td> \n",
       "</tr>\n",
       "<tr>\n",
       "  <th>No. Observations:</th>      <td>  1245</td>      <th>  AIC:               </th> <td>2.523e+04</td>\n",
       "</tr>\n",
       "<tr>\n",
       "  <th>Df Residuals:</th>          <td>  1235</td>      <th>  BIC:               </th> <td>2.528e+04</td>\n",
       "</tr>\n",
       "<tr>\n",
       "  <th>Df Model:</th>              <td>     9</td>      <th>                     </th>     <td> </td>    \n",
       "</tr>\n",
       "<tr>\n",
       "  <th>Covariance Type:</th>      <td>nonrobust</td>    <th>                     </th>     <td> </td>    \n",
       "</tr>\n",
       "</table>\n",
       "<table class=\"simpletable\">\n",
       "<tr>\n",
       "    <td></td>       <th>coef</th>     <th>std err</th>      <th>t</th>      <th>P>|t|</th>  <th>[0.025</th>    <th>0.975]</th>  \n",
       "</tr>\n",
       "<tr>\n",
       "  <th>const</th> <td>-1.435e+04</td> <td> 1112.067</td> <td>  -12.904</td> <td> 0.000</td> <td>-1.65e+04</td> <td>-1.22e+04</td>\n",
       "</tr>\n",
       "<tr>\n",
       "  <th>x1</th>    <td>  259.5958</td> <td>   12.354</td> <td>   21.012</td> <td> 0.000</td> <td>  235.358</td> <td>  283.834</td>\n",
       "</tr>\n",
       "<tr>\n",
       "  <th>x2</th>    <td>  386.4056</td> <td>   40.218</td> <td>    9.608</td> <td> 0.000</td> <td>  307.503</td> <td>  465.308</td>\n",
       "</tr>\n",
       "<tr>\n",
       "  <th>x3</th>    <td>  -20.7583</td> <td>   12.618</td> <td>   -1.645</td> <td> 0.100</td> <td>  -45.513</td> <td>    3.996</td>\n",
       "</tr>\n",
       "<tr>\n",
       "  <th>x4</th>    <td>  124.4372</td> <td>  139.801</td> <td>    0.890</td> <td> 0.374</td> <td> -149.836</td> <td>  398.711</td>\n",
       "</tr>\n",
       "<tr>\n",
       "  <th>x5</th>    <td> -123.5982</td> <td>  344.596</td> <td>   -0.359</td> <td> 0.720</td> <td> -799.656</td> <td>  552.460</td>\n",
       "</tr>\n",
       "<tr>\n",
       "  <th>x6</th>    <td> 2.397e+04</td> <td>  431.116</td> <td>   55.595</td> <td> 0.000</td> <td> 2.31e+04</td> <td> 2.48e+04</td>\n",
       "</tr>\n",
       "<tr>\n",
       "  <th>x7</th>    <td> -312.6693</td> <td>  493.827</td> <td>   -0.633</td> <td> 0.527</td> <td>-1281.503</td> <td>  656.164</td>\n",
       "</tr>\n",
       "<tr>\n",
       "  <th>x8</th>    <td>-1113.1248</td> <td>  496.451</td> <td>   -2.242</td> <td> 0.025</td> <td>-2087.106</td> <td> -139.144</td>\n",
       "</tr>\n",
       "<tr>\n",
       "  <th>x9</th>    <td>-1065.1986</td> <td>  497.073</td> <td>   -2.143</td> <td> 0.032</td> <td>-2040.400</td> <td>  -89.997</td>\n",
       "</tr>\n",
       "</table>\n",
       "<table class=\"simpletable\">\n",
       "<tr>\n",
       "  <th>Omnibus:</th>       <td>268.860</td> <th>  Durbin-Watson:     </th> <td>   2.070</td> \n",
       "</tr>\n",
       "<tr>\n",
       "  <th>Prob(Omnibus):</th> <td> 0.000</td>  <th>  Jarque-Bera (JB):  </th> <td> 608.893</td> \n",
       "</tr>\n",
       "<tr>\n",
       "  <th>Skew:</th>          <td> 1.187</td>  <th>  Prob(JB):          </th> <td>6.03e-133</td>\n",
       "</tr>\n",
       "<tr>\n",
       "  <th>Kurtosis:</th>      <td> 5.469</td>  <th>  Cond. No.          </th> <td>    607.</td> \n",
       "</tr>\n",
       "</table><br/><br/>Notes:<br/>[1] Standard Errors assume that the covariance matrix of the errors is correctly specified."
      ],
      "text/latex": "\\begin{center}\n\\begin{tabular}{lclc}\n\\toprule\n\\textbf{Dep. Variable:}    &        y         & \\textbf{  R-squared:         } &     0.750   \\\\\n\\textbf{Model:}            &       OLS        & \\textbf{  Adj. R-squared:    } &     0.748   \\\\\n\\textbf{Method:}           &  Least Squares   & \\textbf{  F-statistic:       } &     412.0   \\\\\n\\textbf{Date:}             & Mon, 12 May 2025 & \\textbf{  Prob (F-statistic):} &     0.00    \\\\\n\\textbf{Time:}             &     17:20:57     & \\textbf{  Log-Likelihood:    } &   -12603.   \\\\\n\\textbf{No. Observations:} &        1245      & \\textbf{  AIC:               } & 2.523e+04   \\\\\n\\textbf{Df Residuals:}     &        1235      & \\textbf{  BIC:               } & 2.528e+04   \\\\\n\\textbf{Df Model:}         &           9      & \\textbf{                     } &             \\\\\n\\textbf{Covariance Type:}  &    nonrobust     & \\textbf{                     } &             \\\\\n\\bottomrule\n\\end{tabular}\n\\begin{tabular}{lcccccc}\n               & \\textbf{coef} & \\textbf{std err} & \\textbf{t} & \\textbf{P$> |$t$|$} & \\textbf{[0.025} & \\textbf{0.975]}  \\\\\n\\midrule\n\\textbf{const} &   -1.435e+04  &     1112.067     &   -12.904  &         0.000        &    -1.65e+04    &    -1.22e+04     \\\\\n\\textbf{x1}    &     259.5958  &       12.354     &    21.012  &         0.000        &      235.358    &      283.834     \\\\\n\\textbf{x2}    &     386.4056  &       40.218     &     9.608  &         0.000        &      307.503    &      465.308     \\\\\n\\textbf{x3}    &     -20.7583  &       12.618     &    -1.645  &         0.100        &      -45.513    &        3.996     \\\\\n\\textbf{x4}    &     124.4372  &      139.801     &     0.890  &         0.374        &     -149.836    &      398.711     \\\\\n\\textbf{x5}    &    -123.5982  &      344.596     &    -0.359  &         0.720        &     -799.656    &      552.460     \\\\\n\\textbf{x6}    &    2.397e+04  &      431.116     &    55.595  &         0.000        &     2.31e+04    &     2.48e+04     \\\\\n\\textbf{x7}    &    -312.6693  &      493.827     &    -0.633  &         0.527        &    -1281.503    &      656.164     \\\\\n\\textbf{x8}    &   -1113.1248  &      496.451     &    -2.242  &         0.025        &    -2087.106    &     -139.144     \\\\\n\\textbf{x9}    &   -1065.1986  &      497.073     &    -2.143  &         0.032        &    -2040.400    &      -89.997     \\\\\n\\bottomrule\n\\end{tabular}\n\\begin{tabular}{lclc}\n\\textbf{Omnibus:}       & 268.860 & \\textbf{  Durbin-Watson:     } &     2.070  \\\\\n\\textbf{Prob(Omnibus):} &   0.000 & \\textbf{  Jarque-Bera (JB):  } &   608.893  \\\\\n\\textbf{Skew:}          &   1.187 & \\textbf{  Prob(JB):          } & 6.03e-133  \\\\\n\\textbf{Kurtosis:}      &   5.469 & \\textbf{  Cond. No.          } &      607.  \\\\\n\\bottomrule\n\\end{tabular}\n%\\caption{OLS Regression Results}\n\\end{center}\n\nNotes: \\newline\n [1] Standard Errors assume that the covariance matrix of the errors is correctly specified."
     },
     "execution_count": 27,
     "metadata": {},
     "output_type": "execute_result"
    }
   ],
   "execution_count": 27
  },
  {
   "cell_type": "markdown",
   "id": "5fdc46eb-6745-496b-9f05-25da4f07fdb4",
   "metadata": {},
   "source": [
    "#### Questions (answer the questions, all computations should precede this part)"
   ]
  },
  {
   "cell_type": "markdown",
   "id": "3bf55d3b-5ab0-4a85-907a-265890678f32",
   "metadata": {},
   "source": [
    "#### Question 1"
   ]
  },
  {
   "cell_type": "code",
   "id": "0e334107-1631-4a06-a27f-74cfe0c64bea",
   "metadata": {
    "tags": [],
    "ExecuteTime": {
     "end_time": "2025-05-12T13:52:14.049341Z",
     "start_time": "2025-05-12T13:52:14.047692Z"
    }
   },
   "source": [
    "# did you remove any numerical predictor from the data based on multi-collinearity considerations?\n",
    "# if not - why, if yes - how did you decide on the predictor to remove?\n",
    "# print a short (one-sentence) answer using the print() command\n"
   ],
   "outputs": [],
   "execution_count": 5
  },
  {
   "metadata": {},
   "cell_type": "markdown",
   "source": "#### Question 1 - solution",
   "id": "7894bf5974fcb364"
  },
  {
   "metadata": {
    "ExecuteTime": {
     "end_time": "2025-05-12T13:52:14.061504Z",
     "start_time": "2025-05-12T13:52:14.058428Z"
    }
   },
   "cell_type": "code",
   "source": "print(\"We removed the 'weight' predictor because it is highly correlated with the 'BMI' predictor, and we decided to keep 'BMI' because Pearson correlation to expanses is higher.\")",
   "id": "2fcd1e969f70fb15",
   "outputs": [
    {
     "name": "stdout",
     "output_type": "stream",
     "text": [
      "We removed the 'weight' predictor because it is highly correlated with the 'BMI' predictor, and we decided to keep 'BMI' because Pearson correlation to expanses is higher.\n"
     ]
    }
   ],
   "execution_count": 6
  },
  {
   "cell_type": "markdown",
   "id": "e8dcf249-0a7a-48e6-81dc-b8ffb578f286",
   "metadata": {},
   "source": [
    "#### Question 2"
   ]
  },
  {
   "cell_type": "code",
   "id": "aa4e2e3a-40af-41e6-a93f-c52c08e6d8c8",
   "metadata": {
    "tags": [],
    "ExecuteTime": {
     "end_time": "2025-05-12T13:52:14.075672Z",
     "start_time": "2025-05-12T13:52:14.074222Z"
    }
   },
   "source": [
    "# what is the amount of money a person is likely to spend on medical expenses with each additional year of age?\n",
    "# write here the value itself (hardcoded) based on your inspection of the regression summary (after taking care of multi-collinearity)\n",
    "# display your answer as a dataframe (as in assignment 2)"
   ],
   "outputs": [],
   "execution_count": 7
  },
  {
   "metadata": {},
   "cell_type": "markdown",
   "source": "#### Question 2 - solution",
   "id": "ded021f23d5d2a27"
  },
  {
   "metadata": {
    "ExecuteTime": {
     "end_time": "2025-05-12T13:52:14.091851Z",
     "start_time": "2025-05-12T13:52:14.089563Z"
    }
   },
   "cell_type": "code",
   "source": "print(\"the amount of money a person is likely to spend on medical expenses with each additional year of age is 259.5958\")",
   "id": "e82fb3f6e05e35be",
   "outputs": [
    {
     "name": "stdout",
     "output_type": "stream",
     "text": [
      "the amount of money a person is likely to spend on medical expenses with each additional year of age is 259.5958\n"
     ]
    }
   ],
   "execution_count": 8
  },
  {
   "cell_type": "markdown",
   "id": "bbc895f4-027e-47f9-b864-03ac5f0c7115",
   "metadata": {},
   "source": [
    "#### Question 3"
   ]
  },
  {
   "cell_type": "code",
   "id": "a2f20dcd-e1d1-4bdb-80ec-95ec821dd540",
   "metadata": {
    "tags": [],
    "ExecuteTime": {
     "end_time": "2025-05-12T13:52:14.105594Z",
     "start_time": "2025-05-12T13:52:14.104115Z"
    }
   },
   "source": [
    "# consider the predictors: age, gender, BMI, weight, children, smoker\n",
    "# what predictors (out of this list) have significant contribution to predicting medical expenses?\n",
    "\n",
    "# report only signifnicant predictors sorted by their contribution to the prediction from highest to lowest\n",
    "# for each predictor specify if it has a positive or a negative effect on the medical expenses\n",
    "\n",
    "# display your answer as a dataframe with two columns: (1) predictor, (2) effect (positive or negative)\n",
    "# no need to include the constant (b_0) value"
   ],
   "outputs": [],
   "execution_count": 9
  },
  {
   "cell_type": "markdown",
   "id": "3b37b6b9-4612-4b16-ba1f-d528c5edf60a",
   "metadata": {},
   "source": [
    "#### Question 4"
   ]
  },
  {
   "cell_type": "code",
   "id": "41fd402f-688f-45d3-8193-886ec12b9895",
   "metadata": {
    "ExecuteTime": {
     "end_time": "2025-05-12T13:52:14.121603Z",
     "start_time": "2025-05-12T13:52:14.120010Z"
    }
   },
   "source": [
    "# compute R-squared for four regression versions:\n",
    "# (1) including all predictors from the csv file\n",
    "# (2) including predictors after taking care of the multi-collineraity issue\n",
    "# (3) (2) above + including only predictors with signficant contribution to the model\n",
    "# (4) (3) above + after preditor scaling"
   ],
   "outputs": [],
   "execution_count": 10
  },
  {
   "metadata": {},
   "cell_type": "markdown",
   "source": "#### Question 4—solution",
   "id": "b7d1637196f9aa14"
  },
  {
   "metadata": {
    "ExecuteTime": {
     "end_time": "2025-05-12T13:56:26.162511Z",
     "start_time": "2025-05-12T13:56:26.155286Z"
    }
   },
   "cell_type": "code",
   "source": [
    "answer = [(\"R-squared for model with multi-collinearity\", results_multi_coll.rsquared),\n",
    "          (\"R-squared for model without multi-collinearity\",results_non_multi_coll.rsquared),\n",
    "          (\"R-squared for model with only significant predictors\" ,results_only_significant.rsquared),\n",
    "          (\"R-squared for model with only significant predictors and scaling\" ,results_only_significant_scaling.rsquared)]\n",
    "df_answer = pd.DataFrame(answer, columns=[\"model type\", \"R-squared\"])\n",
    "df_answer\n"
   ],
   "id": "4cc6ae1ed5ca597",
   "outputs": [
    {
     "data": {
      "text/plain": [
       "                                          model type  R-squared\n",
       "0        R-squared for model with multi-collinearity   0.750133\n",
       "1     R-squared for model without multi-collinearity   0.749585\n",
       "2  R-squared for model with only significant pred...   0.749354\n",
       "3  R-squared for model with only significant pred...   0.749354"
      ],
      "text/html": [
       "<div>\n",
       "<style scoped>\n",
       "    .dataframe tbody tr th:only-of-type {\n",
       "        vertical-align: middle;\n",
       "    }\n",
       "\n",
       "    .dataframe tbody tr th {\n",
       "        vertical-align: top;\n",
       "    }\n",
       "\n",
       "    .dataframe thead th {\n",
       "        text-align: right;\n",
       "    }\n",
       "</style>\n",
       "<table border=\"1\" class=\"dataframe\">\n",
       "  <thead>\n",
       "    <tr style=\"text-align: right;\">\n",
       "      <th></th>\n",
       "      <th>model type</th>\n",
       "      <th>R-squared</th>\n",
       "    </tr>\n",
       "  </thead>\n",
       "  <tbody>\n",
       "    <tr>\n",
       "      <th>0</th>\n",
       "      <td>R-squared for model with multi-collinearity</td>\n",
       "      <td>0.750133</td>\n",
       "    </tr>\n",
       "    <tr>\n",
       "      <th>1</th>\n",
       "      <td>R-squared for model without multi-collinearity</td>\n",
       "      <td>0.749585</td>\n",
       "    </tr>\n",
       "    <tr>\n",
       "      <th>2</th>\n",
       "      <td>R-squared for model with only significant pred...</td>\n",
       "      <td>0.749354</td>\n",
       "    </tr>\n",
       "    <tr>\n",
       "      <th>3</th>\n",
       "      <td>R-squared for model with only significant pred...</td>\n",
       "      <td>0.749354</td>\n",
       "    </tr>\n",
       "  </tbody>\n",
       "</table>\n",
       "</div>"
      ]
     },
     "execution_count": 20,
     "metadata": {},
     "output_type": "execute_result"
    }
   ],
   "execution_count": 20
  },
  {
   "cell_type": "code",
   "id": "9e1efc6c-546b-4f9b-8605-15f7a8f58788",
   "metadata": {
    "ExecuteTime": {
     "end_time": "2025-05-12T13:52:14.152870Z",
     "start_time": "2025-05-12T13:52:14.150597Z"
    }
   },
   "source": [
    "# what medical expenses may expect a person with the following data?\n",
    "# age=66, gender=female, BMI=35.4, weight=70.5, children=1, smoker=no, region=southeast\n",
    "\n",
    "# for this question only, include you computation *in the answer below* using model (3) from Question 4\n",
    "\n",
    "# !! you may face difficuly adding a constant (sm.add_constant()) to a DataFrame with a single row\n",
    "# try to search for solution, and in case you need a hint, you may find these links useful - read carefully:\n",
    "# https://github.com/statsmodels/statsmodels/issues/7057\n",
    "# https://www.statsmodels.org/0.9.0/generated/statsmodels.tools.tools.add_constant.html\n",
    "# in this specific case add_constant() has a somewhat unexpected behavior"
   ],
   "outputs": [],
   "execution_count": 12
  },
  {
   "cell_type": "code",
   "id": "70547614-8c77-40c7-9982-1211a2ed0959",
   "metadata": {
    "ExecuteTime": {
     "end_time": "2025-05-12T14:20:07.125964Z",
     "start_time": "2025-05-12T14:20:07.099804Z"
    }
   },
   "source": [
    "x_test = pd.DataFrame([{\n",
    "    'age': 66,\n",
    "    'BMI': 35.4,\n",
    "    'gender_male': 0,\n",
    "    'smoker_yes': 0,\n",
    "    'region_southeast': 1,\n",
    "    'region_southwest': 0\n",
    "}])\n",
    "# Add a constant column\n",
    "x_test = sm.add_constant(x_test,has_constant='add')\n",
    "\n",
    "# Predict using the model\n",
    "predict = results_only_significant.predict(x_test)\n",
    "print(predict)"
   ],
   "outputs": [
    {
     "name": "stdout",
     "output_type": "stream",
     "text": [
      "0    13920.90848\n",
      "dtype: float64\n"
     ]
    }
   ],
   "execution_count": 26
  },
  {
   "metadata": {},
   "cell_type": "code",
   "outputs": [],
   "execution_count": null,
   "source": "",
   "id": "b77ce25fd4e36734"
  }
 ],
 "metadata": {
  "kernelspec": {
   "display_name": "Python 3 (ipykernel)",
   "language": "python",
   "name": "python3"
  },
  "language_info": {
   "codemirror_mode": {
    "name": "ipython",
    "version": 3
   },
   "file_extension": ".py",
   "mimetype": "text/x-python",
   "name": "python",
   "nbconvert_exporter": "python",
   "pygments_lexer": "ipython3",
   "version": "3.11.5"
  }
 },
 "nbformat": 4,
 "nbformat_minor": 5
}
