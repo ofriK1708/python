{
 "cells": [
  {
   "cell_type": "code",
   "id": "e1345b1b-071b-4853-b6d0-c732fd2284a8",
   "metadata": {
    "tags": [],
    "ExecuteTime": {
     "end_time": "2025-05-13T16:34:40.109697Z",
     "start_time": "2025-05-13T16:34:40.105355Z"
    }
   },
   "source": [
    "import numpy as np\n",
    "import pandas as pd\n",
    "import statsmodels.api as sm"
   ],
   "outputs": [],
   "execution_count": 509
  },
  {
   "cell_type": "code",
   "id": "22f46665-c9f0-40d0-97fb-55c11a0060e2",
   "metadata": {
    "tags": [],
    "ExecuteTime": {
     "end_time": "2025-05-13T16:34:40.203415Z",
     "start_time": "2025-05-13T16:34:40.189511Z"
    }
   },
   "source": [
    "df = pd.read_csv('insurance_data.csv')\n",
    "df.info()"
   ],
   "outputs": [
    {
     "name": "stdout",
     "output_type": "stream",
     "text": [
      "<class 'pandas.core.frame.DataFrame'>\n",
      "RangeIndex: 1250 entries, 0 to 1249\n",
      "Data columns (total 8 columns):\n",
      " #   Column    Non-Null Count  Dtype  \n",
      "---  ------    --------------  -----  \n",
      " 0   age       1250 non-null   int64  \n",
      " 1   gender    1250 non-null   object \n",
      " 2   BMI       1250 non-null   float64\n",
      " 3   weight    1248 non-null   float64\n",
      " 4   children  1250 non-null   int64  \n",
      " 5   smoker    1249 non-null   object \n",
      " 6   region    1250 non-null   object \n",
      " 7   expenses  1248 non-null   float64\n",
      "dtypes: float64(3), int64(2), object(3)\n",
      "memory usage: 78.3+ KB\n"
     ]
    }
   ],
   "execution_count": 510
  },
  {
   "cell_type": "code",
   "id": "479584e7-c40f-4b18-8da1-fcdb0cd72f65",
   "metadata": {
    "tags": [],
    "ExecuteTime": {
     "end_time": "2025-05-13T16:34:40.216934Z",
     "start_time": "2025-05-13T16:34:40.212935Z"
    }
   },
   "source": [
    "# comments:\n",
    "\n",
    "# (1) there is a small amount of rows with missing values - they can be dropped\n",
    "\n",
    "# (2) you may want to make use of https://pandas.pydata.org/docs/reference/api/pandas.get_dummies.html\n",
    "# read through the function documentation carefully, and use dtype=float for the \"dtype\" parameter\n",
    "\n",
    "# (3) perform all your computations (solve the task) before the questions part, in a complete, clear and effective manner\n",
    "\n",
    "# (4) in the questions part only print answers based on your solution"
   ],
   "outputs": [],
   "execution_count": 511
  },
  {
   "metadata": {
    "ExecuteTime": {
     "end_time": "2025-05-13T16:34:40.299583Z",
     "start_time": "2025-05-13T16:34:40.248646Z"
    }
   },
   "cell_type": "code",
   "source": [
    "from sklearn.preprocessing import StandardScaler\n",
    "\n",
    "df = df.dropna()\n",
    "df_encoded = pd.get_dummies(df,columns=['gender','smoker','region'], drop_first=True, dtype=float)\n",
    "scaler = StandardScaler()\n",
    "\n",
    "x_multi_coll = df_encoded.drop(columns=['expenses'])\n",
    "x_non_multi_coll = df_encoded.drop(columns=['expenses', 'weight'])\n",
    "x_only_significant = df_encoded.drop(columns=['expenses', 'weight','children', 'region_northwest','gender_male'])\n",
    "x_only_significant_scaling = scaler.fit_transform(x_only_significant)\n",
    "\n",
    "y = np.array(df_encoded['expenses'])\n",
    "\n",
    "x_multi_coll = sm.add_constant(x_multi_coll)\n",
    "x_non_multi_coll = sm.add_constant(x_non_multi_coll)\n",
    "x_only_significant = sm.add_constant(x_only_significant)\n",
    "x_only_significant_scaling = sm.add_constant(x_only_significant_scaling)\n",
    "\n",
    "model_multi_coll = sm.OLS(y, x_multi_coll)\n",
    "model_non_multi_coll = sm.OLS(y, x_non_multi_coll)\n",
    "model_only_significant = sm.OLS(y, x_only_significant)\n",
    "model_only_significant_scaling = sm.OLS(y, x_only_significant_scaling)\n",
    "\n",
    "results_multi_coll = model_multi_coll.fit()\n",
    "results_non_multi_coll = model_non_multi_coll.fit()\n",
    "results_only_significant = model_only_significant.fit()\n",
    "results_only_significant_scaling = model_only_significant_scaling.fit()\n",
    "\n",
    "\n",
    "results_only_significant_scaling.summary()\n",
    "\n"
   ],
   "id": "c33f98492e30be17",
   "outputs": [
    {
     "data": {
      "text/plain": [
       "<class 'statsmodels.iolib.summary.Summary'>\n",
       "\"\"\"\n",
       "                            OLS Regression Results                            \n",
       "==============================================================================\n",
       "Dep. Variable:                      y   R-squared:                       0.749\n",
       "Model:                            OLS   Adj. R-squared:                  0.748\n",
       "Method:                 Least Squares   F-statistic:                     740.7\n",
       "Date:                Tue, 13 May 2025   Prob (F-statistic):               0.00\n",
       "Time:                        19:34:40   Log-Likelihood:                -12605.\n",
       "No. Observations:                1245   AIC:                         2.522e+04\n",
       "Df Residuals:                    1239   BIC:                         2.525e+04\n",
       "Df Model:                           5                                         \n",
       "Covariance Type:            nonrobust                                         \n",
       "==============================================================================\n",
       "                 coef    std err          t      P>|t|      [0.025      0.975]\n",
       "------------------------------------------------------------------------------\n",
       "const       1.326e+04    171.527     77.290      0.000    1.29e+04    1.36e+04\n",
       "x1          3628.1328    172.875     20.987      0.000    3288.973    3967.292\n",
       "x2          2086.3898    180.627     11.551      0.000    1732.021    2440.759\n",
       "x3          9592.0390    172.172     55.712      0.000    9254.259    9929.819\n",
       "x4          -443.4051    191.830     -2.311      0.021    -819.753     -67.057\n",
       "x5          -400.5801    183.640     -2.181      0.029    -760.859     -40.301\n",
       "==============================================================================\n",
       "Omnibus:                      268.187   Durbin-Watson:                   2.081\n",
       "Prob(Omnibus):                  0.000   Jarque-Bera (JB):              604.425\n",
       "Skew:                           1.187   Prob(JB):                    5.63e-132\n",
       "Kurtosis:                       5.453   Cond. No.                         1.63\n",
       "==============================================================================\n",
       "\n",
       "Notes:\n",
       "[1] Standard Errors assume that the covariance matrix of the errors is correctly specified.\n",
       "\"\"\""
      ],
      "text/html": [
       "<table class=\"simpletable\">\n",
       "<caption>OLS Regression Results</caption>\n",
       "<tr>\n",
       "  <th>Dep. Variable:</th>            <td>y</td>        <th>  R-squared:         </th> <td>   0.749</td> \n",
       "</tr>\n",
       "<tr>\n",
       "  <th>Model:</th>                   <td>OLS</td>       <th>  Adj. R-squared:    </th> <td>   0.748</td> \n",
       "</tr>\n",
       "<tr>\n",
       "  <th>Method:</th>             <td>Least Squares</td>  <th>  F-statistic:       </th> <td>   740.7</td> \n",
       "</tr>\n",
       "<tr>\n",
       "  <th>Date:</th>             <td>Tue, 13 May 2025</td> <th>  Prob (F-statistic):</th>  <td>  0.00</td>  \n",
       "</tr>\n",
       "<tr>\n",
       "  <th>Time:</th>                 <td>19:34:40</td>     <th>  Log-Likelihood:    </th> <td> -12605.</td> \n",
       "</tr>\n",
       "<tr>\n",
       "  <th>No. Observations:</th>      <td>  1245</td>      <th>  AIC:               </th> <td>2.522e+04</td>\n",
       "</tr>\n",
       "<tr>\n",
       "  <th>Df Residuals:</th>          <td>  1239</td>      <th>  BIC:               </th> <td>2.525e+04</td>\n",
       "</tr>\n",
       "<tr>\n",
       "  <th>Df Model:</th>              <td>     5</td>      <th>                     </th>     <td> </td>    \n",
       "</tr>\n",
       "<tr>\n",
       "  <th>Covariance Type:</th>      <td>nonrobust</td>    <th>                     </th>     <td> </td>    \n",
       "</tr>\n",
       "</table>\n",
       "<table class=\"simpletable\">\n",
       "<tr>\n",
       "    <td></td>       <th>coef</th>     <th>std err</th>      <th>t</th>      <th>P>|t|</th>  <th>[0.025</th>    <th>0.975]</th>  \n",
       "</tr>\n",
       "<tr>\n",
       "  <th>const</th> <td> 1.326e+04</td> <td>  171.527</td> <td>   77.290</td> <td> 0.000</td> <td> 1.29e+04</td> <td> 1.36e+04</td>\n",
       "</tr>\n",
       "<tr>\n",
       "  <th>x1</th>    <td> 3628.1328</td> <td>  172.875</td> <td>   20.987</td> <td> 0.000</td> <td> 3288.973</td> <td> 3967.292</td>\n",
       "</tr>\n",
       "<tr>\n",
       "  <th>x2</th>    <td> 2086.3898</td> <td>  180.627</td> <td>   11.551</td> <td> 0.000</td> <td> 1732.021</td> <td> 2440.759</td>\n",
       "</tr>\n",
       "<tr>\n",
       "  <th>x3</th>    <td> 9592.0390</td> <td>  172.172</td> <td>   55.712</td> <td> 0.000</td> <td> 9254.259</td> <td> 9929.819</td>\n",
       "</tr>\n",
       "<tr>\n",
       "  <th>x4</th>    <td> -443.4051</td> <td>  191.830</td> <td>   -2.311</td> <td> 0.021</td> <td> -819.753</td> <td>  -67.057</td>\n",
       "</tr>\n",
       "<tr>\n",
       "  <th>x5</th>    <td> -400.5801</td> <td>  183.640</td> <td>   -2.181</td> <td> 0.029</td> <td> -760.859</td> <td>  -40.301</td>\n",
       "</tr>\n",
       "</table>\n",
       "<table class=\"simpletable\">\n",
       "<tr>\n",
       "  <th>Omnibus:</th>       <td>268.187</td> <th>  Durbin-Watson:     </th> <td>   2.081</td> \n",
       "</tr>\n",
       "<tr>\n",
       "  <th>Prob(Omnibus):</th> <td> 0.000</td>  <th>  Jarque-Bera (JB):  </th> <td> 604.425</td> \n",
       "</tr>\n",
       "<tr>\n",
       "  <th>Skew:</th>          <td> 1.187</td>  <th>  Prob(JB):          </th> <td>5.63e-132</td>\n",
       "</tr>\n",
       "<tr>\n",
       "  <th>Kurtosis:</th>      <td> 5.453</td>  <th>  Cond. No.          </th> <td>    1.63</td> \n",
       "</tr>\n",
       "</table><br/><br/>Notes:<br/>[1] Standard Errors assume that the covariance matrix of the errors is correctly specified."
      ],
      "text/latex": "\\begin{center}\n\\begin{tabular}{lclc}\n\\toprule\n\\textbf{Dep. Variable:}    &        y         & \\textbf{  R-squared:         } &     0.749   \\\\\n\\textbf{Model:}            &       OLS        & \\textbf{  Adj. R-squared:    } &     0.748   \\\\\n\\textbf{Method:}           &  Least Squares   & \\textbf{  F-statistic:       } &     740.7   \\\\\n\\textbf{Date:}             & Tue, 13 May 2025 & \\textbf{  Prob (F-statistic):} &     0.00    \\\\\n\\textbf{Time:}             &     19:34:40     & \\textbf{  Log-Likelihood:    } &   -12605.   \\\\\n\\textbf{No. Observations:} &        1245      & \\textbf{  AIC:               } & 2.522e+04   \\\\\n\\textbf{Df Residuals:}     &        1239      & \\textbf{  BIC:               } & 2.525e+04   \\\\\n\\textbf{Df Model:}         &           5      & \\textbf{                     } &             \\\\\n\\textbf{Covariance Type:}  &    nonrobust     & \\textbf{                     } &             \\\\\n\\bottomrule\n\\end{tabular}\n\\begin{tabular}{lcccccc}\n               & \\textbf{coef} & \\textbf{std err} & \\textbf{t} & \\textbf{P$> |$t$|$} & \\textbf{[0.025} & \\textbf{0.975]}  \\\\\n\\midrule\n\\textbf{const} &    1.326e+04  &      171.527     &    77.290  &         0.000        &     1.29e+04    &     1.36e+04     \\\\\n\\textbf{x1}    &    3628.1328  &      172.875     &    20.987  &         0.000        &     3288.973    &     3967.292     \\\\\n\\textbf{x2}    &    2086.3898  &      180.627     &    11.551  &         0.000        &     1732.021    &     2440.759     \\\\\n\\textbf{x3}    &    9592.0390  &      172.172     &    55.712  &         0.000        &     9254.259    &     9929.819     \\\\\n\\textbf{x4}    &    -443.4051  &      191.830     &    -2.311  &         0.021        &     -819.753    &      -67.057     \\\\\n\\textbf{x5}    &    -400.5801  &      183.640     &    -2.181  &         0.029        &     -760.859    &      -40.301     \\\\\n\\bottomrule\n\\end{tabular}\n\\begin{tabular}{lclc}\n\\textbf{Omnibus:}       & 268.187 & \\textbf{  Durbin-Watson:     } &     2.081  \\\\\n\\textbf{Prob(Omnibus):} &   0.000 & \\textbf{  Jarque-Bera (JB):  } &   604.425  \\\\\n\\textbf{Skew:}          &   1.187 & \\textbf{  Prob(JB):          } & 5.63e-132  \\\\\n\\textbf{Kurtosis:}      &   5.453 & \\textbf{  Cond. No.          } &      1.63  \\\\\n\\bottomrule\n\\end{tabular}\n%\\caption{OLS Regression Results}\n\\end{center}\n\nNotes: \\newline\n [1] Standard Errors assume that the covariance matrix of the errors is correctly specified."
     },
     "execution_count": 512,
     "metadata": {},
     "output_type": "execute_result"
    }
   ],
   "execution_count": 512
  },
  {
   "cell_type": "markdown",
   "id": "5fdc46eb-6745-496b-9f05-25da4f07fdb4",
   "metadata": {},
   "source": [
    "#### Questions (answer the questions, all computations should precede this part)"
   ]
  },
  {
   "cell_type": "markdown",
   "id": "3bf55d3b-5ab0-4a85-907a-265890678f32",
   "metadata": {},
   "source": [
    "#### Question 1"
   ]
  },
  {
   "cell_type": "code",
   "id": "0e334107-1631-4a06-a27f-74cfe0c64bea",
   "metadata": {
    "tags": [],
    "ExecuteTime": {
     "end_time": "2025-05-13T16:34:40.304913Z",
     "start_time": "2025-05-13T16:34:40.301589Z"
    }
   },
   "source": [
    "# did you remove any numerical predictor from the data based on multi-collinearity considerations?\n",
    "# if not - why, if yes - how did you decide on the predictor to remove?\n",
    "# print a short (one-sentence) answer using the print() command\n"
   ],
   "outputs": [],
   "execution_count": 513
  },
  {
   "metadata": {},
   "cell_type": "markdown",
   "source": "#### Question 1 - solution",
   "id": "7894bf5974fcb364"
  },
  {
   "metadata": {
    "ExecuteTime": {
     "end_time": "2025-05-13T16:34:40.314315Z",
     "start_time": "2025-05-13T16:34:40.305918Z"
    }
   },
   "cell_type": "code",
   "source": "print(\"We removed the 'weight' predictor because it is highly correlated with the 'BMI' predictor, and we decided to keep 'BMI' because Pearson correlation to expanses is higher.\")",
   "id": "2fcd1e969f70fb15",
   "outputs": [
    {
     "name": "stdout",
     "output_type": "stream",
     "text": [
      "We removed the 'weight' predictor because it is highly correlated with the 'BMI' predictor, and we decided to keep 'BMI' because Pearson correlation to expanses is higher.\n"
     ]
    }
   ],
   "execution_count": 514
  },
  {
   "cell_type": "markdown",
   "id": "e8dcf249-0a7a-48e6-81dc-b8ffb578f286",
   "metadata": {},
   "source": [
    "#### Question 2"
   ]
  },
  {
   "cell_type": "code",
   "id": "aa4e2e3a-40af-41e6-a93f-c52c08e6d8c8",
   "metadata": {
    "tags": [],
    "ExecuteTime": {
     "end_time": "2025-05-13T16:34:40.318963Z",
     "start_time": "2025-05-13T16:34:40.315455Z"
    }
   },
   "source": [
    "# what is the amount of money a person is likely to spend on medical expenses with each additional year of age?\n",
    "# write here the value itself (hardcoded) based on your inspection of the regression summary (after taking care of multi-collinearity)\n",
    "# display your answer as a dataframe (as in assignment 2)"
   ],
   "outputs": [],
   "execution_count": 515
  },
  {
   "metadata": {},
   "cell_type": "markdown",
   "source": "#### Question 2 - solution",
   "id": "ded021f23d5d2a27"
  },
  {
   "metadata": {
    "ExecuteTime": {
     "end_time": "2025-05-13T16:34:40.329012Z",
     "start_time": "2025-05-13T16:34:40.322974Z"
    }
   },
   "cell_type": "code",
   "source": "print(\"the amount of money a person is likely to spend on medical expenses with each additional year of age is 258.9759\")",
   "id": "e82fb3f6e05e35be",
   "outputs": [
    {
     "name": "stdout",
     "output_type": "stream",
     "text": [
      "the amount of money a person is likely to spend on medical expenses with each additional year of age is 258.9759\n"
     ]
    }
   ],
   "execution_count": 516
  },
  {
   "cell_type": "markdown",
   "id": "bbc895f4-027e-47f9-b864-03ac5f0c7115",
   "metadata": {},
   "source": [
    "#### Question 3"
   ]
  },
  {
   "metadata": {
    "ExecuteTime": {
     "end_time": "2025-05-13T16:34:40.333209Z",
     "start_time": "2025-05-13T16:34:40.330018Z"
    }
   },
   "cell_type": "code",
   "source": "",
   "id": "35ceee9688ca14d3",
   "outputs": [],
   "execution_count": 516
  },
  {
   "cell_type": "code",
   "id": "a2f20dcd-e1d1-4bdb-80ec-95ec821dd540",
   "metadata": {
    "tags": [],
    "ExecuteTime": {
     "end_time": "2025-05-13T16:34:40.337445Z",
     "start_time": "2025-05-13T16:34:40.334216Z"
    }
   },
   "source": [
    "# consider the predictors: age, gender, BMI, weight, children, smoker\n",
    "# what predictors (out of this list) have significant contribution to predicting medical expenses?\n",
    "\n",
    "# report only signifnicant predictors sorted by their contribution to the prediction from highest to lowest\n",
    "# for each predictor specify if it has a positive or a negative effect on the medical expenses\n",
    "\n",
    "# display your answer as a dataframe with two columns: (1) predictor, (2) effect (positive or negative)\n",
    "# no need to include the constant (b_0) value"
   ],
   "outputs": [],
   "execution_count": 517
  },
  {
   "metadata": {},
   "cell_type": "markdown",
   "source": "#### Question 3 - Solution\n",
   "id": "b19109f75409266"
  },
  {
   "metadata": {
    "ExecuteTime": {
     "end_time": "2025-05-13T16:34:40.350720Z",
     "start_time": "2025-05-13T16:34:40.340039Z"
    }
   },
   "cell_type": "code",
   "source": [
    "significant_predictors = pd.DataFrame({\n",
    "    'predictor': ['smoker_yes', 'age', 'BMI','region_southeast','region_southwest'],\n",
    "    'effect': ['positive', 'positive', 'positive','negative','negative']\n",
    "})\n",
    "\n",
    "significant_predictors"
   ],
   "id": "a2f84643231b0072",
   "outputs": [
    {
     "data": {
      "text/plain": [
       "          predictor    effect\n",
       "0        smoker_yes  positive\n",
       "1               age  positive\n",
       "2               BMI  positive\n",
       "3  region_southeast  negative\n",
       "4  region_southwest  negative"
      ],
      "text/html": [
       "<div>\n",
       "<style scoped>\n",
       "    .dataframe tbody tr th:only-of-type {\n",
       "        vertical-align: middle;\n",
       "    }\n",
       "\n",
       "    .dataframe tbody tr th {\n",
       "        vertical-align: top;\n",
       "    }\n",
       "\n",
       "    .dataframe thead th {\n",
       "        text-align: right;\n",
       "    }\n",
       "</style>\n",
       "<table border=\"1\" class=\"dataframe\">\n",
       "  <thead>\n",
       "    <tr style=\"text-align: right;\">\n",
       "      <th></th>\n",
       "      <th>predictor</th>\n",
       "      <th>effect</th>\n",
       "    </tr>\n",
       "  </thead>\n",
       "  <tbody>\n",
       "    <tr>\n",
       "      <th>0</th>\n",
       "      <td>smoker_yes</td>\n",
       "      <td>positive</td>\n",
       "    </tr>\n",
       "    <tr>\n",
       "      <th>1</th>\n",
       "      <td>age</td>\n",
       "      <td>positive</td>\n",
       "    </tr>\n",
       "    <tr>\n",
       "      <th>2</th>\n",
       "      <td>BMI</td>\n",
       "      <td>positive</td>\n",
       "    </tr>\n",
       "    <tr>\n",
       "      <th>3</th>\n",
       "      <td>region_southeast</td>\n",
       "      <td>negative</td>\n",
       "    </tr>\n",
       "    <tr>\n",
       "      <th>4</th>\n",
       "      <td>region_southwest</td>\n",
       "      <td>negative</td>\n",
       "    </tr>\n",
       "  </tbody>\n",
       "</table>\n",
       "</div>"
      ]
     },
     "execution_count": 518,
     "metadata": {},
     "output_type": "execute_result"
    }
   ],
   "execution_count": 518
  },
  {
   "cell_type": "markdown",
   "id": "3b37b6b9-4612-4b16-ba1f-d528c5edf60a",
   "metadata": {},
   "source": [
    "#### Question 4"
   ]
  },
  {
   "cell_type": "code",
   "id": "41fd402f-688f-45d3-8193-886ec12b9895",
   "metadata": {
    "ExecuteTime": {
     "end_time": "2025-05-13T16:34:40.375799Z",
     "start_time": "2025-05-13T16:34:40.371574Z"
    }
   },
   "source": [
    "# compute R-squared for four regression versions:\n",
    "# (1) including all predictors from the csv file\n",
    "# (2) including predictors after taking care of the multi-collineraity issue\n",
    "# (3) (2) above + including only predictors with signficant contribution to the model\n",
    "# (4) (3) above + after preditor scaling"
   ],
   "outputs": [],
   "execution_count": 519
  },
  {
   "metadata": {},
   "cell_type": "markdown",
   "source": "#### Question 4—solution",
   "id": "b7d1637196f9aa14"
  },
  {
   "metadata": {
    "ExecuteTime": {
     "end_time": "2025-05-13T16:34:40.473299Z",
     "start_time": "2025-05-13T16:34:40.461404Z"
    }
   },
   "cell_type": "code",
   "source": [
    "answer = [(\"R-squared for model with multi-collinearity\", results_multi_coll.rsquared),\n",
    "          (\"R-squared for model without multi-collinearity\",results_non_multi_coll.rsquared),\n",
    "          (\"R-squared for model with only significant predictors\" ,results_only_significant.rsquared),\n",
    "          (\"R-squared for model with only significant predictors and scaling\" ,results_only_significant_scaling.rsquared)]\n",
    "df_answer = pd.DataFrame(answer, columns=[\"model type\", \"R-squared\"])\n",
    "df_answer\n"
   ],
   "id": "4cc6ae1ed5ca597",
   "outputs": [
    {
     "data": {
      "text/plain": [
       "                                          model type  R-squared\n",
       "0        R-squared for model with multi-collinearity   0.750133\n",
       "1     R-squared for model without multi-collinearity   0.749585\n",
       "2  R-squared for model with only significant pred...   0.749322\n",
       "3  R-squared for model with only significant pred...   0.749322"
      ],
      "text/html": [
       "<div>\n",
       "<style scoped>\n",
       "    .dataframe tbody tr th:only-of-type {\n",
       "        vertical-align: middle;\n",
       "    }\n",
       "\n",
       "    .dataframe tbody tr th {\n",
       "        vertical-align: top;\n",
       "    }\n",
       "\n",
       "    .dataframe thead th {\n",
       "        text-align: right;\n",
       "    }\n",
       "</style>\n",
       "<table border=\"1\" class=\"dataframe\">\n",
       "  <thead>\n",
       "    <tr style=\"text-align: right;\">\n",
       "      <th></th>\n",
       "      <th>model type</th>\n",
       "      <th>R-squared</th>\n",
       "    </tr>\n",
       "  </thead>\n",
       "  <tbody>\n",
       "    <tr>\n",
       "      <th>0</th>\n",
       "      <td>R-squared for model with multi-collinearity</td>\n",
       "      <td>0.750133</td>\n",
       "    </tr>\n",
       "    <tr>\n",
       "      <th>1</th>\n",
       "      <td>R-squared for model without multi-collinearity</td>\n",
       "      <td>0.749585</td>\n",
       "    </tr>\n",
       "    <tr>\n",
       "      <th>2</th>\n",
       "      <td>R-squared for model with only significant pred...</td>\n",
       "      <td>0.749322</td>\n",
       "    </tr>\n",
       "    <tr>\n",
       "      <th>3</th>\n",
       "      <td>R-squared for model with only significant pred...</td>\n",
       "      <td>0.749322</td>\n",
       "    </tr>\n",
       "  </tbody>\n",
       "</table>\n",
       "</div>"
      ]
     },
     "execution_count": 520,
     "metadata": {},
     "output_type": "execute_result"
    }
   ],
   "execution_count": 520
  },
  {
   "cell_type": "code",
   "id": "9e1efc6c-546b-4f9b-8605-15f7a8f58788",
   "metadata": {
    "ExecuteTime": {
     "end_time": "2025-05-13T16:34:40.513516Z",
     "start_time": "2025-05-13T16:34:40.509447Z"
    }
   },
   "source": [
    "# what medical expenses may expect a person with the following data?\n",
    "# age=66, gender=female, BMI=35.4, weight=70.5, children=1, smoker=no, region=southeast\n",
    "\n",
    "# for this question only, include you computation *in the answer below* using model (3) from Question 4\n",
    "\n",
    "# !! you may face difficuly adding a constant (sm.add_constant()) to a DataFrame with a single row\n",
    "# try to search for solution, and in case you need a hint, you may find these links useful - read carefully:\n",
    "# https://github.com/statsmodels/statsmodels/issues/7057\n",
    "# https://www.statsmodels.org/0.9.0/generated/statsmodels.tools.tools.add_constant.html\n",
    "# in this specific case add_constant() has a somewhat unexpected behavior"
   ],
   "outputs": [],
   "execution_count": 521
  },
  {
   "cell_type": "code",
   "id": "70547614-8c77-40c7-9982-1211a2ed0959",
   "metadata": {
    "ExecuteTime": {
     "end_time": "2025-05-13T16:34:40.618620Z",
     "start_time": "2025-05-13T16:34:40.610119Z"
    }
   },
   "source": [
    "x_test = pd.DataFrame([{\n",
    "    'age': 66,\n",
    "    'BMI': 35.4,\n",
    "    'smoker_yes': 0,\n",
    "    'region_southeast': 1,\n",
    "    'region_southwest': 0\n",
    "}])\n",
    "\n",
    "x_test = sm.add_constant(x_test,has_constant='add')\n",
    "\n",
    "predict = results_only_significant.predict(x_test)\n",
    "print(predict)"
   ],
   "outputs": [
    {
     "name": "stdout",
     "output_type": "stream",
     "text": [
      "0    13854.763341\n",
      "dtype: float64\n"
     ]
    }
   ],
   "execution_count": 522
  }
 ],
 "metadata": {
  "kernelspec": {
   "display_name": "Python 3 (ipykernel)",
   "language": "python",
   "name": "python3"
  },
  "language_info": {
   "codemirror_mode": {
    "name": "ipython",
    "version": 3
   },
   "file_extension": ".py",
   "mimetype": "text/x-python",
   "name": "python",
   "nbconvert_exporter": "python",
   "pygments_lexer": "ipython3",
   "version": "3.11.5"
  }
 },
 "nbformat": 4,
 "nbformat_minor": 5
}
