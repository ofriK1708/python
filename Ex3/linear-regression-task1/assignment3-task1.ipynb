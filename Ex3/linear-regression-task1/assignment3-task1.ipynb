{
 "cells": [
  {
   "cell_type": "code",
   "id": "e1345b1b-071b-4853-b6d0-c732fd2284a8",
   "metadata": {
    "tags": [],
    "ExecuteTime": {
     "end_time": "2025-05-19T11:04:02.653075Z",
     "start_time": "2025-05-19T11:04:02.648410Z"
    }
   },
   "source": [
    "import numpy as np\n",
    "import pandas as pd\n",
    "import statsmodels.api as sm"
   ],
   "outputs": [],
   "execution_count": 186
  },
  {
   "cell_type": "code",
   "id": "22f46665-c9f0-40d0-97fb-55c11a0060e2",
   "metadata": {
    "tags": [],
    "ExecuteTime": {
     "end_time": "2025-05-19T11:04:02.725071Z",
     "start_time": "2025-05-19T11:04:02.713160Z"
    }
   },
   "source": [
    "df = pd.read_csv('insurance_data.csv')\n",
    "df.info()"
   ],
   "outputs": [
    {
     "name": "stdout",
     "output_type": "stream",
     "text": [
      "<class 'pandas.core.frame.DataFrame'>\n",
      "RangeIndex: 1250 entries, 0 to 1249\n",
      "Data columns (total 8 columns):\n",
      " #   Column    Non-Null Count  Dtype  \n",
      "---  ------    --------------  -----  \n",
      " 0   age       1250 non-null   int64  \n",
      " 1   gender    1250 non-null   object \n",
      " 2   BMI       1250 non-null   float64\n",
      " 3   weight    1248 non-null   float64\n",
      " 4   children  1250 non-null   int64  \n",
      " 5   smoker    1249 non-null   object \n",
      " 6   region    1250 non-null   object \n",
      " 7   expenses  1248 non-null   float64\n",
      "dtypes: float64(3), int64(2), object(3)\n",
      "memory usage: 78.3+ KB\n"
     ]
    }
   ],
   "execution_count": 187
  },
  {
   "cell_type": "code",
   "id": "479584e7-c40f-4b18-8da1-fcdb0cd72f65",
   "metadata": {
    "tags": [],
    "ExecuteTime": {
     "end_time": "2025-05-19T11:04:02.730868Z",
     "start_time": "2025-05-19T11:04:02.727077Z"
    }
   },
   "source": [
    "# comments:\n",
    "\n",
    "# (1) there is a small amount of rows with missing values - they can be dropped\n",
    "\n",
    "# (2) you may want to make use of https://pandas.pydata.org/docs/reference/api/pandas.get_dummies.html\n",
    "# read through the function documentation carefully, and use dtype=float for the \"dtype\" parameter\n",
    "\n",
    "# (3) perform all your computations (solve the task) before the questions part, in a complete, clear and effective manner\n",
    "\n",
    "# (4) in the questions part only print answers based on your solution"
   ],
   "outputs": [],
   "execution_count": 188
  },
  {
   "metadata": {
    "ExecuteTime": {
     "end_time": "2025-05-19T11:04:02.788416Z",
     "start_time": "2025-05-19T11:04:02.732875Z"
    }
   },
   "cell_type": "code",
   "source": [
    "from sklearn.preprocessing import StandardScaler\n",
    "\n",
    "df = df.dropna()\n",
    "df_encoded = pd.get_dummies(df,columns=['gender','smoker','region'], drop_first=True, dtype=float)\n",
    "scaler = StandardScaler()\n",
    "\n",
    "x_multi_coll = df_encoded.drop(columns=['expenses'])\n",
    "x_non_multi_coll = df_encoded.drop(columns=['expenses', 'weight'])\n",
    "x_only_significant_bmi = df_encoded.drop(columns=['expenses', 'weight','children', 'region_northwest','gender_male'])\n",
    "x_only_significant_weight =  df_encoded.drop(columns=['expenses', 'BMI','children', 'region_northwest','gender_male'])\n",
    "x_only_significant_bmi_scaling = scaler.fit_transform(x_only_significant_bmi)\n",
    "x_only_significant_weight_scaling = scaler.fit_transform(x_only_significant_weight)\n",
    "\n",
    "x_only_significant_bmi_scaling = pd.DataFrame(x_only_significant_bmi_scaling, columns=x_only_significant_bmi.columns, index=x_only_significant_bmi.index)\n",
    "x_only_significant_weight_scaling = pd.DataFrame(x_only_significant_weight_scaling,columns=x_only_significant_weight.columns, index=x_only_significant_weight.index)\n",
    "\n",
    "y = df_encoded['expenses']\n",
    "\n",
    "x_multi_coll = sm.add_constant(x_multi_coll)\n",
    "x_non_multi_coll = sm.add_constant(x_non_multi_coll)\n",
    "x_only_significant_bmi = sm.add_constant(x_only_significant_bmi)\n",
    "x_only_significant_bmi_scaling = sm.add_constant(x_only_significant_bmi_scaling)\n",
    "x_only_significant_weight = sm.add_constant(x_only_significant_weight)\n",
    "x_only_significant_weight_scaling = sm.add_constant(x_only_significant_weight_scaling)\n",
    "\n",
    "\n",
    "model_multi_coll = sm.OLS(y, x_multi_coll)\n",
    "model_non_multi_coll = sm.OLS(y, x_non_multi_coll)\n",
    "model_only_significant = sm.OLS(y, x_only_significant_bmi)\n",
    "model_only_significant_bmi_scaling = sm.OLS(y, x_only_significant_bmi_scaling)\n",
    "model_only_significant_weight_scaling = sm.OLS(y, x_only_significant_weight_scaling)\n",
    "\n",
    "\n",
    "results_multi_coll = model_multi_coll.fit()\n",
    "results_non_multi_coll = model_non_multi_coll.fit()\n",
    "results_only_significant = model_only_significant.fit()\n",
    "results_only_significant_bmi_scaling = model_only_significant_bmi_scaling.fit()\n",
    "results_only_significant_weight_scaling = model_only_significant_weight_scaling.fit()\n",
    "\n",
    "\n",
    "results_only_significant_weight_scaling.summary()\n",
    "\n"
   ],
   "id": "c33f98492e30be17",
   "outputs": [
    {
     "data": {
      "text/plain": [
       "<class 'statsmodels.iolib.summary.Summary'>\n",
       "\"\"\"\n",
       "                            OLS Regression Results                            \n",
       "==============================================================================\n",
       "Dep. Variable:               expenses   R-squared:                       0.731\n",
       "Model:                            OLS   Adj. R-squared:                  0.730\n",
       "Method:                 Least Squares   F-statistic:                     673.9\n",
       "Date:                Mon, 19 May 2025   Prob (F-statistic):               0.00\n",
       "Time:                        14:04:02   Log-Likelihood:                -12649.\n",
       "No. Observations:                1245   AIC:                         2.531e+04\n",
       "Df Residuals:                    1239   BIC:                         2.534e+04\n",
       "Df Model:                           5                                         \n",
       "Covariance Type:            nonrobust                                         \n",
       "====================================================================================\n",
       "                       coef    std err          t      P>|t|      [0.025      0.975]\n",
       "------------------------------------------------------------------------------------\n",
       "const             1.326e+04    177.632     74.633      0.000    1.29e+04    1.36e+04\n",
       "age               3750.5854    178.673     20.991      0.000    3400.050    4101.121\n",
       "weight            1175.8356    184.307      6.380      0.000     814.247    1537.425\n",
       "smoker_yes        9570.0008    178.294     53.676      0.000    9220.210    9919.791\n",
       "region_southeast  -102.8375    196.043     -0.525      0.600    -487.450     281.775\n",
       "region_southwest  -308.6090    190.032     -1.624      0.105    -681.430      64.212\n",
       "==============================================================================\n",
       "Omnibus:                      249.189   Durbin-Watson:                   2.082\n",
       "Prob(Omnibus):                  0.000   Jarque-Bera (JB):              566.588\n",
       "Skew:                           1.102   Prob(JB):                    9.27e-124\n",
       "Kurtosis:                       5.462   Cond. No.                         1.58\n",
       "==============================================================================\n",
       "\n",
       "Notes:\n",
       "[1] Standard Errors assume that the covariance matrix of the errors is correctly specified.\n",
       "\"\"\""
      ],
      "text/html": [
       "<table class=\"simpletable\">\n",
       "<caption>OLS Regression Results</caption>\n",
       "<tr>\n",
       "  <th>Dep. Variable:</th>        <td>expenses</td>     <th>  R-squared:         </th> <td>   0.731</td> \n",
       "</tr>\n",
       "<tr>\n",
       "  <th>Model:</th>                   <td>OLS</td>       <th>  Adj. R-squared:    </th> <td>   0.730</td> \n",
       "</tr>\n",
       "<tr>\n",
       "  <th>Method:</th>             <td>Least Squares</td>  <th>  F-statistic:       </th> <td>   673.9</td> \n",
       "</tr>\n",
       "<tr>\n",
       "  <th>Date:</th>             <td>Mon, 19 May 2025</td> <th>  Prob (F-statistic):</th>  <td>  0.00</td>  \n",
       "</tr>\n",
       "<tr>\n",
       "  <th>Time:</th>                 <td>14:04:02</td>     <th>  Log-Likelihood:    </th> <td> -12649.</td> \n",
       "</tr>\n",
       "<tr>\n",
       "  <th>No. Observations:</th>      <td>  1245</td>      <th>  AIC:               </th> <td>2.531e+04</td>\n",
       "</tr>\n",
       "<tr>\n",
       "  <th>Df Residuals:</th>          <td>  1239</td>      <th>  BIC:               </th> <td>2.534e+04</td>\n",
       "</tr>\n",
       "<tr>\n",
       "  <th>Df Model:</th>              <td>     5</td>      <th>                     </th>     <td> </td>    \n",
       "</tr>\n",
       "<tr>\n",
       "  <th>Covariance Type:</th>      <td>nonrobust</td>    <th>                     </th>     <td> </td>    \n",
       "</tr>\n",
       "</table>\n",
       "<table class=\"simpletable\">\n",
       "<tr>\n",
       "          <td></td>            <th>coef</th>     <th>std err</th>      <th>t</th>      <th>P>|t|</th>  <th>[0.025</th>    <th>0.975]</th>  \n",
       "</tr>\n",
       "<tr>\n",
       "  <th>const</th>            <td> 1.326e+04</td> <td>  177.632</td> <td>   74.633</td> <td> 0.000</td> <td> 1.29e+04</td> <td> 1.36e+04</td>\n",
       "</tr>\n",
       "<tr>\n",
       "  <th>age</th>              <td> 3750.5854</td> <td>  178.673</td> <td>   20.991</td> <td> 0.000</td> <td> 3400.050</td> <td> 4101.121</td>\n",
       "</tr>\n",
       "<tr>\n",
       "  <th>weight</th>           <td> 1175.8356</td> <td>  184.307</td> <td>    6.380</td> <td> 0.000</td> <td>  814.247</td> <td> 1537.425</td>\n",
       "</tr>\n",
       "<tr>\n",
       "  <th>smoker_yes</th>       <td> 9570.0008</td> <td>  178.294</td> <td>   53.676</td> <td> 0.000</td> <td> 9220.210</td> <td> 9919.791</td>\n",
       "</tr>\n",
       "<tr>\n",
       "  <th>region_southeast</th> <td> -102.8375</td> <td>  196.043</td> <td>   -0.525</td> <td> 0.600</td> <td> -487.450</td> <td>  281.775</td>\n",
       "</tr>\n",
       "<tr>\n",
       "  <th>region_southwest</th> <td> -308.6090</td> <td>  190.032</td> <td>   -1.624</td> <td> 0.105</td> <td> -681.430</td> <td>   64.212</td>\n",
       "</tr>\n",
       "</table>\n",
       "<table class=\"simpletable\">\n",
       "<tr>\n",
       "  <th>Omnibus:</th>       <td>249.189</td> <th>  Durbin-Watson:     </th> <td>   2.082</td> \n",
       "</tr>\n",
       "<tr>\n",
       "  <th>Prob(Omnibus):</th> <td> 0.000</td>  <th>  Jarque-Bera (JB):  </th> <td> 566.588</td> \n",
       "</tr>\n",
       "<tr>\n",
       "  <th>Skew:</th>          <td> 1.102</td>  <th>  Prob(JB):          </th> <td>9.27e-124</td>\n",
       "</tr>\n",
       "<tr>\n",
       "  <th>Kurtosis:</th>      <td> 5.462</td>  <th>  Cond. No.          </th> <td>    1.58</td> \n",
       "</tr>\n",
       "</table><br/><br/>Notes:<br/>[1] Standard Errors assume that the covariance matrix of the errors is correctly specified."
      ],
      "text/latex": "\\begin{center}\n\\begin{tabular}{lclc}\n\\toprule\n\\textbf{Dep. Variable:}    &     expenses     & \\textbf{  R-squared:         } &     0.731   \\\\\n\\textbf{Model:}            &       OLS        & \\textbf{  Adj. R-squared:    } &     0.730   \\\\\n\\textbf{Method:}           &  Least Squares   & \\textbf{  F-statistic:       } &     673.9   \\\\\n\\textbf{Date:}             & Mon, 19 May 2025 & \\textbf{  Prob (F-statistic):} &     0.00    \\\\\n\\textbf{Time:}             &     14:04:02     & \\textbf{  Log-Likelihood:    } &   -12649.   \\\\\n\\textbf{No. Observations:} &        1245      & \\textbf{  AIC:               } & 2.531e+04   \\\\\n\\textbf{Df Residuals:}     &        1239      & \\textbf{  BIC:               } & 2.534e+04   \\\\\n\\textbf{Df Model:}         &           5      & \\textbf{                     } &             \\\\\n\\textbf{Covariance Type:}  &    nonrobust     & \\textbf{                     } &             \\\\\n\\bottomrule\n\\end{tabular}\n\\begin{tabular}{lcccccc}\n                           & \\textbf{coef} & \\textbf{std err} & \\textbf{t} & \\textbf{P$> |$t$|$} & \\textbf{[0.025} & \\textbf{0.975]}  \\\\\n\\midrule\n\\textbf{const}             &    1.326e+04  &      177.632     &    74.633  &         0.000        &     1.29e+04    &     1.36e+04     \\\\\n\\textbf{age}               &    3750.5854  &      178.673     &    20.991  &         0.000        &     3400.050    &     4101.121     \\\\\n\\textbf{weight}            &    1175.8356  &      184.307     &     6.380  &         0.000        &      814.247    &     1537.425     \\\\\n\\textbf{smoker\\_yes}       &    9570.0008  &      178.294     &    53.676  &         0.000        &     9220.210    &     9919.791     \\\\\n\\textbf{region\\_southeast} &    -102.8375  &      196.043     &    -0.525  &         0.600        &     -487.450    &      281.775     \\\\\n\\textbf{region\\_southwest} &    -308.6090  &      190.032     &    -1.624  &         0.105        &     -681.430    &       64.212     \\\\\n\\bottomrule\n\\end{tabular}\n\\begin{tabular}{lclc}\n\\textbf{Omnibus:}       & 249.189 & \\textbf{  Durbin-Watson:     } &     2.082  \\\\\n\\textbf{Prob(Omnibus):} &   0.000 & \\textbf{  Jarque-Bera (JB):  } &   566.588  \\\\\n\\textbf{Skew:}          &   1.102 & \\textbf{  Prob(JB):          } & 9.27e-124  \\\\\n\\textbf{Kurtosis:}      &   5.462 & \\textbf{  Cond. No.          } &      1.58  \\\\\n\\bottomrule\n\\end{tabular}\n%\\caption{OLS Regression Results}\n\\end{center}\n\nNotes: \\newline\n [1] Standard Errors assume that the covariance matrix of the errors is correctly specified."
     },
     "execution_count": 189,
     "metadata": {},
     "output_type": "execute_result"
    }
   ],
   "execution_count": 189
  },
  {
   "cell_type": "markdown",
   "id": "5fdc46eb-6745-496b-9f05-25da4f07fdb4",
   "metadata": {},
   "source": [
    "#### Questions (answer the questions, all computations should precede this part)"
   ]
  },
  {
   "cell_type": "markdown",
   "id": "3bf55d3b-5ab0-4a85-907a-265890678f32",
   "metadata": {},
   "source": [
    "#### Question 1"
   ]
  },
  {
   "cell_type": "code",
   "id": "0e334107-1631-4a06-a27f-74cfe0c64bea",
   "metadata": {
    "tags": [],
    "ExecuteTime": {
     "end_time": "2025-05-19T11:04:02.793384Z",
     "start_time": "2025-05-19T11:04:02.790420Z"
    }
   },
   "source": [
    "# did you remove any numerical predictor from the data based on multi-collinearity considerations?\n",
    "# if not - why, if yes - how did you decide on the predictor to remove?\n",
    "# print a short (one-sentence) answer using the print() command\n"
   ],
   "outputs": [],
   "execution_count": 190
  },
  {
   "metadata": {},
   "cell_type": "markdown",
   "source": "#### Question 1 - solution",
   "id": "7894bf5974fcb364"
  },
  {
   "metadata": {
    "ExecuteTime": {
     "end_time": "2025-05-19T11:04:02.798794Z",
     "start_time": "2025-05-19T11:04:02.794389Z"
    }
   },
   "cell_type": "code",
   "source": "print(\"We removed the 'weight' predictor because it is highly correlated with the 'BMI' predictor, and we decided to keep 'BMI' because Pearson correlation to expanses is higher.\")",
   "id": "2fcd1e969f70fb15",
   "outputs": [
    {
     "name": "stdout",
     "output_type": "stream",
     "text": [
      "We removed the 'weight' predictor because it is highly correlated with the 'BMI' predictor, and we decided to keep 'BMI' because Pearson correlation to expanses is higher.\n"
     ]
    }
   ],
   "execution_count": 191
  },
  {
   "cell_type": "markdown",
   "id": "e8dcf249-0a7a-48e6-81dc-b8ffb578f286",
   "metadata": {},
   "source": [
    "#### Question 2"
   ]
  },
  {
   "cell_type": "code",
   "id": "aa4e2e3a-40af-41e6-a93f-c52c08e6d8c8",
   "metadata": {
    "tags": [],
    "ExecuteTime": {
     "end_time": "2025-05-19T11:04:02.803913Z",
     "start_time": "2025-05-19T11:04:02.800801Z"
    }
   },
   "source": [
    "# what is the amount of money a person is likely to spend on medical expenses with each additional year of age?\n",
    "# write here the value itself (hardcoded) based on your inspection of the regression summary (after taking care of multi-collinearity)\n",
    "# display your answer as a dataframe (as in assignment 2)"
   ],
   "outputs": [],
   "execution_count": 192
  },
  {
   "metadata": {},
   "cell_type": "markdown",
   "source": "#### Question 2 - solution",
   "id": "ded021f23d5d2a27"
  },
  {
   "metadata": {
    "ExecuteTime": {
     "end_time": "2025-05-19T11:04:02.809172Z",
     "start_time": "2025-05-19T11:04:02.804919Z"
    }
   },
   "cell_type": "code",
   "source": "print(\"the amount of money a person is likely to spend on medical expenses with each additional year of age is 258.9759\")",
   "id": "e82fb3f6e05e35be",
   "outputs": [
    {
     "name": "stdout",
     "output_type": "stream",
     "text": [
      "the amount of money a person is likely to spend on medical expenses with each additional year of age is 258.9759\n"
     ]
    }
   ],
   "execution_count": 193
  },
  {
   "cell_type": "markdown",
   "id": "bbc895f4-027e-47f9-b864-03ac5f0c7115",
   "metadata": {},
   "source": [
    "#### Question 3"
   ]
  },
  {
   "metadata": {
    "ExecuteTime": {
     "end_time": "2025-05-19T11:04:02.814098Z",
     "start_time": "2025-05-19T11:04:02.811177Z"
    }
   },
   "cell_type": "code",
   "source": "",
   "id": "35ceee9688ca14d3",
   "outputs": [],
   "execution_count": 193
  },
  {
   "cell_type": "code",
   "id": "a2f20dcd-e1d1-4bdb-80ec-95ec821dd540",
   "metadata": {
    "tags": [],
    "ExecuteTime": {
     "end_time": "2025-05-19T11:04:02.819066Z",
     "start_time": "2025-05-19T11:04:02.815104Z"
    }
   },
   "source": [
    "# consider the predictors: age, gender, BMI, weight, children, smoker\n",
    "# what predictors (out of this list) have significant contribution to predicting medical expenses?\n",
    "\n",
    "# report only signifnicant predictors sorted by their contribution to the prediction from highest to lowest\n",
    "# for each predictor specify if it has a positive or a negative effect on the medical expenses\n",
    "\n",
    "# display your answer as a dataframe with two columns: (1) predictor, (2) effect (positive or negative)\n",
    "# no need to include the constant (b_0) value"
   ],
   "outputs": [],
   "execution_count": 194
  },
  {
   "metadata": {},
   "cell_type": "markdown",
   "source": "#### Question 3 - Solution\n",
   "id": "b19109f75409266"
  },
  {
   "metadata": {
    "ExecuteTime": {
     "end_time": "2025-05-19T11:04:02.836681Z",
     "start_time": "2025-05-19T11:04:02.821071Z"
    }
   },
   "cell_type": "code",
   "source": [
    "significant_predictors_bmi = pd.DataFrame({\n",
    "    'predictor': ['smoker_yes', 'age', 'BMI','region_southeast','region_southwest'],\n",
    "    'effect': ['positive', 'positive', 'positive','negative','negative']\n",
    "})\n",
    "\n",
    "significant_predictors_weight = pd.DataFrame({\n",
    "    'predictor': ['smoker_yes', 'age', 'weight'],\n",
    "    'effect': ['positive', 'positive', 'positive']\n",
    "})\n",
    "\n",
    "display(significant_predictors_bmi, significant_predictors_weight)\n"
   ],
   "id": "a2f84643231b0072",
   "outputs": [
    {
     "data": {
      "text/plain": [
       "          predictor    effect\n",
       "0        smoker_yes  positive\n",
       "1               age  positive\n",
       "2               BMI  positive\n",
       "3  region_southeast  negative\n",
       "4  region_southwest  negative"
      ],
      "text/html": [
       "<div>\n",
       "<style scoped>\n",
       "    .dataframe tbody tr th:only-of-type {\n",
       "        vertical-align: middle;\n",
       "    }\n",
       "\n",
       "    .dataframe tbody tr th {\n",
       "        vertical-align: top;\n",
       "    }\n",
       "\n",
       "    .dataframe thead th {\n",
       "        text-align: right;\n",
       "    }\n",
       "</style>\n",
       "<table border=\"1\" class=\"dataframe\">\n",
       "  <thead>\n",
       "    <tr style=\"text-align: right;\">\n",
       "      <th></th>\n",
       "      <th>predictor</th>\n",
       "      <th>effect</th>\n",
       "    </tr>\n",
       "  </thead>\n",
       "  <tbody>\n",
       "    <tr>\n",
       "      <th>0</th>\n",
       "      <td>smoker_yes</td>\n",
       "      <td>positive</td>\n",
       "    </tr>\n",
       "    <tr>\n",
       "      <th>1</th>\n",
       "      <td>age</td>\n",
       "      <td>positive</td>\n",
       "    </tr>\n",
       "    <tr>\n",
       "      <th>2</th>\n",
       "      <td>BMI</td>\n",
       "      <td>positive</td>\n",
       "    </tr>\n",
       "    <tr>\n",
       "      <th>3</th>\n",
       "      <td>region_southeast</td>\n",
       "      <td>negative</td>\n",
       "    </tr>\n",
       "    <tr>\n",
       "      <th>4</th>\n",
       "      <td>region_southwest</td>\n",
       "      <td>negative</td>\n",
       "    </tr>\n",
       "  </tbody>\n",
       "</table>\n",
       "</div>"
      ]
     },
     "metadata": {},
     "output_type": "display_data"
    },
    {
     "data": {
      "text/plain": [
       "    predictor    effect\n",
       "0  smoker_yes  positive\n",
       "1         age  positive\n",
       "2      weight  positive"
      ],
      "text/html": [
       "<div>\n",
       "<style scoped>\n",
       "    .dataframe tbody tr th:only-of-type {\n",
       "        vertical-align: middle;\n",
       "    }\n",
       "\n",
       "    .dataframe tbody tr th {\n",
       "        vertical-align: top;\n",
       "    }\n",
       "\n",
       "    .dataframe thead th {\n",
       "        text-align: right;\n",
       "    }\n",
       "</style>\n",
       "<table border=\"1\" class=\"dataframe\">\n",
       "  <thead>\n",
       "    <tr style=\"text-align: right;\">\n",
       "      <th></th>\n",
       "      <th>predictor</th>\n",
       "      <th>effect</th>\n",
       "    </tr>\n",
       "  </thead>\n",
       "  <tbody>\n",
       "    <tr>\n",
       "      <th>0</th>\n",
       "      <td>smoker_yes</td>\n",
       "      <td>positive</td>\n",
       "    </tr>\n",
       "    <tr>\n",
       "      <th>1</th>\n",
       "      <td>age</td>\n",
       "      <td>positive</td>\n",
       "    </tr>\n",
       "    <tr>\n",
       "      <th>2</th>\n",
       "      <td>weight</td>\n",
       "      <td>positive</td>\n",
       "    </tr>\n",
       "  </tbody>\n",
       "</table>\n",
       "</div>"
      ]
     },
     "metadata": {},
     "output_type": "display_data"
    }
   ],
   "execution_count": 195
  },
  {
   "cell_type": "markdown",
   "id": "3b37b6b9-4612-4b16-ba1f-d528c5edf60a",
   "metadata": {},
   "source": [
    "#### Question 4"
   ]
  },
  {
   "cell_type": "code",
   "id": "41fd402f-688f-45d3-8193-886ec12b9895",
   "metadata": {
    "ExecuteTime": {
     "end_time": "2025-05-19T11:04:02.858621Z",
     "start_time": "2025-05-19T11:04:02.855689Z"
    }
   },
   "source": [
    "# compute R-squared for four regression versions:\n",
    "# (1) including all predictors from the csv file\n",
    "# (2) including predictors after taking care of the multi-collineraity issue\n",
    "# (3) (2) above + including only predictors with signficant contribution to the model\n",
    "# (4) (3) above + after preditor scaling"
   ],
   "outputs": [],
   "execution_count": 196
  },
  {
   "metadata": {},
   "cell_type": "markdown",
   "source": "#### Question 4—solution",
   "id": "b7d1637196f9aa14"
  },
  {
   "metadata": {
    "ExecuteTime": {
     "end_time": "2025-05-19T11:06:03.518156Z",
     "start_time": "2025-05-19T11:06:03.507295Z"
    }
   },
   "cell_type": "code",
   "source": [
    "answer = [(\"R-squared for model with multi-collinearity\", results_multi_coll.rsquared),\n",
    "          (\"R-squared for model without multi-collinearity\",results_non_multi_coll.rsquared),\n",
    "          (\"R-squared for model with only significant predictors\" ,results_only_significant.rsquared),\n",
    "          (\"R-squared for model with only significant predictors and scaling\" ,results_only_significant_bmi_scaling.rsquared)]\n",
    "df_answer = pd.DataFrame(answer, columns=[\"model type\", \"R-squared\"])\n",
    "df_answer\n"
   ],
   "id": "4cc6ae1ed5ca597",
   "outputs": [
    {
     "data": {
      "text/plain": [
       "                                          model type  R-squared\n",
       "0        R-squared for model with multi-collinearity   0.750133\n",
       "1     R-squared for model without multi-collinearity   0.749585\n",
       "2  R-squared for model with only significant pred...   0.749322\n",
       "3  R-squared for model with only significant pred...   0.749322"
      ],
      "text/html": [
       "<div>\n",
       "<style scoped>\n",
       "    .dataframe tbody tr th:only-of-type {\n",
       "        vertical-align: middle;\n",
       "    }\n",
       "\n",
       "    .dataframe tbody tr th {\n",
       "        vertical-align: top;\n",
       "    }\n",
       "\n",
       "    .dataframe thead th {\n",
       "        text-align: right;\n",
       "    }\n",
       "</style>\n",
       "<table border=\"1\" class=\"dataframe\">\n",
       "  <thead>\n",
       "    <tr style=\"text-align: right;\">\n",
       "      <th></th>\n",
       "      <th>model type</th>\n",
       "      <th>R-squared</th>\n",
       "    </tr>\n",
       "  </thead>\n",
       "  <tbody>\n",
       "    <tr>\n",
       "      <th>0</th>\n",
       "      <td>R-squared for model with multi-collinearity</td>\n",
       "      <td>0.750133</td>\n",
       "    </tr>\n",
       "    <tr>\n",
       "      <th>1</th>\n",
       "      <td>R-squared for model without multi-collinearity</td>\n",
       "      <td>0.749585</td>\n",
       "    </tr>\n",
       "    <tr>\n",
       "      <th>2</th>\n",
       "      <td>R-squared for model with only significant pred...</td>\n",
       "      <td>0.749322</td>\n",
       "    </tr>\n",
       "    <tr>\n",
       "      <th>3</th>\n",
       "      <td>R-squared for model with only significant pred...</td>\n",
       "      <td>0.749322</td>\n",
       "    </tr>\n",
       "  </tbody>\n",
       "</table>\n",
       "</div>"
      ]
     },
     "execution_count": 203,
     "metadata": {},
     "output_type": "execute_result"
    }
   ],
   "execution_count": 203
  },
  {
   "cell_type": "code",
   "id": "9e1efc6c-546b-4f9b-8605-15f7a8f58788",
   "metadata": {
    "ExecuteTime": {
     "end_time": "2025-05-19T11:04:02.889666Z",
     "start_time": "2025-05-19T11:04:02.886515Z"
    }
   },
   "source": [
    "# what medical expenses may expect a person with the following data?\n",
    "# age=66, gender=female, BMI=35.4, weight=70.5, children=1, smoker=no, region=southeast\n",
    "\n",
    "# for this question only, include you computation *in the answer below* using model (3) from Question 4\n",
    "\n",
    "# !! you may face difficuly adding a constant (sm.add_constant()) to a DataFrame with a single row\n",
    "# try to search for solution, and in case you need a hint, you may find these links useful - read carefully:\n",
    "# https://github.com/statsmodels/statsmodels/issues/7057\n",
    "# https://www.statsmodels.org/0.9.0/generated/statsmodels.tools.tools.add_constant.html\n",
    "# in this specific case add_constant() has a somewhat unexpected behavior"
   ],
   "outputs": [],
   "execution_count": 198
  },
  {
   "cell_type": "code",
   "id": "70547614-8c77-40c7-9982-1211a2ed0959",
   "metadata": {
    "ExecuteTime": {
     "end_time": "2025-05-19T11:06:08.840439Z",
     "start_time": "2025-05-19T11:06:08.831959Z"
    }
   },
   "source": [
    "x_test = pd.DataFrame([{\n",
    "    'age': 66,\n",
    "    'BMI': 35.4,\n",
    "    'smoker_yes': 0,\n",
    "    'region_southeast': 1,\n",
    "    'region_southwest': 0\n",
    "}])\n",
    "\n",
    "x_test = sm.add_constant(x_test,has_constant='add')\n",
    "\n",
    "predict = results_only_significant.predict(x_test)\n",
    "print(predict)"
   ],
   "outputs": [
    {
     "name": "stdout",
     "output_type": "stream",
     "text": [
      "0    13854.763341\n",
      "dtype: float64\n"
     ]
    }
   ],
   "execution_count": 204
  },
  {
   "metadata": {},
   "cell_type": "code",
   "outputs": [],
   "execution_count": null,
   "source": "",
   "id": "79e3a7d880d7b652"
  }
 ],
 "metadata": {
  "kernelspec": {
   "display_name": "Python 3 (ipykernel)",
   "language": "python",
   "name": "python3"
  },
  "language_info": {
   "codemirror_mode": {
    "name": "ipython",
    "version": 3
   },
   "file_extension": ".py",
   "mimetype": "text/x-python",
   "name": "python",
   "nbconvert_exporter": "python",
   "pygments_lexer": "ipython3",
   "version": "3.11.5"
  }
 },
 "nbformat": 4,
 "nbformat_minor": 5
}
