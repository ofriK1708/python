{
 "cells": [
  {
   "cell_type": "code",
   "id": "d1535376-2807-4bca-98d6-9e9519003015",
   "metadata": {
    "ExecuteTime": {
     "end_time": "2025-04-16T18:23:09.789431Z",
     "start_time": "2025-04-16T18:23:09.776307Z"
    }
   },
   "source": [
    "### in this task missing values *should be imputed* with the mean value of the column\n",
    "### impute missing values only in columns required for solutions"
   ],
   "outputs": [],
   "execution_count": 2
  },
  {
   "cell_type": "code",
   "id": "f8255ea1-d3e9-4fbd-90b1-02d0ff7b7f9e",
   "metadata": {
    "tags": [],
    "ExecuteTime": {
     "end_time": "2025-04-16T18:23:09.844499Z",
     "start_time": "2025-04-16T18:23:09.809556Z"
    }
   },
   "source": [
    "import pandas as pd\n",
    "import matplotlib.pyplot as plt\n",
    "plt.rcParams.update({'font.size': 20, 'figure.figsize': (8, 4)})\n",
    "\n",
    "#%matplotlib inline\n",
    "#import matplotlib_inline\n",
    "#matplotlib_inline.backend_inline.set_matplotlib_formats('svg')\n",
    "\n",
    "import seaborn as sns\n",
    "sns.set()"
   ],
   "outputs": [],
   "execution_count": 3
  },
  {
   "cell_type": "code",
   "id": "02062230-22bd-45bd-99c6-bf8a79bfcc2d",
   "metadata": {
    "ExecuteTime": {
     "end_time": "2025-04-16T18:23:09.938377Z",
     "start_time": "2025-04-16T18:23:09.877525Z"
    }
   },
   "source": [
    "df = pd.read_csv(\"amazon_books_data.csv\")\n",
    "df.info()"
   ],
   "outputs": [
    {
     "name": "stdout",
     "output_type": "stream",
     "text": [
      "<class 'pandas.core.frame.DataFrame'>\n",
      "RangeIndex: 946 entries, 0 to 945\n",
      "Data columns (total 9 columns):\n",
      " #   Column       Non-Null Count  Dtype  \n",
      "---  ------       --------------  -----  \n",
      " 0   title        946 non-null    object \n",
      " 1   author       824 non-null    object \n",
      " 2   price        944 non-null    float64\n",
      " 3   pages        934 non-null    float64\n",
      " 4   avg_reviews  823 non-null    float64\n",
      " 5   n_reviews    946 non-null    int64  \n",
      " 6   dimensions   914 non-null    object \n",
      " 7   weight       943 non-null    object \n",
      " 8   language     943 non-null    object \n",
      "dtypes: float64(3), int64(1), object(5)\n",
      "memory usage: 66.6+ KB\n"
     ]
    }
   ],
   "execution_count": 4
  },
  {
   "cell_type": "markdown",
   "id": "4c919712-dccb-4dbc-8e3d-baa0f3d0e4b2",
   "metadata": {},
   "source": [
    "#### Question 1"
   ]
  },
  {
   "cell_type": "code",
   "id": "49c51667-303d-4ae5-a449-bc61d58f1b13",
   "metadata": {
    "ExecuteTime": {
     "end_time": "2025-04-16T18:44:43.701396Z",
     "start_time": "2025-04-16T18:44:43.675879Z"
    }
   },
   "source": [
    "### decide what data type each column is: numerical-discrete, numerical-continuous, categorical-nominal, categorical-ordinal\n",
    "### consider only [price, pages, avg_reviews, n_reviews, language] for this analysis\n",
    "### no need to add explanations, just the final answer"
   ],
   "outputs": [
    {
     "data": {
      "text/plain": [
       "title             0\n",
       "author          122\n",
       "price             2\n",
       "pages            12\n",
       "avg_reviews     123\n",
       "n_reviews         0\n",
       "dimensions       32\n",
       "weight            3\n",
       "language          3\n",
       "books_volume      0\n",
       "dtype: int64"
      ]
     },
     "execution_count": 41,
     "metadata": {},
     "output_type": "execute_result"
    }
   ],
   "execution_count": 41
  },
  {
   "metadata": {},
   "cell_type": "markdown",
   "source": "#### Question 1 - solution",
   "id": "4a79b3a5bbfed119"
  },
  {
   "metadata": {
    "ExecuteTime": {
     "end_time": "2025-04-16T18:23:10.106176Z",
     "start_time": "2025-04-16T18:23:10.039088Z"
    }
   },
   "cell_type": "code",
   "source": [
    "answer = {\"data\": [\"price\", \"pages\", \"avg_reviews\", \"n_reviews\", \"language\"], \"type\" : [\"numerical-continuous\",\"numerical-discrete\"\n",
    "    ,\"categorical-ordinal\",\"numerical-discrete\",\"categorical-nominal\"]}\n",
    "pd.DataFrame(answer)"
   ],
   "id": "60f3a15bef7ebc",
   "outputs": [
    {
     "data": {
      "text/plain": [
       "          data                  type\n",
       "0        price  numerical-continuous\n",
       "1        pages    numerical-discrete\n",
       "2  avg_reviews   categorical-ordinal\n",
       "3    n_reviews    numerical-discrete\n",
       "4     language   categorical-nominal"
      ],
      "text/html": [
       "<div>\n",
       "<style scoped>\n",
       "    .dataframe tbody tr th:only-of-type {\n",
       "        vertical-align: middle;\n",
       "    }\n",
       "\n",
       "    .dataframe tbody tr th {\n",
       "        vertical-align: top;\n",
       "    }\n",
       "\n",
       "    .dataframe thead th {\n",
       "        text-align: right;\n",
       "    }\n",
       "</style>\n",
       "<table border=\"1\" class=\"dataframe\">\n",
       "  <thead>\n",
       "    <tr style=\"text-align: right;\">\n",
       "      <th></th>\n",
       "      <th>data</th>\n",
       "      <th>type</th>\n",
       "    </tr>\n",
       "  </thead>\n",
       "  <tbody>\n",
       "    <tr>\n",
       "      <th>0</th>\n",
       "      <td>price</td>\n",
       "      <td>numerical-continuous</td>\n",
       "    </tr>\n",
       "    <tr>\n",
       "      <th>1</th>\n",
       "      <td>pages</td>\n",
       "      <td>numerical-discrete</td>\n",
       "    </tr>\n",
       "    <tr>\n",
       "      <th>2</th>\n",
       "      <td>avg_reviews</td>\n",
       "      <td>categorical-ordinal</td>\n",
       "    </tr>\n",
       "    <tr>\n",
       "      <th>3</th>\n",
       "      <td>n_reviews</td>\n",
       "      <td>numerical-discrete</td>\n",
       "    </tr>\n",
       "    <tr>\n",
       "      <th>4</th>\n",
       "      <td>language</td>\n",
       "      <td>categorical-nominal</td>\n",
       "    </tr>\n",
       "  </tbody>\n",
       "</table>\n",
       "</div>"
      ]
     },
     "execution_count": 6,
     "metadata": {},
     "output_type": "execute_result"
    }
   ],
   "execution_count": 6
  },
  {
   "cell_type": "markdown",
   "id": "165920b1-0135-4593-a162-8d4eba529990",
   "metadata": {},
   "source": [
    "#### Question 2"
   ]
  },
  {
   "cell_type": "code",
   "id": "347ba3ec-c639-4589-bbd7-3f3449d31829",
   "metadata": {
    "ExecuteTime": {
     "end_time": "2025-04-16T18:23:10.231161Z",
     "start_time": "2025-04-16T18:23:10.221426Z"
    }
   },
   "source": [
    "### plot a histogram of books' number of pages using 50 bins\n",
    "### decide if the distribution is symmetric, skewed positive or skewed negative\n",
    "### use both the histogram and required computations for this decision"
   ],
   "outputs": [],
   "execution_count": 7
  },
  {
   "cell_type": "markdown",
   "id": "3dc58e4a-c25d-4267-b319-93891138bd5f",
   "metadata": {},
   "source": [
    "#### Question 3"
   ]
  },
  {
   "cell_type": "code",
   "id": "d56c2046-fdd2-44e8-bd7b-0f6c4e191833",
   "metadata": {
    "ExecuteTime": {
     "end_time": "2025-04-16T18:23:10.312745Z",
     "start_time": "2025-04-16T18:23:10.309497Z"
    }
   },
   "source": [
    "### inspect the 'weight' column carefully\n",
    "### plot a histogram of books' weight using 50 bins\n",
    "### decide if the distribution is symmetric, skewed positive or skewed negative\n",
    "### use both the histogram and required computations for this decision"
   ],
   "outputs": [],
   "execution_count": 8
  },
  {
   "metadata": {},
   "cell_type": "markdown",
   "source": "#### Question 3 - solution",
   "id": "241008edbc92796d"
  },
  {
   "metadata": {
    "ExecuteTime": {
     "end_time": "2025-04-16T18:42:52.600477Z",
     "start_time": "2025-04-16T18:42:52.190349Z"
    }
   },
   "cell_type": "code",
   "source": [
    "def convert_to_ounces(weight:str):\n",
    "    if pd.isna(weight):\n",
    "        return None\n",
    "    weight_str = weight.split()\n",
    "    if len(weight_str) != 2:\n",
    "        return None\n",
    "    try:\n",
    "        if weight_str[1] == \"ounces\":\n",
    "            return float(weight_str[0])\n",
    "        elif weight_str[1] == \"pounds\":\n",
    "            return float(weight_str[0])*16\n",
    "        else:\n",
    "            return None\n",
    "    except ValueError:\n",
    "        return None\n",
    "\n",
    "weight_ounces = df[\"weight\"].apply(convert_to_ounces)\n",
    "weight_ounces.fillna(weight_ounces.mean(), inplace=True)\n",
    "weight_ounces.plot(kind = \"hist\",bins = 50,color = \"teal\")\n",
    "plt.title(\"Observed Weight Distribution — Negative Skew\")\n",
    "plt.ylabel(\"Number of books\")\n",
    "plt.xlabel(\"Weight (ounces)\")\n",
    "plt.show()\n",
    "\n"
   ],
   "id": "53e0cc61037b75a5",
   "outputs": [
    {
     "data": {
      "text/plain": [
       "<Figure size 800x400 with 1 Axes>"
      ],
      "image/png": "[encoded data removed]"
     },
     "metadata": {},
     "output_type": "display_data"
    }
   ],
   "execution_count": 39
  },
  {
   "cell_type": "markdown",
   "id": "756c9477-1a20-4962-9289-3dc593dd4ca5",
   "metadata": {},
   "source": [
    "#### Question 4"
   ]
  },
  {
   "cell_type": "code",
   "id": "8cb0cdb7-8b3d-4a84-b30c-e59df8797135",
   "metadata": {
    "ExecuteTime": {
     "end_time": "2025-04-16T18:23:10.667322Z",
     "start_time": "2025-04-16T18:23:10.661053Z"
    }
   },
   "source": [
    "### compute Pearson's correlation between a book's volume (inferred by its dimensions) and price in the data\n",
    "### (you can use the built-in Series.corr() function for that purpose)"
   ],
   "outputs": [],
   "execution_count": 10
  },
  {
   "metadata": {},
   "cell_type": "markdown",
   "source": "#### Question 4 – solution",
   "id": "88bda384ffe8f862"
  },
  {
   "metadata": {
    "ExecuteTime": {
     "end_time": "2025-04-16T19:19:59.532526Z",
     "start_time": "2025-04-16T19:19:59.495359Z"
    }
   },
   "cell_type": "code",
   "source": [
    "def get_volume(dimensions:str):\n",
    "    if pd.isna(dimensions):\n",
    "        return None\n",
    "    dimensions_str = dimensions.split(\" x \")\n",
    "    if len(dimensions_str) != 3:\n",
    "        return None\n",
    "    dimensions_str[-1] = dimensions_str[-1].replace(\" inches\", \"\")\n",
    "    try:\n",
    "        dimensions_float = [float(dimension) for dimension in dimensions_str]\n",
    "    except ValueError:\n",
    "        return None\n",
    "    return dimensions_float[0] * dimensions_float[1] * dimensions_float[2]\n",
    "\n",
    "books_volumes_and_price = pd.DataFrame({\"volume\" : df[\"dimensions\"].apply(get_volume), \"price\" : df[\"price\"]}, columns=[\"volume\", \"price\"])\n",
    "books_volumes_and_price[\"volume\"] = books_volumes_and_price[\"volume\"].fillna(books_volumes_and_price[\"volume\"].mean())\n",
    "books_volumes_and_price[\"price\"] = books_volumes_and_price[\"price\"].fillna(books_volumes_and_price[\"price\"].mean())\n",
    "books_volumes_and_price.corr()"
   ],
   "id": "2420f6b763e0c9c7",
   "outputs": [
    {
     "data": {
      "text/plain": [
       "         volume    price\n",
       "volume  1.00000  0.41851\n",
       "price   0.41851  1.00000"
      ],
      "text/html": [
       "<div>\n",
       "<style scoped>\n",
       "    .dataframe tbody tr th:only-of-type {\n",
       "        vertical-align: middle;\n",
       "    }\n",
       "\n",
       "    .dataframe tbody tr th {\n",
       "        vertical-align: top;\n",
       "    }\n",
       "\n",
       "    .dataframe thead th {\n",
       "        text-align: right;\n",
       "    }\n",
       "</style>\n",
       "<table border=\"1\" class=\"dataframe\">\n",
       "  <thead>\n",
       "    <tr style=\"text-align: right;\">\n",
       "      <th></th>\n",
       "      <th>volume</th>\n",
       "      <th>price</th>\n",
       "    </tr>\n",
       "  </thead>\n",
       "  <tbody>\n",
       "    <tr>\n",
       "      <th>volume</th>\n",
       "      <td>1.00000</td>\n",
       "      <td>0.41851</td>\n",
       "    </tr>\n",
       "    <tr>\n",
       "      <th>price</th>\n",
       "      <td>0.41851</td>\n",
       "      <td>1.00000</td>\n",
       "    </tr>\n",
       "  </tbody>\n",
       "</table>\n",
       "</div>"
      ]
     },
     "execution_count": 69,
     "metadata": {},
     "output_type": "execute_result"
    }
   ],
   "execution_count": 69
  },
  {
   "cell_type": "markdown",
   "id": "1f59426d-26d0-4110-bdc1-fafe3157edb7",
   "metadata": {},
   "source": [
    "#### Question 5"
   ]
  },
  {
   "cell_type": "code",
   "id": "9bd71993-a837-4a79-82c4-06bc67ac2c38",
   "metadata": {
    "ExecuteTime": {
     "end_time": "2025-04-16T18:23:10.684492Z",
     "start_time": "2025-04-16T18:23:10.682336Z"
    }
   },
   "source": [
    "### show a scatter plot of a book's volume (inferred by its dimensions) and price\n",
    "### do the results fit the score you got in the previous cell? (no need to print answer to this question)"
   ],
   "outputs": [],
   "execution_count": 11
  },
  {
   "metadata": {},
   "cell_type": "markdown",
   "source": "#### Question 5 — solution",
   "id": "469d91aa074e94c5"
  },
  {
   "metadata": {
    "ExecuteTime": {
     "end_time": "2025-04-16T19:12:14.634148Z",
     "start_time": "2025-04-16T19:12:14.514841Z"
    }
   },
   "cell_type": "code",
   "source": [
    "books_volumes_and_price.plot(x= \"volume\", y = \"price\", kind = \"scatter\",color = \"teal\")\n",
    "plt.title(\"Observed Price vs Volume (weak positive correlation)\")\n",
    "plt.show()"
   ],
   "id": "b9a2e5367ab8395b",
   "outputs": [
    {
     "data": {
      "text/plain": [
       "<Figure size 800x400 with 1 Axes>"
      ],
      "image/png": "[encoded data removed]"
     },
     "metadata": {},
     "output_type": "display_data"
    }
   ],
   "execution_count": 62
  },
  {
   "cell_type": "markdown",
   "id": "fea8fab2-2945-43df-b35d-9853c1afb669",
   "metadata": {},
   "source": [
    "#### Question 6"
   ]
  },
  {
   "cell_type": "code",
   "id": "0d891df9-7692-4952-a2b9-45c91038ad20",
   "metadata": {},
   "source": [
    "### inspect book titles carefully: they can be roughly split by keyphrases:\n",
    "### ['data science', 'data analytics', 'data engineering', 'machine learning', 'statistics', \n",
    "### 'deep learning', 'natural language processing']\n",
    "\n",
    "### a book belongs to one of the above categories if its name contains the corresponding keyphrase\n",
    "### display the number of books that fall into each category and their total, in the same table\n",
    "### some books may not belong to any of the listed above categories\n",
    "### category match should be case insensitive"
   ],
   "outputs": [],
   "execution_count": null
  },
  {
   "cell_type": "markdown",
   "id": "0c9f0ced-0fec-4ffa-a490-81dc78899680",
   "metadata": {},
   "source": [
    "#### Question 7"
   ]
  },
  {
   "cell_type": "code",
   "id": "403786ac-bcad-4b79-af8c-37e2885deb78",
   "metadata": {},
   "source": [
    "### display the same result where the dataframe is sorted by the number of books, descending\n",
    "### no need to display the total amount in this result - drop it"
   ],
   "outputs": [],
   "execution_count": null
  },
  {
   "cell_type": "markdown",
   "id": "877ac449-b9cd-425e-873f-74e93dcfda45",
   "metadata": {},
   "source": [
    "#### Question 8"
   ]
  },
  {
   "cell_type": "code",
   "id": "f9c6e631-a9de-49e9-95e7-c919bf789c90",
   "metadata": {},
   "source": [
    "### sample 10000 values from N~(50, 10)\n",
    "### for this pirpose use https://numpy.org/doc/stable/reference/random/generated/numpy.random.normal.html\n",
    "\n",
    "### what portion of the distribution is found in the range (42.5, 57.5)? -- calculate using z table\n",
    "### (recall the NormalDist().cdf() function we used at the lecture)\n",
    "\n",
    "### what portion of the distribution is found in the range (42.5, 57.5)? -- compute empirically using the sampled values\n",
    "### report both values (calculated and empirical)"
   ],
   "outputs": [],
   "execution_count": null
  },
  {
   "cell_type": "markdown",
   "id": "d58f2b66-dc90-4c54-9499-66c46e3a192f",
   "metadata": {},
   "source": [
    "#### Question 9"
   ]
  },
  {
   "cell_type": "code",
   "id": "1ca084c9-3a03-4219-9530-8bc6437a7a70",
   "metadata": {},
   "source": [
    "### compute confidence interval of 90% for the true population mean of a book price on Amazon\n",
    "### report left and right boundaries"
   ],
   "outputs": [],
   "execution_count": null
  },
  {
   "cell_type": "markdown",
   "id": "5a077478-b75e-4592-ae78-745678fa0820",
   "metadata": {},
   "source": [
    "#### Question 10"
   ]
  },
  {
   "cell_type": "code",
   "id": "5aa994a1-d98f-4b12-aabf-9af310b49523",
   "metadata": {},
   "source": [
    "### can one say with 85% confidence that the true population mean of a book price resides within the [49.0, 54.0] interval?\n",
    "### show your computations, and print your answer: yes or no"
   ],
   "outputs": [],
   "execution_count": null
  },
  {
   "cell_type": "code",
   "id": "636a0b93-4aa1-4a49-a7b1-2ab9f58a124f",
   "metadata": {},
   "source": [],
   "outputs": [],
   "execution_count": null
  }
 ],
 "metadata": {
  "kernelspec": {
   "display_name": "Python 3 (ipykernel)",
   "language": "python",
   "name": "python3"
  },
  "language_info": {
   "codemirror_mode": {
    "name": "ipython",
    "version": 3
   },
   "file_extension": ".py",
   "mimetype": "text/x-python",
   "name": "python",
   "nbconvert_exporter": "python",
   "pygments_lexer": "ipython3",
   "version": "3.11.7"
  }
 },
 "nbformat": 4,
 "nbformat_minor": 5
}
