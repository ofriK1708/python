{
 "cells": [
  {
   "cell_type": "code",
   "id": "2fcb5d3f-d1a8-41a6-a04c-4937e3c6cc78",
   "metadata": {
    "ExecuteTime": {
     "end_time": "2025-04-08T12:29:15.300877Z",
     "start_time": "2025-04-08T12:29:15.295771Z"
    }
   },
   "source": [
    "import pandas as pd\n",
    "import matplotlib.pyplot as plt\n",
    "plt.rcParams.update({'font.size': 20, 'figure.figsize': (8, 4)})\n",
    "\n",
    "%matplotlib inline\n",
    "import matplotlib_inline\n",
    "matplotlib_inline.backend_inline.set_matplotlib_formats('svg')\n",
    "\n",
    "import seaborn as sns\n",
    "sns.set()"
   ],
   "outputs": [],
   "execution_count": 29
  },
  {
   "cell_type": "code",
   "id": "853121c6-73f1-47fe-aa64-a6ce99157712",
   "metadata": {
    "ExecuteTime": {
     "end_time": "2025-04-08T12:29:15.330343Z",
     "start_time": "2025-04-08T12:29:15.321595Z"
    }
   },
   "source": [
    "df = pd.read_csv(\"supermarket_sales.csv\")\n",
    "df.info()"
   ],
   "outputs": [
    {
     "name": "stdout",
     "output_type": "stream",
     "text": [
      "<class 'pandas.core.frame.DataFrame'>\n",
      "RangeIndex: 1000 entries, 0 to 999\n",
      "Data columns (total 14 columns):\n",
      " #   Column         Non-Null Count  Dtype  \n",
      "---  ------         --------------  -----  \n",
      " 0   Invoice ID     1000 non-null   object \n",
      " 1   Branch         1000 non-null   object \n",
      " 2   City           1000 non-null   object \n",
      " 3   Customer type  1000 non-null   object \n",
      " 4   Gender         1000 non-null   object \n",
      " 5   Product line   1000 non-null   object \n",
      " 6   Unit price     1000 non-null   float64\n",
      " 7   Quantity       1000 non-null   int64  \n",
      " 8   Tax 5%         1000 non-null   float64\n",
      " 9   Total          1000 non-null   float64\n",
      " 10  Date           1000 non-null   object \n",
      " 11  Time           1000 non-null   object \n",
      " 12  Payment        1000 non-null   object \n",
      " 13  Rating         1000 non-null   float64\n",
      "dtypes: float64(4), int64(1), object(9)\n",
      "memory usage: 109.5+ KB\n"
     ]
    }
   ],
   "execution_count": 30
  },
  {
   "cell_type": "markdown",
   "id": "33f7860c-a2de-43af-94e7-07066d358cfc",
   "metadata": {},
   "source": [
    "#### Question 1: Example"
   ]
  },
  {
   "cell_type": "code",
   "id": "c231798e-848a-4041-82fe-af048c7ab8b0",
   "metadata": {
    "ExecuteTime": {
     "end_time": "2025-04-08T12:29:15.337541Z",
     "start_time": "2025-04-08T12:29:15.335481Z"
    }
   },
   "source": [
    "### how many purchases (rows in the table, not 'Quantity') were done by Male and Female customers?"
   ],
   "outputs": [],
   "execution_count": 31
  },
  {
   "cell_type": "markdown",
   "id": "fb90cda0-7d66-47e4-81bb-e82c5b5a4190",
   "metadata": {},
   "source": [
    "#### Question 1 - solution: Example"
   ]
  },
  {
   "cell_type": "code",
   "id": "353eb1e0-d76b-4233-8529-d624811562c6",
   "metadata": {
    "ExecuteTime": {
     "end_time": "2025-04-08T12:29:15.365249Z",
     "start_time": "2025-04-08T12:29:15.360019Z"
    }
   },
   "source": [
    "m_amount = len(df[df['Gender'] == 'Male'])\n",
    "f_amount = len(df[df['Gender'] == 'Female'])\n",
    "\n",
    "# do not print any intermediate results\n",
    "# print *only your final* result in the form of a data frame (for clarity)\n",
    "\n",
    "result = [('purchases by male', m_amount), ('purchases by female', f_amount)]\n",
    "pd.DataFrame(result)"
   ],
   "outputs": [
    {
     "data": {
      "text/plain": [
       "                     0    1\n",
       "0    purchases by male  498\n",
       "1  purchases by female  502"
      ],
      "text/html": [
       "<div>\n",
       "<style scoped>\n",
       "    .dataframe tbody tr th:only-of-type {\n",
       "        vertical-align: middle;\n",
       "    }\n",
       "\n",
       "    .dataframe tbody tr th {\n",
       "        vertical-align: top;\n",
       "    }\n",
       "\n",
       "    .dataframe thead th {\n",
       "        text-align: right;\n",
       "    }\n",
       "</style>\n",
       "<table border=\"1\" class=\"dataframe\">\n",
       "  <thead>\n",
       "    <tr style=\"text-align: right;\">\n",
       "      <th></th>\n",
       "      <th>0</th>\n",
       "      <th>1</th>\n",
       "    </tr>\n",
       "  </thead>\n",
       "  <tbody>\n",
       "    <tr>\n",
       "      <th>0</th>\n",
       "      <td>purchases by male</td>\n",
       "      <td>498</td>\n",
       "    </tr>\n",
       "    <tr>\n",
       "      <th>1</th>\n",
       "      <td>purchases by female</td>\n",
       "      <td>502</td>\n",
       "    </tr>\n",
       "  </tbody>\n",
       "</table>\n",
       "</div>"
      ]
     },
     "execution_count": 32,
     "metadata": {},
     "output_type": "execute_result"
    }
   ],
   "execution_count": 32
  },
  {
   "cell_type": "markdown",
   "id": "9a8d18f7-4874-4bda-a50c-c9f57127a9ff",
   "metadata": {
    "tags": []
   },
   "source": [
    "#### Question 2"
   ]
  },
  {
   "cell_type": "code",
   "id": "1cac9cff-c6ec-4148-ba62-a2f499fc759e",
   "metadata": {
    "ExecuteTime": {
     "end_time": "2025-04-08T12:29:15.403933Z",
     "start_time": "2025-04-08T12:29:15.401299Z"
    }
   },
   "source": [
    "### what is the average Rating for products in the \"Home and lifestyle\" Product line?"
   ],
   "outputs": [],
   "execution_count": 33
  },
  {
   "metadata": {},
   "cell_type": "markdown",
   "source": "#### Question 2 - solution ",
   "id": "25472e813e9a6a7f"
  },
  {
   "metadata": {
    "ExecuteTime": {
     "end_time": "2025-04-08T16:23:35.096542Z",
     "start_time": "2025-04-08T16:23:35.075898Z"
    }
   },
   "cell_type": "code",
   "source": "print(\"testing123\")",
   "id": "a8c42b5d2484a358",
   "outputs": [
    {
     "name": "stdout",
     "output_type": "stream",
     "text": [
      "testing123\n"
     ]
    }
   ],
   "execution_count": 42
  },
  {
   "cell_type": "markdown",
   "id": "cff16f55-72b2-4238-98a0-1ad0187a4de6",
   "metadata": {},
   "source": [
    "#### Question 3"
   ]
  },
  {
   "cell_type": "code",
   "id": "c2d68cfd-8f93-47f6-9e65-ab85a78afd74",
   "metadata": {
    "ExecuteTime": {
     "end_time": "2025-04-08T12:29:15.468181Z",
     "start_time": "2025-04-08T12:29:15.465540Z"
    }
   },
   "source": [
    "### how many products in each Product line were sold during the first week (days 1-7 including) of February 2019?\n",
    "### use the 'Quantity' column for that purpose - the number of products purchased"
   ],
   "outputs": [],
   "execution_count": 34
  },
  {
   "metadata": {},
   "cell_type": "markdown",
   "source": "#### Question 3 - solution",
   "id": "24938d0fe91c6ff3"
  },
  {
   "metadata": {
    "ExecuteTime": {
     "end_time": "2025-04-09T00:23:44.965728Z",
     "start_time": "2025-04-09T00:23:44.957903Z"
    }
   },
   "cell_type": "code",
   "source": [
    "wanted_dates = {\n",
    "    \"01/02/2019\", \"02/02/2019\", \"03/02/2019\",\n",
    "    \"04/02/2019\", \"05/02/2019\", \"06/02/2019\", \"07/02/2019\"\n",
    "}\n",
    "df_in_dates = df[df['Date'].apply(lambda x: x in wanted_dates)]\n",
    "filtered_sales_in_date = df_in_dates.groupby('Product line')[\"Quantity\"].sum().reset_index()\n",
    "all_product_lines = pd.DataFrame(df['Product line'].unique(), columns=['Product line'])\n",
    "all_sales_in_dates = all_product_lines.merge(filtered_sales_in_date, on='Product line', how= 'left')\n",
    "all_sales_in_dates = all_sales_in_dates.fillna(0)\n",
    "print(all_sales_in_dates)\n"
   ],
   "id": "7974c7b21d8441df",
   "outputs": [
    {
     "name": "stdout",
     "output_type": "stream",
     "text": [
      "             Product line  Quantity\n",
      "0  Electronic accessories        38\n",
      "1     Fashion accessories        42\n",
      "2      Food and beverages        38\n",
      "3       Health and beauty        21\n",
      "4      Home and lifestyle        38\n",
      "5       Sports and travel        49\n"
     ]
    }
   ],
   "execution_count": 56
  },
  {
   "cell_type": "markdown",
   "id": "8915f616-6c9b-4ff3-a222-b742ce3903f6",
   "metadata": {},
   "source": [
    "#### Question 4"
   ]
  },
  {
   "cell_type": "code",
   "id": "50945969-04ec-4a9d-aee5-614820ea9f6a",
   "metadata": {
    "ExecuteTime": {
     "end_time": "2025-04-08T12:29:15.489940Z",
     "start_time": "2025-04-08T12:29:15.487771Z"
    }
   },
   "source": [
    "### plot a bar chart showing the number of products per category computed in the previous question"
   ],
   "outputs": [],
   "execution_count": 35
  },
  {
   "cell_type": "markdown",
   "id": "e53c3f56-64b9-4e53-aa0c-d47732258120",
   "metadata": {},
   "source": [
    "#### Question 5"
   ]
  },
  {
   "cell_type": "code",
   "id": "e819fb76-9694-46ec-8961-6ddd56e53fdb",
   "metadata": {
    "ExecuteTime": {
     "end_time": "2025-04-08T12:29:15.508988Z",
     "start_time": "2025-04-08T12:29:15.506624Z"
    }
   },
   "source": [
    "### plot the same bar chart as above - split by gender (male, female)\n",
    "### the split bar chart is called stacked bar: look up \"plot stacked bar charts from a dataframe\" to see how to plot it"
   ],
   "outputs": [],
   "execution_count": 36
  },
  {
   "cell_type": "markdown",
   "id": "2a76058a-cb74-40b1-b39d-3e324a1612cf",
   "metadata": {},
   "source": [
    "#### Question 6"
   ]
  },
  {
   "cell_type": "code",
   "id": "7fa3a312-1328-4d5f-8135-264bb74eb9c6",
   "metadata": {
    "ExecuteTime": {
     "end_time": "2025-04-08T12:29:15.520183Z",
     "start_time": "2025-04-08T12:29:15.518616Z"
    }
   },
   "source": [
    "### what is the total sales ('Total') done by each Payment type during the whole period?\n",
    "### use the full data in the dataset (not the first week of March) from now on"
   ],
   "outputs": [],
   "execution_count": 37
  },
  {
   "cell_type": "markdown",
   "id": "864ff541-d50f-4bb6-8716-6dee409c5486",
   "metadata": {},
   "source": [
    "#### Question 7"
   ]
  },
  {
   "cell_type": "code",
   "id": "45f533cc-af40-44f0-bbb9-c2aa58262cad",
   "metadata": {
    "ExecuteTime": {
     "end_time": "2025-04-08T12:29:15.535418Z",
     "start_time": "2025-04-08T12:29:15.533400Z"
    }
   },
   "source": [
    "### plot a chart with total sales ('Total') of the \"Sports and travel\" products by calendar week (Monday-Sunday): \n",
    "### note the first and the last week can be incomplete (for instance, the data starts on Wednesday, and ends on Friday)\n",
    "### assume all our sales data spans the same year (for instance, 2019)\n",
    "\n",
    "### you can make use of the isocalendar() function: https://www.geeksforgeeks.org/isocalendar-function-of-datetime-date-class-in-python/\n",
    "\n",
    "### x axis are weeks enumerated from the first to the last calendar week in the data\n",
    "### y axis is the total sales that week"
   ],
   "outputs": [],
   "execution_count": 38
  },
  {
   "cell_type": "markdown",
   "id": "f069e260-9c4d-4d03-b9bd-04a1ad34b0c9",
   "metadata": {},
   "source": [
    "#### Question 8"
   ]
  },
  {
   "cell_type": "code",
   "id": "2366719b-50f3-4149-aa73-dd8a489d7820",
   "metadata": {
    "ExecuteTime": {
     "end_time": "2025-04-08T12:29:15.542603Z",
     "start_time": "2025-04-08T12:29:15.540794Z"
    }
   },
   "source": [
    "### plot a line chart of total sales ('Total') per hour in our dataset\n",
    "### the x axis will be an hour (e.g., 9, 10, 11), and the y axis will be the total amout of sales during that hour\n",
    "### (e.g., for 9 - all sales between 09:00 and 10:00)"
   ],
   "outputs": [],
   "execution_count": 39
  },
  {
   "cell_type": "markdown",
   "id": "32115916-06de-4cfe-9af3-c2b7c2832dd6",
   "metadata": {},
   "source": [
    "#### Question 9"
   ]
  },
  {
   "cell_type": "code",
   "id": "5741bfef-46e1-414b-a7b0-b450fa26ff12",
   "metadata": {
    "ExecuteTime": {
     "end_time": "2025-04-08T12:29:15.556523Z",
     "start_time": "2025-04-08T12:29:15.553945Z"
    }
   },
   "source": [
    "### plot a line chart of the total number of purchases (rows) per hour in our dataset\n",
    "### the x axis will be an hour (e.g., 9, 10, 11), and the y axis will be the total number of purchases during that hour\n",
    "### (e.g., for 9 - all sales between 09:00 and 10:00)"
   ],
   "outputs": [],
   "execution_count": 40
  },
  {
   "cell_type": "markdown",
   "id": "f93bef93-a5bf-44c5-88c6-7ca71169dda5",
   "metadata": {},
   "source": [
    "#### Question 10"
   ]
  },
  {
   "cell_type": "code",
   "id": "b00b7c99-ec39-49e2-901d-ef23c6e88d10",
   "metadata": {
    "ExecuteTime": {
     "end_time": "2025-04-08T12:29:15.561967Z",
     "start_time": "2025-04-08T12:29:15.560468Z"
    }
   },
   "source": [
    "### what is the total income of strategic products by City?\n",
    "\n",
    "### for each non-strategic product (as detailed in the product_types_strategy.csv file), \n",
    "###    display break down of total sales by cities - a table with three columns: \n",
    "###    (1) product line, (2) city and (3) total sales (the \"Total\" column) for that line in the city"
   ],
   "outputs": [],
   "execution_count": 41
  },
  {
   "cell_type": "code",
   "id": "8ef2b8fa-cbd7-4606-971e-86715c83e47d",
   "metadata": {
    "ExecuteTime": {
     "end_time": "2025-04-08T12:29:15.569528Z",
     "start_time": "2025-04-08T12:29:15.568088Z"
    }
   },
   "source": [],
   "outputs": [],
   "execution_count": null
  }
 ],
 "metadata": {
  "kernelspec": {
   "display_name": "Python 3 (ipykernel)",
   "language": "python",
   "name": "python3"
  },
  "language_info": {
   "codemirror_mode": {
    "name": "ipython",
    "version": 3
   },
   "file_extension": ".py",
   "mimetype": "text/x-python",
   "name": "python",
   "nbconvert_exporter": "python",
   "pygments_lexer": "ipython3",
   "version": "3.11.5"
  }
 },
 "nbformat": 4,
 "nbformat_minor": 5
}
