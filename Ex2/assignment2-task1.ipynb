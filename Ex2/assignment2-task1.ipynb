{
 "cells": [
  {
   "cell_type": "code",
   "id": "2fcb5d3f-d1a8-41a6-a04c-4937e3c6cc78",
   "metadata": {
    "ExecuteTime": {
     "end_time": "2025-04-12T13:23:52.324503Z",
     "start_time": "2025-04-12T13:23:52.300773Z"
    }
   },
   "source": [
    "import pandas as pd\n",
    "import matplotlib.pyplot as plt\n",
    "from statsmodels.sandbox.distributions.genpareto import shape\n",
    "\n",
    "plt.rcParams.update({'font.size': 20, 'figure.figsize': (8, 4)})\n",
    "\n",
    "%matplotlib inline\n",
    "import matplotlib_inline\n",
    "matplotlib_inline.backend_inline.set_matplotlib_formats('svg')\n",
    "\n",
    "import seaborn as sns\n",
    "sns.set()"
   ],
   "outputs": [],
   "execution_count": 27
  },
  {
   "cell_type": "code",
   "id": "853121c6-73f1-47fe-aa64-a6ce99157712",
   "metadata": {
    "ExecuteTime": {
     "end_time": "2025-04-12T13:23:52.379979Z",
     "start_time": "2025-04-12T13:23:52.365460Z"
    }
   },
   "source": [
    "df = pd.read_csv(\"supermarket_sales.csv\")\n",
    "df.info()"
   ],
   "outputs": [
    {
     "name": "stdout",
     "output_type": "stream",
     "text": [
      "<class 'pandas.core.frame.DataFrame'>\n",
      "RangeIndex: 1000 entries, 0 to 999\n",
      "Data columns (total 14 columns):\n",
      " #   Column         Non-Null Count  Dtype  \n",
      "---  ------         --------------  -----  \n",
      " 0   Invoice ID     1000 non-null   object \n",
      " 1   Branch         1000 non-null   object \n",
      " 2   City           1000 non-null   object \n",
      " 3   Customer type  1000 non-null   object \n",
      " 4   Gender         1000 non-null   object \n",
      " 5   Product line   1000 non-null   object \n",
      " 6   Unit price     1000 non-null   float64\n",
      " 7   Quantity       1000 non-null   int64  \n",
      " 8   Tax 5%         1000 non-null   float64\n",
      " 9   Total          1000 non-null   float64\n",
      " 10  Date           1000 non-null   object \n",
      " 11  Time           1000 non-null   object \n",
      " 12  Payment        1000 non-null   object \n",
      " 13  Rating         1000 non-null   float64\n",
      "dtypes: float64(4), int64(1), object(9)\n",
      "memory usage: 109.5+ KB\n"
     ]
    }
   ],
   "execution_count": 28
  },
  {
   "cell_type": "markdown",
   "id": "33f7860c-a2de-43af-94e7-07066d358cfc",
   "metadata": {},
   "source": [
    "#### Question 1: Example"
   ]
  },
  {
   "cell_type": "code",
   "id": "c231798e-848a-4041-82fe-af048c7ab8b0",
   "metadata": {
    "ExecuteTime": {
     "end_time": "2025-04-12T13:23:52.385590Z",
     "start_time": "2025-04-12T13:23:52.383798Z"
    }
   },
   "source": [
    "### how many purchases (rows in the table, not 'Quantity') were done by Male and Female customers?"
   ],
   "outputs": [],
   "execution_count": 29
  },
  {
   "cell_type": "markdown",
   "id": "fb90cda0-7d66-47e4-81bb-e82c5b5a4190",
   "metadata": {},
   "source": [
    "#### Question 1 - solution: Example"
   ]
  },
  {
   "cell_type": "code",
   "id": "353eb1e0-d76b-4233-8529-d624811562c6",
   "metadata": {
    "ExecuteTime": {
     "end_time": "2025-04-12T13:23:52.414893Z",
     "start_time": "2025-04-12T13:23:52.409541Z"
    }
   },
   "source": [
    "m_amount = len(df[df['Gender'] == 'Male'])\n",
    "f_amount = len(df[df['Gender'] == 'Female'])\n",
    "\n",
    "# do not print any intermediate results\n",
    "# print *only your final* result in the form of a data frame (for clarity)\n",
    "\n",
    "result = [('purchases by male', m_amount), ('purchases by female', f_amount)]\n",
    "pd.DataFrame(result)"
   ],
   "outputs": [
    {
     "data": {
      "text/plain": [
       "                     0    1\n",
       "0    purchases by male  498\n",
       "1  purchases by female  502"
      ],
      "text/html": [
       "<div>\n",
       "<style scoped>\n",
       "    .dataframe tbody tr th:only-of-type {\n",
       "        vertical-align: middle;\n",
       "    }\n",
       "\n",
       "    .dataframe tbody tr th {\n",
       "        vertical-align: top;\n",
       "    }\n",
       "\n",
       "    .dataframe thead th {\n",
       "        text-align: right;\n",
       "    }\n",
       "</style>\n",
       "<table border=\"1\" class=\"dataframe\">\n",
       "  <thead>\n",
       "    <tr style=\"text-align: right;\">\n",
       "      <th></th>\n",
       "      <th>0</th>\n",
       "      <th>1</th>\n",
       "    </tr>\n",
       "  </thead>\n",
       "  <tbody>\n",
       "    <tr>\n",
       "      <th>0</th>\n",
       "      <td>purchases by male</td>\n",
       "      <td>498</td>\n",
       "    </tr>\n",
       "    <tr>\n",
       "      <th>1</th>\n",
       "      <td>purchases by female</td>\n",
       "      <td>502</td>\n",
       "    </tr>\n",
       "  </tbody>\n",
       "</table>\n",
       "</div>"
      ]
     },
     "execution_count": 30,
     "metadata": {},
     "output_type": "execute_result"
    }
   ],
   "execution_count": 30
  },
  {
   "cell_type": "markdown",
   "id": "9a8d18f7-4874-4bda-a50c-c9f57127a9ff",
   "metadata": {
    "tags": []
   },
   "source": [
    "#### Question 2"
   ]
  },
  {
   "cell_type": "code",
   "id": "1cac9cff-c6ec-4148-ba62-a2f499fc759e",
   "metadata": {
    "ExecuteTime": {
     "end_time": "2025-04-12T13:23:52.453818Z",
     "start_time": "2025-04-12T13:23:52.451527Z"
    }
   },
   "source": [
    "### what is the average Rating for products in the \"Home and lifestyle\" Product line?"
   ],
   "outputs": [],
   "execution_count": 31
  },
  {
   "cell_type": "markdown",
   "id": "25472e813e9a6a7f",
   "metadata": {},
   "source": [
    "#### Question 2 - solution "
   ]
  },
  {
   "cell_type": "code",
   "id": "a8c42b5d2484a358",
   "metadata": {
    "ExecuteTime": {
     "end_time": "2025-04-12T13:23:52.486840Z",
     "start_time": "2025-04-12T13:23:52.482037Z"
    }
   },
   "source": [
    "condition_q2 = (df['Product line'] == 'Home and lifestyle')\n",
    "df_q2 = df[condition_q2]\n",
    "rating = df_q2['Rating']\n",
    "mean_rating = rating.mean()\n",
    "result_q2 = [('Average Rating for products in \"Home and lifestyle\" Product line', mean_rating)]\n",
    "pd.DataFrame(result_q2)\n"
   ],
   "outputs": [
    {
     "data": {
      "text/plain": [
       "                                                   0       1\n",
       "0  Average Rating for products in \"Home and lifes...  6.8375"
      ],
      "text/html": [
       "<div>\n",
       "<style scoped>\n",
       "    .dataframe tbody tr th:only-of-type {\n",
       "        vertical-align: middle;\n",
       "    }\n",
       "\n",
       "    .dataframe tbody tr th {\n",
       "        vertical-align: top;\n",
       "    }\n",
       "\n",
       "    .dataframe thead th {\n",
       "        text-align: right;\n",
       "    }\n",
       "</style>\n",
       "<table border=\"1\" class=\"dataframe\">\n",
       "  <thead>\n",
       "    <tr style=\"text-align: right;\">\n",
       "      <th></th>\n",
       "      <th>0</th>\n",
       "      <th>1</th>\n",
       "    </tr>\n",
       "  </thead>\n",
       "  <tbody>\n",
       "    <tr>\n",
       "      <th>0</th>\n",
       "      <td>Average Rating for products in \"Home and lifes...</td>\n",
       "      <td>6.8375</td>\n",
       "    </tr>\n",
       "  </tbody>\n",
       "</table>\n",
       "</div>"
      ]
     },
     "execution_count": 32,
     "metadata": {},
     "output_type": "execute_result"
    }
   ],
   "execution_count": 32
  },
  {
   "cell_type": "markdown",
   "id": "cff16f55-72b2-4238-98a0-1ad0187a4de6",
   "metadata": {},
   "source": [
    "#### Question 3"
   ]
  },
  {
   "cell_type": "code",
   "id": "c2d68cfd-8f93-47f6-9e65-ab85a78afd74",
   "metadata": {
    "ExecuteTime": {
     "end_time": "2025-04-12T13:23:52.540004Z",
     "start_time": "2025-04-12T13:23:52.537556Z"
    }
   },
   "source": [
    "### how many products in each Product line were sold during the first week (days 1-7 including) of February 2019?\n",
    "### use the 'Quantity' column for that purpose - the number of products purchased"
   ],
   "outputs": [],
   "execution_count": 33
  },
  {
   "cell_type": "markdown",
   "id": "24938d0fe91c6ff3",
   "metadata": {},
   "source": [
    "#### Question 3 - solution"
   ]
  },
  {
   "cell_type": "code",
   "id": "7974c7b21d8441df",
   "metadata": {
    "ExecuteTime": {
     "end_time": "2025-04-12T13:23:52.603720Z",
     "start_time": "2025-04-12T13:23:52.575790Z"
    }
   },
   "source": [
    "wanted_dates = {\n",
    "    \"02/01/2019\", \"02/02/2019\", \"02/03/2019\",\n",
    "    \"02/04/2019\", \"02/05/2019\", \"02/06/2019\", \"02/07/2019\"\n",
    "}\n",
    "df_in_wanted_dates = df[df['Date'].apply(lambda x: x in wanted_dates)]\n",
    "filtered_product_lines_sales_in_wanted_dates = df_in_wanted_dates.groupby('Product line')[\"Quantity\"].sum().reset_index()\n",
    "all_product_lines = pd.DataFrame(df['Product line'].unique(), columns=['Product line'])\n",
    "all_product_lines_sales_in_wanted_dates = pd.merge(left = all_product_lines, right = filtered_product_lines_sales_in_wanted_dates, on='Product line', how='left')\n",
    "pd.DataFrame(all_product_lines_sales_in_wanted_dates)\n"
   ],
   "outputs": [
    {
     "data": {
      "text/plain": [
       "             Product line  Quantity\n",
       "0  Electronic accessories        92\n",
       "1     Fashion accessories        67\n",
       "2      Food and beverages       132\n",
       "3       Health and beauty        78\n",
       "4      Home and lifestyle        87\n",
       "5       Sports and travel        54"
      ],
      "text/html": [
       "<div>\n",
       "<style scoped>\n",
       "    .dataframe tbody tr th:only-of-type {\n",
       "        vertical-align: middle;\n",
       "    }\n",
       "\n",
       "    .dataframe tbody tr th {\n",
       "        vertical-align: top;\n",
       "    }\n",
       "\n",
       "    .dataframe thead th {\n",
       "        text-align: right;\n",
       "    }\n",
       "</style>\n",
       "<table border=\"1\" class=\"dataframe\">\n",
       "  <thead>\n",
       "    <tr style=\"text-align: right;\">\n",
       "      <th></th>\n",
       "      <th>Product line</th>\n",
       "      <th>Quantity</th>\n",
       "    </tr>\n",
       "  </thead>\n",
       "  <tbody>\n",
       "    <tr>\n",
       "      <th>0</th>\n",
       "      <td>Electronic accessories</td>\n",
       "      <td>92</td>\n",
       "    </tr>\n",
       "    <tr>\n",
       "      <th>1</th>\n",
       "      <td>Fashion accessories</td>\n",
       "      <td>67</td>\n",
       "    </tr>\n",
       "    <tr>\n",
       "      <th>2</th>\n",
       "      <td>Food and beverages</td>\n",
       "      <td>132</td>\n",
       "    </tr>\n",
       "    <tr>\n",
       "      <th>3</th>\n",
       "      <td>Health and beauty</td>\n",
       "      <td>78</td>\n",
       "    </tr>\n",
       "    <tr>\n",
       "      <th>4</th>\n",
       "      <td>Home and lifestyle</td>\n",
       "      <td>87</td>\n",
       "    </tr>\n",
       "    <tr>\n",
       "      <th>5</th>\n",
       "      <td>Sports and travel</td>\n",
       "      <td>54</td>\n",
       "    </tr>\n",
       "  </tbody>\n",
       "</table>\n",
       "</div>"
      ]
     },
     "execution_count": 34,
     "metadata": {},
     "output_type": "execute_result"
    }
   ],
   "execution_count": 34
  },
  {
   "cell_type": "markdown",
   "id": "8915f616-6c9b-4ff3-a222-b742ce3903f6",
   "metadata": {},
   "source": [
    "#### Question 4"
   ]
  },
  {
   "cell_type": "markdown",
   "id": "bbaf1c9bfb4e5677",
   "metadata": {},
   "source": []
  },
  {
   "cell_type": "code",
   "id": "fbc6e819048fd1fb",
   "metadata": {
    "ExecuteTime": {
     "end_time": "2025-04-12T13:23:52.676280Z",
     "start_time": "2025-04-12T13:23:52.674443Z"
    }
   },
   "source": [
    "### plot a bar chart showing the number of products per category computed in the previous question"
   ],
   "outputs": [],
   "execution_count": 35
  },
  {
   "cell_type": "markdown",
   "id": "3efa7b695ac7c82d",
   "metadata": {},
   "source": [
    "#### Question 4 - solution\n"
   ]
  },
  {
   "cell_type": "code",
   "id": "b1350abec8ef8895",
   "metadata": {
    "ExecuteTime": {
     "end_time": "2025-04-12T13:23:52.802946Z",
     "start_time": "2025-04-12T13:23:52.718960Z"
    }
   },
   "source": [
    "plot_q4 = pd.DataFrame(all_product_lines_sales_in_wanted_dates)\n",
    "plot_q4.plot(kind='bar', x='Product line', y='Quantity',legend=False,color='skyblue')\n",
    "plt.xticks(rotation=45, ha='right')\n",
    "plt.title('Number of Products Sold per Category')\n",
    "plt.ylabel(\"Quantity sold\")\n",
    "plt.show()"
   ],
   "outputs": [
    {
     "data": {
      "text/plain": [
       "<Figure size 800x400 with 1 Axes>"
      ],
      "image/svg+xml": "<?xml version=\"1.0\" encoding=\"utf-8\" standalone=\"no\"?>\n<!DOCTYPE svg PUBLIC \"-//W3C//DTD SVG 1.1//EN\"\n  \"http://www.w3.org/Graphics/SVG/1.1/DTD/svg11.dtd\">\n<svg xmlns:xlink=\"http://www.w3.org/1999/xlink\" width=\"508.089206pt\" height=\"359.859206pt\" viewBox=\"0 0 508.089206 359.859206\" xmlns=\"http://www.w3.org/2000/svg\" version=\"1.1\">\n <metadata>\n  <rdf:RDF xmlns:dc=\"http://purl.org/dc/elements/1.1/\" xmlns:cc=\"http://creativecommons.org/ns#\" xmlns:rdf=\"http://www.w3.org/1999/02/22-rdf-syntax-ns#\">\n   <cc:Work>\n    <dc:type rdf:resource=\"http://purl.org/dc/dcmitype/StillImage\"/>\n    <dc:date>2025-04-12T16:23:52.784131</dc:date>\n    <dc:format>image/svg+xml</dc:format>\n    <dc:creator>\n     <cc:Agent>\n      <dc:title>Matplotlib v3.10.1, https://matplotlib.org/</dc:title>\n     </cc:Agent>\n    </dc:creator>\n   </cc:Work>\n  </rdf:RDF>\n </metadata>\n <defs>\n  <style type=\"text/css\">*{stroke-linejoin: round; stroke-linecap: butt}</style>\n </defs>\n <g id=\"figure_1\">\n  <g id=\"patch_1\">\n   <path d=\"M 0 359.859206 \nL 508.089206 359.859206 \nL 508.089206 0 \nL 0 0 \nz\n\" style=\"fill: #ffffff\"/>\n  </g>\n  <g id=\"axes_1\">\n   <g id=\"patch_2\">\n    <path d=\"M 54.489206 243.695625 \nL 500.889206 243.695625 \nL 500.889206 21.935625 \nL 54.489206 21.935625 \nz\n\" style=\"fill: #eaeaf2\"/>\n   </g>\n   <g id=\"matplotlib.axis_1\">\n    <g id=\"xtick_1\">\n     <g id=\"line2d_1\">\n      <path d=\"M 91.689206 243.695625 \nL 91.689206 21.935625 \n\" clip-path=\"url(#p126e168951)\" style=\"fill: none; stroke: #ffffff; stroke-linecap: round\"/>\n     </g>\n     <g id=\"text_1\">\n      <!-- Electronic accessories -->\n      <g style=\"fill: #262626\" transform=\"translate(12.767472 336.138919) rotate(-45) scale(0.11 -0.11)\">\n       <defs>\n        <path id=\"ArialMT-45\" d=\"M 506 0 \nL 506 4581 \nL 3819 4581 \nL 3819 4041 \nL 1113 4041 \nL 1113 2638 \nL 3647 2638 \nL 3647 2100 \nL 1113 2100 \nL 1113 541 \nL 3925 541 \nL 3925 0 \nL 506 0 \nz\n\" transform=\"scale(0.015625)\"/>\n        <path id=\"ArialMT-6c\" d=\"M 409 0 \nL 409 4581 \nL 972 4581 \nL 972 0 \nL 409 0 \nz\n\" transform=\"scale(0.015625)\"/>\n        <path id=\"ArialMT-65\" d=\"M 2694 1069 \nL 3275 997 \nQ 3138 488 2766 206 \nQ 2394 -75 1816 -75 \nQ 1088 -75 661 373 \nQ 234 822 234 1631 \nQ 234 2469 665 2931 \nQ 1097 3394 1784 3394 \nQ 2450 3394 2872 2941 \nQ 3294 2488 3294 1666 \nQ 3294 1616 3291 1516 \nL 816 1516 \nQ 847 969 1125 678 \nQ 1403 388 1819 388 \nQ 2128 388 2347 550 \nQ 2566 713 2694 1069 \nz\nM 847 1978 \nL 2700 1978 \nQ 2663 2397 2488 2606 \nQ 2219 2931 1791 2931 \nQ 1403 2931 1139 2672 \nQ 875 2413 847 1978 \nz\n\" transform=\"scale(0.015625)\"/>\n        <path id=\"ArialMT-63\" d=\"M 2588 1216 \nL 3141 1144 \nQ 3050 572 2676 248 \nQ 2303 -75 1759 -75 \nQ 1078 -75 664 370 \nQ 250 816 250 1647 \nQ 250 2184 428 2587 \nQ 606 2991 970 3192 \nQ 1334 3394 1763 3394 \nQ 2303 3394 2647 3120 \nQ 2991 2847 3088 2344 \nL 2541 2259 \nQ 2463 2594 2264 2762 \nQ 2066 2931 1784 2931 \nQ 1359 2931 1093 2626 \nQ 828 2322 828 1663 \nQ 828 994 1084 691 \nQ 1341 388 1753 388 \nQ 2084 388 2306 591 \nQ 2528 794 2588 1216 \nz\n\" transform=\"scale(0.015625)\"/>\n        <path id=\"ArialMT-74\" d=\"M 1650 503 \nL 1731 6 \nQ 1494 -44 1306 -44 \nQ 1000 -44 831 53 \nQ 663 150 594 308 \nQ 525 466 525 972 \nL 525 2881 \nL 113 2881 \nL 113 3319 \nL 525 3319 \nL 525 4141 \nL 1084 4478 \nL 1084 3319 \nL 1650 3319 \nL 1650 2881 \nL 1084 2881 \nL 1084 941 \nQ 1084 700 1114 631 \nQ 1144 563 1211 522 \nQ 1278 481 1403 481 \nQ 1497 481 1650 503 \nz\n\" transform=\"scale(0.015625)\"/>\n        <path id=\"ArialMT-72\" d=\"M 416 0 \nL 416 3319 \nL 922 3319 \nL 922 2816 \nQ 1116 3169 1280 3281 \nQ 1444 3394 1641 3394 \nQ 1925 3394 2219 3213 \nL 2025 2691 \nQ 1819 2813 1613 2813 \nQ 1428 2813 1281 2702 \nQ 1134 2591 1072 2394 \nQ 978 2094 978 1738 \nL 978 0 \nL 416 0 \nz\n\" transform=\"scale(0.015625)\"/>\n        <path id=\"ArialMT-6f\" d=\"M 213 1659 \nQ 213 2581 725 3025 \nQ 1153 3394 1769 3394 \nQ 2453 3394 2887 2945 \nQ 3322 2497 3322 1706 \nQ 3322 1066 3130 698 \nQ 2938 331 2570 128 \nQ 2203 -75 1769 -75 \nQ 1072 -75 642 372 \nQ 213 819 213 1659 \nz\nM 791 1659 \nQ 791 1022 1069 705 \nQ 1347 388 1769 388 \nQ 2188 388 2466 706 \nQ 2744 1025 2744 1678 \nQ 2744 2294 2464 2611 \nQ 2184 2928 1769 2928 \nQ 1347 2928 1069 2612 \nQ 791 2297 791 1659 \nz\n\" transform=\"scale(0.015625)\"/>\n        <path id=\"ArialMT-6e\" d=\"M 422 0 \nL 422 3319 \nL 928 3319 \nL 928 2847 \nQ 1294 3394 1984 3394 \nQ 2284 3394 2536 3286 \nQ 2788 3178 2913 3003 \nQ 3038 2828 3088 2588 \nQ 3119 2431 3119 2041 \nL 3119 0 \nL 2556 0 \nL 2556 2019 \nQ 2556 2363 2490 2533 \nQ 2425 2703 2258 2804 \nQ 2091 2906 1866 2906 \nQ 1506 2906 1245 2678 \nQ 984 2450 984 1813 \nL 984 0 \nL 422 0 \nz\n\" transform=\"scale(0.015625)\"/>\n        <path id=\"ArialMT-69\" d=\"M 425 3934 \nL 425 4581 \nL 988 4581 \nL 988 3934 \nL 425 3934 \nz\nM 425 0 \nL 425 3319 \nL 988 3319 \nL 988 0 \nL 425 0 \nz\n\" transform=\"scale(0.015625)\"/>\n        <path id=\"ArialMT-20\" transform=\"scale(0.015625)\"/>\n        <path id=\"ArialMT-61\" d=\"M 2588 409 \nQ 2275 144 1986 34 \nQ 1697 -75 1366 -75 \nQ 819 -75 525 192 \nQ 231 459 231 875 \nQ 231 1119 342 1320 \nQ 453 1522 633 1644 \nQ 813 1766 1038 1828 \nQ 1203 1872 1538 1913 \nQ 2219 1994 2541 2106 \nQ 2544 2222 2544 2253 \nQ 2544 2597 2384 2738 \nQ 2169 2928 1744 2928 \nQ 1347 2928 1158 2789 \nQ 969 2650 878 2297 \nL 328 2372 \nQ 403 2725 575 2942 \nQ 747 3159 1072 3276 \nQ 1397 3394 1825 3394 \nQ 2250 3394 2515 3294 \nQ 2781 3194 2906 3042 \nQ 3031 2891 3081 2659 \nQ 3109 2516 3109 2141 \nL 3109 1391 \nQ 3109 606 3145 398 \nQ 3181 191 3288 0 \nL 2700 0 \nQ 2613 175 2588 409 \nz\nM 2541 1666 \nQ 2234 1541 1622 1453 \nQ 1275 1403 1131 1340 \nQ 988 1278 909 1158 \nQ 831 1038 831 891 \nQ 831 666 1001 516 \nQ 1172 366 1500 366 \nQ 1825 366 2078 508 \nQ 2331 650 2450 897 \nQ 2541 1088 2541 1459 \nL 2541 1666 \nz\n\" transform=\"scale(0.015625)\"/>\n        <path id=\"ArialMT-73\" d=\"M 197 991 \nL 753 1078 \nQ 800 744 1014 566 \nQ 1228 388 1613 388 \nQ 2000 388 2187 545 \nQ 2375 703 2375 916 \nQ 2375 1106 2209 1216 \nQ 2094 1291 1634 1406 \nQ 1016 1563 777 1677 \nQ 538 1791 414 1992 \nQ 291 2194 291 2438 \nQ 291 2659 392 2848 \nQ 494 3038 669 3163 \nQ 800 3259 1026 3326 \nQ 1253 3394 1513 3394 \nQ 1903 3394 2198 3281 \nQ 2494 3169 2634 2976 \nQ 2775 2784 2828 2463 \nL 2278 2388 \nQ 2241 2644 2061 2787 \nQ 1881 2931 1553 2931 \nQ 1166 2931 1000 2803 \nQ 834 2675 834 2503 \nQ 834 2394 903 2306 \nQ 972 2216 1119 2156 \nQ 1203 2125 1616 2013 \nQ 2213 1853 2448 1751 \nQ 2684 1650 2818 1456 \nQ 2953 1263 2953 975 \nQ 2953 694 2789 445 \nQ 2625 197 2315 61 \nQ 2006 -75 1616 -75 \nQ 969 -75 630 194 \nQ 291 463 197 991 \nz\n\" transform=\"scale(0.015625)\"/>\n       </defs>\n       <use xlink:href=\"#ArialMT-45\"/>\n       <use xlink:href=\"#ArialMT-6c\" transform=\"translate(66.699219 0)\"/>\n       <use xlink:href=\"#ArialMT-65\" transform=\"translate(88.916016 0)\"/>\n       <use xlink:href=\"#ArialMT-63\" transform=\"translate(144.53125 0)\"/>\n       <use xlink:href=\"#ArialMT-74\" transform=\"translate(194.53125 0)\"/>\n       <use xlink:href=\"#ArialMT-72\" transform=\"translate(222.314453 0)\"/>\n       <use xlink:href=\"#ArialMT-6f\" transform=\"translate(255.615234 0)\"/>\n       <use xlink:href=\"#ArialMT-6e\" transform=\"translate(311.230469 0)\"/>\n       <use xlink:href=\"#ArialMT-69\" transform=\"translate(366.845703 0)\"/>\n       <use xlink:href=\"#ArialMT-63\" transform=\"translate(389.0625 0)\"/>\n       <use xlink:href=\"#ArialMT-20\" transform=\"translate(439.0625 0)\"/>\n       <use xlink:href=\"#ArialMT-61\" transform=\"translate(466.845703 0)\"/>\n       <use xlink:href=\"#ArialMT-63\" transform=\"translate(522.460938 0)\"/>\n       <use xlink:href=\"#ArialMT-63\" transform=\"translate(572.460938 0)\"/>\n       <use xlink:href=\"#ArialMT-65\" transform=\"translate(622.460938 0)\"/>\n       <use xlink:href=\"#ArialMT-73\" transform=\"translate(678.076172 0)\"/>\n       <use xlink:href=\"#ArialMT-73\" transform=\"translate(728.076172 0)\"/>\n       <use xlink:href=\"#ArialMT-6f\" transform=\"translate(778.076172 0)\"/>\n       <use xlink:href=\"#ArialMT-72\" transform=\"translate(833.691406 0)\"/>\n       <use xlink:href=\"#ArialMT-69\" transform=\"translate(866.992188 0)\"/>\n       <use xlink:href=\"#ArialMT-65\" transform=\"translate(889.208984 0)\"/>\n       <use xlink:href=\"#ArialMT-73\" transform=\"translate(944.824219 0)\"/>\n      </g>\n     </g>\n    </g>\n    <g id=\"xtick_2\">\n     <g id=\"line2d_2\">\n      <path d=\"M 166.089206 243.695625 \nL 166.089206 21.935625 \n\" clip-path=\"url(#p126e168951)\" style=\"fill: none; stroke: #ffffff; stroke-linecap: round\"/>\n     </g>\n     <g id=\"text_2\">\n      <!-- Fashion accessories -->\n      <g style=\"fill: #262626\" transform=\"translate(93.647663 329.658727) rotate(-45) scale(0.11 -0.11)\">\n       <defs>\n        <path id=\"ArialMT-46\" d=\"M 525 0 \nL 525 4581 \nL 3616 4581 \nL 3616 4041 \nL 1131 4041 \nL 1131 2622 \nL 3281 2622 \nL 3281 2081 \nL 1131 2081 \nL 1131 0 \nL 525 0 \nz\n\" transform=\"scale(0.015625)\"/>\n        <path id=\"ArialMT-68\" d=\"M 422 0 \nL 422 4581 \nL 984 4581 \nL 984 2938 \nQ 1378 3394 1978 3394 \nQ 2347 3394 2619 3248 \nQ 2891 3103 3008 2847 \nQ 3125 2591 3125 2103 \nL 3125 0 \nL 2563 0 \nL 2563 2103 \nQ 2563 2525 2380 2717 \nQ 2197 2909 1863 2909 \nQ 1613 2909 1392 2779 \nQ 1172 2650 1078 2428 \nQ 984 2206 984 1816 \nL 984 0 \nL 422 0 \nz\n\" transform=\"scale(0.015625)\"/>\n       </defs>\n       <use xlink:href=\"#ArialMT-46\"/>\n       <use xlink:href=\"#ArialMT-61\" transform=\"translate(61.083984 0)\"/>\n       <use xlink:href=\"#ArialMT-73\" transform=\"translate(116.699219 0)\"/>\n       <use xlink:href=\"#ArialMT-68\" transform=\"translate(166.699219 0)\"/>\n       <use xlink:href=\"#ArialMT-69\" transform=\"translate(222.314453 0)\"/>\n       <use xlink:href=\"#ArialMT-6f\" transform=\"translate(244.53125 0)\"/>\n       <use xlink:href=\"#ArialMT-6e\" transform=\"translate(300.146484 0)\"/>\n       <use xlink:href=\"#ArialMT-20\" transform=\"translate(355.761719 0)\"/>\n       <use xlink:href=\"#ArialMT-61\" transform=\"translate(383.544922 0)\"/>\n       <use xlink:href=\"#ArialMT-63\" transform=\"translate(439.160156 0)\"/>\n       <use xlink:href=\"#ArialMT-63\" transform=\"translate(489.160156 0)\"/>\n       <use xlink:href=\"#ArialMT-65\" transform=\"translate(539.160156 0)\"/>\n       <use xlink:href=\"#ArialMT-73\" transform=\"translate(594.775391 0)\"/>\n       <use xlink:href=\"#ArialMT-73\" transform=\"translate(644.775391 0)\"/>\n       <use xlink:href=\"#ArialMT-6f\" transform=\"translate(694.775391 0)\"/>\n       <use xlink:href=\"#ArialMT-72\" transform=\"translate(750.390625 0)\"/>\n       <use xlink:href=\"#ArialMT-69\" transform=\"translate(783.691406 0)\"/>\n       <use xlink:href=\"#ArialMT-65\" transform=\"translate(805.908203 0)\"/>\n       <use xlink:href=\"#ArialMT-73\" transform=\"translate(861.523438 0)\"/>\n      </g>\n     </g>\n    </g>\n    <g id=\"xtick_3\">\n     <g id=\"line2d_3\">\n      <path d=\"M 240.489206 243.695625 \nL 240.489206 21.935625 \n\" clip-path=\"url(#p126e168951)\" style=\"fill: none; stroke: #ffffff; stroke-linecap: round\"/>\n     </g>\n     <g id=\"text_3\">\n      <!-- Food and beverages -->\n      <g style=\"fill: #262626\" transform=\"translate(167.506837 330.108403) rotate(-45) scale(0.11 -0.11)\">\n       <defs>\n        <path id=\"ArialMT-64\" d=\"M 2575 0 \nL 2575 419 \nQ 2259 -75 1647 -75 \nQ 1250 -75 917 144 \nQ 584 363 401 755 \nQ 219 1147 219 1656 \nQ 219 2153 384 2558 \nQ 550 2963 881 3178 \nQ 1213 3394 1622 3394 \nQ 1922 3394 2156 3267 \nQ 2391 3141 2538 2938 \nL 2538 4581 \nL 3097 4581 \nL 3097 0 \nL 2575 0 \nz\nM 797 1656 \nQ 797 1019 1065 703 \nQ 1334 388 1700 388 \nQ 2069 388 2326 689 \nQ 2584 991 2584 1609 \nQ 2584 2291 2321 2609 \nQ 2059 2928 1675 2928 \nQ 1300 2928 1048 2622 \nQ 797 2316 797 1656 \nz\n\" transform=\"scale(0.015625)\"/>\n        <path id=\"ArialMT-62\" d=\"M 941 0 \nL 419 0 \nL 419 4581 \nL 981 4581 \nL 981 2947 \nQ 1338 3394 1891 3394 \nQ 2197 3394 2470 3270 \nQ 2744 3147 2920 2923 \nQ 3097 2700 3197 2384 \nQ 3297 2069 3297 1709 \nQ 3297 856 2875 390 \nQ 2453 -75 1863 -75 \nQ 1275 -75 941 416 \nL 941 0 \nz\nM 934 1684 \nQ 934 1088 1097 822 \nQ 1363 388 1816 388 \nQ 2184 388 2453 708 \nQ 2722 1028 2722 1663 \nQ 2722 2313 2464 2622 \nQ 2206 2931 1841 2931 \nQ 1472 2931 1203 2611 \nQ 934 2291 934 1684 \nz\n\" transform=\"scale(0.015625)\"/>\n        <path id=\"ArialMT-76\" d=\"M 1344 0 \nL 81 3319 \nL 675 3319 \nL 1388 1331 \nQ 1503 1009 1600 663 \nQ 1675 925 1809 1294 \nL 2547 3319 \nL 3125 3319 \nL 1869 0 \nL 1344 0 \nz\n\" transform=\"scale(0.015625)\"/>\n        <path id=\"ArialMT-67\" d=\"M 319 -275 \nL 866 -356 \nQ 900 -609 1056 -725 \nQ 1266 -881 1628 -881 \nQ 2019 -881 2231 -725 \nQ 2444 -569 2519 -288 \nQ 2563 -116 2559 434 \nQ 2191 0 1641 0 \nQ 956 0 581 494 \nQ 206 988 206 1678 \nQ 206 2153 378 2554 \nQ 550 2956 876 3175 \nQ 1203 3394 1644 3394 \nQ 2231 3394 2613 2919 \nL 2613 3319 \nL 3131 3319 \nL 3131 450 \nQ 3131 -325 2973 -648 \nQ 2816 -972 2473 -1159 \nQ 2131 -1347 1631 -1347 \nQ 1038 -1347 672 -1080 \nQ 306 -813 319 -275 \nz\nM 784 1719 \nQ 784 1066 1043 766 \nQ 1303 466 1694 466 \nQ 2081 466 2343 764 \nQ 2606 1063 2606 1700 \nQ 2606 2309 2336 2618 \nQ 2066 2928 1684 2928 \nQ 1309 2928 1046 2623 \nQ 784 2319 784 1719 \nz\n\" transform=\"scale(0.015625)\"/>\n       </defs>\n       <use xlink:href=\"#ArialMT-46\"/>\n       <use xlink:href=\"#ArialMT-6f\" transform=\"translate(61.083984 0)\"/>\n       <use xlink:href=\"#ArialMT-6f\" transform=\"translate(116.699219 0)\"/>\n       <use xlink:href=\"#ArialMT-64\" transform=\"translate(172.314453 0)\"/>\n       <use xlink:href=\"#ArialMT-20\" transform=\"translate(227.929688 0)\"/>\n       <use xlink:href=\"#ArialMT-61\" transform=\"translate(255.712891 0)\"/>\n       <use xlink:href=\"#ArialMT-6e\" transform=\"translate(311.328125 0)\"/>\n       <use xlink:href=\"#ArialMT-64\" transform=\"translate(366.943359 0)\"/>\n       <use xlink:href=\"#ArialMT-20\" transform=\"translate(422.558594 0)\"/>\n       <use xlink:href=\"#ArialMT-62\" transform=\"translate(450.341797 0)\"/>\n       <use xlink:href=\"#ArialMT-65\" transform=\"translate(505.957031 0)\"/>\n       <use xlink:href=\"#ArialMT-76\" transform=\"translate(561.572266 0)\"/>\n       <use xlink:href=\"#ArialMT-65\" transform=\"translate(611.572266 0)\"/>\n       <use xlink:href=\"#ArialMT-72\" transform=\"translate(667.1875 0)\"/>\n       <use xlink:href=\"#ArialMT-61\" transform=\"translate(700.488281 0)\"/>\n       <use xlink:href=\"#ArialMT-67\" transform=\"translate(756.103516 0)\"/>\n       <use xlink:href=\"#ArialMT-65\" transform=\"translate(811.71875 0)\"/>\n       <use xlink:href=\"#ArialMT-73\" transform=\"translate(867.333984 0)\"/>\n      </g>\n     </g>\n    </g>\n    <g id=\"xtick_4\">\n     <g id=\"line2d_4\">\n      <path d=\"M 314.889206 243.695625 \nL 314.889206 21.935625 \n\" clip-path=\"url(#p126e168951)\" style=\"fill: none; stroke: #ffffff; stroke-linecap: round\"/>\n     </g>\n     <g id=\"text_4\">\n      <!-- Health and beauty -->\n      <g style=\"fill: #262626\" transform=\"translate(250.120103 321.895137) rotate(-45) scale(0.11 -0.11)\">\n       <defs>\n        <path id=\"ArialMT-48\" d=\"M 513 0 \nL 513 4581 \nL 1119 4581 \nL 1119 2700 \nL 3500 2700 \nL 3500 4581 \nL 4106 4581 \nL 4106 0 \nL 3500 0 \nL 3500 2159 \nL 1119 2159 \nL 1119 0 \nL 513 0 \nz\n\" transform=\"scale(0.015625)\"/>\n        <path id=\"ArialMT-75\" d=\"M 2597 0 \nL 2597 488 \nQ 2209 -75 1544 -75 \nQ 1250 -75 995 37 \nQ 741 150 617 320 \nQ 494 491 444 738 \nQ 409 903 409 1263 \nL 409 3319 \nL 972 3319 \nL 972 1478 \nQ 972 1038 1006 884 \nQ 1059 663 1231 536 \nQ 1403 409 1656 409 \nQ 1909 409 2131 539 \nQ 2353 669 2445 892 \nQ 2538 1116 2538 1541 \nL 2538 3319 \nL 3100 3319 \nL 3100 0 \nL 2597 0 \nz\n\" transform=\"scale(0.015625)\"/>\n        <path id=\"ArialMT-79\" d=\"M 397 -1278 \nL 334 -750 \nQ 519 -800 656 -800 \nQ 844 -800 956 -737 \nQ 1069 -675 1141 -563 \nQ 1194 -478 1313 -144 \nQ 1328 -97 1363 -6 \nL 103 3319 \nL 709 3319 \nL 1400 1397 \nQ 1534 1031 1641 628 \nQ 1738 1016 1872 1384 \nL 2581 3319 \nL 3144 3319 \nL 1881 -56 \nQ 1678 -603 1566 -809 \nQ 1416 -1088 1222 -1217 \nQ 1028 -1347 759 -1347 \nQ 597 -1347 397 -1278 \nz\n\" transform=\"scale(0.015625)\"/>\n       </defs>\n       <use xlink:href=\"#ArialMT-48\"/>\n       <use xlink:href=\"#ArialMT-65\" transform=\"translate(72.216797 0)\"/>\n       <use xlink:href=\"#ArialMT-61\" transform=\"translate(127.832031 0)\"/>\n       <use xlink:href=\"#ArialMT-6c\" transform=\"translate(183.447266 0)\"/>\n       <use xlink:href=\"#ArialMT-74\" transform=\"translate(205.664062 0)\"/>\n       <use xlink:href=\"#ArialMT-68\" transform=\"translate(233.447266 0)\"/>\n       <use xlink:href=\"#ArialMT-20\" transform=\"translate(289.0625 0)\"/>\n       <use xlink:href=\"#ArialMT-61\" transform=\"translate(316.845703 0)\"/>\n       <use xlink:href=\"#ArialMT-6e\" transform=\"translate(372.460938 0)\"/>\n       <use xlink:href=\"#ArialMT-64\" transform=\"translate(428.076172 0)\"/>\n       <use xlink:href=\"#ArialMT-20\" transform=\"translate(483.691406 0)\"/>\n       <use xlink:href=\"#ArialMT-62\" transform=\"translate(511.474609 0)\"/>\n       <use xlink:href=\"#ArialMT-65\" transform=\"translate(567.089844 0)\"/>\n       <use xlink:href=\"#ArialMT-61\" transform=\"translate(622.705078 0)\"/>\n       <use xlink:href=\"#ArialMT-75\" transform=\"translate(678.320312 0)\"/>\n       <use xlink:href=\"#ArialMT-74\" transform=\"translate(733.935547 0)\"/>\n       <use xlink:href=\"#ArialMT-79\" transform=\"translate(761.71875 0)\"/>\n      </g>\n     </g>\n    </g>\n    <g id=\"xtick_5\">\n     <g id=\"line2d_5\">\n      <path d=\"M 389.289206 243.695625 \nL 389.289206 21.935625 \n\" clip-path=\"url(#p126e168951)\" style=\"fill: none; stroke: #ffffff; stroke-linecap: round\"/>\n     </g>\n     <g id=\"text_5\">\n      <!-- Home and lifestyle -->\n      <g style=\"fill: #262626\" transform=\"translate(323.671796 322.83824) rotate(-45) scale(0.11 -0.11)\">\n       <defs>\n        <path id=\"ArialMT-6d\" d=\"M 422 0 \nL 422 3319 \nL 925 3319 \nL 925 2853 \nQ 1081 3097 1340 3245 \nQ 1600 3394 1931 3394 \nQ 2300 3394 2536 3241 \nQ 2772 3088 2869 2813 \nQ 3263 3394 3894 3394 \nQ 4388 3394 4653 3120 \nQ 4919 2847 4919 2278 \nL 4919 0 \nL 4359 0 \nL 4359 2091 \nQ 4359 2428 4304 2576 \nQ 4250 2725 4106 2815 \nQ 3963 2906 3769 2906 \nQ 3419 2906 3187 2673 \nQ 2956 2441 2956 1928 \nL 2956 0 \nL 2394 0 \nL 2394 2156 \nQ 2394 2531 2256 2718 \nQ 2119 2906 1806 2906 \nQ 1569 2906 1367 2781 \nQ 1166 2656 1075 2415 \nQ 984 2175 984 1722 \nL 984 0 \nL 422 0 \nz\n\" transform=\"scale(0.015625)\"/>\n        <path id=\"ArialMT-66\" d=\"M 556 0 \nL 556 2881 \nL 59 2881 \nL 59 3319 \nL 556 3319 \nL 556 3672 \nQ 556 4006 616 4169 \nQ 697 4388 901 4523 \nQ 1106 4659 1475 4659 \nQ 1713 4659 2000 4603 \nL 1916 4113 \nQ 1741 4144 1584 4144 \nQ 1328 4144 1222 4034 \nQ 1116 3925 1116 3625 \nL 1116 3319 \nL 1763 3319 \nL 1763 2881 \nL 1116 2881 \nL 1116 0 \nL 556 0 \nz\n\" transform=\"scale(0.015625)\"/>\n       </defs>\n       <use xlink:href=\"#ArialMT-48\"/>\n       <use xlink:href=\"#ArialMT-6f\" transform=\"translate(72.216797 0)\"/>\n       <use xlink:href=\"#ArialMT-6d\" transform=\"translate(127.832031 0)\"/>\n       <use xlink:href=\"#ArialMT-65\" transform=\"translate(211.132812 0)\"/>\n       <use xlink:href=\"#ArialMT-20\" transform=\"translate(266.748047 0)\"/>\n       <use xlink:href=\"#ArialMT-61\" transform=\"translate(294.53125 0)\"/>\n       <use xlink:href=\"#ArialMT-6e\" transform=\"translate(350.146484 0)\"/>\n       <use xlink:href=\"#ArialMT-64\" transform=\"translate(405.761719 0)\"/>\n       <use xlink:href=\"#ArialMT-20\" transform=\"translate(461.376953 0)\"/>\n       <use xlink:href=\"#ArialMT-6c\" transform=\"translate(489.160156 0)\"/>\n       <use xlink:href=\"#ArialMT-69\" transform=\"translate(511.376953 0)\"/>\n       <use xlink:href=\"#ArialMT-66\" transform=\"translate(533.59375 0)\"/>\n       <use xlink:href=\"#ArialMT-65\" transform=\"translate(561.376953 0)\"/>\n       <use xlink:href=\"#ArialMT-73\" transform=\"translate(616.992188 0)\"/>\n       <use xlink:href=\"#ArialMT-74\" transform=\"translate(666.992188 0)\"/>\n       <use xlink:href=\"#ArialMT-79\" transform=\"translate(694.775391 0)\"/>\n       <use xlink:href=\"#ArialMT-6c\" transform=\"translate(744.775391 0)\"/>\n       <use xlink:href=\"#ArialMT-65\" transform=\"translate(766.992188 0)\"/>\n      </g>\n     </g>\n    </g>\n    <g id=\"xtick_6\">\n     <g id=\"line2d_6\">\n      <path d=\"M 463.689206 243.695625 \nL 463.689206 21.935625 \n\" clip-path=\"url(#p126e168951)\" style=\"fill: none; stroke: #ffffff; stroke-linecap: round\"/>\n     </g>\n     <g id=\"text_6\">\n      <!-- Sports and travel -->\n      <g style=\"fill: #262626\" transform=\"translate(403.347586 317.653601) rotate(-45) scale(0.11 -0.11)\">\n       <defs>\n        <path id=\"ArialMT-53\" d=\"M 288 1472 \nL 859 1522 \nQ 900 1178 1048 958 \nQ 1197 738 1509 602 \nQ 1822 466 2213 466 \nQ 2559 466 2825 569 \nQ 3091 672 3220 851 \nQ 3350 1031 3350 1244 \nQ 3350 1459 3225 1620 \nQ 3100 1781 2813 1891 \nQ 2628 1963 1997 2114 \nQ 1366 2266 1113 2400 \nQ 784 2572 623 2826 \nQ 463 3081 463 3397 \nQ 463 3744 659 4045 \nQ 856 4347 1234 4503 \nQ 1613 4659 2075 4659 \nQ 2584 4659 2973 4495 \nQ 3363 4331 3572 4012 \nQ 3781 3694 3797 3291 \nL 3216 3247 \nQ 3169 3681 2898 3903 \nQ 2628 4125 2100 4125 \nQ 1550 4125 1298 3923 \nQ 1047 3722 1047 3438 \nQ 1047 3191 1225 3031 \nQ 1400 2872 2139 2705 \nQ 2878 2538 3153 2413 \nQ 3553 2228 3743 1945 \nQ 3934 1663 3934 1294 \nQ 3934 928 3725 604 \nQ 3516 281 3123 101 \nQ 2731 -78 2241 -78 \nQ 1619 -78 1198 103 \nQ 778 284 539 648 \nQ 300 1013 288 1472 \nz\n\" transform=\"scale(0.015625)\"/>\n        <path id=\"ArialMT-70\" d=\"M 422 -1272 \nL 422 3319 \nL 934 3319 \nL 934 2888 \nQ 1116 3141 1344 3267 \nQ 1572 3394 1897 3394 \nQ 2322 3394 2647 3175 \nQ 2972 2956 3137 2557 \nQ 3303 2159 3303 1684 \nQ 3303 1175 3120 767 \nQ 2938 359 2589 142 \nQ 2241 -75 1856 -75 \nQ 1575 -75 1351 44 \nQ 1128 163 984 344 \nL 984 -1272 \nL 422 -1272 \nz\nM 931 1641 \nQ 931 1000 1190 694 \nQ 1450 388 1819 388 \nQ 2194 388 2461 705 \nQ 2728 1022 2728 1688 \nQ 2728 2322 2467 2637 \nQ 2206 2953 1844 2953 \nQ 1484 2953 1207 2617 \nQ 931 2281 931 1641 \nz\n\" transform=\"scale(0.015625)\"/>\n       </defs>\n       <use xlink:href=\"#ArialMT-53\"/>\n       <use xlink:href=\"#ArialMT-70\" transform=\"translate(66.699219 0)\"/>\n       <use xlink:href=\"#ArialMT-6f\" transform=\"translate(122.314453 0)\"/>\n       <use xlink:href=\"#ArialMT-72\" transform=\"translate(177.929688 0)\"/>\n       <use xlink:href=\"#ArialMT-74\" transform=\"translate(211.230469 0)\"/>\n       <use xlink:href=\"#ArialMT-73\" transform=\"translate(239.013672 0)\"/>\n       <use xlink:href=\"#ArialMT-20\" transform=\"translate(289.013672 0)\"/>\n       <use xlink:href=\"#ArialMT-61\" transform=\"translate(316.796875 0)\"/>\n       <use xlink:href=\"#ArialMT-6e\" transform=\"translate(372.412109 0)\"/>\n       <use xlink:href=\"#ArialMT-64\" transform=\"translate(428.027344 0)\"/>\n       <use xlink:href=\"#ArialMT-20\" transform=\"translate(483.642578 0)\"/>\n       <use xlink:href=\"#ArialMT-74\" transform=\"translate(511.425781 0)\"/>\n       <use xlink:href=\"#ArialMT-72\" transform=\"translate(539.208984 0)\"/>\n       <use xlink:href=\"#ArialMT-61\" transform=\"translate(572.509766 0)\"/>\n       <use xlink:href=\"#ArialMT-76\" transform=\"translate(628.125 0)\"/>\n       <use xlink:href=\"#ArialMT-65\" transform=\"translate(678.125 0)\"/>\n       <use xlink:href=\"#ArialMT-6c\" transform=\"translate(733.740234 0)\"/>\n      </g>\n     </g>\n    </g>\n    <g id=\"text_7\">\n     <!-- Product line -->\n     <g style=\"fill: #262626\" transform=\"translate(246.006394 350.274206) scale(0.12 -0.12)\">\n      <defs>\n       <path id=\"ArialMT-50\" d=\"M 494 0 \nL 494 4581 \nL 2222 4581 \nQ 2678 4581 2919 4538 \nQ 3256 4481 3484 4323 \nQ 3713 4166 3852 3881 \nQ 3991 3597 3991 3256 \nQ 3991 2672 3619 2267 \nQ 3247 1863 2275 1863 \nL 1100 1863 \nL 1100 0 \nL 494 0 \nz\nM 1100 2403 \nL 2284 2403 \nQ 2872 2403 3119 2622 \nQ 3366 2841 3366 3238 \nQ 3366 3525 3220 3729 \nQ 3075 3934 2838 4000 \nQ 2684 4041 2272 4041 \nL 1100 4041 \nL 1100 2403 \nz\n\" transform=\"scale(0.015625)\"/>\n      </defs>\n      <use xlink:href=\"#ArialMT-50\"/>\n      <use xlink:href=\"#ArialMT-72\" transform=\"translate(66.699219 0)\"/>\n      <use xlink:href=\"#ArialMT-6f\" transform=\"translate(100 0)\"/>\n      <use xlink:href=\"#ArialMT-64\" transform=\"translate(155.615234 0)\"/>\n      <use xlink:href=\"#ArialMT-75\" transform=\"translate(211.230469 0)\"/>\n      <use xlink:href=\"#ArialMT-63\" transform=\"translate(266.845703 0)\"/>\n      <use xlink:href=\"#ArialMT-74\" transform=\"translate(316.845703 0)\"/>\n      <use xlink:href=\"#ArialMT-20\" transform=\"translate(344.628906 0)\"/>\n      <use xlink:href=\"#ArialMT-6c\" transform=\"translate(372.412109 0)\"/>\n      <use xlink:href=\"#ArialMT-69\" transform=\"translate(394.628906 0)\"/>\n      <use xlink:href=\"#ArialMT-6e\" transform=\"translate(416.845703 0)\"/>\n      <use xlink:href=\"#ArialMT-65\" transform=\"translate(472.460938 0)\"/>\n     </g>\n    </g>\n   </g>\n   <g id=\"matplotlib.axis_2\">\n    <g id=\"ytick_1\">\n     <g id=\"line2d_7\">\n      <path d=\"M 54.489206 243.695625 \nL 500.889206 243.695625 \n\" clip-path=\"url(#p126e168951)\" style=\"fill: none; stroke: #ffffff; stroke-linecap: round\"/>\n     </g>\n     <g id=\"text_8\">\n      <!-- 0 -->\n      <g style=\"fill: #262626\" transform=\"translate(38.872175 247.632422) scale(0.11 -0.11)\">\n       <defs>\n        <path id=\"ArialMT-30\" d=\"M 266 2259 \nQ 266 3072 433 3567 \nQ 600 4063 929 4331 \nQ 1259 4600 1759 4600 \nQ 2128 4600 2406 4451 \nQ 2684 4303 2865 4023 \nQ 3047 3744 3150 3342 \nQ 3253 2941 3253 2259 \nQ 3253 1453 3087 958 \nQ 2922 463 2592 192 \nQ 2263 -78 1759 -78 \nQ 1097 -78 719 397 \nQ 266 969 266 2259 \nz\nM 844 2259 \nQ 844 1131 1108 757 \nQ 1372 384 1759 384 \nQ 2147 384 2411 759 \nQ 2675 1134 2675 2259 \nQ 2675 3391 2411 3762 \nQ 2147 4134 1753 4134 \nQ 1366 4134 1134 3806 \nQ 844 3388 844 2259 \nz\n\" transform=\"scale(0.015625)\"/>\n       </defs>\n       <use xlink:href=\"#ArialMT-30\"/>\n      </g>\n     </g>\n    </g>\n    <g id=\"ytick_2\">\n     <g id=\"line2d_8\">\n      <path d=\"M 54.489206 211.695625 \nL 500.889206 211.695625 \n\" clip-path=\"url(#p126e168951)\" style=\"fill: none; stroke: #ffffff; stroke-linecap: round\"/>\n     </g>\n     <g id=\"text_9\">\n      <!-- 20 -->\n      <g style=\"fill: #262626\" transform=\"translate(32.755144 215.632422) scale(0.11 -0.11)\">\n       <defs>\n        <path id=\"ArialMT-32\" d=\"M 3222 541 \nL 3222 0 \nL 194 0 \nQ 188 203 259 391 \nQ 375 700 629 1000 \nQ 884 1300 1366 1694 \nQ 2113 2306 2375 2664 \nQ 2638 3022 2638 3341 \nQ 2638 3675 2398 3904 \nQ 2159 4134 1775 4134 \nQ 1369 4134 1125 3890 \nQ 881 3647 878 3216 \nL 300 3275 \nQ 359 3922 746 4261 \nQ 1134 4600 1788 4600 \nQ 2447 4600 2831 4234 \nQ 3216 3869 3216 3328 \nQ 3216 3053 3103 2787 \nQ 2991 2522 2730 2228 \nQ 2469 1934 1863 1422 \nQ 1356 997 1212 845 \nQ 1069 694 975 541 \nL 3222 541 \nz\n\" transform=\"scale(0.015625)\"/>\n       </defs>\n       <use xlink:href=\"#ArialMT-32\"/>\n       <use xlink:href=\"#ArialMT-30\" transform=\"translate(55.615234 0)\"/>\n      </g>\n     </g>\n    </g>\n    <g id=\"ytick_3\">\n     <g id=\"line2d_9\">\n      <path d=\"M 54.489206 179.695625 \nL 500.889206 179.695625 \n\" clip-path=\"url(#p126e168951)\" style=\"fill: none; stroke: #ffffff; stroke-linecap: round\"/>\n     </g>\n     <g id=\"text_10\">\n      <!-- 40 -->\n      <g style=\"fill: #262626\" transform=\"translate(32.755144 183.632422) scale(0.11 -0.11)\">\n       <defs>\n        <path id=\"ArialMT-34\" d=\"M 2069 0 \nL 2069 1097 \nL 81 1097 \nL 81 1613 \nL 2172 4581 \nL 2631 4581 \nL 2631 1613 \nL 3250 1613 \nL 3250 1097 \nL 2631 1097 \nL 2631 0 \nL 2069 0 \nz\nM 2069 1613 \nL 2069 3678 \nL 634 1613 \nL 2069 1613 \nz\n\" transform=\"scale(0.015625)\"/>\n       </defs>\n       <use xlink:href=\"#ArialMT-34\"/>\n       <use xlink:href=\"#ArialMT-30\" transform=\"translate(55.615234 0)\"/>\n      </g>\n     </g>\n    </g>\n    <g id=\"ytick_4\">\n     <g id=\"line2d_10\">\n      <path d=\"M 54.489206 147.695625 \nL 500.889206 147.695625 \n\" clip-path=\"url(#p126e168951)\" style=\"fill: none; stroke: #ffffff; stroke-linecap: round\"/>\n     </g>\n     <g id=\"text_11\">\n      <!-- 60 -->\n      <g style=\"fill: #262626\" transform=\"translate(32.755144 151.632422) scale(0.11 -0.11)\">\n       <defs>\n        <path id=\"ArialMT-36\" d=\"M 3184 3459 \nL 2625 3416 \nQ 2550 3747 2413 3897 \nQ 2184 4138 1850 4138 \nQ 1581 4138 1378 3988 \nQ 1113 3794 959 3422 \nQ 806 3050 800 2363 \nQ 1003 2672 1297 2822 \nQ 1591 2972 1913 2972 \nQ 2475 2972 2870 2558 \nQ 3266 2144 3266 1488 \nQ 3266 1056 3080 686 \nQ 2894 316 2569 119 \nQ 2244 -78 1831 -78 \nQ 1128 -78 684 439 \nQ 241 956 241 2144 \nQ 241 3472 731 4075 \nQ 1159 4600 1884 4600 \nQ 2425 4600 2770 4297 \nQ 3116 3994 3184 3459 \nz\nM 888 1484 \nQ 888 1194 1011 928 \nQ 1134 663 1356 523 \nQ 1578 384 1822 384 \nQ 2178 384 2434 671 \nQ 2691 959 2691 1453 \nQ 2691 1928 2437 2201 \nQ 2184 2475 1800 2475 \nQ 1419 2475 1153 2201 \nQ 888 1928 888 1484 \nz\n\" transform=\"scale(0.015625)\"/>\n       </defs>\n       <use xlink:href=\"#ArialMT-36\"/>\n       <use xlink:href=\"#ArialMT-30\" transform=\"translate(55.615234 0)\"/>\n      </g>\n     </g>\n    </g>\n    <g id=\"ytick_5\">\n     <g id=\"line2d_11\">\n      <path d=\"M 54.489206 115.695625 \nL 500.889206 115.695625 \n\" clip-path=\"url(#p126e168951)\" style=\"fill: none; stroke: #ffffff; stroke-linecap: round\"/>\n     </g>\n     <g id=\"text_12\">\n      <!-- 80 -->\n      <g style=\"fill: #262626\" transform=\"translate(32.755144 119.632422) scale(0.11 -0.11)\">\n       <defs>\n        <path id=\"ArialMT-38\" d=\"M 1131 2484 \nQ 781 2613 612 2850 \nQ 444 3088 444 3419 \nQ 444 3919 803 4259 \nQ 1163 4600 1759 4600 \nQ 2359 4600 2725 4251 \nQ 3091 3903 3091 3403 \nQ 3091 3084 2923 2848 \nQ 2756 2613 2416 2484 \nQ 2838 2347 3058 2040 \nQ 3278 1734 3278 1309 \nQ 3278 722 2862 322 \nQ 2447 -78 1769 -78 \nQ 1091 -78 675 323 \nQ 259 725 259 1325 \nQ 259 1772 486 2073 \nQ 713 2375 1131 2484 \nz\nM 1019 3438 \nQ 1019 3113 1228 2906 \nQ 1438 2700 1772 2700 \nQ 2097 2700 2305 2904 \nQ 2513 3109 2513 3406 \nQ 2513 3716 2298 3927 \nQ 2084 4138 1766 4138 \nQ 1444 4138 1231 3931 \nQ 1019 3725 1019 3438 \nz\nM 838 1322 \nQ 838 1081 952 856 \nQ 1066 631 1291 507 \nQ 1516 384 1775 384 \nQ 2178 384 2440 643 \nQ 2703 903 2703 1303 \nQ 2703 1709 2433 1975 \nQ 2163 2241 1756 2241 \nQ 1359 2241 1098 1978 \nQ 838 1716 838 1322 \nz\n\" transform=\"scale(0.015625)\"/>\n       </defs>\n       <use xlink:href=\"#ArialMT-38\"/>\n       <use xlink:href=\"#ArialMT-30\" transform=\"translate(55.615234 0)\"/>\n      </g>\n     </g>\n    </g>\n    <g id=\"ytick_6\">\n     <g id=\"line2d_12\">\n      <path d=\"M 54.489206 83.695625 \nL 500.889206 83.695625 \n\" clip-path=\"url(#p126e168951)\" style=\"fill: none; stroke: #ffffff; stroke-linecap: round\"/>\n     </g>\n     <g id=\"text_13\">\n      <!-- 100 -->\n      <g style=\"fill: #262626\" transform=\"translate(26.638112 87.632422) scale(0.11 -0.11)\">\n       <defs>\n        <path id=\"ArialMT-31\" d=\"M 2384 0 \nL 1822 0 \nL 1822 3584 \nQ 1619 3391 1289 3197 \nQ 959 3003 697 2906 \nL 697 3450 \nQ 1169 3672 1522 3987 \nQ 1875 4303 2022 4600 \nL 2384 4600 \nL 2384 0 \nz\n\" transform=\"scale(0.015625)\"/>\n       </defs>\n       <use xlink:href=\"#ArialMT-31\"/>\n       <use xlink:href=\"#ArialMT-30\" transform=\"translate(55.615234 0)\"/>\n       <use xlink:href=\"#ArialMT-30\" transform=\"translate(111.230469 0)\"/>\n      </g>\n     </g>\n    </g>\n    <g id=\"ytick_7\">\n     <g id=\"line2d_13\">\n      <path d=\"M 54.489206 51.695625 \nL 500.889206 51.695625 \n\" clip-path=\"url(#p126e168951)\" style=\"fill: none; stroke: #ffffff; stroke-linecap: round\"/>\n     </g>\n     <g id=\"text_14\">\n      <!-- 120 -->\n      <g style=\"fill: #262626\" transform=\"translate(26.638112 55.632422) scale(0.11 -0.11)\">\n       <use xlink:href=\"#ArialMT-31\"/>\n       <use xlink:href=\"#ArialMT-32\" transform=\"translate(55.615234 0)\"/>\n       <use xlink:href=\"#ArialMT-30\" transform=\"translate(111.230469 0)\"/>\n      </g>\n     </g>\n    </g>\n    <g id=\"text_15\">\n     <!-- Quantity sold -->\n     <g style=\"fill: #262626\" transform=\"translate(20.112487 167.832188) rotate(-90) scale(0.12 -0.12)\">\n      <defs>\n       <path id=\"ArialMT-51\" d=\"M 3966 491 \nQ 4388 200 4744 66 \nL 4566 -356 \nQ 4072 -178 3581 206 \nQ 3072 -78 2456 -78 \nQ 1834 -78 1328 222 \nQ 822 522 548 1065 \nQ 275 1609 275 2291 \nQ 275 2969 550 3525 \nQ 825 4081 1333 4372 \nQ 1841 4663 2469 4663 \nQ 3103 4663 3612 4361 \nQ 4122 4059 4389 3517 \nQ 4656 2975 4656 2294 \nQ 4656 1728 4484 1276 \nQ 4313 825 3966 491 \nz\nM 2631 1266 \nQ 3156 1119 3497 828 \nQ 4031 1316 4031 2294 \nQ 4031 2850 3842 3265 \nQ 3653 3681 3289 3911 \nQ 2925 4141 2472 4141 \nQ 1794 4141 1347 3677 \nQ 900 3213 900 2291 \nQ 900 1397 1342 919 \nQ 1784 441 2472 441 \nQ 2797 441 3084 563 \nQ 2800 747 2484 825 \nL 2631 1266 \nz\n\" transform=\"scale(0.015625)\"/>\n      </defs>\n      <use xlink:href=\"#ArialMT-51\"/>\n      <use xlink:href=\"#ArialMT-75\" transform=\"translate(77.783203 0)\"/>\n      <use xlink:href=\"#ArialMT-61\" transform=\"translate(133.398438 0)\"/>\n      <use xlink:href=\"#ArialMT-6e\" transform=\"translate(189.013672 0)\"/>\n      <use xlink:href=\"#ArialMT-74\" transform=\"translate(244.628906 0)\"/>\n      <use xlink:href=\"#ArialMT-69\" transform=\"translate(272.412109 0)\"/>\n      <use xlink:href=\"#ArialMT-74\" transform=\"translate(294.628906 0)\"/>\n      <use xlink:href=\"#ArialMT-79\" transform=\"translate(322.412109 0)\"/>\n      <use xlink:href=\"#ArialMT-20\" transform=\"translate(372.412109 0)\"/>\n      <use xlink:href=\"#ArialMT-73\" transform=\"translate(400.195312 0)\"/>\n      <use xlink:href=\"#ArialMT-6f\" transform=\"translate(450.195312 0)\"/>\n      <use xlink:href=\"#ArialMT-6c\" transform=\"translate(505.810547 0)\"/>\n      <use xlink:href=\"#ArialMT-64\" transform=\"translate(528.027344 0)\"/>\n     </g>\n    </g>\n   </g>\n   <g id=\"patch_3\">\n    <path d=\"M 73.089206 243.695625 \nL 110.289206 243.695625 \nL 110.289206 96.495625 \nL 73.089206 96.495625 \nz\n\" clip-path=\"url(#p126e168951)\" style=\"fill: #87ceeb; stroke: #ffffff; stroke-linejoin: miter\"/>\n   </g>\n   <g id=\"patch_4\">\n    <path d=\"M 147.489206 243.695625 \nL 184.689206 243.695625 \nL 184.689206 136.495625 \nL 147.489206 136.495625 \nz\n\" clip-path=\"url(#p126e168951)\" style=\"fill: #87ceeb; stroke: #ffffff; stroke-linejoin: miter\"/>\n   </g>\n   <g id=\"patch_5\">\n    <path d=\"M 221.889206 243.695625 \nL 259.089206 243.695625 \nL 259.089206 32.495625 \nL 221.889206 32.495625 \nz\n\" clip-path=\"url(#p126e168951)\" style=\"fill: #87ceeb; stroke: #ffffff; stroke-linejoin: miter\"/>\n   </g>\n   <g id=\"patch_6\">\n    <path d=\"M 296.289206 243.695625 \nL 333.489206 243.695625 \nL 333.489206 118.895625 \nL 296.289206 118.895625 \nz\n\" clip-path=\"url(#p126e168951)\" style=\"fill: #87ceeb; stroke: #ffffff; stroke-linejoin: miter\"/>\n   </g>\n   <g id=\"patch_7\">\n    <path d=\"M 370.689206 243.695625 \nL 407.889206 243.695625 \nL 407.889206 104.495625 \nL 370.689206 104.495625 \nz\n\" clip-path=\"url(#p126e168951)\" style=\"fill: #87ceeb; stroke: #ffffff; stroke-linejoin: miter\"/>\n   </g>\n   <g id=\"patch_8\">\n    <path d=\"M 445.089206 243.695625 \nL 482.289206 243.695625 \nL 482.289206 157.295625 \nL 445.089206 157.295625 \nz\n\" clip-path=\"url(#p126e168951)\" style=\"fill: #87ceeb; stroke: #ffffff; stroke-linejoin: miter\"/>\n   </g>\n   <g id=\"patch_9\">\n    <path d=\"M 54.489206 243.695625 \nL 54.489206 21.935625 \n\" style=\"fill: none; stroke: #ffffff; stroke-width: 1.25; stroke-linejoin: miter; stroke-linecap: square\"/>\n   </g>\n   <g id=\"patch_10\">\n    <path d=\"M 500.889206 243.695625 \nL 500.889206 21.935625 \n\" style=\"fill: none; stroke: #ffffff; stroke-width: 1.25; stroke-linejoin: miter; stroke-linecap: square\"/>\n   </g>\n   <g id=\"patch_11\">\n    <path d=\"M 54.489206 243.695625 \nL 500.889206 243.695625 \n\" style=\"fill: none; stroke: #ffffff; stroke-width: 1.25; stroke-linejoin: miter; stroke-linecap: square\"/>\n   </g>\n   <g id=\"patch_12\">\n    <path d=\"M 54.489206 21.935625 \nL 500.889206 21.935625 \n\" style=\"fill: none; stroke: #ffffff; stroke-width: 1.25; stroke-linejoin: miter; stroke-linecap: square\"/>\n   </g>\n   <g id=\"text_16\">\n    <!-- Number of Products Sold per Category -->\n    <g style=\"fill: #262626\" transform=\"translate(174.312956 15.935625) scale(0.12 -0.12)\">\n     <defs>\n      <path id=\"ArialMT-4e\" d=\"M 488 0 \nL 488 4581 \nL 1109 4581 \nL 3516 984 \nL 3516 4581 \nL 4097 4581 \nL 4097 0 \nL 3475 0 \nL 1069 3600 \nL 1069 0 \nL 488 0 \nz\n\" transform=\"scale(0.015625)\"/>\n      <path id=\"ArialMT-43\" d=\"M 3763 1606 \nL 4369 1453 \nQ 4178 706 3683 314 \nQ 3188 -78 2472 -78 \nQ 1731 -78 1267 223 \nQ 803 525 561 1097 \nQ 319 1669 319 2325 \nQ 319 3041 592 3573 \nQ 866 4106 1370 4382 \nQ 1875 4659 2481 4659 \nQ 3169 4659 3637 4309 \nQ 4106 3959 4291 3325 \nL 3694 3184 \nQ 3534 3684 3231 3912 \nQ 2928 4141 2469 4141 \nQ 1941 4141 1586 3887 \nQ 1231 3634 1087 3207 \nQ 944 2781 944 2328 \nQ 944 1744 1114 1308 \nQ 1284 872 1643 656 \nQ 2003 441 2422 441 \nQ 2931 441 3284 734 \nQ 3638 1028 3763 1606 \nz\n\" transform=\"scale(0.015625)\"/>\n     </defs>\n     <use xlink:href=\"#ArialMT-4e\"/>\n     <use xlink:href=\"#ArialMT-75\" transform=\"translate(72.216797 0)\"/>\n     <use xlink:href=\"#ArialMT-6d\" transform=\"translate(127.832031 0)\"/>\n     <use xlink:href=\"#ArialMT-62\" transform=\"translate(211.132812 0)\"/>\n     <use xlink:href=\"#ArialMT-65\" transform=\"translate(266.748047 0)\"/>\n     <use xlink:href=\"#ArialMT-72\" transform=\"translate(322.363281 0)\"/>\n     <use xlink:href=\"#ArialMT-20\" transform=\"translate(355.664062 0)\"/>\n     <use xlink:href=\"#ArialMT-6f\" transform=\"translate(383.447266 0)\"/>\n     <use xlink:href=\"#ArialMT-66\" transform=\"translate(439.0625 0)\"/>\n     <use xlink:href=\"#ArialMT-20\" transform=\"translate(466.845703 0)\"/>\n     <use xlink:href=\"#ArialMT-50\" transform=\"translate(494.628906 0)\"/>\n     <use xlink:href=\"#ArialMT-72\" transform=\"translate(561.328125 0)\"/>\n     <use xlink:href=\"#ArialMT-6f\" transform=\"translate(594.628906 0)\"/>\n     <use xlink:href=\"#ArialMT-64\" transform=\"translate(650.244141 0)\"/>\n     <use xlink:href=\"#ArialMT-75\" transform=\"translate(705.859375 0)\"/>\n     <use xlink:href=\"#ArialMT-63\" transform=\"translate(761.474609 0)\"/>\n     <use xlink:href=\"#ArialMT-74\" transform=\"translate(811.474609 0)\"/>\n     <use xlink:href=\"#ArialMT-73\" transform=\"translate(839.257812 0)\"/>\n     <use xlink:href=\"#ArialMT-20\" transform=\"translate(889.257812 0)\"/>\n     <use xlink:href=\"#ArialMT-53\" transform=\"translate(917.041016 0)\"/>\n     <use xlink:href=\"#ArialMT-6f\" transform=\"translate(983.740234 0)\"/>\n     <use xlink:href=\"#ArialMT-6c\" transform=\"translate(1039.355469 0)\"/>\n     <use xlink:href=\"#ArialMT-64\" transform=\"translate(1061.572266 0)\"/>\n     <use xlink:href=\"#ArialMT-20\" transform=\"translate(1117.1875 0)\"/>\n     <use xlink:href=\"#ArialMT-70\" transform=\"translate(1144.970703 0)\"/>\n     <use xlink:href=\"#ArialMT-65\" transform=\"translate(1200.585938 0)\"/>\n     <use xlink:href=\"#ArialMT-72\" transform=\"translate(1256.201172 0)\"/>\n     <use xlink:href=\"#ArialMT-20\" transform=\"translate(1289.501953 0)\"/>\n     <use xlink:href=\"#ArialMT-43\" transform=\"translate(1317.285156 0)\"/>\n     <use xlink:href=\"#ArialMT-61\" transform=\"translate(1389.501953 0)\"/>\n     <use xlink:href=\"#ArialMT-74\" transform=\"translate(1445.117188 0)\"/>\n     <use xlink:href=\"#ArialMT-65\" transform=\"translate(1472.900391 0)\"/>\n     <use xlink:href=\"#ArialMT-67\" transform=\"translate(1528.515625 0)\"/>\n     <use xlink:href=\"#ArialMT-6f\" transform=\"translate(1584.130859 0)\"/>\n     <use xlink:href=\"#ArialMT-72\" transform=\"translate(1639.746094 0)\"/>\n     <use xlink:href=\"#ArialMT-79\" transform=\"translate(1673.046875 0)\"/>\n    </g>\n   </g>\n  </g>\n </g>\n <defs>\n  <clipPath id=\"p126e168951\">\n   <rect x=\"54.489206\" y=\"21.935625\" width=\"446.4\" height=\"221.76\"/>\n  </clipPath>\n </defs>\n</svg>\n"
     },
     "metadata": {},
     "output_type": "display_data"
    }
   ],
   "execution_count": 36
  },
  {
   "cell_type": "markdown",
   "id": "e53c3f56-64b9-4e53-aa0c-d47732258120",
   "metadata": {},
   "source": [
    "#### Question 5"
   ]
  },
  {
   "cell_type": "code",
   "id": "e819fb76-9694-46ec-8961-6ddd56e53fdb",
   "metadata": {
    "ExecuteTime": {
     "end_time": "2025-04-12T13:23:52.813283Z",
     "start_time": "2025-04-12T13:23:52.809836Z"
    }
   },
   "source": [
    "### plot the same bar chart as above - split by gender (male, female)\n",
    "### the split bar chart is called stacked bar: look up \"plot stacked bar charts from a dataframe\" to see how to plot it"
   ],
   "outputs": [],
   "execution_count": 37
  },
  {
   "cell_type": "markdown",
   "id": "21e48933a99fc04d",
   "metadata": {},
   "source": [
    "#### Question 5 - solution"
   ]
  },
  {
   "cell_type": "code",
   "id": "8e30bf60d163a49a",
   "metadata": {
    "ExecuteTime": {
     "end_time": "2025-04-12T13:23:52.894187Z",
     "start_time": "2025-04-12T13:23:52.838966Z"
    }
   },
   "source": [
    "gender_and_product_line = df_in_wanted_dates.groupby(['Gender', 'Product line'])[\"Quantity\"].sum().reset_index()\n",
    "gender_and_product_line_combinations = pd.DataFrame([(x, y) for x in df['Product line'].unique() for y in df['Gender'].unique()],columns=['Product line', 'Gender'])\n",
    "\n",
    "gender_and_product_line_complete = pd.merge(left = gender_and_product_line_combinations, right = gender_and_product_line, on=['Product line', 'Gender'], how='left')\n",
    "\n",
    "gender_and_product_line_complete.fillna(0, inplace = True)\n",
    "pivot_data = gender_and_product_line_complete.pivot(index='Product line', columns='Gender', values='Quantity')\n",
    "pivot_data.plot(kind='bar',color=['#DA70D6', 'teal'],stacked=True)\n",
    "plt.title('Number of Products Sold per Category by Gender')\n",
    "plt.ylabel(\"Quantity sold\")\n",
    "plt.xticks(rotation=45, ha='right')\n",
    "plt.show()\n"
   ],
   "outputs": [
    {
     "data": {
      "text/plain": [
       "<Figure size 800x400 with 1 Axes>"
      ],
      "image/svg+xml": "<?xml version=\"1.0\" encoding=\"utf-8\" standalone=\"no\"?>\n<!DOCTYPE svg PUBLIC \"-//W3C//DTD SVG 1.1//EN\"\n  \"http://www.w3.org/Graphics/SVG/1.1/DTD/svg11.dtd\">\n<svg xmlns:xlink=\"http://www.w3.org/1999/xlink\" width=\"508.089206pt\" height=\"359.859206pt\" viewBox=\"0 0 508.089206 359.859206\" xmlns=\"http://www.w3.org/2000/svg\" version=\"1.1\">\n <metadata>\n  <rdf:RDF xmlns:dc=\"http://purl.org/dc/elements/1.1/\" xmlns:cc=\"http://creativecommons.org/ns#\" xmlns:rdf=\"http://www.w3.org/1999/02/22-rdf-syntax-ns#\">\n   <cc:Work>\n    <dc:type rdf:resource=\"http://purl.org/dc/dcmitype/StillImage\"/>\n    <dc:date>2025-04-12T16:23:52.875975</dc:date>\n    <dc:format>image/svg+xml</dc:format>\n    <dc:creator>\n     <cc:Agent>\n      <dc:title>Matplotlib v3.10.1, https://matplotlib.org/</dc:title>\n     </cc:Agent>\n    </dc:creator>\n   </cc:Work>\n  </rdf:RDF>\n </metadata>\n <defs>\n  <style type=\"text/css\">*{stroke-linejoin: round; stroke-linecap: butt}</style>\n </defs>\n <g id=\"figure_1\">\n  <g id=\"patch_1\">\n   <path d=\"M 0 359.859206 \nL 508.089206 359.859206 \nL 508.089206 0 \nL 0 0 \nz\n\" style=\"fill: #ffffff\"/>\n  </g>\n  <g id=\"axes_1\">\n   <g id=\"patch_2\">\n    <path d=\"M 54.489206 243.695625 \nL 500.889206 243.695625 \nL 500.889206 21.935625 \nL 54.489206 21.935625 \nz\n\" style=\"fill: #eaeaf2\"/>\n   </g>\n   <g id=\"matplotlib.axis_1\">\n    <g id=\"xtick_1\">\n     <g id=\"line2d_1\">\n      <path d=\"M 91.689206 243.695625 \nL 91.689206 21.935625 \n\" clip-path=\"url(#p6b9560529e)\" style=\"fill: none; stroke: #ffffff; stroke-linecap: round\"/>\n     </g>\n     <g id=\"text_1\">\n      <!-- Electronic accessories -->\n      <g style=\"fill: #262626\" transform=\"translate(12.767472 336.138919) rotate(-45) scale(0.11 -0.11)\">\n       <defs>\n        <path id=\"ArialMT-45\" d=\"M 506 0 \nL 506 4581 \nL 3819 4581 \nL 3819 4041 \nL 1113 4041 \nL 1113 2638 \nL 3647 2638 \nL 3647 2100 \nL 1113 2100 \nL 1113 541 \nL 3925 541 \nL 3925 0 \nL 506 0 \nz\n\" transform=\"scale(0.015625)\"/>\n        <path id=\"ArialMT-6c\" d=\"M 409 0 \nL 409 4581 \nL 972 4581 \nL 972 0 \nL 409 0 \nz\n\" transform=\"scale(0.015625)\"/>\n        <path id=\"ArialMT-65\" d=\"M 2694 1069 \nL 3275 997 \nQ 3138 488 2766 206 \nQ 2394 -75 1816 -75 \nQ 1088 -75 661 373 \nQ 234 822 234 1631 \nQ 234 2469 665 2931 \nQ 1097 3394 1784 3394 \nQ 2450 3394 2872 2941 \nQ 3294 2488 3294 1666 \nQ 3294 1616 3291 1516 \nL 816 1516 \nQ 847 969 1125 678 \nQ 1403 388 1819 388 \nQ 2128 388 2347 550 \nQ 2566 713 2694 1069 \nz\nM 847 1978 \nL 2700 1978 \nQ 2663 2397 2488 2606 \nQ 2219 2931 1791 2931 \nQ 1403 2931 1139 2672 \nQ 875 2413 847 1978 \nz\n\" transform=\"scale(0.015625)\"/>\n        <path id=\"ArialMT-63\" d=\"M 2588 1216 \nL 3141 1144 \nQ 3050 572 2676 248 \nQ 2303 -75 1759 -75 \nQ 1078 -75 664 370 \nQ 250 816 250 1647 \nQ 250 2184 428 2587 \nQ 606 2991 970 3192 \nQ 1334 3394 1763 3394 \nQ 2303 3394 2647 3120 \nQ 2991 2847 3088 2344 \nL 2541 2259 \nQ 2463 2594 2264 2762 \nQ 2066 2931 1784 2931 \nQ 1359 2931 1093 2626 \nQ 828 2322 828 1663 \nQ 828 994 1084 691 \nQ 1341 388 1753 388 \nQ 2084 388 2306 591 \nQ 2528 794 2588 1216 \nz\n\" transform=\"scale(0.015625)\"/>\n        <path id=\"ArialMT-74\" d=\"M 1650 503 \nL 1731 6 \nQ 1494 -44 1306 -44 \nQ 1000 -44 831 53 \nQ 663 150 594 308 \nQ 525 466 525 972 \nL 525 2881 \nL 113 2881 \nL 113 3319 \nL 525 3319 \nL 525 4141 \nL 1084 4478 \nL 1084 3319 \nL 1650 3319 \nL 1650 2881 \nL 1084 2881 \nL 1084 941 \nQ 1084 700 1114 631 \nQ 1144 563 1211 522 \nQ 1278 481 1403 481 \nQ 1497 481 1650 503 \nz\n\" transform=\"scale(0.015625)\"/>\n        <path id=\"ArialMT-72\" d=\"M 416 0 \nL 416 3319 \nL 922 3319 \nL 922 2816 \nQ 1116 3169 1280 3281 \nQ 1444 3394 1641 3394 \nQ 1925 3394 2219 3213 \nL 2025 2691 \nQ 1819 2813 1613 2813 \nQ 1428 2813 1281 2702 \nQ 1134 2591 1072 2394 \nQ 978 2094 978 1738 \nL 978 0 \nL 416 0 \nz\n\" transform=\"scale(0.015625)\"/>\n        <path id=\"ArialMT-6f\" d=\"M 213 1659 \nQ 213 2581 725 3025 \nQ 1153 3394 1769 3394 \nQ 2453 3394 2887 2945 \nQ 3322 2497 3322 1706 \nQ 3322 1066 3130 698 \nQ 2938 331 2570 128 \nQ 2203 -75 1769 -75 \nQ 1072 -75 642 372 \nQ 213 819 213 1659 \nz\nM 791 1659 \nQ 791 1022 1069 705 \nQ 1347 388 1769 388 \nQ 2188 388 2466 706 \nQ 2744 1025 2744 1678 \nQ 2744 2294 2464 2611 \nQ 2184 2928 1769 2928 \nQ 1347 2928 1069 2612 \nQ 791 2297 791 1659 \nz\n\" transform=\"scale(0.015625)\"/>\n        <path id=\"ArialMT-6e\" d=\"M 422 0 \nL 422 3319 \nL 928 3319 \nL 928 2847 \nQ 1294 3394 1984 3394 \nQ 2284 3394 2536 3286 \nQ 2788 3178 2913 3003 \nQ 3038 2828 3088 2588 \nQ 3119 2431 3119 2041 \nL 3119 0 \nL 2556 0 \nL 2556 2019 \nQ 2556 2363 2490 2533 \nQ 2425 2703 2258 2804 \nQ 2091 2906 1866 2906 \nQ 1506 2906 1245 2678 \nQ 984 2450 984 1813 \nL 984 0 \nL 422 0 \nz\n\" transform=\"scale(0.015625)\"/>\n        <path id=\"ArialMT-69\" d=\"M 425 3934 \nL 425 4581 \nL 988 4581 \nL 988 3934 \nL 425 3934 \nz\nM 425 0 \nL 425 3319 \nL 988 3319 \nL 988 0 \nL 425 0 \nz\n\" transform=\"scale(0.015625)\"/>\n        <path id=\"ArialMT-20\" transform=\"scale(0.015625)\"/>\n        <path id=\"ArialMT-61\" d=\"M 2588 409 \nQ 2275 144 1986 34 \nQ 1697 -75 1366 -75 \nQ 819 -75 525 192 \nQ 231 459 231 875 \nQ 231 1119 342 1320 \nQ 453 1522 633 1644 \nQ 813 1766 1038 1828 \nQ 1203 1872 1538 1913 \nQ 2219 1994 2541 2106 \nQ 2544 2222 2544 2253 \nQ 2544 2597 2384 2738 \nQ 2169 2928 1744 2928 \nQ 1347 2928 1158 2789 \nQ 969 2650 878 2297 \nL 328 2372 \nQ 403 2725 575 2942 \nQ 747 3159 1072 3276 \nQ 1397 3394 1825 3394 \nQ 2250 3394 2515 3294 \nQ 2781 3194 2906 3042 \nQ 3031 2891 3081 2659 \nQ 3109 2516 3109 2141 \nL 3109 1391 \nQ 3109 606 3145 398 \nQ 3181 191 3288 0 \nL 2700 0 \nQ 2613 175 2588 409 \nz\nM 2541 1666 \nQ 2234 1541 1622 1453 \nQ 1275 1403 1131 1340 \nQ 988 1278 909 1158 \nQ 831 1038 831 891 \nQ 831 666 1001 516 \nQ 1172 366 1500 366 \nQ 1825 366 2078 508 \nQ 2331 650 2450 897 \nQ 2541 1088 2541 1459 \nL 2541 1666 \nz\n\" transform=\"scale(0.015625)\"/>\n        <path id=\"ArialMT-73\" d=\"M 197 991 \nL 753 1078 \nQ 800 744 1014 566 \nQ 1228 388 1613 388 \nQ 2000 388 2187 545 \nQ 2375 703 2375 916 \nQ 2375 1106 2209 1216 \nQ 2094 1291 1634 1406 \nQ 1016 1563 777 1677 \nQ 538 1791 414 1992 \nQ 291 2194 291 2438 \nQ 291 2659 392 2848 \nQ 494 3038 669 3163 \nQ 800 3259 1026 3326 \nQ 1253 3394 1513 3394 \nQ 1903 3394 2198 3281 \nQ 2494 3169 2634 2976 \nQ 2775 2784 2828 2463 \nL 2278 2388 \nQ 2241 2644 2061 2787 \nQ 1881 2931 1553 2931 \nQ 1166 2931 1000 2803 \nQ 834 2675 834 2503 \nQ 834 2394 903 2306 \nQ 972 2216 1119 2156 \nQ 1203 2125 1616 2013 \nQ 2213 1853 2448 1751 \nQ 2684 1650 2818 1456 \nQ 2953 1263 2953 975 \nQ 2953 694 2789 445 \nQ 2625 197 2315 61 \nQ 2006 -75 1616 -75 \nQ 969 -75 630 194 \nQ 291 463 197 991 \nz\n\" transform=\"scale(0.015625)\"/>\n       </defs>\n       <use xlink:href=\"#ArialMT-45\"/>\n       <use xlink:href=\"#ArialMT-6c\" transform=\"translate(66.699219 0)\"/>\n       <use xlink:href=\"#ArialMT-65\" transform=\"translate(88.916016 0)\"/>\n       <use xlink:href=\"#ArialMT-63\" transform=\"translate(144.53125 0)\"/>\n       <use xlink:href=\"#ArialMT-74\" transform=\"translate(194.53125 0)\"/>\n       <use xlink:href=\"#ArialMT-72\" transform=\"translate(222.314453 0)\"/>\n       <use xlink:href=\"#ArialMT-6f\" transform=\"translate(255.615234 0)\"/>\n       <use xlink:href=\"#ArialMT-6e\" transform=\"translate(311.230469 0)\"/>\n       <use xlink:href=\"#ArialMT-69\" transform=\"translate(366.845703 0)\"/>\n       <use xlink:href=\"#ArialMT-63\" transform=\"translate(389.0625 0)\"/>\n       <use xlink:href=\"#ArialMT-20\" transform=\"translate(439.0625 0)\"/>\n       <use xlink:href=\"#ArialMT-61\" transform=\"translate(466.845703 0)\"/>\n       <use xlink:href=\"#ArialMT-63\" transform=\"translate(522.460938 0)\"/>\n       <use xlink:href=\"#ArialMT-63\" transform=\"translate(572.460938 0)\"/>\n       <use xlink:href=\"#ArialMT-65\" transform=\"translate(622.460938 0)\"/>\n       <use xlink:href=\"#ArialMT-73\" transform=\"translate(678.076172 0)\"/>\n       <use xlink:href=\"#ArialMT-73\" transform=\"translate(728.076172 0)\"/>\n       <use xlink:href=\"#ArialMT-6f\" transform=\"translate(778.076172 0)\"/>\n       <use xlink:href=\"#ArialMT-72\" transform=\"translate(833.691406 0)\"/>\n       <use xlink:href=\"#ArialMT-69\" transform=\"translate(866.992188 0)\"/>\n       <use xlink:href=\"#ArialMT-65\" transform=\"translate(889.208984 0)\"/>\n       <use xlink:href=\"#ArialMT-73\" transform=\"translate(944.824219 0)\"/>\n      </g>\n     </g>\n    </g>\n    <g id=\"xtick_2\">\n     <g id=\"line2d_2\">\n      <path d=\"M 166.089206 243.695625 \nL 166.089206 21.935625 \n\" clip-path=\"url(#p6b9560529e)\" style=\"fill: none; stroke: #ffffff; stroke-linecap: round\"/>\n     </g>\n     <g id=\"text_2\">\n      <!-- Fashion accessories -->\n      <g style=\"fill: #262626\" transform=\"translate(93.647663 329.658727) rotate(-45) scale(0.11 -0.11)\">\n       <defs>\n        <path id=\"ArialMT-46\" d=\"M 525 0 \nL 525 4581 \nL 3616 4581 \nL 3616 4041 \nL 1131 4041 \nL 1131 2622 \nL 3281 2622 \nL 3281 2081 \nL 1131 2081 \nL 1131 0 \nL 525 0 \nz\n\" transform=\"scale(0.015625)\"/>\n        <path id=\"ArialMT-68\" d=\"M 422 0 \nL 422 4581 \nL 984 4581 \nL 984 2938 \nQ 1378 3394 1978 3394 \nQ 2347 3394 2619 3248 \nQ 2891 3103 3008 2847 \nQ 3125 2591 3125 2103 \nL 3125 0 \nL 2563 0 \nL 2563 2103 \nQ 2563 2525 2380 2717 \nQ 2197 2909 1863 2909 \nQ 1613 2909 1392 2779 \nQ 1172 2650 1078 2428 \nQ 984 2206 984 1816 \nL 984 0 \nL 422 0 \nz\n\" transform=\"scale(0.015625)\"/>\n       </defs>\n       <use xlink:href=\"#ArialMT-46\"/>\n       <use xlink:href=\"#ArialMT-61\" transform=\"translate(61.083984 0)\"/>\n       <use xlink:href=\"#ArialMT-73\" transform=\"translate(116.699219 0)\"/>\n       <use xlink:href=\"#ArialMT-68\" transform=\"translate(166.699219 0)\"/>\n       <use xlink:href=\"#ArialMT-69\" transform=\"translate(222.314453 0)\"/>\n       <use xlink:href=\"#ArialMT-6f\" transform=\"translate(244.53125 0)\"/>\n       <use xlink:href=\"#ArialMT-6e\" transform=\"translate(300.146484 0)\"/>\n       <use xlink:href=\"#ArialMT-20\" transform=\"translate(355.761719 0)\"/>\n       <use xlink:href=\"#ArialMT-61\" transform=\"translate(383.544922 0)\"/>\n       <use xlink:href=\"#ArialMT-63\" transform=\"translate(439.160156 0)\"/>\n       <use xlink:href=\"#ArialMT-63\" transform=\"translate(489.160156 0)\"/>\n       <use xlink:href=\"#ArialMT-65\" transform=\"translate(539.160156 0)\"/>\n       <use xlink:href=\"#ArialMT-73\" transform=\"translate(594.775391 0)\"/>\n       <use xlink:href=\"#ArialMT-73\" transform=\"translate(644.775391 0)\"/>\n       <use xlink:href=\"#ArialMT-6f\" transform=\"translate(694.775391 0)\"/>\n       <use xlink:href=\"#ArialMT-72\" transform=\"translate(750.390625 0)\"/>\n       <use xlink:href=\"#ArialMT-69\" transform=\"translate(783.691406 0)\"/>\n       <use xlink:href=\"#ArialMT-65\" transform=\"translate(805.908203 0)\"/>\n       <use xlink:href=\"#ArialMT-73\" transform=\"translate(861.523438 0)\"/>\n      </g>\n     </g>\n    </g>\n    <g id=\"xtick_3\">\n     <g id=\"line2d_3\">\n      <path d=\"M 240.489206 243.695625 \nL 240.489206 21.935625 \n\" clip-path=\"url(#p6b9560529e)\" style=\"fill: none; stroke: #ffffff; stroke-linecap: round\"/>\n     </g>\n     <g id=\"text_3\">\n      <!-- Food and beverages -->\n      <g style=\"fill: #262626\" transform=\"translate(167.506837 330.108403) rotate(-45) scale(0.11 -0.11)\">\n       <defs>\n        <path id=\"ArialMT-64\" d=\"M 2575 0 \nL 2575 419 \nQ 2259 -75 1647 -75 \nQ 1250 -75 917 144 \nQ 584 363 401 755 \nQ 219 1147 219 1656 \nQ 219 2153 384 2558 \nQ 550 2963 881 3178 \nQ 1213 3394 1622 3394 \nQ 1922 3394 2156 3267 \nQ 2391 3141 2538 2938 \nL 2538 4581 \nL 3097 4581 \nL 3097 0 \nL 2575 0 \nz\nM 797 1656 \nQ 797 1019 1065 703 \nQ 1334 388 1700 388 \nQ 2069 388 2326 689 \nQ 2584 991 2584 1609 \nQ 2584 2291 2321 2609 \nQ 2059 2928 1675 2928 \nQ 1300 2928 1048 2622 \nQ 797 2316 797 1656 \nz\n\" transform=\"scale(0.015625)\"/>\n        <path id=\"ArialMT-62\" d=\"M 941 0 \nL 419 0 \nL 419 4581 \nL 981 4581 \nL 981 2947 \nQ 1338 3394 1891 3394 \nQ 2197 3394 2470 3270 \nQ 2744 3147 2920 2923 \nQ 3097 2700 3197 2384 \nQ 3297 2069 3297 1709 \nQ 3297 856 2875 390 \nQ 2453 -75 1863 -75 \nQ 1275 -75 941 416 \nL 941 0 \nz\nM 934 1684 \nQ 934 1088 1097 822 \nQ 1363 388 1816 388 \nQ 2184 388 2453 708 \nQ 2722 1028 2722 1663 \nQ 2722 2313 2464 2622 \nQ 2206 2931 1841 2931 \nQ 1472 2931 1203 2611 \nQ 934 2291 934 1684 \nz\n\" transform=\"scale(0.015625)\"/>\n        <path id=\"ArialMT-76\" d=\"M 1344 0 \nL 81 3319 \nL 675 3319 \nL 1388 1331 \nQ 1503 1009 1600 663 \nQ 1675 925 1809 1294 \nL 2547 3319 \nL 3125 3319 \nL 1869 0 \nL 1344 0 \nz\n\" transform=\"scale(0.015625)\"/>\n        <path id=\"ArialMT-67\" d=\"M 319 -275 \nL 866 -356 \nQ 900 -609 1056 -725 \nQ 1266 -881 1628 -881 \nQ 2019 -881 2231 -725 \nQ 2444 -569 2519 -288 \nQ 2563 -116 2559 434 \nQ 2191 0 1641 0 \nQ 956 0 581 494 \nQ 206 988 206 1678 \nQ 206 2153 378 2554 \nQ 550 2956 876 3175 \nQ 1203 3394 1644 3394 \nQ 2231 3394 2613 2919 \nL 2613 3319 \nL 3131 3319 \nL 3131 450 \nQ 3131 -325 2973 -648 \nQ 2816 -972 2473 -1159 \nQ 2131 -1347 1631 -1347 \nQ 1038 -1347 672 -1080 \nQ 306 -813 319 -275 \nz\nM 784 1719 \nQ 784 1066 1043 766 \nQ 1303 466 1694 466 \nQ 2081 466 2343 764 \nQ 2606 1063 2606 1700 \nQ 2606 2309 2336 2618 \nQ 2066 2928 1684 2928 \nQ 1309 2928 1046 2623 \nQ 784 2319 784 1719 \nz\n\" transform=\"scale(0.015625)\"/>\n       </defs>\n       <use xlink:href=\"#ArialMT-46\"/>\n       <use xlink:href=\"#ArialMT-6f\" transform=\"translate(61.083984 0)\"/>\n       <use xlink:href=\"#ArialMT-6f\" transform=\"translate(116.699219 0)\"/>\n       <use xlink:href=\"#ArialMT-64\" transform=\"translate(172.314453 0)\"/>\n       <use xlink:href=\"#ArialMT-20\" transform=\"translate(227.929688 0)\"/>\n       <use xlink:href=\"#ArialMT-61\" transform=\"translate(255.712891 0)\"/>\n       <use xlink:href=\"#ArialMT-6e\" transform=\"translate(311.328125 0)\"/>\n       <use xlink:href=\"#ArialMT-64\" transform=\"translate(366.943359 0)\"/>\n       <use xlink:href=\"#ArialMT-20\" transform=\"translate(422.558594 0)\"/>\n       <use xlink:href=\"#ArialMT-62\" transform=\"translate(450.341797 0)\"/>\n       <use xlink:href=\"#ArialMT-65\" transform=\"translate(505.957031 0)\"/>\n       <use xlink:href=\"#ArialMT-76\" transform=\"translate(561.572266 0)\"/>\n       <use xlink:href=\"#ArialMT-65\" transform=\"translate(611.572266 0)\"/>\n       <use xlink:href=\"#ArialMT-72\" transform=\"translate(667.1875 0)\"/>\n       <use xlink:href=\"#ArialMT-61\" transform=\"translate(700.488281 0)\"/>\n       <use xlink:href=\"#ArialMT-67\" transform=\"translate(756.103516 0)\"/>\n       <use xlink:href=\"#ArialMT-65\" transform=\"translate(811.71875 0)\"/>\n       <use xlink:href=\"#ArialMT-73\" transform=\"translate(867.333984 0)\"/>\n      </g>\n     </g>\n    </g>\n    <g id=\"xtick_4\">\n     <g id=\"line2d_4\">\n      <path d=\"M 314.889206 243.695625 \nL 314.889206 21.935625 \n\" clip-path=\"url(#p6b9560529e)\" style=\"fill: none; stroke: #ffffff; stroke-linecap: round\"/>\n     </g>\n     <g id=\"text_4\">\n      <!-- Health and beauty -->\n      <g style=\"fill: #262626\" transform=\"translate(250.120103 321.895137) rotate(-45) scale(0.11 -0.11)\">\n       <defs>\n        <path id=\"ArialMT-48\" d=\"M 513 0 \nL 513 4581 \nL 1119 4581 \nL 1119 2700 \nL 3500 2700 \nL 3500 4581 \nL 4106 4581 \nL 4106 0 \nL 3500 0 \nL 3500 2159 \nL 1119 2159 \nL 1119 0 \nL 513 0 \nz\n\" transform=\"scale(0.015625)\"/>\n        <path id=\"ArialMT-75\" d=\"M 2597 0 \nL 2597 488 \nQ 2209 -75 1544 -75 \nQ 1250 -75 995 37 \nQ 741 150 617 320 \nQ 494 491 444 738 \nQ 409 903 409 1263 \nL 409 3319 \nL 972 3319 \nL 972 1478 \nQ 972 1038 1006 884 \nQ 1059 663 1231 536 \nQ 1403 409 1656 409 \nQ 1909 409 2131 539 \nQ 2353 669 2445 892 \nQ 2538 1116 2538 1541 \nL 2538 3319 \nL 3100 3319 \nL 3100 0 \nL 2597 0 \nz\n\" transform=\"scale(0.015625)\"/>\n        <path id=\"ArialMT-79\" d=\"M 397 -1278 \nL 334 -750 \nQ 519 -800 656 -800 \nQ 844 -800 956 -737 \nQ 1069 -675 1141 -563 \nQ 1194 -478 1313 -144 \nQ 1328 -97 1363 -6 \nL 103 3319 \nL 709 3319 \nL 1400 1397 \nQ 1534 1031 1641 628 \nQ 1738 1016 1872 1384 \nL 2581 3319 \nL 3144 3319 \nL 1881 -56 \nQ 1678 -603 1566 -809 \nQ 1416 -1088 1222 -1217 \nQ 1028 -1347 759 -1347 \nQ 597 -1347 397 -1278 \nz\n\" transform=\"scale(0.015625)\"/>\n       </defs>\n       <use xlink:href=\"#ArialMT-48\"/>\n       <use xlink:href=\"#ArialMT-65\" transform=\"translate(72.216797 0)\"/>\n       <use xlink:href=\"#ArialMT-61\" transform=\"translate(127.832031 0)\"/>\n       <use xlink:href=\"#ArialMT-6c\" transform=\"translate(183.447266 0)\"/>\n       <use xlink:href=\"#ArialMT-74\" transform=\"translate(205.664062 0)\"/>\n       <use xlink:href=\"#ArialMT-68\" transform=\"translate(233.447266 0)\"/>\n       <use xlink:href=\"#ArialMT-20\" transform=\"translate(289.0625 0)\"/>\n       <use xlink:href=\"#ArialMT-61\" transform=\"translate(316.845703 0)\"/>\n       <use xlink:href=\"#ArialMT-6e\" transform=\"translate(372.460938 0)\"/>\n       <use xlink:href=\"#ArialMT-64\" transform=\"translate(428.076172 0)\"/>\n       <use xlink:href=\"#ArialMT-20\" transform=\"translate(483.691406 0)\"/>\n       <use xlink:href=\"#ArialMT-62\" transform=\"translate(511.474609 0)\"/>\n       <use xlink:href=\"#ArialMT-65\" transform=\"translate(567.089844 0)\"/>\n       <use xlink:href=\"#ArialMT-61\" transform=\"translate(622.705078 0)\"/>\n       <use xlink:href=\"#ArialMT-75\" transform=\"translate(678.320312 0)\"/>\n       <use xlink:href=\"#ArialMT-74\" transform=\"translate(733.935547 0)\"/>\n       <use xlink:href=\"#ArialMT-79\" transform=\"translate(761.71875 0)\"/>\n      </g>\n     </g>\n    </g>\n    <g id=\"xtick_5\">\n     <g id=\"line2d_5\">\n      <path d=\"M 389.289206 243.695625 \nL 389.289206 21.935625 \n\" clip-path=\"url(#p6b9560529e)\" style=\"fill: none; stroke: #ffffff; stroke-linecap: round\"/>\n     </g>\n     <g id=\"text_5\">\n      <!-- Home and lifestyle -->\n      <g style=\"fill: #262626\" transform=\"translate(323.671796 322.83824) rotate(-45) scale(0.11 -0.11)\">\n       <defs>\n        <path id=\"ArialMT-6d\" d=\"M 422 0 \nL 422 3319 \nL 925 3319 \nL 925 2853 \nQ 1081 3097 1340 3245 \nQ 1600 3394 1931 3394 \nQ 2300 3394 2536 3241 \nQ 2772 3088 2869 2813 \nQ 3263 3394 3894 3394 \nQ 4388 3394 4653 3120 \nQ 4919 2847 4919 2278 \nL 4919 0 \nL 4359 0 \nL 4359 2091 \nQ 4359 2428 4304 2576 \nQ 4250 2725 4106 2815 \nQ 3963 2906 3769 2906 \nQ 3419 2906 3187 2673 \nQ 2956 2441 2956 1928 \nL 2956 0 \nL 2394 0 \nL 2394 2156 \nQ 2394 2531 2256 2718 \nQ 2119 2906 1806 2906 \nQ 1569 2906 1367 2781 \nQ 1166 2656 1075 2415 \nQ 984 2175 984 1722 \nL 984 0 \nL 422 0 \nz\n\" transform=\"scale(0.015625)\"/>\n        <path id=\"ArialMT-66\" d=\"M 556 0 \nL 556 2881 \nL 59 2881 \nL 59 3319 \nL 556 3319 \nL 556 3672 \nQ 556 4006 616 4169 \nQ 697 4388 901 4523 \nQ 1106 4659 1475 4659 \nQ 1713 4659 2000 4603 \nL 1916 4113 \nQ 1741 4144 1584 4144 \nQ 1328 4144 1222 4034 \nQ 1116 3925 1116 3625 \nL 1116 3319 \nL 1763 3319 \nL 1763 2881 \nL 1116 2881 \nL 1116 0 \nL 556 0 \nz\n\" transform=\"scale(0.015625)\"/>\n       </defs>\n       <use xlink:href=\"#ArialMT-48\"/>\n       <use xlink:href=\"#ArialMT-6f\" transform=\"translate(72.216797 0)\"/>\n       <use xlink:href=\"#ArialMT-6d\" transform=\"translate(127.832031 0)\"/>\n       <use xlink:href=\"#ArialMT-65\" transform=\"translate(211.132812 0)\"/>\n       <use xlink:href=\"#ArialMT-20\" transform=\"translate(266.748047 0)\"/>\n       <use xlink:href=\"#ArialMT-61\" transform=\"translate(294.53125 0)\"/>\n       <use xlink:href=\"#ArialMT-6e\" transform=\"translate(350.146484 0)\"/>\n       <use xlink:href=\"#ArialMT-64\" transform=\"translate(405.761719 0)\"/>\n       <use xlink:href=\"#ArialMT-20\" transform=\"translate(461.376953 0)\"/>\n       <use xlink:href=\"#ArialMT-6c\" transform=\"translate(489.160156 0)\"/>\n       <use xlink:href=\"#ArialMT-69\" transform=\"translate(511.376953 0)\"/>\n       <use xlink:href=\"#ArialMT-66\" transform=\"translate(533.59375 0)\"/>\n       <use xlink:href=\"#ArialMT-65\" transform=\"translate(561.376953 0)\"/>\n       <use xlink:href=\"#ArialMT-73\" transform=\"translate(616.992188 0)\"/>\n       <use xlink:href=\"#ArialMT-74\" transform=\"translate(666.992188 0)\"/>\n       <use xlink:href=\"#ArialMT-79\" transform=\"translate(694.775391 0)\"/>\n       <use xlink:href=\"#ArialMT-6c\" transform=\"translate(744.775391 0)\"/>\n       <use xlink:href=\"#ArialMT-65\" transform=\"translate(766.992188 0)\"/>\n      </g>\n     </g>\n    </g>\n    <g id=\"xtick_6\">\n     <g id=\"line2d_6\">\n      <path d=\"M 463.689206 243.695625 \nL 463.689206 21.935625 \n\" clip-path=\"url(#p6b9560529e)\" style=\"fill: none; stroke: #ffffff; stroke-linecap: round\"/>\n     </g>\n     <g id=\"text_6\">\n      <!-- Sports and travel -->\n      <g style=\"fill: #262626\" transform=\"translate(403.347586 317.653601) rotate(-45) scale(0.11 -0.11)\">\n       <defs>\n        <path id=\"ArialMT-53\" d=\"M 288 1472 \nL 859 1522 \nQ 900 1178 1048 958 \nQ 1197 738 1509 602 \nQ 1822 466 2213 466 \nQ 2559 466 2825 569 \nQ 3091 672 3220 851 \nQ 3350 1031 3350 1244 \nQ 3350 1459 3225 1620 \nQ 3100 1781 2813 1891 \nQ 2628 1963 1997 2114 \nQ 1366 2266 1113 2400 \nQ 784 2572 623 2826 \nQ 463 3081 463 3397 \nQ 463 3744 659 4045 \nQ 856 4347 1234 4503 \nQ 1613 4659 2075 4659 \nQ 2584 4659 2973 4495 \nQ 3363 4331 3572 4012 \nQ 3781 3694 3797 3291 \nL 3216 3247 \nQ 3169 3681 2898 3903 \nQ 2628 4125 2100 4125 \nQ 1550 4125 1298 3923 \nQ 1047 3722 1047 3438 \nQ 1047 3191 1225 3031 \nQ 1400 2872 2139 2705 \nQ 2878 2538 3153 2413 \nQ 3553 2228 3743 1945 \nQ 3934 1663 3934 1294 \nQ 3934 928 3725 604 \nQ 3516 281 3123 101 \nQ 2731 -78 2241 -78 \nQ 1619 -78 1198 103 \nQ 778 284 539 648 \nQ 300 1013 288 1472 \nz\n\" transform=\"scale(0.015625)\"/>\n        <path id=\"ArialMT-70\" d=\"M 422 -1272 \nL 422 3319 \nL 934 3319 \nL 934 2888 \nQ 1116 3141 1344 3267 \nQ 1572 3394 1897 3394 \nQ 2322 3394 2647 3175 \nQ 2972 2956 3137 2557 \nQ 3303 2159 3303 1684 \nQ 3303 1175 3120 767 \nQ 2938 359 2589 142 \nQ 2241 -75 1856 -75 \nQ 1575 -75 1351 44 \nQ 1128 163 984 344 \nL 984 -1272 \nL 422 -1272 \nz\nM 931 1641 \nQ 931 1000 1190 694 \nQ 1450 388 1819 388 \nQ 2194 388 2461 705 \nQ 2728 1022 2728 1688 \nQ 2728 2322 2467 2637 \nQ 2206 2953 1844 2953 \nQ 1484 2953 1207 2617 \nQ 931 2281 931 1641 \nz\n\" transform=\"scale(0.015625)\"/>\n       </defs>\n       <use xlink:href=\"#ArialMT-53\"/>\n       <use xlink:href=\"#ArialMT-70\" transform=\"translate(66.699219 0)\"/>\n       <use xlink:href=\"#ArialMT-6f\" transform=\"translate(122.314453 0)\"/>\n       <use xlink:href=\"#ArialMT-72\" transform=\"translate(177.929688 0)\"/>\n       <use xlink:href=\"#ArialMT-74\" transform=\"translate(211.230469 0)\"/>\n       <use xlink:href=\"#ArialMT-73\" transform=\"translate(239.013672 0)\"/>\n       <use xlink:href=\"#ArialMT-20\" transform=\"translate(289.013672 0)\"/>\n       <use xlink:href=\"#ArialMT-61\" transform=\"translate(316.796875 0)\"/>\n       <use xlink:href=\"#ArialMT-6e\" transform=\"translate(372.412109 0)\"/>\n       <use xlink:href=\"#ArialMT-64\" transform=\"translate(428.027344 0)\"/>\n       <use xlink:href=\"#ArialMT-20\" transform=\"translate(483.642578 0)\"/>\n       <use xlink:href=\"#ArialMT-74\" transform=\"translate(511.425781 0)\"/>\n       <use xlink:href=\"#ArialMT-72\" transform=\"translate(539.208984 0)\"/>\n       <use xlink:href=\"#ArialMT-61\" transform=\"translate(572.509766 0)\"/>\n       <use xlink:href=\"#ArialMT-76\" transform=\"translate(628.125 0)\"/>\n       <use xlink:href=\"#ArialMT-65\" transform=\"translate(678.125 0)\"/>\n       <use xlink:href=\"#ArialMT-6c\" transform=\"translate(733.740234 0)\"/>\n      </g>\n     </g>\n    </g>\n    <g id=\"text_7\">\n     <!-- Product line -->\n     <g style=\"fill: #262626\" transform=\"translate(246.006394 350.274206) scale(0.12 -0.12)\">\n      <defs>\n       <path id=\"ArialMT-50\" d=\"M 494 0 \nL 494 4581 \nL 2222 4581 \nQ 2678 4581 2919 4538 \nQ 3256 4481 3484 4323 \nQ 3713 4166 3852 3881 \nQ 3991 3597 3991 3256 \nQ 3991 2672 3619 2267 \nQ 3247 1863 2275 1863 \nL 1100 1863 \nL 1100 0 \nL 494 0 \nz\nM 1100 2403 \nL 2284 2403 \nQ 2872 2403 3119 2622 \nQ 3366 2841 3366 3238 \nQ 3366 3525 3220 3729 \nQ 3075 3934 2838 4000 \nQ 2684 4041 2272 4041 \nL 1100 4041 \nL 1100 2403 \nz\n\" transform=\"scale(0.015625)\"/>\n      </defs>\n      <use xlink:href=\"#ArialMT-50\"/>\n      <use xlink:href=\"#ArialMT-72\" transform=\"translate(66.699219 0)\"/>\n      <use xlink:href=\"#ArialMT-6f\" transform=\"translate(100 0)\"/>\n      <use xlink:href=\"#ArialMT-64\" transform=\"translate(155.615234 0)\"/>\n      <use xlink:href=\"#ArialMT-75\" transform=\"translate(211.230469 0)\"/>\n      <use xlink:href=\"#ArialMT-63\" transform=\"translate(266.845703 0)\"/>\n      <use xlink:href=\"#ArialMT-74\" transform=\"translate(316.845703 0)\"/>\n      <use xlink:href=\"#ArialMT-20\" transform=\"translate(344.628906 0)\"/>\n      <use xlink:href=\"#ArialMT-6c\" transform=\"translate(372.412109 0)\"/>\n      <use xlink:href=\"#ArialMT-69\" transform=\"translate(394.628906 0)\"/>\n      <use xlink:href=\"#ArialMT-6e\" transform=\"translate(416.845703 0)\"/>\n      <use xlink:href=\"#ArialMT-65\" transform=\"translate(472.460938 0)\"/>\n     </g>\n    </g>\n   </g>\n   <g id=\"matplotlib.axis_2\">\n    <g id=\"ytick_1\">\n     <g id=\"line2d_7\">\n      <path d=\"M 54.489206 243.695625 \nL 500.889206 243.695625 \n\" clip-path=\"url(#p6b9560529e)\" style=\"fill: none; stroke: #ffffff; stroke-linecap: round\"/>\n     </g>\n     <g id=\"text_8\">\n      <!-- 0 -->\n      <g style=\"fill: #262626\" transform=\"translate(38.872175 247.632422) scale(0.11 -0.11)\">\n       <defs>\n        <path id=\"ArialMT-30\" d=\"M 266 2259 \nQ 266 3072 433 3567 \nQ 600 4063 929 4331 \nQ 1259 4600 1759 4600 \nQ 2128 4600 2406 4451 \nQ 2684 4303 2865 4023 \nQ 3047 3744 3150 3342 \nQ 3253 2941 3253 2259 \nQ 3253 1453 3087 958 \nQ 2922 463 2592 192 \nQ 2263 -78 1759 -78 \nQ 1097 -78 719 397 \nQ 266 969 266 2259 \nz\nM 844 2259 \nQ 844 1131 1108 757 \nQ 1372 384 1759 384 \nQ 2147 384 2411 759 \nQ 2675 1134 2675 2259 \nQ 2675 3391 2411 3762 \nQ 2147 4134 1753 4134 \nQ 1366 4134 1134 3806 \nQ 844 3388 844 2259 \nz\n\" transform=\"scale(0.015625)\"/>\n       </defs>\n       <use xlink:href=\"#ArialMT-30\"/>\n      </g>\n     </g>\n    </g>\n    <g id=\"ytick_2\">\n     <g id=\"line2d_8\">\n      <path d=\"M 54.489206 211.695625 \nL 500.889206 211.695625 \n\" clip-path=\"url(#p6b9560529e)\" style=\"fill: none; stroke: #ffffff; stroke-linecap: round\"/>\n     </g>\n     <g id=\"text_9\">\n      <!-- 20 -->\n      <g style=\"fill: #262626\" transform=\"translate(32.755144 215.632422) scale(0.11 -0.11)\">\n       <defs>\n        <path id=\"ArialMT-32\" d=\"M 3222 541 \nL 3222 0 \nL 194 0 \nQ 188 203 259 391 \nQ 375 700 629 1000 \nQ 884 1300 1366 1694 \nQ 2113 2306 2375 2664 \nQ 2638 3022 2638 3341 \nQ 2638 3675 2398 3904 \nQ 2159 4134 1775 4134 \nQ 1369 4134 1125 3890 \nQ 881 3647 878 3216 \nL 300 3275 \nQ 359 3922 746 4261 \nQ 1134 4600 1788 4600 \nQ 2447 4600 2831 4234 \nQ 3216 3869 3216 3328 \nQ 3216 3053 3103 2787 \nQ 2991 2522 2730 2228 \nQ 2469 1934 1863 1422 \nQ 1356 997 1212 845 \nQ 1069 694 975 541 \nL 3222 541 \nz\n\" transform=\"scale(0.015625)\"/>\n       </defs>\n       <use xlink:href=\"#ArialMT-32\"/>\n       <use xlink:href=\"#ArialMT-30\" transform=\"translate(55.615234 0)\"/>\n      </g>\n     </g>\n    </g>\n    <g id=\"ytick_3\">\n     <g id=\"line2d_9\">\n      <path d=\"M 54.489206 179.695625 \nL 500.889206 179.695625 \n\" clip-path=\"url(#p6b9560529e)\" style=\"fill: none; stroke: #ffffff; stroke-linecap: round\"/>\n     </g>\n     <g id=\"text_10\">\n      <!-- 40 -->\n      <g style=\"fill: #262626\" transform=\"translate(32.755144 183.632422) scale(0.11 -0.11)\">\n       <defs>\n        <path id=\"ArialMT-34\" d=\"M 2069 0 \nL 2069 1097 \nL 81 1097 \nL 81 1613 \nL 2172 4581 \nL 2631 4581 \nL 2631 1613 \nL 3250 1613 \nL 3250 1097 \nL 2631 1097 \nL 2631 0 \nL 2069 0 \nz\nM 2069 1613 \nL 2069 3678 \nL 634 1613 \nL 2069 1613 \nz\n\" transform=\"scale(0.015625)\"/>\n       </defs>\n       <use xlink:href=\"#ArialMT-34\"/>\n       <use xlink:href=\"#ArialMT-30\" transform=\"translate(55.615234 0)\"/>\n      </g>\n     </g>\n    </g>\n    <g id=\"ytick_4\">\n     <g id=\"line2d_10\">\n      <path d=\"M 54.489206 147.695625 \nL 500.889206 147.695625 \n\" clip-path=\"url(#p6b9560529e)\" style=\"fill: none; stroke: #ffffff; stroke-linecap: round\"/>\n     </g>\n     <g id=\"text_11\">\n      <!-- 60 -->\n      <g style=\"fill: #262626\" transform=\"translate(32.755144 151.632422) scale(0.11 -0.11)\">\n       <defs>\n        <path id=\"ArialMT-36\" d=\"M 3184 3459 \nL 2625 3416 \nQ 2550 3747 2413 3897 \nQ 2184 4138 1850 4138 \nQ 1581 4138 1378 3988 \nQ 1113 3794 959 3422 \nQ 806 3050 800 2363 \nQ 1003 2672 1297 2822 \nQ 1591 2972 1913 2972 \nQ 2475 2972 2870 2558 \nQ 3266 2144 3266 1488 \nQ 3266 1056 3080 686 \nQ 2894 316 2569 119 \nQ 2244 -78 1831 -78 \nQ 1128 -78 684 439 \nQ 241 956 241 2144 \nQ 241 3472 731 4075 \nQ 1159 4600 1884 4600 \nQ 2425 4600 2770 4297 \nQ 3116 3994 3184 3459 \nz\nM 888 1484 \nQ 888 1194 1011 928 \nQ 1134 663 1356 523 \nQ 1578 384 1822 384 \nQ 2178 384 2434 671 \nQ 2691 959 2691 1453 \nQ 2691 1928 2437 2201 \nQ 2184 2475 1800 2475 \nQ 1419 2475 1153 2201 \nQ 888 1928 888 1484 \nz\n\" transform=\"scale(0.015625)\"/>\n       </defs>\n       <use xlink:href=\"#ArialMT-36\"/>\n       <use xlink:href=\"#ArialMT-30\" transform=\"translate(55.615234 0)\"/>\n      </g>\n     </g>\n    </g>\n    <g id=\"ytick_5\">\n     <g id=\"line2d_11\">\n      <path d=\"M 54.489206 115.695625 \nL 500.889206 115.695625 \n\" clip-path=\"url(#p6b9560529e)\" style=\"fill: none; stroke: #ffffff; stroke-linecap: round\"/>\n     </g>\n     <g id=\"text_12\">\n      <!-- 80 -->\n      <g style=\"fill: #262626\" transform=\"translate(32.755144 119.632422) scale(0.11 -0.11)\">\n       <defs>\n        <path id=\"ArialMT-38\" d=\"M 1131 2484 \nQ 781 2613 612 2850 \nQ 444 3088 444 3419 \nQ 444 3919 803 4259 \nQ 1163 4600 1759 4600 \nQ 2359 4600 2725 4251 \nQ 3091 3903 3091 3403 \nQ 3091 3084 2923 2848 \nQ 2756 2613 2416 2484 \nQ 2838 2347 3058 2040 \nQ 3278 1734 3278 1309 \nQ 3278 722 2862 322 \nQ 2447 -78 1769 -78 \nQ 1091 -78 675 323 \nQ 259 725 259 1325 \nQ 259 1772 486 2073 \nQ 713 2375 1131 2484 \nz\nM 1019 3438 \nQ 1019 3113 1228 2906 \nQ 1438 2700 1772 2700 \nQ 2097 2700 2305 2904 \nQ 2513 3109 2513 3406 \nQ 2513 3716 2298 3927 \nQ 2084 4138 1766 4138 \nQ 1444 4138 1231 3931 \nQ 1019 3725 1019 3438 \nz\nM 838 1322 \nQ 838 1081 952 856 \nQ 1066 631 1291 507 \nQ 1516 384 1775 384 \nQ 2178 384 2440 643 \nQ 2703 903 2703 1303 \nQ 2703 1709 2433 1975 \nQ 2163 2241 1756 2241 \nQ 1359 2241 1098 1978 \nQ 838 1716 838 1322 \nz\n\" transform=\"scale(0.015625)\"/>\n       </defs>\n       <use xlink:href=\"#ArialMT-38\"/>\n       <use xlink:href=\"#ArialMT-30\" transform=\"translate(55.615234 0)\"/>\n      </g>\n     </g>\n    </g>\n    <g id=\"ytick_6\">\n     <g id=\"line2d_12\">\n      <path d=\"M 54.489206 83.695625 \nL 500.889206 83.695625 \n\" clip-path=\"url(#p6b9560529e)\" style=\"fill: none; stroke: #ffffff; stroke-linecap: round\"/>\n     </g>\n     <g id=\"text_13\">\n      <!-- 100 -->\n      <g style=\"fill: #262626\" transform=\"translate(26.638112 87.632422) scale(0.11 -0.11)\">\n       <defs>\n        <path id=\"ArialMT-31\" d=\"M 2384 0 \nL 1822 0 \nL 1822 3584 \nQ 1619 3391 1289 3197 \nQ 959 3003 697 2906 \nL 697 3450 \nQ 1169 3672 1522 3987 \nQ 1875 4303 2022 4600 \nL 2384 4600 \nL 2384 0 \nz\n\" transform=\"scale(0.015625)\"/>\n       </defs>\n       <use xlink:href=\"#ArialMT-31\"/>\n       <use xlink:href=\"#ArialMT-30\" transform=\"translate(55.615234 0)\"/>\n       <use xlink:href=\"#ArialMT-30\" transform=\"translate(111.230469 0)\"/>\n      </g>\n     </g>\n    </g>\n    <g id=\"ytick_7\">\n     <g id=\"line2d_13\">\n      <path d=\"M 54.489206 51.695625 \nL 500.889206 51.695625 \n\" clip-path=\"url(#p6b9560529e)\" style=\"fill: none; stroke: #ffffff; stroke-linecap: round\"/>\n     </g>\n     <g id=\"text_14\">\n      <!-- 120 -->\n      <g style=\"fill: #262626\" transform=\"translate(26.638112 55.632422) scale(0.11 -0.11)\">\n       <use xlink:href=\"#ArialMT-31\"/>\n       <use xlink:href=\"#ArialMT-32\" transform=\"translate(55.615234 0)\"/>\n       <use xlink:href=\"#ArialMT-30\" transform=\"translate(111.230469 0)\"/>\n      </g>\n     </g>\n    </g>\n    <g id=\"text_15\">\n     <!-- Quantity sold -->\n     <g style=\"fill: #262626\" transform=\"translate(20.112487 167.832188) rotate(-90) scale(0.12 -0.12)\">\n      <defs>\n       <path id=\"ArialMT-51\" d=\"M 3966 491 \nQ 4388 200 4744 66 \nL 4566 -356 \nQ 4072 -178 3581 206 \nQ 3072 -78 2456 -78 \nQ 1834 -78 1328 222 \nQ 822 522 548 1065 \nQ 275 1609 275 2291 \nQ 275 2969 550 3525 \nQ 825 4081 1333 4372 \nQ 1841 4663 2469 4663 \nQ 3103 4663 3612 4361 \nQ 4122 4059 4389 3517 \nQ 4656 2975 4656 2294 \nQ 4656 1728 4484 1276 \nQ 4313 825 3966 491 \nz\nM 2631 1266 \nQ 3156 1119 3497 828 \nQ 4031 1316 4031 2294 \nQ 4031 2850 3842 3265 \nQ 3653 3681 3289 3911 \nQ 2925 4141 2472 4141 \nQ 1794 4141 1347 3677 \nQ 900 3213 900 2291 \nQ 900 1397 1342 919 \nQ 1784 441 2472 441 \nQ 2797 441 3084 563 \nQ 2800 747 2484 825 \nL 2631 1266 \nz\n\" transform=\"scale(0.015625)\"/>\n      </defs>\n      <use xlink:href=\"#ArialMT-51\"/>\n      <use xlink:href=\"#ArialMT-75\" transform=\"translate(77.783203 0)\"/>\n      <use xlink:href=\"#ArialMT-61\" transform=\"translate(133.398438 0)\"/>\n      <use xlink:href=\"#ArialMT-6e\" transform=\"translate(189.013672 0)\"/>\n      <use xlink:href=\"#ArialMT-74\" transform=\"translate(244.628906 0)\"/>\n      <use xlink:href=\"#ArialMT-69\" transform=\"translate(272.412109 0)\"/>\n      <use xlink:href=\"#ArialMT-74\" transform=\"translate(294.628906 0)\"/>\n      <use xlink:href=\"#ArialMT-79\" transform=\"translate(322.412109 0)\"/>\n      <use xlink:href=\"#ArialMT-20\" transform=\"translate(372.412109 0)\"/>\n      <use xlink:href=\"#ArialMT-73\" transform=\"translate(400.195312 0)\"/>\n      <use xlink:href=\"#ArialMT-6f\" transform=\"translate(450.195312 0)\"/>\n      <use xlink:href=\"#ArialMT-6c\" transform=\"translate(505.810547 0)\"/>\n      <use xlink:href=\"#ArialMT-64\" transform=\"translate(528.027344 0)\"/>\n     </g>\n    </g>\n   </g>\n   <g id=\"patch_3\">\n    <path d=\"M 73.089206 243.695625 \nL 110.289206 243.695625 \nL 110.289206 170.095625 \nL 73.089206 170.095625 \nz\n\" clip-path=\"url(#p6b9560529e)\" style=\"fill: #da70d6; stroke: #ffffff; stroke-linejoin: miter\"/>\n   </g>\n   <g id=\"patch_4\">\n    <path d=\"M 147.489206 243.695625 \nL 184.689206 243.695625 \nL 184.689206 136.495625 \nL 147.489206 136.495625 \nz\n\" clip-path=\"url(#p6b9560529e)\" style=\"fill: #da70d6; stroke: #ffffff; stroke-linejoin: miter\"/>\n   </g>\n   <g id=\"patch_5\">\n    <path d=\"M 221.889206 243.695625 \nL 259.089206 243.695625 \nL 259.089206 126.895625 \nL 221.889206 126.895625 \nz\n\" clip-path=\"url(#p6b9560529e)\" style=\"fill: #da70d6; stroke: #ffffff; stroke-linejoin: miter\"/>\n   </g>\n   <g id=\"patch_6\">\n    <path d=\"M 296.289206 243.695625 \nL 333.489206 243.695625 \nL 333.489206 118.895625 \nL 296.289206 118.895625 \nz\n\" clip-path=\"url(#p6b9560529e)\" style=\"fill: #da70d6; stroke: #ffffff; stroke-linejoin: miter\"/>\n   </g>\n   <g id=\"patch_7\">\n    <path d=\"M 370.689206 243.695625 \nL 407.889206 243.695625 \nL 407.889206 181.295625 \nL 370.689206 181.295625 \nz\n\" clip-path=\"url(#p6b9560529e)\" style=\"fill: #da70d6; stroke: #ffffff; stroke-linejoin: miter\"/>\n   </g>\n   <g id=\"patch_8\">\n    <path d=\"M 445.089206 243.695625 \nL 482.289206 243.695625 \nL 482.289206 173.295625 \nL 445.089206 173.295625 \nz\n\" clip-path=\"url(#p6b9560529e)\" style=\"fill: #da70d6; stroke: #ffffff; stroke-linejoin: miter\"/>\n   </g>\n   <g id=\"patch_9\">\n    <path d=\"M 73.089206 170.095625 \nL 110.289206 170.095625 \nL 110.289206 96.495625 \nL 73.089206 96.495625 \nz\n\" clip-path=\"url(#p6b9560529e)\" style=\"fill: #008080; stroke: #ffffff; stroke-linejoin: miter\"/>\n   </g>\n   <g id=\"patch_10\">\n    <path d=\"M 147.489206 243.695625 \nL 184.689206 243.695625 \nL 184.689206 243.695625 \nL 147.489206 243.695625 \nz\n\" clip-path=\"url(#p6b9560529e)\" style=\"fill: #008080; stroke: #ffffff; stroke-linejoin: miter\"/>\n   </g>\n   <g id=\"patch_11\">\n    <path d=\"M 221.889206 126.895625 \nL 259.089206 126.895625 \nL 259.089206 32.495625 \nL 221.889206 32.495625 \nz\n\" clip-path=\"url(#p6b9560529e)\" style=\"fill: #008080; stroke: #ffffff; stroke-linejoin: miter\"/>\n   </g>\n   <g id=\"patch_12\">\n    <path d=\"M 296.289206 243.695625 \nL 333.489206 243.695625 \nL 333.489206 243.695625 \nL 296.289206 243.695625 \nz\n\" clip-path=\"url(#p6b9560529e)\" style=\"fill: #008080; stroke: #ffffff; stroke-linejoin: miter\"/>\n   </g>\n   <g id=\"patch_13\">\n    <path d=\"M 370.689206 181.295625 \nL 407.889206 181.295625 \nL 407.889206 104.495625 \nL 370.689206 104.495625 \nz\n\" clip-path=\"url(#p6b9560529e)\" style=\"fill: #008080; stroke: #ffffff; stroke-linejoin: miter\"/>\n   </g>\n   <g id=\"patch_14\">\n    <path d=\"M 445.089206 173.295625 \nL 482.289206 173.295625 \nL 482.289206 157.295625 \nL 445.089206 157.295625 \nz\n\" clip-path=\"url(#p6b9560529e)\" style=\"fill: #008080; stroke: #ffffff; stroke-linejoin: miter\"/>\n   </g>\n   <g id=\"patch_15\">\n    <path d=\"M 54.489206 243.695625 \nL 54.489206 21.935625 \n\" style=\"fill: none; stroke: #ffffff; stroke-width: 1.25; stroke-linejoin: miter; stroke-linecap: square\"/>\n   </g>\n   <g id=\"patch_16\">\n    <path d=\"M 500.889206 243.695625 \nL 500.889206 21.935625 \n\" style=\"fill: none; stroke: #ffffff; stroke-width: 1.25; stroke-linejoin: miter; stroke-linecap: square\"/>\n   </g>\n   <g id=\"patch_17\">\n    <path d=\"M 54.489206 243.695625 \nL 500.889206 243.695625 \n\" style=\"fill: none; stroke: #ffffff; stroke-width: 1.25; stroke-linejoin: miter; stroke-linecap: square\"/>\n   </g>\n   <g id=\"patch_18\">\n    <path d=\"M 54.489206 21.935625 \nL 500.889206 21.935625 \n\" style=\"fill: none; stroke: #ffffff; stroke-width: 1.25; stroke-linejoin: miter; stroke-linecap: square\"/>\n   </g>\n   <g id=\"text_16\">\n    <!-- Number of Products Sold per Category by Gender -->\n    <g style=\"fill: #262626\" transform=\"translate(144.631706 15.935625) scale(0.12 -0.12)\">\n     <defs>\n      <path id=\"ArialMT-4e\" d=\"M 488 0 \nL 488 4581 \nL 1109 4581 \nL 3516 984 \nL 3516 4581 \nL 4097 4581 \nL 4097 0 \nL 3475 0 \nL 1069 3600 \nL 1069 0 \nL 488 0 \nz\n\" transform=\"scale(0.015625)\"/>\n      <path id=\"ArialMT-43\" d=\"M 3763 1606 \nL 4369 1453 \nQ 4178 706 3683 314 \nQ 3188 -78 2472 -78 \nQ 1731 -78 1267 223 \nQ 803 525 561 1097 \nQ 319 1669 319 2325 \nQ 319 3041 592 3573 \nQ 866 4106 1370 4382 \nQ 1875 4659 2481 4659 \nQ 3169 4659 3637 4309 \nQ 4106 3959 4291 3325 \nL 3694 3184 \nQ 3534 3684 3231 3912 \nQ 2928 4141 2469 4141 \nQ 1941 4141 1586 3887 \nQ 1231 3634 1087 3207 \nQ 944 2781 944 2328 \nQ 944 1744 1114 1308 \nQ 1284 872 1643 656 \nQ 2003 441 2422 441 \nQ 2931 441 3284 734 \nQ 3638 1028 3763 1606 \nz\n\" transform=\"scale(0.015625)\"/>\n      <path id=\"ArialMT-47\" d=\"M 2638 1797 \nL 2638 2334 \nL 4578 2338 \nL 4578 638 \nQ 4131 281 3656 101 \nQ 3181 -78 2681 -78 \nQ 2006 -78 1454 211 \nQ 903 500 622 1047 \nQ 341 1594 341 2269 \nQ 341 2938 620 3517 \nQ 900 4097 1425 4378 \nQ 1950 4659 2634 4659 \nQ 3131 4659 3532 4498 \nQ 3934 4338 4162 4050 \nQ 4391 3763 4509 3300 \nL 3963 3150 \nQ 3859 3500 3706 3700 \nQ 3553 3900 3268 4020 \nQ 2984 4141 2638 4141 \nQ 2222 4141 1919 4014 \nQ 1616 3888 1430 3681 \nQ 1244 3475 1141 3228 \nQ 966 2803 966 2306 \nQ 966 1694 1177 1281 \nQ 1388 869 1791 669 \nQ 2194 469 2647 469 \nQ 3041 469 3416 620 \nQ 3791 772 3984 944 \nL 3984 1797 \nL 2638 1797 \nz\n\" transform=\"scale(0.015625)\"/>\n     </defs>\n     <use xlink:href=\"#ArialMT-4e\"/>\n     <use xlink:href=\"#ArialMT-75\" transform=\"translate(72.216797 0)\"/>\n     <use xlink:href=\"#ArialMT-6d\" transform=\"translate(127.832031 0)\"/>\n     <use xlink:href=\"#ArialMT-62\" transform=\"translate(211.132812 0)\"/>\n     <use xlink:href=\"#ArialMT-65\" transform=\"translate(266.748047 0)\"/>\n     <use xlink:href=\"#ArialMT-72\" transform=\"translate(322.363281 0)\"/>\n     <use xlink:href=\"#ArialMT-20\" transform=\"translate(355.664062 0)\"/>\n     <use xlink:href=\"#ArialMT-6f\" transform=\"translate(383.447266 0)\"/>\n     <use xlink:href=\"#ArialMT-66\" transform=\"translate(439.0625 0)\"/>\n     <use xlink:href=\"#ArialMT-20\" transform=\"translate(466.845703 0)\"/>\n     <use xlink:href=\"#ArialMT-50\" transform=\"translate(494.628906 0)\"/>\n     <use xlink:href=\"#ArialMT-72\" transform=\"translate(561.328125 0)\"/>\n     <use xlink:href=\"#ArialMT-6f\" transform=\"translate(594.628906 0)\"/>\n     <use xlink:href=\"#ArialMT-64\" transform=\"translate(650.244141 0)\"/>\n     <use xlink:href=\"#ArialMT-75\" transform=\"translate(705.859375 0)\"/>\n     <use xlink:href=\"#ArialMT-63\" transform=\"translate(761.474609 0)\"/>\n     <use xlink:href=\"#ArialMT-74\" transform=\"translate(811.474609 0)\"/>\n     <use xlink:href=\"#ArialMT-73\" transform=\"translate(839.257812 0)\"/>\n     <use xlink:href=\"#ArialMT-20\" transform=\"translate(889.257812 0)\"/>\n     <use xlink:href=\"#ArialMT-53\" transform=\"translate(917.041016 0)\"/>\n     <use xlink:href=\"#ArialMT-6f\" transform=\"translate(983.740234 0)\"/>\n     <use xlink:href=\"#ArialMT-6c\" transform=\"translate(1039.355469 0)\"/>\n     <use xlink:href=\"#ArialMT-64\" transform=\"translate(1061.572266 0)\"/>\n     <use xlink:href=\"#ArialMT-20\" transform=\"translate(1117.1875 0)\"/>\n     <use xlink:href=\"#ArialMT-70\" transform=\"translate(1144.970703 0)\"/>\n     <use xlink:href=\"#ArialMT-65\" transform=\"translate(1200.585938 0)\"/>\n     <use xlink:href=\"#ArialMT-72\" transform=\"translate(1256.201172 0)\"/>\n     <use xlink:href=\"#ArialMT-20\" transform=\"translate(1289.501953 0)\"/>\n     <use xlink:href=\"#ArialMT-43\" transform=\"translate(1317.285156 0)\"/>\n     <use xlink:href=\"#ArialMT-61\" transform=\"translate(1389.501953 0)\"/>\n     <use xlink:href=\"#ArialMT-74\" transform=\"translate(1445.117188 0)\"/>\n     <use xlink:href=\"#ArialMT-65\" transform=\"translate(1472.900391 0)\"/>\n     <use xlink:href=\"#ArialMT-67\" transform=\"translate(1528.515625 0)\"/>\n     <use xlink:href=\"#ArialMT-6f\" transform=\"translate(1584.130859 0)\"/>\n     <use xlink:href=\"#ArialMT-72\" transform=\"translate(1639.746094 0)\"/>\n     <use xlink:href=\"#ArialMT-79\" transform=\"translate(1673.046875 0)\"/>\n     <use xlink:href=\"#ArialMT-20\" transform=\"translate(1723.046875 0)\"/>\n     <use xlink:href=\"#ArialMT-62\" transform=\"translate(1750.830078 0)\"/>\n     <use xlink:href=\"#ArialMT-79\" transform=\"translate(1806.445312 0)\"/>\n     <use xlink:href=\"#ArialMT-20\" transform=\"translate(1856.445312 0)\"/>\n     <use xlink:href=\"#ArialMT-47\" transform=\"translate(1884.228516 0)\"/>\n     <use xlink:href=\"#ArialMT-65\" transform=\"translate(1962.011719 0)\"/>\n     <use xlink:href=\"#ArialMT-6e\" transform=\"translate(2017.626953 0)\"/>\n     <use xlink:href=\"#ArialMT-64\" transform=\"translate(2073.242188 0)\"/>\n     <use xlink:href=\"#ArialMT-65\" transform=\"translate(2128.857422 0)\"/>\n     <use xlink:href=\"#ArialMT-72\" transform=\"translate(2184.472656 0)\"/>\n    </g>\n   </g>\n   <g id=\"legend_1\">\n    <g id=\"patch_19\">\n     <path d=\"M 421.3128 78.329688 \nL 493.189206 78.329688 \nQ 495.389206 78.329688 495.389206 76.129688 \nL 495.389206 29.635625 \nQ 495.389206 27.435625 493.189206 27.435625 \nL 421.3128 27.435625 \nQ 419.1128 27.435625 419.1128 29.635625 \nL 419.1128 76.129688 \nQ 419.1128 78.329688 421.3128 78.329688 \nz\n\" style=\"fill: #eaeaf2; opacity: 0.8; stroke: #cccccc; stroke-linejoin: miter\"/>\n    </g>\n    <g id=\"text_17\">\n     <!-- Gender -->\n     <g style=\"fill: #262626\" transform=\"translate(437.240066 40.425) scale(0.12 -0.12)\">\n      <use xlink:href=\"#ArialMT-47\"/>\n      <use xlink:href=\"#ArialMT-65\" transform=\"translate(77.783203 0)\"/>\n      <use xlink:href=\"#ArialMT-6e\" transform=\"translate(133.398438 0)\"/>\n      <use xlink:href=\"#ArialMT-64\" transform=\"translate(189.013672 0)\"/>\n      <use xlink:href=\"#ArialMT-65\" transform=\"translate(244.628906 0)\"/>\n      <use xlink:href=\"#ArialMT-72\" transform=\"translate(300.244141 0)\"/>\n     </g>\n    </g>\n    <g id=\"patch_20\">\n     <path d=\"M 423.5128 56.183594 \nL 445.5128 56.183594 \nL 445.5128 48.483594 \nL 423.5128 48.483594 \nz\n\" style=\"fill: #da70d6; stroke: #ffffff; stroke-linejoin: miter\"/>\n    </g>\n    <g id=\"text_18\">\n     <!-- Female -->\n     <g style=\"fill: #262626\" transform=\"translate(454.3128 56.183594) scale(0.11 -0.11)\">\n      <use xlink:href=\"#ArialMT-46\"/>\n      <use xlink:href=\"#ArialMT-65\" transform=\"translate(61.083984 0)\"/>\n      <use xlink:href=\"#ArialMT-6d\" transform=\"translate(116.699219 0)\"/>\n      <use xlink:href=\"#ArialMT-61\" transform=\"translate(200 0)\"/>\n      <use xlink:href=\"#ArialMT-6c\" transform=\"translate(255.615234 0)\"/>\n      <use xlink:href=\"#ArialMT-65\" transform=\"translate(277.832031 0)\"/>\n     </g>\n    </g>\n    <g id=\"patch_21\">\n     <path d=\"M 423.5128 71.743438 \nL 445.5128 71.743438 \nL 445.5128 64.043438 \nL 423.5128 64.043438 \nz\n\" style=\"fill: #008080; stroke: #ffffff; stroke-linejoin: miter\"/>\n    </g>\n    <g id=\"text_19\">\n     <!-- Male -->\n     <g style=\"fill: #262626\" transform=\"translate(454.3128 71.743438) scale(0.11 -0.11)\">\n      <defs>\n       <path id=\"ArialMT-4d\" d=\"M 475 0 \nL 475 4581 \nL 1388 4581 \nL 2472 1338 \nQ 2622 884 2691 659 \nQ 2769 909 2934 1394 \nL 4031 4581 \nL 4847 4581 \nL 4847 0 \nL 4263 0 \nL 4263 3834 \nL 2931 0 \nL 2384 0 \nL 1059 3900 \nL 1059 0 \nL 475 0 \nz\n\" transform=\"scale(0.015625)\"/>\n      </defs>\n      <use xlink:href=\"#ArialMT-4d\"/>\n      <use xlink:href=\"#ArialMT-61\" transform=\"translate(83.300781 0)\"/>\n      <use xlink:href=\"#ArialMT-6c\" transform=\"translate(138.916016 0)\"/>\n      <use xlink:href=\"#ArialMT-65\" transform=\"translate(161.132812 0)\"/>\n     </g>\n    </g>\n   </g>\n  </g>\n </g>\n <defs>\n  <clipPath id=\"p6b9560529e\">\n   <rect x=\"54.489206\" y=\"21.935625\" width=\"446.4\" height=\"221.76\"/>\n  </clipPath>\n </defs>\n</svg>\n"
     },
     "metadata": {},
     "output_type": "display_data"
    }
   ],
   "execution_count": 38
  },
  {
   "cell_type": "markdown",
   "id": "2a76058a-cb74-40b1-b39d-3e324a1612cf",
   "metadata": {},
   "source": [
    "#### Question 6"
   ]
  },
  {
   "metadata": {
    "ExecuteTime": {
     "end_time": "2025-04-12T13:23:52.938649Z",
     "start_time": "2025-04-12T13:23:52.937109Z"
    }
   },
   "cell_type": "code",
   "source": "",
   "id": "b6c6054d04f28169",
   "outputs": [],
   "execution_count": null
  },
  {
   "cell_type": "code",
   "id": "7fa3a312-1328-4d5f-8135-264bb74eb9c6",
   "metadata": {
    "ExecuteTime": {
     "end_time": "2025-04-12T13:23:52.986962Z",
     "start_time": "2025-04-12T13:23:52.985019Z"
    }
   },
   "source": [
    "### what is the total sales ('Total') done by each Payment type during the whole period?\n",
    "### use the full data in the dataset (not the first week of March) from now on"
   ],
   "outputs": [],
   "execution_count": 39
  },
  {
   "cell_type": "markdown",
   "id": "2852fa9a9a8e820f",
   "metadata": {},
   "source": [
    "#### Question 6 - solution"
   ]
  },
  {
   "cell_type": "code",
   "id": "6d7d244d38ad23f7",
   "metadata": {
    "ExecuteTime": {
     "end_time": "2025-04-12T13:23:53.015260Z",
     "start_time": "2025-04-12T13:23:53.010652Z"
    }
   },
   "source": "pd.DataFrame(df.groupby('Payment')['Total'].sum())",
   "outputs": [
    {
     "data": {
      "text/plain": [
       "                  Total\n",
       "Payment                \n",
       "Cash         112206.570\n",
       "Credit card  100767.072\n",
       "Ewallet      109993.107"
      ],
      "text/html": [
       "<div>\n",
       "<style scoped>\n",
       "    .dataframe tbody tr th:only-of-type {\n",
       "        vertical-align: middle;\n",
       "    }\n",
       "\n",
       "    .dataframe tbody tr th {\n",
       "        vertical-align: top;\n",
       "    }\n",
       "\n",
       "    .dataframe thead th {\n",
       "        text-align: right;\n",
       "    }\n",
       "</style>\n",
       "<table border=\"1\" class=\"dataframe\">\n",
       "  <thead>\n",
       "    <tr style=\"text-align: right;\">\n",
       "      <th></th>\n",
       "      <th>Total</th>\n",
       "    </tr>\n",
       "    <tr>\n",
       "      <th>Payment</th>\n",
       "      <th></th>\n",
       "    </tr>\n",
       "  </thead>\n",
       "  <tbody>\n",
       "    <tr>\n",
       "      <th>Cash</th>\n",
       "      <td>112206.570</td>\n",
       "    </tr>\n",
       "    <tr>\n",
       "      <th>Credit card</th>\n",
       "      <td>100767.072</td>\n",
       "    </tr>\n",
       "    <tr>\n",
       "      <th>Ewallet</th>\n",
       "      <td>109993.107</td>\n",
       "    </tr>\n",
       "  </tbody>\n",
       "</table>\n",
       "</div>"
      ]
     },
     "execution_count": 40,
     "metadata": {},
     "output_type": "execute_result"
    }
   ],
   "execution_count": 40
  },
  {
   "cell_type": "markdown",
   "id": "864ff541-d50f-4bb6-8716-6dee409c5486",
   "metadata": {},
   "source": [
    "#### Question 7"
   ]
  },
  {
   "cell_type": "code",
   "id": "45f533cc-af40-44f0-bbb9-c2aa58262cad",
   "metadata": {
    "ExecuteTime": {
     "end_time": "2025-04-12T13:23:53.045957Z",
     "start_time": "2025-04-12T13:23:53.039998Z"
    }
   },
   "source": [
    "### plot a chart with total sales ('Total') of the \"Sports and travel\" products by calendar week (Monday-Sunday): \n",
    "### note the first and the last week can be incomplete (for instance, the data starts on Wednesday, and ends on Friday)\n",
    "### assume all our sales data spans the same year (for instance, 2019)\n",
    "\n",
    "### you can make use of the isocalendar() function: https://www.geeksforgeeks.org/isocalendar-function-of-datetime-date-class-in-python/\n",
    "\n",
    "### x axis are weeks enumerated from the first to the last calendar week in the data\n",
    "### y axis is the total sales that week"
   ],
   "outputs": [],
   "execution_count": 41
  },
  {
   "cell_type": "markdown",
   "id": "b4a1bcf855f34a7c",
   "metadata": {},
   "source": [
    "#### Question 7 - solution"
   ]
  },
  {
   "cell_type": "code",
   "id": "48159900d4231fec",
   "metadata": {
    "ExecuteTime": {
     "end_time": "2025-04-12T13:23:53.195778Z",
     "start_time": "2025-04-12T13:23:53.143811Z"
    }
   },
   "source": [
    "from datetime import date\n",
    "\n",
    "def get_num_of_week(st_date:str) -> int:\n",
    "    date = pd.to_datetime(st_date,format='%m/%d/%Y')\n",
    "    year,week_num,weekday = date.isocalendar()\n",
    "    return week_num\n",
    "\n",
    "\n",
    "sport_and_travel_sales = df[df['Product line'] == 'Sports and travel'].copy()\n",
    "sport_and_travel_sales['week_day'] = sport_and_travel_sales['Date'].apply(get_num_of_week)\n",
    "res = sport_and_travel_sales.groupby('week_day')['Total'].sum()\n",
    "ax = res.plot(x='week_day', y='Total',legend=False,color='lightseagreen')\n",
    "ax.set_xticks(res.index)\n",
    "plt.show()\n"
   ],
   "outputs": [
    {
     "data": {
      "text/plain": [
       "<Figure size 800x400 with 1 Axes>"
      ],
      "image/svg+xml": "<?xml version=\"1.0\" encoding=\"utf-8\" standalone=\"no\"?>\n<!DOCTYPE svg PUBLIC \"-//W3C//DTD SVG 1.1//EN\"\n  \"http://www.w3.org/Graphics/SVG/1.1/DTD/svg11.dtd\">\n<svg xmlns:xlink=\"http://www.w3.org/1999/xlink\" width=\"494.768125pt\" height=\"270.834844pt\" viewBox=\"0 0 494.768125 270.834844\" xmlns=\"http://www.w3.org/2000/svg\" version=\"1.1\">\n <metadata>\n  <rdf:RDF xmlns:dc=\"http://purl.org/dc/elements/1.1/\" xmlns:cc=\"http://creativecommons.org/ns#\" xmlns:rdf=\"http://www.w3.org/1999/02/22-rdf-syntax-ns#\">\n   <cc:Work>\n    <dc:type rdf:resource=\"http://purl.org/dc/dcmitype/StillImage\"/>\n    <dc:date>2025-04-12T16:23:53.184447</dc:date>\n    <dc:format>image/svg+xml</dc:format>\n    <dc:creator>\n     <cc:Agent>\n      <dc:title>Matplotlib v3.10.1, https://matplotlib.org/</dc:title>\n     </cc:Agent>\n    </dc:creator>\n   </cc:Work>\n  </rdf:RDF>\n </metadata>\n <defs>\n  <style type=\"text/css\">*{stroke-linejoin: round; stroke-linecap: butt}</style>\n </defs>\n <g id=\"figure_1\">\n  <g id=\"patch_1\">\n   <path d=\"M 0 270.834844 \nL 494.768125 270.834844 \nL 494.768125 0 \nL 0 0 \nz\n\" style=\"fill: #ffffff\"/>\n  </g>\n  <g id=\"axes_1\">\n   <g id=\"patch_2\">\n    <path d=\"M 41.168125 228.96 \nL 487.568125 228.96 \nL 487.568125 7.2 \nL 41.168125 7.2 \nz\n\" style=\"fill: #eaeaf2\"/>\n   </g>\n   <g id=\"matplotlib.axis_1\">\n    <g id=\"xtick_1\">\n     <g id=\"line2d_1\">\n      <path d=\"M 61.459034 228.96 \nL 61.459034 7.2 \n\" clip-path=\"url(#p7d695b0df6)\" style=\"fill: none; stroke: #ffffff; stroke-linecap: round\"/>\n     </g>\n     <g id=\"text_1\">\n      <!-- 1 -->\n      <g style=\"fill: #262626\" transform=\"translate(58.400518 246.333594) scale(0.11 -0.11)\">\n       <defs>\n        <path id=\"ArialMT-31\" d=\"M 2384 0 \nL 1822 0 \nL 1822 3584 \nQ 1619 3391 1289 3197 \nQ 959 3003 697 2906 \nL 697 3450 \nQ 1169 3672 1522 3987 \nQ 1875 4303 2022 4600 \nL 2384 4600 \nL 2384 0 \nz\n\" transform=\"scale(0.015625)\"/>\n       </defs>\n       <use xlink:href=\"#ArialMT-31\"/>\n      </g>\n     </g>\n    </g>\n    <g id=\"xtick_2\">\n     <g id=\"line2d_2\">\n      <path d=\"M 95.277216 228.96 \nL 95.277216 7.2 \n\" clip-path=\"url(#p7d695b0df6)\" style=\"fill: none; stroke: #ffffff; stroke-linecap: round\"/>\n     </g>\n     <g id=\"text_2\">\n      <!-- 2 -->\n      <g style=\"fill: #262626\" transform=\"translate(92.2187 246.333594) scale(0.11 -0.11)\">\n       <defs>\n        <path id=\"ArialMT-32\" d=\"M 3222 541 \nL 3222 0 \nL 194 0 \nQ 188 203 259 391 \nQ 375 700 629 1000 \nQ 884 1300 1366 1694 \nQ 2113 2306 2375 2664 \nQ 2638 3022 2638 3341 \nQ 2638 3675 2398 3904 \nQ 2159 4134 1775 4134 \nQ 1369 4134 1125 3890 \nQ 881 3647 878 3216 \nL 300 3275 \nQ 359 3922 746 4261 \nQ 1134 4600 1788 4600 \nQ 2447 4600 2831 4234 \nQ 3216 3869 3216 3328 \nQ 3216 3053 3103 2787 \nQ 2991 2522 2730 2228 \nQ 2469 1934 1863 1422 \nQ 1356 997 1212 845 \nQ 1069 694 975 541 \nL 3222 541 \nz\n\" transform=\"scale(0.015625)\"/>\n       </defs>\n       <use xlink:href=\"#ArialMT-32\"/>\n      </g>\n     </g>\n    </g>\n    <g id=\"xtick_3\">\n     <g id=\"line2d_3\">\n      <path d=\"M 129.095398 228.96 \nL 129.095398 7.2 \n\" clip-path=\"url(#p7d695b0df6)\" style=\"fill: none; stroke: #ffffff; stroke-linecap: round\"/>\n     </g>\n     <g id=\"text_3\">\n      <!-- 3 -->\n      <g style=\"fill: #262626\" transform=\"translate(126.036882 246.333594) scale(0.11 -0.11)\">\n       <defs>\n        <path id=\"ArialMT-33\" d=\"M 269 1209 \nL 831 1284 \nQ 928 806 1161 595 \nQ 1394 384 1728 384 \nQ 2125 384 2398 659 \nQ 2672 934 2672 1341 \nQ 2672 1728 2419 1979 \nQ 2166 2231 1775 2231 \nQ 1616 2231 1378 2169 \nL 1441 2663 \nQ 1497 2656 1531 2656 \nQ 1891 2656 2178 2843 \nQ 2466 3031 2466 3422 \nQ 2466 3731 2256 3934 \nQ 2047 4138 1716 4138 \nQ 1388 4138 1169 3931 \nQ 950 3725 888 3313 \nL 325 3413 \nQ 428 3978 793 4289 \nQ 1159 4600 1703 4600 \nQ 2078 4600 2393 4439 \nQ 2709 4278 2876 4000 \nQ 3044 3722 3044 3409 \nQ 3044 3113 2884 2869 \nQ 2725 2625 2413 2481 \nQ 2819 2388 3044 2092 \nQ 3269 1797 3269 1353 \nQ 3269 753 2831 336 \nQ 2394 -81 1725 -81 \nQ 1122 -81 723 278 \nQ 325 638 269 1209 \nz\n\" transform=\"scale(0.015625)\"/>\n       </defs>\n       <use xlink:href=\"#ArialMT-33\"/>\n      </g>\n     </g>\n    </g>\n    <g id=\"xtick_4\">\n     <g id=\"line2d_4\">\n      <path d=\"M 162.91358 228.96 \nL 162.91358 7.2 \n\" clip-path=\"url(#p7d695b0df6)\" style=\"fill: none; stroke: #ffffff; stroke-linecap: round\"/>\n     </g>\n     <g id=\"text_4\">\n      <!-- 4 -->\n      <g style=\"fill: #262626\" transform=\"translate(159.855064 246.333594) scale(0.11 -0.11)\">\n       <defs>\n        <path id=\"ArialMT-34\" d=\"M 2069 0 \nL 2069 1097 \nL 81 1097 \nL 81 1613 \nL 2172 4581 \nL 2631 4581 \nL 2631 1613 \nL 3250 1613 \nL 3250 1097 \nL 2631 1097 \nL 2631 0 \nL 2069 0 \nz\nM 2069 1613 \nL 2069 3678 \nL 634 1613 \nL 2069 1613 \nz\n\" transform=\"scale(0.015625)\"/>\n       </defs>\n       <use xlink:href=\"#ArialMT-34\"/>\n      </g>\n     </g>\n    </g>\n    <g id=\"xtick_5\">\n     <g id=\"line2d_5\">\n      <path d=\"M 196.731761 228.96 \nL 196.731761 7.2 \n\" clip-path=\"url(#p7d695b0df6)\" style=\"fill: none; stroke: #ffffff; stroke-linecap: round\"/>\n     </g>\n     <g id=\"text_5\">\n      <!-- 5 -->\n      <g style=\"fill: #262626\" transform=\"translate(193.673246 246.333594) scale(0.11 -0.11)\">\n       <defs>\n        <path id=\"ArialMT-35\" d=\"M 266 1200 \nL 856 1250 \nQ 922 819 1161 601 \nQ 1400 384 1738 384 \nQ 2144 384 2425 690 \nQ 2706 997 2706 1503 \nQ 2706 1984 2436 2262 \nQ 2166 2541 1728 2541 \nQ 1456 2541 1237 2417 \nQ 1019 2294 894 2097 \nL 366 2166 \nL 809 4519 \nL 3088 4519 \nL 3088 3981 \nL 1259 3981 \nL 1013 2750 \nQ 1425 3038 1878 3038 \nQ 2478 3038 2890 2622 \nQ 3303 2206 3303 1553 \nQ 3303 931 2941 478 \nQ 2500 -78 1738 -78 \nQ 1113 -78 717 272 \nQ 322 622 266 1200 \nz\n\" transform=\"scale(0.015625)\"/>\n       </defs>\n       <use xlink:href=\"#ArialMT-35\"/>\n      </g>\n     </g>\n    </g>\n    <g id=\"xtick_6\">\n     <g id=\"line2d_6\">\n      <path d=\"M 230.549943 228.96 \nL 230.549943 7.2 \n\" clip-path=\"url(#p7d695b0df6)\" style=\"fill: none; stroke: #ffffff; stroke-linecap: round\"/>\n     </g>\n     <g id=\"text_6\">\n      <!-- 6 -->\n      <g style=\"fill: #262626\" transform=\"translate(227.491428 246.333594) scale(0.11 -0.11)\">\n       <defs>\n        <path id=\"ArialMT-36\" d=\"M 3184 3459 \nL 2625 3416 \nQ 2550 3747 2413 3897 \nQ 2184 4138 1850 4138 \nQ 1581 4138 1378 3988 \nQ 1113 3794 959 3422 \nQ 806 3050 800 2363 \nQ 1003 2672 1297 2822 \nQ 1591 2972 1913 2972 \nQ 2475 2972 2870 2558 \nQ 3266 2144 3266 1488 \nQ 3266 1056 3080 686 \nQ 2894 316 2569 119 \nQ 2244 -78 1831 -78 \nQ 1128 -78 684 439 \nQ 241 956 241 2144 \nQ 241 3472 731 4075 \nQ 1159 4600 1884 4600 \nQ 2425 4600 2770 4297 \nQ 3116 3994 3184 3459 \nz\nM 888 1484 \nQ 888 1194 1011 928 \nQ 1134 663 1356 523 \nQ 1578 384 1822 384 \nQ 2178 384 2434 671 \nQ 2691 959 2691 1453 \nQ 2691 1928 2437 2201 \nQ 2184 2475 1800 2475 \nQ 1419 2475 1153 2201 \nQ 888 1928 888 1484 \nz\n\" transform=\"scale(0.015625)\"/>\n       </defs>\n       <use xlink:href=\"#ArialMT-36\"/>\n      </g>\n     </g>\n    </g>\n    <g id=\"xtick_7\">\n     <g id=\"line2d_7\">\n      <path d=\"M 264.368125 228.96 \nL 264.368125 7.2 \n\" clip-path=\"url(#p7d695b0df6)\" style=\"fill: none; stroke: #ffffff; stroke-linecap: round\"/>\n     </g>\n     <g id=\"text_7\">\n      <!-- 7 -->\n      <g style=\"fill: #262626\" transform=\"translate(261.309609 246.333594) scale(0.11 -0.11)\">\n       <defs>\n        <path id=\"ArialMT-37\" d=\"M 303 3981 \nL 303 4522 \nL 3269 4522 \nL 3269 4084 \nQ 2831 3619 2401 2847 \nQ 1972 2075 1738 1259 \nQ 1569 684 1522 0 \nL 944 0 \nQ 953 541 1156 1306 \nQ 1359 2072 1739 2783 \nQ 2119 3494 2547 3981 \nL 303 3981 \nz\n\" transform=\"scale(0.015625)\"/>\n       </defs>\n       <use xlink:href=\"#ArialMT-37\"/>\n      </g>\n     </g>\n    </g>\n    <g id=\"xtick_8\">\n     <g id=\"line2d_8\">\n      <path d=\"M 298.186307 228.96 \nL 298.186307 7.2 \n\" clip-path=\"url(#p7d695b0df6)\" style=\"fill: none; stroke: #ffffff; stroke-linecap: round\"/>\n     </g>\n     <g id=\"text_8\">\n      <!-- 8 -->\n      <g style=\"fill: #262626\" transform=\"translate(295.127791 246.333594) scale(0.11 -0.11)\">\n       <defs>\n        <path id=\"ArialMT-38\" d=\"M 1131 2484 \nQ 781 2613 612 2850 \nQ 444 3088 444 3419 \nQ 444 3919 803 4259 \nQ 1163 4600 1759 4600 \nQ 2359 4600 2725 4251 \nQ 3091 3903 3091 3403 \nQ 3091 3084 2923 2848 \nQ 2756 2613 2416 2484 \nQ 2838 2347 3058 2040 \nQ 3278 1734 3278 1309 \nQ 3278 722 2862 322 \nQ 2447 -78 1769 -78 \nQ 1091 -78 675 323 \nQ 259 725 259 1325 \nQ 259 1772 486 2073 \nQ 713 2375 1131 2484 \nz\nM 1019 3438 \nQ 1019 3113 1228 2906 \nQ 1438 2700 1772 2700 \nQ 2097 2700 2305 2904 \nQ 2513 3109 2513 3406 \nQ 2513 3716 2298 3927 \nQ 2084 4138 1766 4138 \nQ 1444 4138 1231 3931 \nQ 1019 3725 1019 3438 \nz\nM 838 1322 \nQ 838 1081 952 856 \nQ 1066 631 1291 507 \nQ 1516 384 1775 384 \nQ 2178 384 2440 643 \nQ 2703 903 2703 1303 \nQ 2703 1709 2433 1975 \nQ 2163 2241 1756 2241 \nQ 1359 2241 1098 1978 \nQ 838 1716 838 1322 \nz\n\" transform=\"scale(0.015625)\"/>\n       </defs>\n       <use xlink:href=\"#ArialMT-38\"/>\n      </g>\n     </g>\n    </g>\n    <g id=\"xtick_9\">\n     <g id=\"line2d_9\">\n      <path d=\"M 332.004489 228.96 \nL 332.004489 7.2 \n\" clip-path=\"url(#p7d695b0df6)\" style=\"fill: none; stroke: #ffffff; stroke-linecap: round\"/>\n     </g>\n     <g id=\"text_9\">\n      <!-- 9 -->\n      <g style=\"fill: #262626\" transform=\"translate(328.945973 246.333594) scale(0.11 -0.11)\">\n       <defs>\n        <path id=\"ArialMT-39\" d=\"M 350 1059 \nL 891 1109 \nQ 959 728 1153 556 \nQ 1347 384 1650 384 \nQ 1909 384 2104 503 \nQ 2300 622 2425 820 \nQ 2550 1019 2634 1356 \nQ 2719 1694 2719 2044 \nQ 2719 2081 2716 2156 \nQ 2547 1888 2255 1720 \nQ 1963 1553 1622 1553 \nQ 1053 1553 659 1965 \nQ 266 2378 266 3053 \nQ 266 3750 677 4175 \nQ 1088 4600 1706 4600 \nQ 2153 4600 2523 4359 \nQ 2894 4119 3086 3673 \nQ 3278 3228 3278 2384 \nQ 3278 1506 3087 986 \nQ 2897 466 2520 194 \nQ 2144 -78 1638 -78 \nQ 1100 -78 759 220 \nQ 419 519 350 1059 \nz\nM 2653 3081 \nQ 2653 3566 2395 3850 \nQ 2138 4134 1775 4134 \nQ 1400 4134 1122 3828 \nQ 844 3522 844 3034 \nQ 844 2597 1108 2323 \nQ 1372 2050 1759 2050 \nQ 2150 2050 2401 2323 \nQ 2653 2597 2653 3081 \nz\n\" transform=\"scale(0.015625)\"/>\n       </defs>\n       <use xlink:href=\"#ArialMT-39\"/>\n      </g>\n     </g>\n    </g>\n    <g id=\"xtick_10\">\n     <g id=\"line2d_10\">\n      <path d=\"M 365.82267 228.96 \nL 365.82267 7.2 \n\" clip-path=\"url(#p7d695b0df6)\" style=\"fill: none; stroke: #ffffff; stroke-linecap: round\"/>\n     </g>\n     <g id=\"text_10\">\n      <!-- 10 -->\n      <g style=\"fill: #262626\" transform=\"translate(359.705639 246.333594) scale(0.11 -0.11)\">\n       <defs>\n        <path id=\"ArialMT-30\" d=\"M 266 2259 \nQ 266 3072 433 3567 \nQ 600 4063 929 4331 \nQ 1259 4600 1759 4600 \nQ 2128 4600 2406 4451 \nQ 2684 4303 2865 4023 \nQ 3047 3744 3150 3342 \nQ 3253 2941 3253 2259 \nQ 3253 1453 3087 958 \nQ 2922 463 2592 192 \nQ 2263 -78 1759 -78 \nQ 1097 -78 719 397 \nQ 266 969 266 2259 \nz\nM 844 2259 \nQ 844 1131 1108 757 \nQ 1372 384 1759 384 \nQ 2147 384 2411 759 \nQ 2675 1134 2675 2259 \nQ 2675 3391 2411 3762 \nQ 2147 4134 1753 4134 \nQ 1366 4134 1134 3806 \nQ 844 3388 844 2259 \nz\n\" transform=\"scale(0.015625)\"/>\n       </defs>\n       <use xlink:href=\"#ArialMT-31\"/>\n       <use xlink:href=\"#ArialMT-30\" transform=\"translate(55.615234 0)\"/>\n      </g>\n     </g>\n    </g>\n    <g id=\"xtick_11\">\n     <g id=\"line2d_11\">\n      <path d=\"M 399.640852 228.96 \nL 399.640852 7.2 \n\" clip-path=\"url(#p7d695b0df6)\" style=\"fill: none; stroke: #ffffff; stroke-linecap: round\"/>\n     </g>\n     <g id=\"text_11\">\n      <!-- 11 -->\n      <g style=\"fill: #262626\" transform=\"translate(393.929446 246.333594) scale(0.11 -0.11)\">\n       <use xlink:href=\"#ArialMT-31\"/>\n       <use xlink:href=\"#ArialMT-31\" transform=\"translate(48.240234 0)\"/>\n      </g>\n     </g>\n    </g>\n    <g id=\"xtick_12\">\n     <g id=\"line2d_12\">\n      <path d=\"M 433.459034 228.96 \nL 433.459034 7.2 \n\" clip-path=\"url(#p7d695b0df6)\" style=\"fill: none; stroke: #ffffff; stroke-linecap: round\"/>\n     </g>\n     <g id=\"text_12\">\n      <!-- 12 -->\n      <g style=\"fill: #262626\" transform=\"translate(427.342003 246.333594) scale(0.11 -0.11)\">\n       <use xlink:href=\"#ArialMT-31\"/>\n       <use xlink:href=\"#ArialMT-32\" transform=\"translate(55.615234 0)\"/>\n      </g>\n     </g>\n    </g>\n    <g id=\"xtick_13\">\n     <g id=\"line2d_13\">\n      <path d=\"M 467.277216 228.96 \nL 467.277216 7.2 \n\" clip-path=\"url(#p7d695b0df6)\" style=\"fill: none; stroke: #ffffff; stroke-linecap: round\"/>\n     </g>\n     <g id=\"text_13\">\n      <!-- 13 -->\n      <g style=\"fill: #262626\" transform=\"translate(461.160185 246.333594) scale(0.11 -0.11)\">\n       <use xlink:href=\"#ArialMT-31\"/>\n       <use xlink:href=\"#ArialMT-33\" transform=\"translate(55.615234 0)\"/>\n      </g>\n     </g>\n    </g>\n    <g id=\"text_14\">\n     <!-- week_day -->\n     <g style=\"fill: #262626\" transform=\"translate(237.352187 261.109219) scale(0.12 -0.12)\">\n      <defs>\n       <path id=\"ArialMT-77\" d=\"M 1034 0 \nL 19 3319 \nL 600 3319 \nL 1128 1403 \nL 1325 691 \nQ 1338 744 1497 1375 \nL 2025 3319 \nL 2603 3319 \nL 3100 1394 \nL 3266 759 \nL 3456 1400 \nL 4025 3319 \nL 4572 3319 \nL 3534 0 \nL 2950 0 \nL 2422 1988 \nL 2294 2553 \nL 1622 0 \nL 1034 0 \nz\n\" transform=\"scale(0.015625)\"/>\n       <path id=\"ArialMT-65\" d=\"M 2694 1069 \nL 3275 997 \nQ 3138 488 2766 206 \nQ 2394 -75 1816 -75 \nQ 1088 -75 661 373 \nQ 234 822 234 1631 \nQ 234 2469 665 2931 \nQ 1097 3394 1784 3394 \nQ 2450 3394 2872 2941 \nQ 3294 2488 3294 1666 \nQ 3294 1616 3291 1516 \nL 816 1516 \nQ 847 969 1125 678 \nQ 1403 388 1819 388 \nQ 2128 388 2347 550 \nQ 2566 713 2694 1069 \nz\nM 847 1978 \nL 2700 1978 \nQ 2663 2397 2488 2606 \nQ 2219 2931 1791 2931 \nQ 1403 2931 1139 2672 \nQ 875 2413 847 1978 \nz\n\" transform=\"scale(0.015625)\"/>\n       <path id=\"ArialMT-6b\" d=\"M 425 0 \nL 425 4581 \nL 988 4581 \nL 988 1969 \nL 2319 3319 \nL 3047 3319 \nL 1778 2088 \nL 3175 0 \nL 2481 0 \nL 1384 1697 \nL 988 1316 \nL 988 0 \nL 425 0 \nz\n\" transform=\"scale(0.015625)\"/>\n       <path id=\"ArialMT-5f\" d=\"M -97 -1272 \nL -97 -866 \nL 3631 -866 \nL 3631 -1272 \nL -97 -1272 \nz\n\" transform=\"scale(0.015625)\"/>\n       <path id=\"ArialMT-64\" d=\"M 2575 0 \nL 2575 419 \nQ 2259 -75 1647 -75 \nQ 1250 -75 917 144 \nQ 584 363 401 755 \nQ 219 1147 219 1656 \nQ 219 2153 384 2558 \nQ 550 2963 881 3178 \nQ 1213 3394 1622 3394 \nQ 1922 3394 2156 3267 \nQ 2391 3141 2538 2938 \nL 2538 4581 \nL 3097 4581 \nL 3097 0 \nL 2575 0 \nz\nM 797 1656 \nQ 797 1019 1065 703 \nQ 1334 388 1700 388 \nQ 2069 388 2326 689 \nQ 2584 991 2584 1609 \nQ 2584 2291 2321 2609 \nQ 2059 2928 1675 2928 \nQ 1300 2928 1048 2622 \nQ 797 2316 797 1656 \nz\n\" transform=\"scale(0.015625)\"/>\n       <path id=\"ArialMT-61\" d=\"M 2588 409 \nQ 2275 144 1986 34 \nQ 1697 -75 1366 -75 \nQ 819 -75 525 192 \nQ 231 459 231 875 \nQ 231 1119 342 1320 \nQ 453 1522 633 1644 \nQ 813 1766 1038 1828 \nQ 1203 1872 1538 1913 \nQ 2219 1994 2541 2106 \nQ 2544 2222 2544 2253 \nQ 2544 2597 2384 2738 \nQ 2169 2928 1744 2928 \nQ 1347 2928 1158 2789 \nQ 969 2650 878 2297 \nL 328 2372 \nQ 403 2725 575 2942 \nQ 747 3159 1072 3276 \nQ 1397 3394 1825 3394 \nQ 2250 3394 2515 3294 \nQ 2781 3194 2906 3042 \nQ 3031 2891 3081 2659 \nQ 3109 2516 3109 2141 \nL 3109 1391 \nQ 3109 606 3145 398 \nQ 3181 191 3288 0 \nL 2700 0 \nQ 2613 175 2588 409 \nz\nM 2541 1666 \nQ 2234 1541 1622 1453 \nQ 1275 1403 1131 1340 \nQ 988 1278 909 1158 \nQ 831 1038 831 891 \nQ 831 666 1001 516 \nQ 1172 366 1500 366 \nQ 1825 366 2078 508 \nQ 2331 650 2450 897 \nQ 2541 1088 2541 1459 \nL 2541 1666 \nz\n\" transform=\"scale(0.015625)\"/>\n       <path id=\"ArialMT-79\" d=\"M 397 -1278 \nL 334 -750 \nQ 519 -800 656 -800 \nQ 844 -800 956 -737 \nQ 1069 -675 1141 -563 \nQ 1194 -478 1313 -144 \nQ 1328 -97 1363 -6 \nL 103 3319 \nL 709 3319 \nL 1400 1397 \nQ 1534 1031 1641 628 \nQ 1738 1016 1872 1384 \nL 2581 3319 \nL 3144 3319 \nL 1881 -56 \nQ 1678 -603 1566 -809 \nQ 1416 -1088 1222 -1217 \nQ 1028 -1347 759 -1347 \nQ 597 -1347 397 -1278 \nz\n\" transform=\"scale(0.015625)\"/>\n      </defs>\n      <use xlink:href=\"#ArialMT-77\"/>\n      <use xlink:href=\"#ArialMT-65\" transform=\"translate(72.216797 0)\"/>\n      <use xlink:href=\"#ArialMT-65\" transform=\"translate(127.832031 0)\"/>\n      <use xlink:href=\"#ArialMT-6b\" transform=\"translate(183.447266 0)\"/>\n      <use xlink:href=\"#ArialMT-5f\" transform=\"translate(233.447266 0)\"/>\n      <use xlink:href=\"#ArialMT-64\" transform=\"translate(289.0625 0)\"/>\n      <use xlink:href=\"#ArialMT-61\" transform=\"translate(344.677734 0)\"/>\n      <use xlink:href=\"#ArialMT-79\" transform=\"translate(400.292969 0)\"/>\n     </g>\n    </g>\n   </g>\n   <g id=\"matplotlib.axis_2\">\n    <g id=\"ytick_1\">\n     <g id=\"line2d_14\">\n      <path d=\"M 41.168125 201.028701 \nL 487.568125 201.028701 \n\" clip-path=\"url(#p7d695b0df6)\" style=\"fill: none; stroke: #ffffff; stroke-linecap: round\"/>\n     </g>\n     <g id=\"text_15\">\n      <!-- 2000 -->\n      <g style=\"fill: #262626\" transform=\"translate(7.2 204.965498) scale(0.11 -0.11)\">\n       <use xlink:href=\"#ArialMT-32\"/>\n       <use xlink:href=\"#ArialMT-30\" transform=\"translate(55.615234 0)\"/>\n       <use xlink:href=\"#ArialMT-30\" transform=\"translate(111.230469 0)\"/>\n       <use xlink:href=\"#ArialMT-30\" transform=\"translate(166.845703 0)\"/>\n      </g>\n     </g>\n    </g>\n    <g id=\"ytick_2\">\n     <g id=\"line2d_15\">\n      <path d=\"M 41.168125 157.39908 \nL 487.568125 157.39908 \n\" clip-path=\"url(#p7d695b0df6)\" style=\"fill: none; stroke: #ffffff; stroke-linecap: round\"/>\n     </g>\n     <g id=\"text_16\">\n      <!-- 3000 -->\n      <g style=\"fill: #262626\" transform=\"translate(7.2 161.335877) scale(0.11 -0.11)\">\n       <use xlink:href=\"#ArialMT-33\"/>\n       <use xlink:href=\"#ArialMT-30\" transform=\"translate(55.615234 0)\"/>\n       <use xlink:href=\"#ArialMT-30\" transform=\"translate(111.230469 0)\"/>\n       <use xlink:href=\"#ArialMT-30\" transform=\"translate(166.845703 0)\"/>\n      </g>\n     </g>\n    </g>\n    <g id=\"ytick_3\">\n     <g id=\"line2d_16\">\n      <path d=\"M 41.168125 113.769459 \nL 487.568125 113.769459 \n\" clip-path=\"url(#p7d695b0df6)\" style=\"fill: none; stroke: #ffffff; stroke-linecap: round\"/>\n     </g>\n     <g id=\"text_17\">\n      <!-- 4000 -->\n      <g style=\"fill: #262626\" transform=\"translate(7.2 117.706256) scale(0.11 -0.11)\">\n       <use xlink:href=\"#ArialMT-34\"/>\n       <use xlink:href=\"#ArialMT-30\" transform=\"translate(55.615234 0)\"/>\n       <use xlink:href=\"#ArialMT-30\" transform=\"translate(111.230469 0)\"/>\n       <use xlink:href=\"#ArialMT-30\" transform=\"translate(166.845703 0)\"/>\n      </g>\n     </g>\n    </g>\n    <g id=\"ytick_4\">\n     <g id=\"line2d_17\">\n      <path d=\"M 41.168125 70.139838 \nL 487.568125 70.139838 \n\" clip-path=\"url(#p7d695b0df6)\" style=\"fill: none; stroke: #ffffff; stroke-linecap: round\"/>\n     </g>\n     <g id=\"text_18\">\n      <!-- 5000 -->\n      <g style=\"fill: #262626\" transform=\"translate(7.2 74.076635) scale(0.11 -0.11)\">\n       <use xlink:href=\"#ArialMT-35\"/>\n       <use xlink:href=\"#ArialMT-30\" transform=\"translate(55.615234 0)\"/>\n       <use xlink:href=\"#ArialMT-30\" transform=\"translate(111.230469 0)\"/>\n       <use xlink:href=\"#ArialMT-30\" transform=\"translate(166.845703 0)\"/>\n      </g>\n     </g>\n    </g>\n    <g id=\"ytick_5\">\n     <g id=\"line2d_18\">\n      <path d=\"M 41.168125 26.510217 \nL 487.568125 26.510217 \n\" clip-path=\"url(#p7d695b0df6)\" style=\"fill: none; stroke: #ffffff; stroke-linecap: round\"/>\n     </g>\n     <g id=\"text_19\">\n      <!-- 6000 -->\n      <g style=\"fill: #262626\" transform=\"translate(7.2 30.447014) scale(0.11 -0.11)\">\n       <use xlink:href=\"#ArialMT-36\"/>\n       <use xlink:href=\"#ArialMT-30\" transform=\"translate(55.615234 0)\"/>\n       <use xlink:href=\"#ArialMT-30\" transform=\"translate(111.230469 0)\"/>\n       <use xlink:href=\"#ArialMT-30\" transform=\"translate(166.845703 0)\"/>\n      </g>\n     </g>\n    </g>\n   </g>\n   <g id=\"line2d_19\">\n    <path d=\"M 61.459034 189.386813 \nL 95.277216 42.991023 \nL 129.095398 27.956277 \nL 162.91358 80.529556 \nL 196.731761 45.927973 \nL 230.549943 148.671738 \nL 264.368125 118.787782 \nL 298.186307 167.538124 \nL 332.004489 156.821991 \nL 365.82267 62.518921 \nL 399.640852 17.28 \nL 433.459034 65.465033 \nL 467.277216 218.88 \n\" clip-path=\"url(#p7d695b0df6)\" style=\"fill: none; stroke: #20b2aa; stroke-width: 1.5; stroke-linecap: round\"/>\n   </g>\n   <g id=\"patch_3\">\n    <path d=\"M 41.168125 228.96 \nL 41.168125 7.2 \n\" style=\"fill: none; stroke: #ffffff; stroke-width: 1.25; stroke-linejoin: miter; stroke-linecap: square\"/>\n   </g>\n   <g id=\"patch_4\">\n    <path d=\"M 487.568125 228.96 \nL 487.568125 7.2 \n\" style=\"fill: none; stroke: #ffffff; stroke-width: 1.25; stroke-linejoin: miter; stroke-linecap: square\"/>\n   </g>\n   <g id=\"patch_5\">\n    <path d=\"M 41.168125 228.96 \nL 487.568125 228.96 \n\" style=\"fill: none; stroke: #ffffff; stroke-width: 1.25; stroke-linejoin: miter; stroke-linecap: square\"/>\n   </g>\n   <g id=\"patch_6\">\n    <path d=\"M 41.168125 7.2 \nL 487.568125 7.2 \n\" style=\"fill: none; stroke: #ffffff; stroke-width: 1.25; stroke-linejoin: miter; stroke-linecap: square\"/>\n   </g>\n  </g>\n </g>\n <defs>\n  <clipPath id=\"p7d695b0df6\">\n   <rect x=\"41.168125\" y=\"7.2\" width=\"446.4\" height=\"221.76\"/>\n  </clipPath>\n </defs>\n</svg>\n"
     },
     "metadata": {},
     "output_type": "display_data"
    }
   ],
   "execution_count": 42
  },
  {
   "cell_type": "markdown",
   "id": "f069e260-9c4d-4d03-b9bd-04a1ad34b0c9",
   "metadata": {},
   "source": [
    "#### Question 8"
   ]
  },
  {
   "cell_type": "code",
   "id": "2366719b-50f3-4149-aa73-dd8a489d7820",
   "metadata": {
    "ExecuteTime": {
     "end_time": "2025-04-12T13:23:53.201425Z",
     "start_time": "2025-04-12T13:23:53.199430Z"
    }
   },
   "source": [
    "### plot a line chart of total sales ('Total') per hour in our dataset\n",
    "### the x axis will be an hour (e.g., 9, 10, 11), and the y axis will be the total amout of sales during that hour\n",
    "### (e.g., for 9 - all sales between 09:00 and 10:00)"
   ],
   "outputs": [],
   "execution_count": 43
  },
  {
   "cell_type": "markdown",
   "id": "afa5f2da688c2e4d",
   "metadata": {},
   "source": [
    "#### Question 8 - solution\n"
   ]
  },
  {
   "cell_type": "code",
   "id": "5d4f73f8d516c7e3",
   "metadata": {
    "ExecuteTime": {
     "end_time": "2025-04-12T13:23:53.275964Z",
     "start_time": "2025-04-12T13:23:53.224751Z"
    }
   },
   "source": [
    "from datetime import datetime\n",
    "\n",
    "df_q8 = df.copy()\n",
    "df_q8['Hour'] = df_q8['Time'].apply(lambda x: datetime.strptime(x, '%H:%M').hour)\n",
    "res = df_q8.groupby('Hour')['Total'].sum().reset_index()\n",
    "res.plot(kind='line',x='Hour', y='Total',color=\"lightcoral\")\n",
    "plt.xticks(res['Hour'])\n",
    "plt.title('Total Amount of Sales per Hour')\n",
    "plt.show()\n"
   ],
   "outputs": [
    {
     "data": {
      "text/plain": [
       "<Figure size 800x400 with 1 Axes>"
      ],
      "image/svg+xml": "<?xml version=\"1.0\" encoding=\"utf-8\" standalone=\"no\"?>\n<!DOCTYPE svg PUBLIC \"-//W3C//DTD SVG 1.1//EN\"\n  \"http://www.w3.org/Graphics/SVG/1.1/DTD/svg11.dtd\">\n<svg xmlns:xlink=\"http://www.w3.org/1999/xlink\" width=\"500.885156pt\" height=\"285.429844pt\" viewBox=\"0 0 500.885156 285.429844\" xmlns=\"http://www.w3.org/2000/svg\" version=\"1.1\">\n <metadata>\n  <rdf:RDF xmlns:dc=\"http://purl.org/dc/elements/1.1/\" xmlns:cc=\"http://creativecommons.org/ns#\" xmlns:rdf=\"http://www.w3.org/1999/02/22-rdf-syntax-ns#\">\n   <cc:Work>\n    <dc:type rdf:resource=\"http://purl.org/dc/dcmitype/StillImage\"/>\n    <dc:date>2025-04-12T16:23:53.260563</dc:date>\n    <dc:format>image/svg+xml</dc:format>\n    <dc:creator>\n     <cc:Agent>\n      <dc:title>Matplotlib v3.10.1, https://matplotlib.org/</dc:title>\n     </cc:Agent>\n    </dc:creator>\n   </cc:Work>\n  </rdf:RDF>\n </metadata>\n <defs>\n  <style type=\"text/css\">*{stroke-linejoin: round; stroke-linecap: butt}</style>\n </defs>\n <g id=\"figure_1\">\n  <g id=\"patch_1\">\n   <path d=\"M 0 285.429844 \nL 500.885156 285.429844 \nL 500.885156 0 \nL 0 0 \nz\n\" style=\"fill: #ffffff\"/>\n  </g>\n  <g id=\"axes_1\">\n   <g id=\"patch_2\">\n    <path d=\"M 47.285156 243.695625 \nL 493.685156 243.695625 \nL 493.685156 21.935625 \nL 47.285156 21.935625 \nz\n\" style=\"fill: #eaeaf2\"/>\n   </g>\n   <g id=\"matplotlib.axis_1\">\n    <g id=\"xtick_1\">\n     <g id=\"line2d_1\">\n      <path d=\"M 67.576065 243.695625 \nL 67.576065 21.935625 \n\" clip-path=\"url(#p76999af951)\" style=\"fill: none; stroke: #ffffff; stroke-linecap: round\"/>\n     </g>\n     <g id=\"text_1\">\n      <!-- 10 -->\n      <g style=\"fill: #262626\" transform=\"translate(61.459034 261.069219) scale(0.11 -0.11)\">\n       <defs>\n        <path id=\"ArialMT-31\" d=\"M 2384 0 \nL 1822 0 \nL 1822 3584 \nQ 1619 3391 1289 3197 \nQ 959 3003 697 2906 \nL 697 3450 \nQ 1169 3672 1522 3987 \nQ 1875 4303 2022 4600 \nL 2384 4600 \nL 2384 0 \nz\n\" transform=\"scale(0.015625)\"/>\n        <path id=\"ArialMT-30\" d=\"M 266 2259 \nQ 266 3072 433 3567 \nQ 600 4063 929 4331 \nQ 1259 4600 1759 4600 \nQ 2128 4600 2406 4451 \nQ 2684 4303 2865 4023 \nQ 3047 3744 3150 3342 \nQ 3253 2941 3253 2259 \nQ 3253 1453 3087 958 \nQ 2922 463 2592 192 \nQ 2263 -78 1759 -78 \nQ 1097 -78 719 397 \nQ 266 969 266 2259 \nz\nM 844 2259 \nQ 844 1131 1108 757 \nQ 1372 384 1759 384 \nQ 2147 384 2411 759 \nQ 2675 1134 2675 2259 \nQ 2675 3391 2411 3762 \nQ 2147 4134 1753 4134 \nQ 1366 4134 1134 3806 \nQ 844 3388 844 2259 \nz\n\" transform=\"scale(0.015625)\"/>\n       </defs>\n       <use xlink:href=\"#ArialMT-31\"/>\n       <use xlink:href=\"#ArialMT-30\" transform=\"translate(55.615234 0)\"/>\n      </g>\n     </g>\n    </g>\n    <g id=\"xtick_2\">\n     <g id=\"line2d_2\">\n      <path d=\"M 108.157884 243.695625 \nL 108.157884 21.935625 \n\" clip-path=\"url(#p76999af951)\" style=\"fill: none; stroke: #ffffff; stroke-linecap: round\"/>\n     </g>\n     <g id=\"text_2\">\n      <!-- 11 -->\n      <g style=\"fill: #262626\" transform=\"translate(102.446477 261.069219) scale(0.11 -0.11)\">\n       <use xlink:href=\"#ArialMT-31\"/>\n       <use xlink:href=\"#ArialMT-31\" transform=\"translate(48.240234 0)\"/>\n      </g>\n     </g>\n    </g>\n    <g id=\"xtick_3\">\n     <g id=\"line2d_3\">\n      <path d=\"M 148.739702 243.695625 \nL 148.739702 21.935625 \n\" clip-path=\"url(#p76999af951)\" style=\"fill: none; stroke: #ffffff; stroke-linecap: round\"/>\n     </g>\n     <g id=\"text_3\">\n      <!-- 12 -->\n      <g style=\"fill: #262626\" transform=\"translate(142.62267 261.069219) scale(0.11 -0.11)\">\n       <defs>\n        <path id=\"ArialMT-32\" d=\"M 3222 541 \nL 3222 0 \nL 194 0 \nQ 188 203 259 391 \nQ 375 700 629 1000 \nQ 884 1300 1366 1694 \nQ 2113 2306 2375 2664 \nQ 2638 3022 2638 3341 \nQ 2638 3675 2398 3904 \nQ 2159 4134 1775 4134 \nQ 1369 4134 1125 3890 \nQ 881 3647 878 3216 \nL 300 3275 \nQ 359 3922 746 4261 \nQ 1134 4600 1788 4600 \nQ 2447 4600 2831 4234 \nQ 3216 3869 3216 3328 \nQ 3216 3053 3103 2787 \nQ 2991 2522 2730 2228 \nQ 2469 1934 1863 1422 \nQ 1356 997 1212 845 \nQ 1069 694 975 541 \nL 3222 541 \nz\n\" transform=\"scale(0.015625)\"/>\n       </defs>\n       <use xlink:href=\"#ArialMT-31\"/>\n       <use xlink:href=\"#ArialMT-32\" transform=\"translate(55.615234 0)\"/>\n      </g>\n     </g>\n    </g>\n    <g id=\"xtick_4\">\n     <g id=\"line2d_4\">\n      <path d=\"M 189.32152 243.695625 \nL 189.32152 21.935625 \n\" clip-path=\"url(#p76999af951)\" style=\"fill: none; stroke: #ffffff; stroke-linecap: round\"/>\n     </g>\n     <g id=\"text_4\">\n      <!-- 13 -->\n      <g style=\"fill: #262626\" transform=\"translate(183.204489 261.069219) scale(0.11 -0.11)\">\n       <defs>\n        <path id=\"ArialMT-33\" d=\"M 269 1209 \nL 831 1284 \nQ 928 806 1161 595 \nQ 1394 384 1728 384 \nQ 2125 384 2398 659 \nQ 2672 934 2672 1341 \nQ 2672 1728 2419 1979 \nQ 2166 2231 1775 2231 \nQ 1616 2231 1378 2169 \nL 1441 2663 \nQ 1497 2656 1531 2656 \nQ 1891 2656 2178 2843 \nQ 2466 3031 2466 3422 \nQ 2466 3731 2256 3934 \nQ 2047 4138 1716 4138 \nQ 1388 4138 1169 3931 \nQ 950 3725 888 3313 \nL 325 3413 \nQ 428 3978 793 4289 \nQ 1159 4600 1703 4600 \nQ 2078 4600 2393 4439 \nQ 2709 4278 2876 4000 \nQ 3044 3722 3044 3409 \nQ 3044 3113 2884 2869 \nQ 2725 2625 2413 2481 \nQ 2819 2388 3044 2092 \nQ 3269 1797 3269 1353 \nQ 3269 753 2831 336 \nQ 2394 -81 1725 -81 \nQ 1122 -81 723 278 \nQ 325 638 269 1209 \nz\n\" transform=\"scale(0.015625)\"/>\n       </defs>\n       <use xlink:href=\"#ArialMT-31\"/>\n       <use xlink:href=\"#ArialMT-33\" transform=\"translate(55.615234 0)\"/>\n      </g>\n     </g>\n    </g>\n    <g id=\"xtick_5\">\n     <g id=\"line2d_5\">\n      <path d=\"M 229.903338 243.695625 \nL 229.903338 21.935625 \n\" clip-path=\"url(#p76999af951)\" style=\"fill: none; stroke: #ffffff; stroke-linecap: round\"/>\n     </g>\n     <g id=\"text_5\">\n      <!-- 14 -->\n      <g style=\"fill: #262626\" transform=\"translate(223.786307 261.069219) scale(0.11 -0.11)\">\n       <defs>\n        <path id=\"ArialMT-34\" d=\"M 2069 0 \nL 2069 1097 \nL 81 1097 \nL 81 1613 \nL 2172 4581 \nL 2631 4581 \nL 2631 1613 \nL 3250 1613 \nL 3250 1097 \nL 2631 1097 \nL 2631 0 \nL 2069 0 \nz\nM 2069 1613 \nL 2069 3678 \nL 634 1613 \nL 2069 1613 \nz\n\" transform=\"scale(0.015625)\"/>\n       </defs>\n       <use xlink:href=\"#ArialMT-31\"/>\n       <use xlink:href=\"#ArialMT-34\" transform=\"translate(55.615234 0)\"/>\n      </g>\n     </g>\n    </g>\n    <g id=\"xtick_6\">\n     <g id=\"line2d_6\">\n      <path d=\"M 270.485156 243.695625 \nL 270.485156 21.935625 \n\" clip-path=\"url(#p76999af951)\" style=\"fill: none; stroke: #ffffff; stroke-linecap: round\"/>\n     </g>\n     <g id=\"text_6\">\n      <!-- 15 -->\n      <g style=\"fill: #262626\" transform=\"translate(264.368125 261.069219) scale(0.11 -0.11)\">\n       <defs>\n        <path id=\"ArialMT-35\" d=\"M 266 1200 \nL 856 1250 \nQ 922 819 1161 601 \nQ 1400 384 1738 384 \nQ 2144 384 2425 690 \nQ 2706 997 2706 1503 \nQ 2706 1984 2436 2262 \nQ 2166 2541 1728 2541 \nQ 1456 2541 1237 2417 \nQ 1019 2294 894 2097 \nL 366 2166 \nL 809 4519 \nL 3088 4519 \nL 3088 3981 \nL 1259 3981 \nL 1013 2750 \nQ 1425 3038 1878 3038 \nQ 2478 3038 2890 2622 \nQ 3303 2206 3303 1553 \nQ 3303 931 2941 478 \nQ 2500 -78 1738 -78 \nQ 1113 -78 717 272 \nQ 322 622 266 1200 \nz\n\" transform=\"scale(0.015625)\"/>\n       </defs>\n       <use xlink:href=\"#ArialMT-31\"/>\n       <use xlink:href=\"#ArialMT-35\" transform=\"translate(55.615234 0)\"/>\n      </g>\n     </g>\n    </g>\n    <g id=\"xtick_7\">\n     <g id=\"line2d_7\">\n      <path d=\"M 311.066974 243.695625 \nL 311.066974 21.935625 \n\" clip-path=\"url(#p76999af951)\" style=\"fill: none; stroke: #ffffff; stroke-linecap: round\"/>\n     </g>\n     <g id=\"text_7\">\n      <!-- 16 -->\n      <g style=\"fill: #262626\" transform=\"translate(304.949943 261.069219) scale(0.11 -0.11)\">\n       <defs>\n        <path id=\"ArialMT-36\" d=\"M 3184 3459 \nL 2625 3416 \nQ 2550 3747 2413 3897 \nQ 2184 4138 1850 4138 \nQ 1581 4138 1378 3988 \nQ 1113 3794 959 3422 \nQ 806 3050 800 2363 \nQ 1003 2672 1297 2822 \nQ 1591 2972 1913 2972 \nQ 2475 2972 2870 2558 \nQ 3266 2144 3266 1488 \nQ 3266 1056 3080 686 \nQ 2894 316 2569 119 \nQ 2244 -78 1831 -78 \nQ 1128 -78 684 439 \nQ 241 956 241 2144 \nQ 241 3472 731 4075 \nQ 1159 4600 1884 4600 \nQ 2425 4600 2770 4297 \nQ 3116 3994 3184 3459 \nz\nM 888 1484 \nQ 888 1194 1011 928 \nQ 1134 663 1356 523 \nQ 1578 384 1822 384 \nQ 2178 384 2434 671 \nQ 2691 959 2691 1453 \nQ 2691 1928 2437 2201 \nQ 2184 2475 1800 2475 \nQ 1419 2475 1153 2201 \nQ 888 1928 888 1484 \nz\n\" transform=\"scale(0.015625)\"/>\n       </defs>\n       <use xlink:href=\"#ArialMT-31\"/>\n       <use xlink:href=\"#ArialMT-36\" transform=\"translate(55.615234 0)\"/>\n      </g>\n     </g>\n    </g>\n    <g id=\"xtick_8\">\n     <g id=\"line2d_8\">\n      <path d=\"M 351.648793 243.695625 \nL 351.648793 21.935625 \n\" clip-path=\"url(#p76999af951)\" style=\"fill: none; stroke: #ffffff; stroke-linecap: round\"/>\n     </g>\n     <g id=\"text_8\">\n      <!-- 17 -->\n      <g style=\"fill: #262626\" transform=\"translate(345.531761 261.069219) scale(0.11 -0.11)\">\n       <defs>\n        <path id=\"ArialMT-37\" d=\"M 303 3981 \nL 303 4522 \nL 3269 4522 \nL 3269 4084 \nQ 2831 3619 2401 2847 \nQ 1972 2075 1738 1259 \nQ 1569 684 1522 0 \nL 944 0 \nQ 953 541 1156 1306 \nQ 1359 2072 1739 2783 \nQ 2119 3494 2547 3981 \nL 303 3981 \nz\n\" transform=\"scale(0.015625)\"/>\n       </defs>\n       <use xlink:href=\"#ArialMT-31\"/>\n       <use xlink:href=\"#ArialMT-37\" transform=\"translate(55.615234 0)\"/>\n      </g>\n     </g>\n    </g>\n    <g id=\"xtick_9\">\n     <g id=\"line2d_9\">\n      <path d=\"M 392.230611 243.695625 \nL 392.230611 21.935625 \n\" clip-path=\"url(#p76999af951)\" style=\"fill: none; stroke: #ffffff; stroke-linecap: round\"/>\n     </g>\n     <g id=\"text_9\">\n      <!-- 18 -->\n      <g style=\"fill: #262626\" transform=\"translate(386.11358 261.069219) scale(0.11 -0.11)\">\n       <defs>\n        <path id=\"ArialMT-38\" d=\"M 1131 2484 \nQ 781 2613 612 2850 \nQ 444 3088 444 3419 \nQ 444 3919 803 4259 \nQ 1163 4600 1759 4600 \nQ 2359 4600 2725 4251 \nQ 3091 3903 3091 3403 \nQ 3091 3084 2923 2848 \nQ 2756 2613 2416 2484 \nQ 2838 2347 3058 2040 \nQ 3278 1734 3278 1309 \nQ 3278 722 2862 322 \nQ 2447 -78 1769 -78 \nQ 1091 -78 675 323 \nQ 259 725 259 1325 \nQ 259 1772 486 2073 \nQ 713 2375 1131 2484 \nz\nM 1019 3438 \nQ 1019 3113 1228 2906 \nQ 1438 2700 1772 2700 \nQ 2097 2700 2305 2904 \nQ 2513 3109 2513 3406 \nQ 2513 3716 2298 3927 \nQ 2084 4138 1766 4138 \nQ 1444 4138 1231 3931 \nQ 1019 3725 1019 3438 \nz\nM 838 1322 \nQ 838 1081 952 856 \nQ 1066 631 1291 507 \nQ 1516 384 1775 384 \nQ 2178 384 2440 643 \nQ 2703 903 2703 1303 \nQ 2703 1709 2433 1975 \nQ 2163 2241 1756 2241 \nQ 1359 2241 1098 1978 \nQ 838 1716 838 1322 \nz\n\" transform=\"scale(0.015625)\"/>\n       </defs>\n       <use xlink:href=\"#ArialMT-31\"/>\n       <use xlink:href=\"#ArialMT-38\" transform=\"translate(55.615234 0)\"/>\n      </g>\n     </g>\n    </g>\n    <g id=\"xtick_10\">\n     <g id=\"line2d_10\">\n      <path d=\"M 432.812429 243.695625 \nL 432.812429 21.935625 \n\" clip-path=\"url(#p76999af951)\" style=\"fill: none; stroke: #ffffff; stroke-linecap: round\"/>\n     </g>\n     <g id=\"text_10\">\n      <!-- 19 -->\n      <g style=\"fill: #262626\" transform=\"translate(426.695398 261.069219) scale(0.11 -0.11)\">\n       <defs>\n        <path id=\"ArialMT-39\" d=\"M 350 1059 \nL 891 1109 \nQ 959 728 1153 556 \nQ 1347 384 1650 384 \nQ 1909 384 2104 503 \nQ 2300 622 2425 820 \nQ 2550 1019 2634 1356 \nQ 2719 1694 2719 2044 \nQ 2719 2081 2716 2156 \nQ 2547 1888 2255 1720 \nQ 1963 1553 1622 1553 \nQ 1053 1553 659 1965 \nQ 266 2378 266 3053 \nQ 266 3750 677 4175 \nQ 1088 4600 1706 4600 \nQ 2153 4600 2523 4359 \nQ 2894 4119 3086 3673 \nQ 3278 3228 3278 2384 \nQ 3278 1506 3087 986 \nQ 2897 466 2520 194 \nQ 2144 -78 1638 -78 \nQ 1100 -78 759 220 \nQ 419 519 350 1059 \nz\nM 2653 3081 \nQ 2653 3566 2395 3850 \nQ 2138 4134 1775 4134 \nQ 1400 4134 1122 3828 \nQ 844 3522 844 3034 \nQ 844 2597 1108 2323 \nQ 1372 2050 1759 2050 \nQ 2150 2050 2401 2323 \nQ 2653 2597 2653 3081 \nz\n\" transform=\"scale(0.015625)\"/>\n       </defs>\n       <use xlink:href=\"#ArialMT-31\"/>\n       <use xlink:href=\"#ArialMT-39\" transform=\"translate(55.615234 0)\"/>\n      </g>\n     </g>\n    </g>\n    <g id=\"xtick_11\">\n     <g id=\"line2d_11\">\n      <path d=\"M 473.394247 243.695625 \nL 473.394247 21.935625 \n\" clip-path=\"url(#p76999af951)\" style=\"fill: none; stroke: #ffffff; stroke-linecap: round\"/>\n     </g>\n     <g id=\"text_11\">\n      <!-- 20 -->\n      <g style=\"fill: #262626\" transform=\"translate(467.277216 261.069219) scale(0.11 -0.11)\">\n       <use xlink:href=\"#ArialMT-32\"/>\n       <use xlink:href=\"#ArialMT-30\" transform=\"translate(55.615234 0)\"/>\n      </g>\n     </g>\n    </g>\n    <g id=\"text_12\">\n     <!-- Hour -->\n     <g style=\"fill: #262626\" transform=\"translate(257.481094 275.844844) scale(0.12 -0.12)\">\n      <defs>\n       <path id=\"ArialMT-48\" d=\"M 513 0 \nL 513 4581 \nL 1119 4581 \nL 1119 2700 \nL 3500 2700 \nL 3500 4581 \nL 4106 4581 \nL 4106 0 \nL 3500 0 \nL 3500 2159 \nL 1119 2159 \nL 1119 0 \nL 513 0 \nz\n\" transform=\"scale(0.015625)\"/>\n       <path id=\"ArialMT-6f\" d=\"M 213 1659 \nQ 213 2581 725 3025 \nQ 1153 3394 1769 3394 \nQ 2453 3394 2887 2945 \nQ 3322 2497 3322 1706 \nQ 3322 1066 3130 698 \nQ 2938 331 2570 128 \nQ 2203 -75 1769 -75 \nQ 1072 -75 642 372 \nQ 213 819 213 1659 \nz\nM 791 1659 \nQ 791 1022 1069 705 \nQ 1347 388 1769 388 \nQ 2188 388 2466 706 \nQ 2744 1025 2744 1678 \nQ 2744 2294 2464 2611 \nQ 2184 2928 1769 2928 \nQ 1347 2928 1069 2612 \nQ 791 2297 791 1659 \nz\n\" transform=\"scale(0.015625)\"/>\n       <path id=\"ArialMT-75\" d=\"M 2597 0 \nL 2597 488 \nQ 2209 -75 1544 -75 \nQ 1250 -75 995 37 \nQ 741 150 617 320 \nQ 494 491 444 738 \nQ 409 903 409 1263 \nL 409 3319 \nL 972 3319 \nL 972 1478 \nQ 972 1038 1006 884 \nQ 1059 663 1231 536 \nQ 1403 409 1656 409 \nQ 1909 409 2131 539 \nQ 2353 669 2445 892 \nQ 2538 1116 2538 1541 \nL 2538 3319 \nL 3100 3319 \nL 3100 0 \nL 2597 0 \nz\n\" transform=\"scale(0.015625)\"/>\n       <path id=\"ArialMT-72\" d=\"M 416 0 \nL 416 3319 \nL 922 3319 \nL 922 2816 \nQ 1116 3169 1280 3281 \nQ 1444 3394 1641 3394 \nQ 1925 3394 2219 3213 \nL 2025 2691 \nQ 1819 2813 1613 2813 \nQ 1428 2813 1281 2702 \nQ 1134 2591 1072 2394 \nQ 978 2094 978 1738 \nL 978 0 \nL 416 0 \nz\n\" transform=\"scale(0.015625)\"/>\n      </defs>\n      <use xlink:href=\"#ArialMT-48\"/>\n      <use xlink:href=\"#ArialMT-6f\" transform=\"translate(72.216797 0)\"/>\n      <use xlink:href=\"#ArialMT-75\" transform=\"translate(127.832031 0)\"/>\n      <use xlink:href=\"#ArialMT-72\" transform=\"translate(183.447266 0)\"/>\n     </g>\n    </g>\n   </g>\n   <g id=\"matplotlib.axis_2\">\n    <g id=\"ytick_1\">\n     <g id=\"line2d_12\">\n      <path d=\"M 47.285156 239.273528 \nL 493.685156 239.273528 \n\" clip-path=\"url(#p76999af951)\" style=\"fill: none; stroke: #ffffff; stroke-linecap: round\"/>\n     </g>\n     <g id=\"text_13\">\n      <!-- 22500 -->\n      <g style=\"fill: #262626\" transform=\"translate(7.2 243.210325) scale(0.11 -0.11)\">\n       <use xlink:href=\"#ArialMT-32\"/>\n       <use xlink:href=\"#ArialMT-32\" transform=\"translate(55.615234 0)\"/>\n       <use xlink:href=\"#ArialMT-35\" transform=\"translate(111.230469 0)\"/>\n       <use xlink:href=\"#ArialMT-30\" transform=\"translate(166.845703 0)\"/>\n       <use xlink:href=\"#ArialMT-30\" transform=\"translate(222.460938 0)\"/>\n      </g>\n     </g>\n    </g>\n    <g id=\"ytick_2\">\n     <g id=\"line2d_13\">\n      <path d=\"M 47.285156 209.14798 \nL 493.685156 209.14798 \n\" clip-path=\"url(#p76999af951)\" style=\"fill: none; stroke: #ffffff; stroke-linecap: round\"/>\n     </g>\n     <g id=\"text_14\">\n      <!-- 25000 -->\n      <g style=\"fill: #262626\" transform=\"translate(7.2 213.084777) scale(0.11 -0.11)\">\n       <use xlink:href=\"#ArialMT-32\"/>\n       <use xlink:href=\"#ArialMT-35\" transform=\"translate(55.615234 0)\"/>\n       <use xlink:href=\"#ArialMT-30\" transform=\"translate(111.230469 0)\"/>\n       <use xlink:href=\"#ArialMT-30\" transform=\"translate(166.845703 0)\"/>\n       <use xlink:href=\"#ArialMT-30\" transform=\"translate(222.460938 0)\"/>\n      </g>\n     </g>\n    </g>\n    <g id=\"ytick_3\">\n     <g id=\"line2d_14\">\n      <path d=\"M 47.285156 179.022432 \nL 493.685156 179.022432 \n\" clip-path=\"url(#p76999af951)\" style=\"fill: none; stroke: #ffffff; stroke-linecap: round\"/>\n     </g>\n     <g id=\"text_15\">\n      <!-- 27500 -->\n      <g style=\"fill: #262626\" transform=\"translate(7.2 182.959229) scale(0.11 -0.11)\">\n       <use xlink:href=\"#ArialMT-32\"/>\n       <use xlink:href=\"#ArialMT-37\" transform=\"translate(55.615234 0)\"/>\n       <use xlink:href=\"#ArialMT-35\" transform=\"translate(111.230469 0)\"/>\n       <use xlink:href=\"#ArialMT-30\" transform=\"translate(166.845703 0)\"/>\n       <use xlink:href=\"#ArialMT-30\" transform=\"translate(222.460938 0)\"/>\n      </g>\n     </g>\n    </g>\n    <g id=\"ytick_4\">\n     <g id=\"line2d_15\">\n      <path d=\"M 47.285156 148.896884 \nL 493.685156 148.896884 \n\" clip-path=\"url(#p76999af951)\" style=\"fill: none; stroke: #ffffff; stroke-linecap: round\"/>\n     </g>\n     <g id=\"text_16\">\n      <!-- 30000 -->\n      <g style=\"fill: #262626\" transform=\"translate(7.2 152.833681) scale(0.11 -0.11)\">\n       <use xlink:href=\"#ArialMT-33\"/>\n       <use xlink:href=\"#ArialMT-30\" transform=\"translate(55.615234 0)\"/>\n       <use xlink:href=\"#ArialMT-30\" transform=\"translate(111.230469 0)\"/>\n       <use xlink:href=\"#ArialMT-30\" transform=\"translate(166.845703 0)\"/>\n       <use xlink:href=\"#ArialMT-30\" transform=\"translate(222.460938 0)\"/>\n      </g>\n     </g>\n    </g>\n    <g id=\"ytick_5\">\n     <g id=\"line2d_16\">\n      <path d=\"M 47.285156 118.771335 \nL 493.685156 118.771335 \n\" clip-path=\"url(#p76999af951)\" style=\"fill: none; stroke: #ffffff; stroke-linecap: round\"/>\n     </g>\n     <g id=\"text_17\">\n      <!-- 32500 -->\n      <g style=\"fill: #262626\" transform=\"translate(7.2 122.708132) scale(0.11 -0.11)\">\n       <use xlink:href=\"#ArialMT-33\"/>\n       <use xlink:href=\"#ArialMT-32\" transform=\"translate(55.615234 0)\"/>\n       <use xlink:href=\"#ArialMT-35\" transform=\"translate(111.230469 0)\"/>\n       <use xlink:href=\"#ArialMT-30\" transform=\"translate(166.845703 0)\"/>\n       <use xlink:href=\"#ArialMT-30\" transform=\"translate(222.460938 0)\"/>\n      </g>\n     </g>\n    </g>\n    <g id=\"ytick_6\">\n     <g id=\"line2d_17\">\n      <path d=\"M 47.285156 88.645787 \nL 493.685156 88.645787 \n\" clip-path=\"url(#p76999af951)\" style=\"fill: none; stroke: #ffffff; stroke-linecap: round\"/>\n     </g>\n     <g id=\"text_18\">\n      <!-- 35000 -->\n      <g style=\"fill: #262626\" transform=\"translate(7.2 92.582584) scale(0.11 -0.11)\">\n       <use xlink:href=\"#ArialMT-33\"/>\n       <use xlink:href=\"#ArialMT-35\" transform=\"translate(55.615234 0)\"/>\n       <use xlink:href=\"#ArialMT-30\" transform=\"translate(111.230469 0)\"/>\n       <use xlink:href=\"#ArialMT-30\" transform=\"translate(166.845703 0)\"/>\n       <use xlink:href=\"#ArialMT-30\" transform=\"translate(222.460938 0)\"/>\n      </g>\n     </g>\n    </g>\n    <g id=\"ytick_7\">\n     <g id=\"line2d_18\">\n      <path d=\"M 47.285156 58.520239 \nL 493.685156 58.520239 \n\" clip-path=\"url(#p76999af951)\" style=\"fill: none; stroke: #ffffff; stroke-linecap: round\"/>\n     </g>\n     <g id=\"text_19\">\n      <!-- 37500 -->\n      <g style=\"fill: #262626\" transform=\"translate(7.2 62.457036) scale(0.11 -0.11)\">\n       <use xlink:href=\"#ArialMT-33\"/>\n       <use xlink:href=\"#ArialMT-37\" transform=\"translate(55.615234 0)\"/>\n       <use xlink:href=\"#ArialMT-35\" transform=\"translate(111.230469 0)\"/>\n       <use xlink:href=\"#ArialMT-30\" transform=\"translate(166.845703 0)\"/>\n       <use xlink:href=\"#ArialMT-30\" transform=\"translate(222.460938 0)\"/>\n      </g>\n     </g>\n    </g>\n    <g id=\"ytick_8\">\n     <g id=\"line2d_19\">\n      <path d=\"M 47.285156 28.394691 \nL 493.685156 28.394691 \n\" clip-path=\"url(#p76999af951)\" style=\"fill: none; stroke: #ffffff; stroke-linecap: round\"/>\n     </g>\n     <g id=\"text_20\">\n      <!-- 40000 -->\n      <g style=\"fill: #262626\" transform=\"translate(7.2 32.331488) scale(0.11 -0.11)\">\n       <use xlink:href=\"#ArialMT-34\"/>\n       <use xlink:href=\"#ArialMT-30\" transform=\"translate(55.615234 0)\"/>\n       <use xlink:href=\"#ArialMT-30\" transform=\"translate(111.230469 0)\"/>\n       <use xlink:href=\"#ArialMT-30\" transform=\"translate(166.845703 0)\"/>\n       <use xlink:href=\"#ArialMT-30\" transform=\"translate(222.460938 0)\"/>\n      </g>\n     </g>\n    </g>\n   </g>\n   <g id=\"line2d_20\">\n    <path d=\"M 67.576065 131.767726 \nL 108.157884 144.34998 \nL 148.739702 196.303862 \nL 189.32152 91.980963 \nL 229.903338 138.914494 \nL 270.485156 134.683548 \nL 311.066974 206.420732 \nL 351.648793 215.833225 \nL 392.230611 196.732157 \nL 432.812429 32.015625 \nL 473.394247 233.615625 \n\" clip-path=\"url(#p76999af951)\" style=\"fill: none; stroke: #f08080; stroke-width: 1.5; stroke-linecap: round\"/>\n   </g>\n   <g id=\"patch_3\">\n    <path d=\"M 47.285156 243.695625 \nL 47.285156 21.935625 \n\" style=\"fill: none; stroke: #ffffff; stroke-width: 1.25; stroke-linejoin: miter; stroke-linecap: square\"/>\n   </g>\n   <g id=\"patch_4\">\n    <path d=\"M 493.685156 243.695625 \nL 493.685156 21.935625 \n\" style=\"fill: none; stroke: #ffffff; stroke-width: 1.25; stroke-linejoin: miter; stroke-linecap: square\"/>\n   </g>\n   <g id=\"patch_5\">\n    <path d=\"M 47.285156 243.695625 \nL 493.685156 243.695625 \n\" style=\"fill: none; stroke: #ffffff; stroke-width: 1.25; stroke-linejoin: miter; stroke-linecap: square\"/>\n   </g>\n   <g id=\"patch_6\">\n    <path d=\"M 47.285156 21.935625 \nL 493.685156 21.935625 \n\" style=\"fill: none; stroke: #ffffff; stroke-width: 1.25; stroke-linejoin: miter; stroke-linecap: square\"/>\n   </g>\n   <g id=\"text_21\">\n    <!-- Total Amount of Sales per Hour -->\n    <g style=\"fill: #262626\" transform=\"translate(187.447031 15.935625) scale(0.12 -0.12)\">\n     <defs>\n      <path id=\"ArialMT-54\" d=\"M 1659 0 \nL 1659 4041 \nL 150 4041 \nL 150 4581 \nL 3781 4581 \nL 3781 4041 \nL 2266 4041 \nL 2266 0 \nL 1659 0 \nz\n\" transform=\"scale(0.015625)\"/>\n      <path id=\"ArialMT-74\" d=\"M 1650 503 \nL 1731 6 \nQ 1494 -44 1306 -44 \nQ 1000 -44 831 53 \nQ 663 150 594 308 \nQ 525 466 525 972 \nL 525 2881 \nL 113 2881 \nL 113 3319 \nL 525 3319 \nL 525 4141 \nL 1084 4478 \nL 1084 3319 \nL 1650 3319 \nL 1650 2881 \nL 1084 2881 \nL 1084 941 \nQ 1084 700 1114 631 \nQ 1144 563 1211 522 \nQ 1278 481 1403 481 \nQ 1497 481 1650 503 \nz\n\" transform=\"scale(0.015625)\"/>\n      <path id=\"ArialMT-61\" d=\"M 2588 409 \nQ 2275 144 1986 34 \nQ 1697 -75 1366 -75 \nQ 819 -75 525 192 \nQ 231 459 231 875 \nQ 231 1119 342 1320 \nQ 453 1522 633 1644 \nQ 813 1766 1038 1828 \nQ 1203 1872 1538 1913 \nQ 2219 1994 2541 2106 \nQ 2544 2222 2544 2253 \nQ 2544 2597 2384 2738 \nQ 2169 2928 1744 2928 \nQ 1347 2928 1158 2789 \nQ 969 2650 878 2297 \nL 328 2372 \nQ 403 2725 575 2942 \nQ 747 3159 1072 3276 \nQ 1397 3394 1825 3394 \nQ 2250 3394 2515 3294 \nQ 2781 3194 2906 3042 \nQ 3031 2891 3081 2659 \nQ 3109 2516 3109 2141 \nL 3109 1391 \nQ 3109 606 3145 398 \nQ 3181 191 3288 0 \nL 2700 0 \nQ 2613 175 2588 409 \nz\nM 2541 1666 \nQ 2234 1541 1622 1453 \nQ 1275 1403 1131 1340 \nQ 988 1278 909 1158 \nQ 831 1038 831 891 \nQ 831 666 1001 516 \nQ 1172 366 1500 366 \nQ 1825 366 2078 508 \nQ 2331 650 2450 897 \nQ 2541 1088 2541 1459 \nL 2541 1666 \nz\n\" transform=\"scale(0.015625)\"/>\n      <path id=\"ArialMT-6c\" d=\"M 409 0 \nL 409 4581 \nL 972 4581 \nL 972 0 \nL 409 0 \nz\n\" transform=\"scale(0.015625)\"/>\n      <path id=\"ArialMT-20\" transform=\"scale(0.015625)\"/>\n      <path id=\"ArialMT-41\" d=\"M -9 0 \nL 1750 4581 \nL 2403 4581 \nL 4278 0 \nL 3588 0 \nL 3053 1388 \nL 1138 1388 \nL 634 0 \nL -9 0 \nz\nM 1313 1881 \nL 2866 1881 \nL 2388 3150 \nQ 2169 3728 2063 4100 \nQ 1975 3659 1816 3225 \nL 1313 1881 \nz\n\" transform=\"scale(0.015625)\"/>\n      <path id=\"ArialMT-6d\" d=\"M 422 0 \nL 422 3319 \nL 925 3319 \nL 925 2853 \nQ 1081 3097 1340 3245 \nQ 1600 3394 1931 3394 \nQ 2300 3394 2536 3241 \nQ 2772 3088 2869 2813 \nQ 3263 3394 3894 3394 \nQ 4388 3394 4653 3120 \nQ 4919 2847 4919 2278 \nL 4919 0 \nL 4359 0 \nL 4359 2091 \nQ 4359 2428 4304 2576 \nQ 4250 2725 4106 2815 \nQ 3963 2906 3769 2906 \nQ 3419 2906 3187 2673 \nQ 2956 2441 2956 1928 \nL 2956 0 \nL 2394 0 \nL 2394 2156 \nQ 2394 2531 2256 2718 \nQ 2119 2906 1806 2906 \nQ 1569 2906 1367 2781 \nQ 1166 2656 1075 2415 \nQ 984 2175 984 1722 \nL 984 0 \nL 422 0 \nz\n\" transform=\"scale(0.015625)\"/>\n      <path id=\"ArialMT-6e\" d=\"M 422 0 \nL 422 3319 \nL 928 3319 \nL 928 2847 \nQ 1294 3394 1984 3394 \nQ 2284 3394 2536 3286 \nQ 2788 3178 2913 3003 \nQ 3038 2828 3088 2588 \nQ 3119 2431 3119 2041 \nL 3119 0 \nL 2556 0 \nL 2556 2019 \nQ 2556 2363 2490 2533 \nQ 2425 2703 2258 2804 \nQ 2091 2906 1866 2906 \nQ 1506 2906 1245 2678 \nQ 984 2450 984 1813 \nL 984 0 \nL 422 0 \nz\n\" transform=\"scale(0.015625)\"/>\n      <path id=\"ArialMT-66\" d=\"M 556 0 \nL 556 2881 \nL 59 2881 \nL 59 3319 \nL 556 3319 \nL 556 3672 \nQ 556 4006 616 4169 \nQ 697 4388 901 4523 \nQ 1106 4659 1475 4659 \nQ 1713 4659 2000 4603 \nL 1916 4113 \nQ 1741 4144 1584 4144 \nQ 1328 4144 1222 4034 \nQ 1116 3925 1116 3625 \nL 1116 3319 \nL 1763 3319 \nL 1763 2881 \nL 1116 2881 \nL 1116 0 \nL 556 0 \nz\n\" transform=\"scale(0.015625)\"/>\n      <path id=\"ArialMT-53\" d=\"M 288 1472 \nL 859 1522 \nQ 900 1178 1048 958 \nQ 1197 738 1509 602 \nQ 1822 466 2213 466 \nQ 2559 466 2825 569 \nQ 3091 672 3220 851 \nQ 3350 1031 3350 1244 \nQ 3350 1459 3225 1620 \nQ 3100 1781 2813 1891 \nQ 2628 1963 1997 2114 \nQ 1366 2266 1113 2400 \nQ 784 2572 623 2826 \nQ 463 3081 463 3397 \nQ 463 3744 659 4045 \nQ 856 4347 1234 4503 \nQ 1613 4659 2075 4659 \nQ 2584 4659 2973 4495 \nQ 3363 4331 3572 4012 \nQ 3781 3694 3797 3291 \nL 3216 3247 \nQ 3169 3681 2898 3903 \nQ 2628 4125 2100 4125 \nQ 1550 4125 1298 3923 \nQ 1047 3722 1047 3438 \nQ 1047 3191 1225 3031 \nQ 1400 2872 2139 2705 \nQ 2878 2538 3153 2413 \nQ 3553 2228 3743 1945 \nQ 3934 1663 3934 1294 \nQ 3934 928 3725 604 \nQ 3516 281 3123 101 \nQ 2731 -78 2241 -78 \nQ 1619 -78 1198 103 \nQ 778 284 539 648 \nQ 300 1013 288 1472 \nz\n\" transform=\"scale(0.015625)\"/>\n      <path id=\"ArialMT-65\" d=\"M 2694 1069 \nL 3275 997 \nQ 3138 488 2766 206 \nQ 2394 -75 1816 -75 \nQ 1088 -75 661 373 \nQ 234 822 234 1631 \nQ 234 2469 665 2931 \nQ 1097 3394 1784 3394 \nQ 2450 3394 2872 2941 \nQ 3294 2488 3294 1666 \nQ 3294 1616 3291 1516 \nL 816 1516 \nQ 847 969 1125 678 \nQ 1403 388 1819 388 \nQ 2128 388 2347 550 \nQ 2566 713 2694 1069 \nz\nM 847 1978 \nL 2700 1978 \nQ 2663 2397 2488 2606 \nQ 2219 2931 1791 2931 \nQ 1403 2931 1139 2672 \nQ 875 2413 847 1978 \nz\n\" transform=\"scale(0.015625)\"/>\n      <path id=\"ArialMT-73\" d=\"M 197 991 \nL 753 1078 \nQ 800 744 1014 566 \nQ 1228 388 1613 388 \nQ 2000 388 2187 545 \nQ 2375 703 2375 916 \nQ 2375 1106 2209 1216 \nQ 2094 1291 1634 1406 \nQ 1016 1563 777 1677 \nQ 538 1791 414 1992 \nQ 291 2194 291 2438 \nQ 291 2659 392 2848 \nQ 494 3038 669 3163 \nQ 800 3259 1026 3326 \nQ 1253 3394 1513 3394 \nQ 1903 3394 2198 3281 \nQ 2494 3169 2634 2976 \nQ 2775 2784 2828 2463 \nL 2278 2388 \nQ 2241 2644 2061 2787 \nQ 1881 2931 1553 2931 \nQ 1166 2931 1000 2803 \nQ 834 2675 834 2503 \nQ 834 2394 903 2306 \nQ 972 2216 1119 2156 \nQ 1203 2125 1616 2013 \nQ 2213 1853 2448 1751 \nQ 2684 1650 2818 1456 \nQ 2953 1263 2953 975 \nQ 2953 694 2789 445 \nQ 2625 197 2315 61 \nQ 2006 -75 1616 -75 \nQ 969 -75 630 194 \nQ 291 463 197 991 \nz\n\" transform=\"scale(0.015625)\"/>\n      <path id=\"ArialMT-70\" d=\"M 422 -1272 \nL 422 3319 \nL 934 3319 \nL 934 2888 \nQ 1116 3141 1344 3267 \nQ 1572 3394 1897 3394 \nQ 2322 3394 2647 3175 \nQ 2972 2956 3137 2557 \nQ 3303 2159 3303 1684 \nQ 3303 1175 3120 767 \nQ 2938 359 2589 142 \nQ 2241 -75 1856 -75 \nQ 1575 -75 1351 44 \nQ 1128 163 984 344 \nL 984 -1272 \nL 422 -1272 \nz\nM 931 1641 \nQ 931 1000 1190 694 \nQ 1450 388 1819 388 \nQ 2194 388 2461 705 \nQ 2728 1022 2728 1688 \nQ 2728 2322 2467 2637 \nQ 2206 2953 1844 2953 \nQ 1484 2953 1207 2617 \nQ 931 2281 931 1641 \nz\n\" transform=\"scale(0.015625)\"/>\n     </defs>\n     <use xlink:href=\"#ArialMT-54\"/>\n     <use xlink:href=\"#ArialMT-6f\" transform=\"translate(49.958984 0)\"/>\n     <use xlink:href=\"#ArialMT-74\" transform=\"translate(105.574219 0)\"/>\n     <use xlink:href=\"#ArialMT-61\" transform=\"translate(133.357422 0)\"/>\n     <use xlink:href=\"#ArialMT-6c\" transform=\"translate(188.972656 0)\"/>\n     <use xlink:href=\"#ArialMT-20\" transform=\"translate(211.189453 0)\"/>\n     <use xlink:href=\"#ArialMT-41\" transform=\"translate(233.472656 0)\"/>\n     <use xlink:href=\"#ArialMT-6d\" transform=\"translate(300.171875 0)\"/>\n     <use xlink:href=\"#ArialMT-6f\" transform=\"translate(383.472656 0)\"/>\n     <use xlink:href=\"#ArialMT-75\" transform=\"translate(439.087891 0)\"/>\n     <use xlink:href=\"#ArialMT-6e\" transform=\"translate(494.703125 0)\"/>\n     <use xlink:href=\"#ArialMT-74\" transform=\"translate(550.318359 0)\"/>\n     <use xlink:href=\"#ArialMT-20\" transform=\"translate(578.101562 0)\"/>\n     <use xlink:href=\"#ArialMT-6f\" transform=\"translate(605.884766 0)\"/>\n     <use xlink:href=\"#ArialMT-66\" transform=\"translate(661.5 0)\"/>\n     <use xlink:href=\"#ArialMT-20\" transform=\"translate(689.283203 0)\"/>\n     <use xlink:href=\"#ArialMT-53\" transform=\"translate(717.066406 0)\"/>\n     <use xlink:href=\"#ArialMT-61\" transform=\"translate(783.765625 0)\"/>\n     <use xlink:href=\"#ArialMT-6c\" transform=\"translate(839.380859 0)\"/>\n     <use xlink:href=\"#ArialMT-65\" transform=\"translate(861.597656 0)\"/>\n     <use xlink:href=\"#ArialMT-73\" transform=\"translate(917.212891 0)\"/>\n     <use xlink:href=\"#ArialMT-20\" transform=\"translate(967.212891 0)\"/>\n     <use xlink:href=\"#ArialMT-70\" transform=\"translate(994.996094 0)\"/>\n     <use xlink:href=\"#ArialMT-65\" transform=\"translate(1050.611328 0)\"/>\n     <use xlink:href=\"#ArialMT-72\" transform=\"translate(1106.226562 0)\"/>\n     <use xlink:href=\"#ArialMT-20\" transform=\"translate(1139.527344 0)\"/>\n     <use xlink:href=\"#ArialMT-48\" transform=\"translate(1167.310547 0)\"/>\n     <use xlink:href=\"#ArialMT-6f\" transform=\"translate(1239.527344 0)\"/>\n     <use xlink:href=\"#ArialMT-75\" transform=\"translate(1295.142578 0)\"/>\n     <use xlink:href=\"#ArialMT-72\" transform=\"translate(1350.757812 0)\"/>\n    </g>\n   </g>\n   <g id=\"legend_1\">\n    <g id=\"patch_7\">\n     <path d=\"M 54.985156 46.295469 \nL 113.414062 46.295469 \nQ 115.614063 46.295469 115.614063 44.095469 \nL 115.614063 29.635625 \nQ 115.614063 27.435625 113.414062 27.435625 \nL 54.985156 27.435625 \nQ 52.785156 27.435625 52.785156 29.635625 \nL 52.785156 44.095469 \nQ 52.785156 46.295469 54.985156 46.295469 \nz\n\" style=\"fill: #eaeaf2; opacity: 0.8; stroke: #cccccc; stroke-linejoin: miter\"/>\n    </g>\n    <g id=\"line2d_21\">\n     <path d=\"M 57.185156 35.859219 \nL 68.185156 35.859219 \nL 79.185156 35.859219 \n\" style=\"fill: none; stroke: #f08080; stroke-width: 1.5; stroke-linecap: round\"/>\n    </g>\n    <g id=\"text_22\">\n     <!-- Total -->\n     <g style=\"fill: #262626\" transform=\"translate(87.985156 39.709219) scale(0.11 -0.11)\">\n      <use xlink:href=\"#ArialMT-54\"/>\n      <use xlink:href=\"#ArialMT-6f\" transform=\"translate(49.958984 0)\"/>\n      <use xlink:href=\"#ArialMT-74\" transform=\"translate(105.574219 0)\"/>\n      <use xlink:href=\"#ArialMT-61\" transform=\"translate(133.357422 0)\"/>\n      <use xlink:href=\"#ArialMT-6c\" transform=\"translate(188.972656 0)\"/>\n     </g>\n    </g>\n   </g>\n  </g>\n </g>\n <defs>\n  <clipPath id=\"p76999af951\">\n   <rect x=\"47.285156\" y=\"21.935625\" width=\"446.4\" height=\"221.76\"/>\n  </clipPath>\n </defs>\n</svg>\n"
     },
     "metadata": {},
     "output_type": "display_data"
    }
   ],
   "execution_count": 44
  },
  {
   "cell_type": "markdown",
   "id": "32115916-06de-4cfe-9af3-c2b7c2832dd6",
   "metadata": {},
   "source": [
    "#### Question 9"
   ]
  },
  {
   "cell_type": "code",
   "id": "5741bfef-46e1-414b-a7b0-b450fa26ff12",
   "metadata": {
    "ExecuteTime": {
     "end_time": "2025-04-12T13:23:53.300187Z",
     "start_time": "2025-04-12T13:23:53.298746Z"
    }
   },
   "source": [
    "### plot a line chart of the total number of purchases (rows) per hour in our dataset\n",
    "### the x axis will be an hour (e.g., 9, 10, 11), and the y axis will be the total number of purchases during that hour\n",
    "### (e.g., for 9 - all sales between 09:00 and 10:00)"
   ],
   "outputs": [],
   "execution_count": 45
  },
  {
   "cell_type": "markdown",
   "id": "e2d979aeadd06275",
   "metadata": {},
   "source": [
    "#### Question 9 - solution"
   ]
  },
  {
   "cell_type": "code",
   "id": "d972191257eec3b1",
   "metadata": {
    "ExecuteTime": {
     "end_time": "2025-04-12T13:23:53.373192Z",
     "start_time": "2025-04-12T13:23:53.322918Z"
    }
   },
   "source": [
    "from datetime import datetime\n",
    "\n",
    "df_copy = df.copy()\n",
    "df_copy['hour'] = df_copy['Time'].apply(lambda x: datetime.strptime(x, '%H:%M').hour)\n",
    "res = df_copy.groupby('hour')\n",
    "hours_and_purchases = []\n",
    "for hour, group in res:\n",
    "    hours_and_purchases.append((hour, group.shape[0]))\n",
    "    \n",
    "res = pd.DataFrame(hours_and_purchases,columns=['hour','purchases'])\n",
    "\n",
    "res.plot(kind='line',x='hour', y='purchases',color=\"mediumslateblue\")\n",
    "plt.xticks(res['hour'])\n",
    "plt.title('Total Amount of Purchases per Hour')\n",
    "plt.show()\n"
   ],
   "outputs": [
    {
     "data": {
      "text/plain": [
       "<Figure size 800x400 with 1 Axes>"
      ],
      "image/svg+xml": "<?xml version=\"1.0\" encoding=\"utf-8\" standalone=\"no\"?>\n<!DOCTYPE svg PUBLIC \"-//W3C//DTD SVG 1.1//EN\"\n  \"http://www.w3.org/Graphics/SVG/1.1/DTD/svg11.dtd\">\n<svg xmlns:xlink=\"http://www.w3.org/1999/xlink\" width=\"488.651094pt\" height=\"285.429844pt\" viewBox=\"0 0 488.651094 285.429844\" xmlns=\"http://www.w3.org/2000/svg\" version=\"1.1\">\n <metadata>\n  <rdf:RDF xmlns:dc=\"http://purl.org/dc/elements/1.1/\" xmlns:cc=\"http://creativecommons.org/ns#\" xmlns:rdf=\"http://www.w3.org/1999/02/22-rdf-syntax-ns#\">\n   <cc:Work>\n    <dc:type rdf:resource=\"http://purl.org/dc/dcmitype/StillImage\"/>\n    <dc:date>2025-04-12T16:23:53.358442</dc:date>\n    <dc:format>image/svg+xml</dc:format>\n    <dc:creator>\n     <cc:Agent>\n      <dc:title>Matplotlib v3.10.1, https://matplotlib.org/</dc:title>\n     </cc:Agent>\n    </dc:creator>\n   </cc:Work>\n  </rdf:RDF>\n </metadata>\n <defs>\n  <style type=\"text/css\">*{stroke-linejoin: round; stroke-linecap: butt}</style>\n </defs>\n <g id=\"figure_1\">\n  <g id=\"patch_1\">\n   <path d=\"M 0 285.429844 \nL 488.651094 285.429844 \nL 488.651094 0 \nL 0 0 \nz\n\" style=\"fill: #ffffff\"/>\n  </g>\n  <g id=\"axes_1\">\n   <g id=\"patch_2\">\n    <path d=\"M 35.051094 243.695625 \nL 481.451094 243.695625 \nL 481.451094 21.935625 \nL 35.051094 21.935625 \nz\n\" style=\"fill: #eaeaf2\"/>\n   </g>\n   <g id=\"matplotlib.axis_1\">\n    <g id=\"xtick_1\">\n     <g id=\"line2d_1\">\n      <path d=\"M 55.342003 243.695625 \nL 55.342003 21.935625 \n\" clip-path=\"url(#pf614fe31d7)\" style=\"fill: none; stroke: #ffffff; stroke-linecap: round\"/>\n     </g>\n     <g id=\"text_1\">\n      <!-- 10 -->\n      <g style=\"fill: #262626\" transform=\"translate(49.224972 261.069219) scale(0.11 -0.11)\">\n       <defs>\n        <path id=\"ArialMT-31\" d=\"M 2384 0 \nL 1822 0 \nL 1822 3584 \nQ 1619 3391 1289 3197 \nQ 959 3003 697 2906 \nL 697 3450 \nQ 1169 3672 1522 3987 \nQ 1875 4303 2022 4600 \nL 2384 4600 \nL 2384 0 \nz\n\" transform=\"scale(0.015625)\"/>\n        <path id=\"ArialMT-30\" d=\"M 266 2259 \nQ 266 3072 433 3567 \nQ 600 4063 929 4331 \nQ 1259 4600 1759 4600 \nQ 2128 4600 2406 4451 \nQ 2684 4303 2865 4023 \nQ 3047 3744 3150 3342 \nQ 3253 2941 3253 2259 \nQ 3253 1453 3087 958 \nQ 2922 463 2592 192 \nQ 2263 -78 1759 -78 \nQ 1097 -78 719 397 \nQ 266 969 266 2259 \nz\nM 844 2259 \nQ 844 1131 1108 757 \nQ 1372 384 1759 384 \nQ 2147 384 2411 759 \nQ 2675 1134 2675 2259 \nQ 2675 3391 2411 3762 \nQ 2147 4134 1753 4134 \nQ 1366 4134 1134 3806 \nQ 844 3388 844 2259 \nz\n\" transform=\"scale(0.015625)\"/>\n       </defs>\n       <use xlink:href=\"#ArialMT-31\"/>\n       <use xlink:href=\"#ArialMT-30\" transform=\"translate(55.615234 0)\"/>\n      </g>\n     </g>\n    </g>\n    <g id=\"xtick_2\">\n     <g id=\"line2d_2\">\n      <path d=\"M 95.923821 243.695625 \nL 95.923821 21.935625 \n\" clip-path=\"url(#pf614fe31d7)\" style=\"fill: none; stroke: #ffffff; stroke-linecap: round\"/>\n     </g>\n     <g id=\"text_2\">\n      <!-- 11 -->\n      <g style=\"fill: #262626\" transform=\"translate(90.212415 261.069219) scale(0.11 -0.11)\">\n       <use xlink:href=\"#ArialMT-31\"/>\n       <use xlink:href=\"#ArialMT-31\" transform=\"translate(48.240234 0)\"/>\n      </g>\n     </g>\n    </g>\n    <g id=\"xtick_3\">\n     <g id=\"line2d_3\">\n      <path d=\"M 136.505639 243.695625 \nL 136.505639 21.935625 \n\" clip-path=\"url(#pf614fe31d7)\" style=\"fill: none; stroke: #ffffff; stroke-linecap: round\"/>\n     </g>\n     <g id=\"text_3\">\n      <!-- 12 -->\n      <g style=\"fill: #262626\" transform=\"translate(130.388608 261.069219) scale(0.11 -0.11)\">\n       <defs>\n        <path id=\"ArialMT-32\" d=\"M 3222 541 \nL 3222 0 \nL 194 0 \nQ 188 203 259 391 \nQ 375 700 629 1000 \nQ 884 1300 1366 1694 \nQ 2113 2306 2375 2664 \nQ 2638 3022 2638 3341 \nQ 2638 3675 2398 3904 \nQ 2159 4134 1775 4134 \nQ 1369 4134 1125 3890 \nQ 881 3647 878 3216 \nL 300 3275 \nQ 359 3922 746 4261 \nQ 1134 4600 1788 4600 \nQ 2447 4600 2831 4234 \nQ 3216 3869 3216 3328 \nQ 3216 3053 3103 2787 \nQ 2991 2522 2730 2228 \nQ 2469 1934 1863 1422 \nQ 1356 997 1212 845 \nQ 1069 694 975 541 \nL 3222 541 \nz\n\" transform=\"scale(0.015625)\"/>\n       </defs>\n       <use xlink:href=\"#ArialMT-31\"/>\n       <use xlink:href=\"#ArialMT-32\" transform=\"translate(55.615234 0)\"/>\n      </g>\n     </g>\n    </g>\n    <g id=\"xtick_4\">\n     <g id=\"line2d_4\">\n      <path d=\"M 177.087457 243.695625 \nL 177.087457 21.935625 \n\" clip-path=\"url(#pf614fe31d7)\" style=\"fill: none; stroke: #ffffff; stroke-linecap: round\"/>\n     </g>\n     <g id=\"text_4\">\n      <!-- 13 -->\n      <g style=\"fill: #262626\" transform=\"translate(170.970426 261.069219) scale(0.11 -0.11)\">\n       <defs>\n        <path id=\"ArialMT-33\" d=\"M 269 1209 \nL 831 1284 \nQ 928 806 1161 595 \nQ 1394 384 1728 384 \nQ 2125 384 2398 659 \nQ 2672 934 2672 1341 \nQ 2672 1728 2419 1979 \nQ 2166 2231 1775 2231 \nQ 1616 2231 1378 2169 \nL 1441 2663 \nQ 1497 2656 1531 2656 \nQ 1891 2656 2178 2843 \nQ 2466 3031 2466 3422 \nQ 2466 3731 2256 3934 \nQ 2047 4138 1716 4138 \nQ 1388 4138 1169 3931 \nQ 950 3725 888 3313 \nL 325 3413 \nQ 428 3978 793 4289 \nQ 1159 4600 1703 4600 \nQ 2078 4600 2393 4439 \nQ 2709 4278 2876 4000 \nQ 3044 3722 3044 3409 \nQ 3044 3113 2884 2869 \nQ 2725 2625 2413 2481 \nQ 2819 2388 3044 2092 \nQ 3269 1797 3269 1353 \nQ 3269 753 2831 336 \nQ 2394 -81 1725 -81 \nQ 1122 -81 723 278 \nQ 325 638 269 1209 \nz\n\" transform=\"scale(0.015625)\"/>\n       </defs>\n       <use xlink:href=\"#ArialMT-31\"/>\n       <use xlink:href=\"#ArialMT-33\" transform=\"translate(55.615234 0)\"/>\n      </g>\n     </g>\n    </g>\n    <g id=\"xtick_5\">\n     <g id=\"line2d_5\">\n      <path d=\"M 217.669276 243.695625 \nL 217.669276 21.935625 \n\" clip-path=\"url(#pf614fe31d7)\" style=\"fill: none; stroke: #ffffff; stroke-linecap: round\"/>\n     </g>\n     <g id=\"text_5\">\n      <!-- 14 -->\n      <g style=\"fill: #262626\" transform=\"translate(211.552244 261.069219) scale(0.11 -0.11)\">\n       <defs>\n        <path id=\"ArialMT-34\" d=\"M 2069 0 \nL 2069 1097 \nL 81 1097 \nL 81 1613 \nL 2172 4581 \nL 2631 4581 \nL 2631 1613 \nL 3250 1613 \nL 3250 1097 \nL 2631 1097 \nL 2631 0 \nL 2069 0 \nz\nM 2069 1613 \nL 2069 3678 \nL 634 1613 \nL 2069 1613 \nz\n\" transform=\"scale(0.015625)\"/>\n       </defs>\n       <use xlink:href=\"#ArialMT-31\"/>\n       <use xlink:href=\"#ArialMT-34\" transform=\"translate(55.615234 0)\"/>\n      </g>\n     </g>\n    </g>\n    <g id=\"xtick_6\">\n     <g id=\"line2d_6\">\n      <path d=\"M 258.251094 243.695625 \nL 258.251094 21.935625 \n\" clip-path=\"url(#pf614fe31d7)\" style=\"fill: none; stroke: #ffffff; stroke-linecap: round\"/>\n     </g>\n     <g id=\"text_6\">\n      <!-- 15 -->\n      <g style=\"fill: #262626\" transform=\"translate(252.134062 261.069219) scale(0.11 -0.11)\">\n       <defs>\n        <path id=\"ArialMT-35\" d=\"M 266 1200 \nL 856 1250 \nQ 922 819 1161 601 \nQ 1400 384 1738 384 \nQ 2144 384 2425 690 \nQ 2706 997 2706 1503 \nQ 2706 1984 2436 2262 \nQ 2166 2541 1728 2541 \nQ 1456 2541 1237 2417 \nQ 1019 2294 894 2097 \nL 366 2166 \nL 809 4519 \nL 3088 4519 \nL 3088 3981 \nL 1259 3981 \nL 1013 2750 \nQ 1425 3038 1878 3038 \nQ 2478 3038 2890 2622 \nQ 3303 2206 3303 1553 \nQ 3303 931 2941 478 \nQ 2500 -78 1738 -78 \nQ 1113 -78 717 272 \nQ 322 622 266 1200 \nz\n\" transform=\"scale(0.015625)\"/>\n       </defs>\n       <use xlink:href=\"#ArialMT-31\"/>\n       <use xlink:href=\"#ArialMT-35\" transform=\"translate(55.615234 0)\"/>\n      </g>\n     </g>\n    </g>\n    <g id=\"xtick_7\">\n     <g id=\"line2d_7\">\n      <path d=\"M 298.832912 243.695625 \nL 298.832912 21.935625 \n\" clip-path=\"url(#pf614fe31d7)\" style=\"fill: none; stroke: #ffffff; stroke-linecap: round\"/>\n     </g>\n     <g id=\"text_7\">\n      <!-- 16 -->\n      <g style=\"fill: #262626\" transform=\"translate(292.715881 261.069219) scale(0.11 -0.11)\">\n       <defs>\n        <path id=\"ArialMT-36\" d=\"M 3184 3459 \nL 2625 3416 \nQ 2550 3747 2413 3897 \nQ 2184 4138 1850 4138 \nQ 1581 4138 1378 3988 \nQ 1113 3794 959 3422 \nQ 806 3050 800 2363 \nQ 1003 2672 1297 2822 \nQ 1591 2972 1913 2972 \nQ 2475 2972 2870 2558 \nQ 3266 2144 3266 1488 \nQ 3266 1056 3080 686 \nQ 2894 316 2569 119 \nQ 2244 -78 1831 -78 \nQ 1128 -78 684 439 \nQ 241 956 241 2144 \nQ 241 3472 731 4075 \nQ 1159 4600 1884 4600 \nQ 2425 4600 2770 4297 \nQ 3116 3994 3184 3459 \nz\nM 888 1484 \nQ 888 1194 1011 928 \nQ 1134 663 1356 523 \nQ 1578 384 1822 384 \nQ 2178 384 2434 671 \nQ 2691 959 2691 1453 \nQ 2691 1928 2437 2201 \nQ 2184 2475 1800 2475 \nQ 1419 2475 1153 2201 \nQ 888 1928 888 1484 \nz\n\" transform=\"scale(0.015625)\"/>\n       </defs>\n       <use xlink:href=\"#ArialMT-31\"/>\n       <use xlink:href=\"#ArialMT-36\" transform=\"translate(55.615234 0)\"/>\n      </g>\n     </g>\n    </g>\n    <g id=\"xtick_8\">\n     <g id=\"line2d_8\">\n      <path d=\"M 339.41473 243.695625 \nL 339.41473 21.935625 \n\" clip-path=\"url(#pf614fe31d7)\" style=\"fill: none; stroke: #ffffff; stroke-linecap: round\"/>\n     </g>\n     <g id=\"text_8\">\n      <!-- 17 -->\n      <g style=\"fill: #262626\" transform=\"translate(333.297699 261.069219) scale(0.11 -0.11)\">\n       <defs>\n        <path id=\"ArialMT-37\" d=\"M 303 3981 \nL 303 4522 \nL 3269 4522 \nL 3269 4084 \nQ 2831 3619 2401 2847 \nQ 1972 2075 1738 1259 \nQ 1569 684 1522 0 \nL 944 0 \nQ 953 541 1156 1306 \nQ 1359 2072 1739 2783 \nQ 2119 3494 2547 3981 \nL 303 3981 \nz\n\" transform=\"scale(0.015625)\"/>\n       </defs>\n       <use xlink:href=\"#ArialMT-31\"/>\n       <use xlink:href=\"#ArialMT-37\" transform=\"translate(55.615234 0)\"/>\n      </g>\n     </g>\n    </g>\n    <g id=\"xtick_9\">\n     <g id=\"line2d_9\">\n      <path d=\"M 379.996548 243.695625 \nL 379.996548 21.935625 \n\" clip-path=\"url(#pf614fe31d7)\" style=\"fill: none; stroke: #ffffff; stroke-linecap: round\"/>\n     </g>\n     <g id=\"text_9\">\n      <!-- 18 -->\n      <g style=\"fill: #262626\" transform=\"translate(373.879517 261.069219) scale(0.11 -0.11)\">\n       <defs>\n        <path id=\"ArialMT-38\" d=\"M 1131 2484 \nQ 781 2613 612 2850 \nQ 444 3088 444 3419 \nQ 444 3919 803 4259 \nQ 1163 4600 1759 4600 \nQ 2359 4600 2725 4251 \nQ 3091 3903 3091 3403 \nQ 3091 3084 2923 2848 \nQ 2756 2613 2416 2484 \nQ 2838 2347 3058 2040 \nQ 3278 1734 3278 1309 \nQ 3278 722 2862 322 \nQ 2447 -78 1769 -78 \nQ 1091 -78 675 323 \nQ 259 725 259 1325 \nQ 259 1772 486 2073 \nQ 713 2375 1131 2484 \nz\nM 1019 3438 \nQ 1019 3113 1228 2906 \nQ 1438 2700 1772 2700 \nQ 2097 2700 2305 2904 \nQ 2513 3109 2513 3406 \nQ 2513 3716 2298 3927 \nQ 2084 4138 1766 4138 \nQ 1444 4138 1231 3931 \nQ 1019 3725 1019 3438 \nz\nM 838 1322 \nQ 838 1081 952 856 \nQ 1066 631 1291 507 \nQ 1516 384 1775 384 \nQ 2178 384 2440 643 \nQ 2703 903 2703 1303 \nQ 2703 1709 2433 1975 \nQ 2163 2241 1756 2241 \nQ 1359 2241 1098 1978 \nQ 838 1716 838 1322 \nz\n\" transform=\"scale(0.015625)\"/>\n       </defs>\n       <use xlink:href=\"#ArialMT-31\"/>\n       <use xlink:href=\"#ArialMT-38\" transform=\"translate(55.615234 0)\"/>\n      </g>\n     </g>\n    </g>\n    <g id=\"xtick_10\">\n     <g id=\"line2d_10\">\n      <path d=\"M 420.578366 243.695625 \nL 420.578366 21.935625 \n\" clip-path=\"url(#pf614fe31d7)\" style=\"fill: none; stroke: #ffffff; stroke-linecap: round\"/>\n     </g>\n     <g id=\"text_10\">\n      <!-- 19 -->\n      <g style=\"fill: #262626\" transform=\"translate(414.461335 261.069219) scale(0.11 -0.11)\">\n       <defs>\n        <path id=\"ArialMT-39\" d=\"M 350 1059 \nL 891 1109 \nQ 959 728 1153 556 \nQ 1347 384 1650 384 \nQ 1909 384 2104 503 \nQ 2300 622 2425 820 \nQ 2550 1019 2634 1356 \nQ 2719 1694 2719 2044 \nQ 2719 2081 2716 2156 \nQ 2547 1888 2255 1720 \nQ 1963 1553 1622 1553 \nQ 1053 1553 659 1965 \nQ 266 2378 266 3053 \nQ 266 3750 677 4175 \nQ 1088 4600 1706 4600 \nQ 2153 4600 2523 4359 \nQ 2894 4119 3086 3673 \nQ 3278 3228 3278 2384 \nQ 3278 1506 3087 986 \nQ 2897 466 2520 194 \nQ 2144 -78 1638 -78 \nQ 1100 -78 759 220 \nQ 419 519 350 1059 \nz\nM 2653 3081 \nQ 2653 3566 2395 3850 \nQ 2138 4134 1775 4134 \nQ 1400 4134 1122 3828 \nQ 844 3522 844 3034 \nQ 844 2597 1108 2323 \nQ 1372 2050 1759 2050 \nQ 2150 2050 2401 2323 \nQ 2653 2597 2653 3081 \nz\n\" transform=\"scale(0.015625)\"/>\n       </defs>\n       <use xlink:href=\"#ArialMT-31\"/>\n       <use xlink:href=\"#ArialMT-39\" transform=\"translate(55.615234 0)\"/>\n      </g>\n     </g>\n    </g>\n    <g id=\"xtick_11\">\n     <g id=\"line2d_11\">\n      <path d=\"M 461.160185 243.695625 \nL 461.160185 21.935625 \n\" clip-path=\"url(#pf614fe31d7)\" style=\"fill: none; stroke: #ffffff; stroke-linecap: round\"/>\n     </g>\n     <g id=\"text_11\">\n      <!-- 20 -->\n      <g style=\"fill: #262626\" transform=\"translate(455.043153 261.069219) scale(0.11 -0.11)\">\n       <use xlink:href=\"#ArialMT-32\"/>\n       <use xlink:href=\"#ArialMT-30\" transform=\"translate(55.615234 0)\"/>\n      </g>\n     </g>\n    </g>\n    <g id=\"text_12\">\n     <!-- hour -->\n     <g style=\"fill: #262626\" transform=\"translate(246.243594 275.844844) scale(0.12 -0.12)\">\n      <defs>\n       <path id=\"ArialMT-68\" d=\"M 422 0 \nL 422 4581 \nL 984 4581 \nL 984 2938 \nQ 1378 3394 1978 3394 \nQ 2347 3394 2619 3248 \nQ 2891 3103 3008 2847 \nQ 3125 2591 3125 2103 \nL 3125 0 \nL 2563 0 \nL 2563 2103 \nQ 2563 2525 2380 2717 \nQ 2197 2909 1863 2909 \nQ 1613 2909 1392 2779 \nQ 1172 2650 1078 2428 \nQ 984 2206 984 1816 \nL 984 0 \nL 422 0 \nz\n\" transform=\"scale(0.015625)\"/>\n       <path id=\"ArialMT-6f\" d=\"M 213 1659 \nQ 213 2581 725 3025 \nQ 1153 3394 1769 3394 \nQ 2453 3394 2887 2945 \nQ 3322 2497 3322 1706 \nQ 3322 1066 3130 698 \nQ 2938 331 2570 128 \nQ 2203 -75 1769 -75 \nQ 1072 -75 642 372 \nQ 213 819 213 1659 \nz\nM 791 1659 \nQ 791 1022 1069 705 \nQ 1347 388 1769 388 \nQ 2188 388 2466 706 \nQ 2744 1025 2744 1678 \nQ 2744 2294 2464 2611 \nQ 2184 2928 1769 2928 \nQ 1347 2928 1069 2612 \nQ 791 2297 791 1659 \nz\n\" transform=\"scale(0.015625)\"/>\n       <path id=\"ArialMT-75\" d=\"M 2597 0 \nL 2597 488 \nQ 2209 -75 1544 -75 \nQ 1250 -75 995 37 \nQ 741 150 617 320 \nQ 494 491 444 738 \nQ 409 903 409 1263 \nL 409 3319 \nL 972 3319 \nL 972 1478 \nQ 972 1038 1006 884 \nQ 1059 663 1231 536 \nQ 1403 409 1656 409 \nQ 1909 409 2131 539 \nQ 2353 669 2445 892 \nQ 2538 1116 2538 1541 \nL 2538 3319 \nL 3100 3319 \nL 3100 0 \nL 2597 0 \nz\n\" transform=\"scale(0.015625)\"/>\n       <path id=\"ArialMT-72\" d=\"M 416 0 \nL 416 3319 \nL 922 3319 \nL 922 2816 \nQ 1116 3169 1280 3281 \nQ 1444 3394 1641 3394 \nQ 1925 3394 2219 3213 \nL 2025 2691 \nQ 1819 2813 1613 2813 \nQ 1428 2813 1281 2702 \nQ 1134 2591 1072 2394 \nQ 978 2094 978 1738 \nL 978 0 \nL 416 0 \nz\n\" transform=\"scale(0.015625)\"/>\n      </defs>\n      <use xlink:href=\"#ArialMT-68\"/>\n      <use xlink:href=\"#ArialMT-6f\" transform=\"translate(55.615234 0)\"/>\n      <use xlink:href=\"#ArialMT-75\" transform=\"translate(111.230469 0)\"/>\n      <use xlink:href=\"#ArialMT-72\" transform=\"translate(166.845703 0)\"/>\n     </g>\n    </g>\n   </g>\n   <g id=\"matplotlib.axis_2\">\n    <g id=\"ytick_1\">\n     <g id=\"line2d_12\">\n      <path d=\"M 35.051094 228.446394 \nL 481.451094 228.446394 \n\" clip-path=\"url(#pf614fe31d7)\" style=\"fill: none; stroke: #ffffff; stroke-linecap: round\"/>\n     </g>\n     <g id=\"text_13\">\n      <!-- 75 -->\n      <g style=\"fill: #262626\" transform=\"translate(13.317031 232.383191) scale(0.11 -0.11)\">\n       <use xlink:href=\"#ArialMT-37\"/>\n       <use xlink:href=\"#ArialMT-35\" transform=\"translate(55.615234 0)\"/>\n      </g>\n     </g>\n    </g>\n    <g id=\"ytick_2\">\n     <g id=\"line2d_13\">\n      <path d=\"M 35.051094 202.60024 \nL 481.451094 202.60024 \n\" clip-path=\"url(#pf614fe31d7)\" style=\"fill: none; stroke: #ffffff; stroke-linecap: round\"/>\n     </g>\n     <g id=\"text_14\">\n      <!-- 80 -->\n      <g style=\"fill: #262626\" transform=\"translate(13.317031 206.537037) scale(0.11 -0.11)\">\n       <use xlink:href=\"#ArialMT-38\"/>\n       <use xlink:href=\"#ArialMT-30\" transform=\"translate(55.615234 0)\"/>\n      </g>\n     </g>\n    </g>\n    <g id=\"ytick_3\">\n     <g id=\"line2d_14\">\n      <path d=\"M 35.051094 176.754087 \nL 481.451094 176.754087 \n\" clip-path=\"url(#pf614fe31d7)\" style=\"fill: none; stroke: #ffffff; stroke-linecap: round\"/>\n     </g>\n     <g id=\"text_15\">\n      <!-- 85 -->\n      <g style=\"fill: #262626\" transform=\"translate(13.317031 180.690883) scale(0.11 -0.11)\">\n       <use xlink:href=\"#ArialMT-38\"/>\n       <use xlink:href=\"#ArialMT-35\" transform=\"translate(55.615234 0)\"/>\n      </g>\n     </g>\n    </g>\n    <g id=\"ytick_4\">\n     <g id=\"line2d_15\">\n      <path d=\"M 35.051094 150.907933 \nL 481.451094 150.907933 \n\" clip-path=\"url(#pf614fe31d7)\" style=\"fill: none; stroke: #ffffff; stroke-linecap: round\"/>\n     </g>\n     <g id=\"text_16\">\n      <!-- 90 -->\n      <g style=\"fill: #262626\" transform=\"translate(13.317031 154.84473) scale(0.11 -0.11)\">\n       <use xlink:href=\"#ArialMT-39\"/>\n       <use xlink:href=\"#ArialMT-30\" transform=\"translate(55.615234 0)\"/>\n      </g>\n     </g>\n    </g>\n    <g id=\"ytick_5\">\n     <g id=\"line2d_16\">\n      <path d=\"M 35.051094 125.061779 \nL 481.451094 125.061779 \n\" clip-path=\"url(#pf614fe31d7)\" style=\"fill: none; stroke: #ffffff; stroke-linecap: round\"/>\n     </g>\n     <g id=\"text_17\">\n      <!-- 95 -->\n      <g style=\"fill: #262626\" transform=\"translate(13.317031 128.998576) scale(0.11 -0.11)\">\n       <use xlink:href=\"#ArialMT-39\"/>\n       <use xlink:href=\"#ArialMT-35\" transform=\"translate(55.615234 0)\"/>\n      </g>\n     </g>\n    </g>\n    <g id=\"ytick_6\">\n     <g id=\"line2d_17\">\n      <path d=\"M 35.051094 99.215625 \nL 481.451094 99.215625 \n\" clip-path=\"url(#pf614fe31d7)\" style=\"fill: none; stroke: #ffffff; stroke-linecap: round\"/>\n     </g>\n     <g id=\"text_18\">\n      <!-- 100 -->\n      <g style=\"fill: #262626\" transform=\"translate(7.2 103.152422) scale(0.11 -0.11)\">\n       <use xlink:href=\"#ArialMT-31\"/>\n       <use xlink:href=\"#ArialMT-30\" transform=\"translate(55.615234 0)\"/>\n       <use xlink:href=\"#ArialMT-30\" transform=\"translate(111.230469 0)\"/>\n      </g>\n     </g>\n    </g>\n    <g id=\"ytick_7\">\n     <g id=\"line2d_18\">\n      <path d=\"M 35.051094 73.369471 \nL 481.451094 73.369471 \n\" clip-path=\"url(#pf614fe31d7)\" style=\"fill: none; stroke: #ffffff; stroke-linecap: round\"/>\n     </g>\n     <g id=\"text_19\">\n      <!-- 105 -->\n      <g style=\"fill: #262626\" transform=\"translate(7.2 77.306268) scale(0.11 -0.11)\">\n       <use xlink:href=\"#ArialMT-31\"/>\n       <use xlink:href=\"#ArialMT-30\" transform=\"translate(55.615234 0)\"/>\n       <use xlink:href=\"#ArialMT-35\" transform=\"translate(111.230469 0)\"/>\n      </g>\n     </g>\n    </g>\n    <g id=\"ytick_8\">\n     <g id=\"line2d_19\">\n      <path d=\"M 35.051094 47.523317 \nL 481.451094 47.523317 \n\" clip-path=\"url(#pf614fe31d7)\" style=\"fill: none; stroke: #ffffff; stroke-linecap: round\"/>\n     </g>\n     <g id=\"text_20\">\n      <!-- 110 -->\n      <g style=\"fill: #262626\" transform=\"translate(8.01125 51.460114) scale(0.11 -0.11)\">\n       <use xlink:href=\"#ArialMT-31\"/>\n       <use xlink:href=\"#ArialMT-31\" transform=\"translate(48.240234 0)\"/>\n       <use xlink:href=\"#ArialMT-30\" transform=\"translate(103.855469 0)\"/>\n      </g>\n     </g>\n    </g>\n   </g>\n   <g id=\"line2d_20\">\n    <path d=\"M 55.342003 94.046394 \nL 95.923821 150.907933 \nL 136.505639 156.077163 \nL 177.087457 83.707933 \nL 217.669276 187.092548 \nL 258.251094 88.877163 \nL 298.832912 218.107933 \nL 339.41473 233.615625 \nL 379.996548 135.40024 \nL 420.578366 32.015625 \nL 461.160185 228.446394 \n\" clip-path=\"url(#pf614fe31d7)\" style=\"fill: none; stroke: #7b68ee; stroke-width: 1.5; stroke-linecap: round\"/>\n   </g>\n   <g id=\"patch_3\">\n    <path d=\"M 35.051094 243.695625 \nL 35.051094 21.935625 \n\" style=\"fill: none; stroke: #ffffff; stroke-width: 1.25; stroke-linejoin: miter; stroke-linecap: square\"/>\n   </g>\n   <g id=\"patch_4\">\n    <path d=\"M 481.451094 243.695625 \nL 481.451094 21.935625 \n\" style=\"fill: none; stroke: #ffffff; stroke-width: 1.25; stroke-linejoin: miter; stroke-linecap: square\"/>\n   </g>\n   <g id=\"patch_5\">\n    <path d=\"M 35.051094 243.695625 \nL 481.451094 243.695625 \n\" style=\"fill: none; stroke: #ffffff; stroke-width: 1.25; stroke-linejoin: miter; stroke-linecap: square\"/>\n   </g>\n   <g id=\"patch_6\">\n    <path d=\"M 35.051094 21.935625 \nL 481.451094 21.935625 \n\" style=\"fill: none; stroke: #ffffff; stroke-width: 1.25; stroke-linejoin: miter; stroke-linecap: square\"/>\n   </g>\n   <g id=\"text_21\">\n    <!-- Total Amount of Purchases per Hour -->\n    <g style=\"fill: #262626\" transform=\"translate(161.875156 15.935625) scale(0.12 -0.12)\">\n     <defs>\n      <path id=\"ArialMT-54\" d=\"M 1659 0 \nL 1659 4041 \nL 150 4041 \nL 150 4581 \nL 3781 4581 \nL 3781 4041 \nL 2266 4041 \nL 2266 0 \nL 1659 0 \nz\n\" transform=\"scale(0.015625)\"/>\n      <path id=\"ArialMT-74\" d=\"M 1650 503 \nL 1731 6 \nQ 1494 -44 1306 -44 \nQ 1000 -44 831 53 \nQ 663 150 594 308 \nQ 525 466 525 972 \nL 525 2881 \nL 113 2881 \nL 113 3319 \nL 525 3319 \nL 525 4141 \nL 1084 4478 \nL 1084 3319 \nL 1650 3319 \nL 1650 2881 \nL 1084 2881 \nL 1084 941 \nQ 1084 700 1114 631 \nQ 1144 563 1211 522 \nQ 1278 481 1403 481 \nQ 1497 481 1650 503 \nz\n\" transform=\"scale(0.015625)\"/>\n      <path id=\"ArialMT-61\" d=\"M 2588 409 \nQ 2275 144 1986 34 \nQ 1697 -75 1366 -75 \nQ 819 -75 525 192 \nQ 231 459 231 875 \nQ 231 1119 342 1320 \nQ 453 1522 633 1644 \nQ 813 1766 1038 1828 \nQ 1203 1872 1538 1913 \nQ 2219 1994 2541 2106 \nQ 2544 2222 2544 2253 \nQ 2544 2597 2384 2738 \nQ 2169 2928 1744 2928 \nQ 1347 2928 1158 2789 \nQ 969 2650 878 2297 \nL 328 2372 \nQ 403 2725 575 2942 \nQ 747 3159 1072 3276 \nQ 1397 3394 1825 3394 \nQ 2250 3394 2515 3294 \nQ 2781 3194 2906 3042 \nQ 3031 2891 3081 2659 \nQ 3109 2516 3109 2141 \nL 3109 1391 \nQ 3109 606 3145 398 \nQ 3181 191 3288 0 \nL 2700 0 \nQ 2613 175 2588 409 \nz\nM 2541 1666 \nQ 2234 1541 1622 1453 \nQ 1275 1403 1131 1340 \nQ 988 1278 909 1158 \nQ 831 1038 831 891 \nQ 831 666 1001 516 \nQ 1172 366 1500 366 \nQ 1825 366 2078 508 \nQ 2331 650 2450 897 \nQ 2541 1088 2541 1459 \nL 2541 1666 \nz\n\" transform=\"scale(0.015625)\"/>\n      <path id=\"ArialMT-6c\" d=\"M 409 0 \nL 409 4581 \nL 972 4581 \nL 972 0 \nL 409 0 \nz\n\" transform=\"scale(0.015625)\"/>\n      <path id=\"ArialMT-20\" transform=\"scale(0.015625)\"/>\n      <path id=\"ArialMT-41\" d=\"M -9 0 \nL 1750 4581 \nL 2403 4581 \nL 4278 0 \nL 3588 0 \nL 3053 1388 \nL 1138 1388 \nL 634 0 \nL -9 0 \nz\nM 1313 1881 \nL 2866 1881 \nL 2388 3150 \nQ 2169 3728 2063 4100 \nQ 1975 3659 1816 3225 \nL 1313 1881 \nz\n\" transform=\"scale(0.015625)\"/>\n      <path id=\"ArialMT-6d\" d=\"M 422 0 \nL 422 3319 \nL 925 3319 \nL 925 2853 \nQ 1081 3097 1340 3245 \nQ 1600 3394 1931 3394 \nQ 2300 3394 2536 3241 \nQ 2772 3088 2869 2813 \nQ 3263 3394 3894 3394 \nQ 4388 3394 4653 3120 \nQ 4919 2847 4919 2278 \nL 4919 0 \nL 4359 0 \nL 4359 2091 \nQ 4359 2428 4304 2576 \nQ 4250 2725 4106 2815 \nQ 3963 2906 3769 2906 \nQ 3419 2906 3187 2673 \nQ 2956 2441 2956 1928 \nL 2956 0 \nL 2394 0 \nL 2394 2156 \nQ 2394 2531 2256 2718 \nQ 2119 2906 1806 2906 \nQ 1569 2906 1367 2781 \nQ 1166 2656 1075 2415 \nQ 984 2175 984 1722 \nL 984 0 \nL 422 0 \nz\n\" transform=\"scale(0.015625)\"/>\n      <path id=\"ArialMT-6e\" d=\"M 422 0 \nL 422 3319 \nL 928 3319 \nL 928 2847 \nQ 1294 3394 1984 3394 \nQ 2284 3394 2536 3286 \nQ 2788 3178 2913 3003 \nQ 3038 2828 3088 2588 \nQ 3119 2431 3119 2041 \nL 3119 0 \nL 2556 0 \nL 2556 2019 \nQ 2556 2363 2490 2533 \nQ 2425 2703 2258 2804 \nQ 2091 2906 1866 2906 \nQ 1506 2906 1245 2678 \nQ 984 2450 984 1813 \nL 984 0 \nL 422 0 \nz\n\" transform=\"scale(0.015625)\"/>\n      <path id=\"ArialMT-66\" d=\"M 556 0 \nL 556 2881 \nL 59 2881 \nL 59 3319 \nL 556 3319 \nL 556 3672 \nQ 556 4006 616 4169 \nQ 697 4388 901 4523 \nQ 1106 4659 1475 4659 \nQ 1713 4659 2000 4603 \nL 1916 4113 \nQ 1741 4144 1584 4144 \nQ 1328 4144 1222 4034 \nQ 1116 3925 1116 3625 \nL 1116 3319 \nL 1763 3319 \nL 1763 2881 \nL 1116 2881 \nL 1116 0 \nL 556 0 \nz\n\" transform=\"scale(0.015625)\"/>\n      <path id=\"ArialMT-50\" d=\"M 494 0 \nL 494 4581 \nL 2222 4581 \nQ 2678 4581 2919 4538 \nQ 3256 4481 3484 4323 \nQ 3713 4166 3852 3881 \nQ 3991 3597 3991 3256 \nQ 3991 2672 3619 2267 \nQ 3247 1863 2275 1863 \nL 1100 1863 \nL 1100 0 \nL 494 0 \nz\nM 1100 2403 \nL 2284 2403 \nQ 2872 2403 3119 2622 \nQ 3366 2841 3366 3238 \nQ 3366 3525 3220 3729 \nQ 3075 3934 2838 4000 \nQ 2684 4041 2272 4041 \nL 1100 4041 \nL 1100 2403 \nz\n\" transform=\"scale(0.015625)\"/>\n      <path id=\"ArialMT-63\" d=\"M 2588 1216 \nL 3141 1144 \nQ 3050 572 2676 248 \nQ 2303 -75 1759 -75 \nQ 1078 -75 664 370 \nQ 250 816 250 1647 \nQ 250 2184 428 2587 \nQ 606 2991 970 3192 \nQ 1334 3394 1763 3394 \nQ 2303 3394 2647 3120 \nQ 2991 2847 3088 2344 \nL 2541 2259 \nQ 2463 2594 2264 2762 \nQ 2066 2931 1784 2931 \nQ 1359 2931 1093 2626 \nQ 828 2322 828 1663 \nQ 828 994 1084 691 \nQ 1341 388 1753 388 \nQ 2084 388 2306 591 \nQ 2528 794 2588 1216 \nz\n\" transform=\"scale(0.015625)\"/>\n      <path id=\"ArialMT-73\" d=\"M 197 991 \nL 753 1078 \nQ 800 744 1014 566 \nQ 1228 388 1613 388 \nQ 2000 388 2187 545 \nQ 2375 703 2375 916 \nQ 2375 1106 2209 1216 \nQ 2094 1291 1634 1406 \nQ 1016 1563 777 1677 \nQ 538 1791 414 1992 \nQ 291 2194 291 2438 \nQ 291 2659 392 2848 \nQ 494 3038 669 3163 \nQ 800 3259 1026 3326 \nQ 1253 3394 1513 3394 \nQ 1903 3394 2198 3281 \nQ 2494 3169 2634 2976 \nQ 2775 2784 2828 2463 \nL 2278 2388 \nQ 2241 2644 2061 2787 \nQ 1881 2931 1553 2931 \nQ 1166 2931 1000 2803 \nQ 834 2675 834 2503 \nQ 834 2394 903 2306 \nQ 972 2216 1119 2156 \nQ 1203 2125 1616 2013 \nQ 2213 1853 2448 1751 \nQ 2684 1650 2818 1456 \nQ 2953 1263 2953 975 \nQ 2953 694 2789 445 \nQ 2625 197 2315 61 \nQ 2006 -75 1616 -75 \nQ 969 -75 630 194 \nQ 291 463 197 991 \nz\n\" transform=\"scale(0.015625)\"/>\n      <path id=\"ArialMT-65\" d=\"M 2694 1069 \nL 3275 997 \nQ 3138 488 2766 206 \nQ 2394 -75 1816 -75 \nQ 1088 -75 661 373 \nQ 234 822 234 1631 \nQ 234 2469 665 2931 \nQ 1097 3394 1784 3394 \nQ 2450 3394 2872 2941 \nQ 3294 2488 3294 1666 \nQ 3294 1616 3291 1516 \nL 816 1516 \nQ 847 969 1125 678 \nQ 1403 388 1819 388 \nQ 2128 388 2347 550 \nQ 2566 713 2694 1069 \nz\nM 847 1978 \nL 2700 1978 \nQ 2663 2397 2488 2606 \nQ 2219 2931 1791 2931 \nQ 1403 2931 1139 2672 \nQ 875 2413 847 1978 \nz\n\" transform=\"scale(0.015625)\"/>\n      <path id=\"ArialMT-70\" d=\"M 422 -1272 \nL 422 3319 \nL 934 3319 \nL 934 2888 \nQ 1116 3141 1344 3267 \nQ 1572 3394 1897 3394 \nQ 2322 3394 2647 3175 \nQ 2972 2956 3137 2557 \nQ 3303 2159 3303 1684 \nQ 3303 1175 3120 767 \nQ 2938 359 2589 142 \nQ 2241 -75 1856 -75 \nQ 1575 -75 1351 44 \nQ 1128 163 984 344 \nL 984 -1272 \nL 422 -1272 \nz\nM 931 1641 \nQ 931 1000 1190 694 \nQ 1450 388 1819 388 \nQ 2194 388 2461 705 \nQ 2728 1022 2728 1688 \nQ 2728 2322 2467 2637 \nQ 2206 2953 1844 2953 \nQ 1484 2953 1207 2617 \nQ 931 2281 931 1641 \nz\n\" transform=\"scale(0.015625)\"/>\n      <path id=\"ArialMT-48\" d=\"M 513 0 \nL 513 4581 \nL 1119 4581 \nL 1119 2700 \nL 3500 2700 \nL 3500 4581 \nL 4106 4581 \nL 4106 0 \nL 3500 0 \nL 3500 2159 \nL 1119 2159 \nL 1119 0 \nL 513 0 \nz\n\" transform=\"scale(0.015625)\"/>\n     </defs>\n     <use xlink:href=\"#ArialMT-54\"/>\n     <use xlink:href=\"#ArialMT-6f\" transform=\"translate(49.958984 0)\"/>\n     <use xlink:href=\"#ArialMT-74\" transform=\"translate(105.574219 0)\"/>\n     <use xlink:href=\"#ArialMT-61\" transform=\"translate(133.357422 0)\"/>\n     <use xlink:href=\"#ArialMT-6c\" transform=\"translate(188.972656 0)\"/>\n     <use xlink:href=\"#ArialMT-20\" transform=\"translate(211.189453 0)\"/>\n     <use xlink:href=\"#ArialMT-41\" transform=\"translate(233.472656 0)\"/>\n     <use xlink:href=\"#ArialMT-6d\" transform=\"translate(300.171875 0)\"/>\n     <use xlink:href=\"#ArialMT-6f\" transform=\"translate(383.472656 0)\"/>\n     <use xlink:href=\"#ArialMT-75\" transform=\"translate(439.087891 0)\"/>\n     <use xlink:href=\"#ArialMT-6e\" transform=\"translate(494.703125 0)\"/>\n     <use xlink:href=\"#ArialMT-74\" transform=\"translate(550.318359 0)\"/>\n     <use xlink:href=\"#ArialMT-20\" transform=\"translate(578.101562 0)\"/>\n     <use xlink:href=\"#ArialMT-6f\" transform=\"translate(605.884766 0)\"/>\n     <use xlink:href=\"#ArialMT-66\" transform=\"translate(661.5 0)\"/>\n     <use xlink:href=\"#ArialMT-20\" transform=\"translate(689.283203 0)\"/>\n     <use xlink:href=\"#ArialMT-50\" transform=\"translate(717.066406 0)\"/>\n     <use xlink:href=\"#ArialMT-75\" transform=\"translate(783.765625 0)\"/>\n     <use xlink:href=\"#ArialMT-72\" transform=\"translate(839.380859 0)\"/>\n     <use xlink:href=\"#ArialMT-63\" transform=\"translate(872.681641 0)\"/>\n     <use xlink:href=\"#ArialMT-68\" transform=\"translate(922.681641 0)\"/>\n     <use xlink:href=\"#ArialMT-61\" transform=\"translate(978.296875 0)\"/>\n     <use xlink:href=\"#ArialMT-73\" transform=\"translate(1033.912109 0)\"/>\n     <use xlink:href=\"#ArialMT-65\" transform=\"translate(1083.912109 0)\"/>\n     <use xlink:href=\"#ArialMT-73\" transform=\"translate(1139.527344 0)\"/>\n     <use xlink:href=\"#ArialMT-20\" transform=\"translate(1189.527344 0)\"/>\n     <use xlink:href=\"#ArialMT-70\" transform=\"translate(1217.310547 0)\"/>\n     <use xlink:href=\"#ArialMT-65\" transform=\"translate(1272.925781 0)\"/>\n     <use xlink:href=\"#ArialMT-72\" transform=\"translate(1328.541016 0)\"/>\n     <use xlink:href=\"#ArialMT-20\" transform=\"translate(1361.841797 0)\"/>\n     <use xlink:href=\"#ArialMT-48\" transform=\"translate(1389.625 0)\"/>\n     <use xlink:href=\"#ArialMT-6f\" transform=\"translate(1461.841797 0)\"/>\n     <use xlink:href=\"#ArialMT-75\" transform=\"translate(1517.457031 0)\"/>\n     <use xlink:href=\"#ArialMT-72\" transform=\"translate(1573.072266 0)\"/>\n    </g>\n   </g>\n   <g id=\"legend_1\">\n    <g id=\"patch_7\">\n     <path d=\"M 42.751094 46.295469 \nL 128.698906 46.295469 \nQ 130.898906 46.295469 130.898906 44.095469 \nL 130.898906 29.635625 \nQ 130.898906 27.435625 128.698906 27.435625 \nL 42.751094 27.435625 \nQ 40.551094 27.435625 40.551094 29.635625 \nL 40.551094 44.095469 \nQ 40.551094 46.295469 42.751094 46.295469 \nz\n\" style=\"fill: #eaeaf2; opacity: 0.8; stroke: #cccccc; stroke-linejoin: miter\"/>\n    </g>\n    <g id=\"line2d_21\">\n     <path d=\"M 44.951094 35.859219 \nL 55.951094 35.859219 \nL 66.951094 35.859219 \n\" style=\"fill: none; stroke: #7b68ee; stroke-width: 1.5; stroke-linecap: round\"/>\n    </g>\n    <g id=\"text_22\">\n     <!-- purchases -->\n     <g style=\"fill: #262626\" transform=\"translate(75.751094 39.709219) scale(0.11 -0.11)\">\n      <use xlink:href=\"#ArialMT-70\"/>\n      <use xlink:href=\"#ArialMT-75\" transform=\"translate(55.615234 0)\"/>\n      <use xlink:href=\"#ArialMT-72\" transform=\"translate(111.230469 0)\"/>\n      <use xlink:href=\"#ArialMT-63\" transform=\"translate(144.53125 0)\"/>\n      <use xlink:href=\"#ArialMT-68\" transform=\"translate(194.53125 0)\"/>\n      <use xlink:href=\"#ArialMT-61\" transform=\"translate(250.146484 0)\"/>\n      <use xlink:href=\"#ArialMT-73\" transform=\"translate(305.761719 0)\"/>\n      <use xlink:href=\"#ArialMT-65\" transform=\"translate(355.761719 0)\"/>\n      <use xlink:href=\"#ArialMT-73\" transform=\"translate(411.376953 0)\"/>\n     </g>\n    </g>\n   </g>\n  </g>\n </g>\n <defs>\n  <clipPath id=\"pf614fe31d7\">\n   <rect x=\"35.051094\" y=\"21.935625\" width=\"446.4\" height=\"221.76\"/>\n  </clipPath>\n </defs>\n</svg>\n"
     },
     "metadata": {},
     "output_type": "display_data"
    }
   ],
   "execution_count": 46
  },
  {
   "cell_type": "markdown",
   "id": "f93bef93-a5bf-44c5-88c6-7ca71169dda5",
   "metadata": {},
   "source": [
    "#### Question 10"
   ]
  },
  {
   "cell_type": "code",
   "id": "b00b7c99-ec39-49e2-901d-ef23c6e88d10",
   "metadata": {
    "ExecuteTime": {
     "end_time": "2025-04-12T13:23:53.399042Z",
     "start_time": "2025-04-12T13:23:53.396891Z"
    }
   },
   "source": [
    "### what is the total income of strategic products by City?\n",
    "\n",
    "### for each non-strategic product (as detailed in the product_types_strategy.csv file), \n",
    "###    display break down of total sales by cities - a table with three columns: \n",
    "###    (1) product line, (2) city and (3) total sales (the \"Total\" column) for that line in the city"
   ],
   "outputs": [],
   "execution_count": 47
  },
  {
   "cell_type": "markdown",
   "id": "848461d3ef63804d",
   "metadata": {},
   "source": [
    "#### Question 10 - solution"
   ]
  },
  {
   "cell_type": "code",
   "id": "8ef2b8fa-cbd7-4606-971e-86715c83e47d",
   "metadata": {
    "ExecuteTime": {
     "end_time": "2025-04-12T13:23:53.430402Z",
     "start_time": "2025-04-12T13:23:53.420673Z"
    }
   },
   "source": [
    "strategy_df = pd.read_csv('product_types_strategy.csv')\n",
    "\n",
    "merged_df = df.merge(right = strategy_df, left_on = 'Product line', right_on = 'Product type', how = 'left')\n",
    "\n",
    "strategic_df = merged_df[merged_df['strategic'] == 'yes']\n",
    "all_cities = pd.DataFrame(df['City'].unique(), columns=['City'])\n",
    "strategic_income_by_city = strategic_df.groupby('City')['Total'].sum().reset_index()\n",
    "\n",
    "# handling cities with zero income from strategic\n",
    "strategic_income_by_city = pd.merge(left = all_cities, right = strategic_income_by_city, on = 'City', how = 'left')\n",
    "strategic_income_by_city.fillna(0, inplace = True)\n",
    "\n",
    "strategic_income_by_city.columns = ['City', 'Total Income of Strategic Products']\n",
    "\n",
    "non_strategic_df = merged_df[merged_df['strategic'] == 'no']\n",
    "non_strategic_income_by_city = non_strategic_df.groupby(['Product line', 'City'])['Total'].sum().reset_index()\n",
    "\n",
    "# handling cities with zero income from non-strategic\n",
    "non_strategic_income_by_city = pd.merge(left = all_cities, right = non_strategic_income_by_city, on = 'City', how = 'left')\n",
    "non_strategic_income_by_city.fillna(0, inplace = True)\n",
    "\n",
    "non_strategic_income_by_city.columns = ['product line', 'city',\"total sales\"]\n",
    "\n",
    "display(strategic_income_by_city, non_strategic_income_by_city)\n"
   ],
   "outputs": [
    {
     "data": {
      "text/plain": [
       "        City  Total Income of Strategic Products\n",
       "0     Yangon                          67450.6665\n",
       "1  Naypyitaw                          75113.0835\n",
       "2   Mandalay                          72235.1910"
      ],
      "text/html": [
       "<div>\n",
       "<style scoped>\n",
       "    .dataframe tbody tr th:only-of-type {\n",
       "        vertical-align: middle;\n",
       "    }\n",
       "\n",
       "    .dataframe tbody tr th {\n",
       "        vertical-align: top;\n",
       "    }\n",
       "\n",
       "    .dataframe thead th {\n",
       "        text-align: right;\n",
       "    }\n",
       "</style>\n",
       "<table border=\"1\" class=\"dataframe\">\n",
       "  <thead>\n",
       "    <tr style=\"text-align: right;\">\n",
       "      <th></th>\n",
       "      <th>City</th>\n",
       "      <th>Total Income of Strategic Products</th>\n",
       "    </tr>\n",
       "  </thead>\n",
       "  <tbody>\n",
       "    <tr>\n",
       "      <th>0</th>\n",
       "      <td>Yangon</td>\n",
       "      <td>67450.6665</td>\n",
       "    </tr>\n",
       "    <tr>\n",
       "      <th>1</th>\n",
       "      <td>Naypyitaw</td>\n",
       "      <td>75113.0835</td>\n",
       "    </tr>\n",
       "    <tr>\n",
       "      <th>2</th>\n",
       "      <td>Mandalay</td>\n",
       "      <td>72235.1910</td>\n",
       "    </tr>\n",
       "  </tbody>\n",
       "</table>\n",
       "</div>"
      ]
     },
     "metadata": {},
     "output_type": "display_data"
    },
    {
     "data": {
      "text/plain": [
       "  product line                 city  total sales\n",
       "0       Yangon  Fashion accessories   16332.5085\n",
       "1       Yangon   Home and lifestyle   22417.1955\n",
       "2    Naypyitaw  Fashion accessories   21560.0700\n",
       "3    Naypyitaw   Home and lifestyle   13895.5530\n",
       "4     Mandalay  Fashion accessories   16413.3165\n",
       "5     Mandalay   Home and lifestyle   17549.1645"
      ],
      "text/html": [
       "<div>\n",
       "<style scoped>\n",
       "    .dataframe tbody tr th:only-of-type {\n",
       "        vertical-align: middle;\n",
       "    }\n",
       "\n",
       "    .dataframe tbody tr th {\n",
       "        vertical-align: top;\n",
       "    }\n",
       "\n",
       "    .dataframe thead th {\n",
       "        text-align: right;\n",
       "    }\n",
       "</style>\n",
       "<table border=\"1\" class=\"dataframe\">\n",
       "  <thead>\n",
       "    <tr style=\"text-align: right;\">\n",
       "      <th></th>\n",
       "      <th>product line</th>\n",
       "      <th>city</th>\n",
       "      <th>total sales</th>\n",
       "    </tr>\n",
       "  </thead>\n",
       "  <tbody>\n",
       "    <tr>\n",
       "      <th>0</th>\n",
       "      <td>Yangon</td>\n",
       "      <td>Fashion accessories</td>\n",
       "      <td>16332.5085</td>\n",
       "    </tr>\n",
       "    <tr>\n",
       "      <th>1</th>\n",
       "      <td>Yangon</td>\n",
       "      <td>Home and lifestyle</td>\n",
       "      <td>22417.1955</td>\n",
       "    </tr>\n",
       "    <tr>\n",
       "      <th>2</th>\n",
       "      <td>Naypyitaw</td>\n",
       "      <td>Fashion accessories</td>\n",
       "      <td>21560.0700</td>\n",
       "    </tr>\n",
       "    <tr>\n",
       "      <th>3</th>\n",
       "      <td>Naypyitaw</td>\n",
       "      <td>Home and lifestyle</td>\n",
       "      <td>13895.5530</td>\n",
       "    </tr>\n",
       "    <tr>\n",
       "      <th>4</th>\n",
       "      <td>Mandalay</td>\n",
       "      <td>Fashion accessories</td>\n",
       "      <td>16413.3165</td>\n",
       "    </tr>\n",
       "    <tr>\n",
       "      <th>5</th>\n",
       "      <td>Mandalay</td>\n",
       "      <td>Home and lifestyle</td>\n",
       "      <td>17549.1645</td>\n",
       "    </tr>\n",
       "  </tbody>\n",
       "</table>\n",
       "</div>"
      ]
     },
     "metadata": {},
     "output_type": "display_data"
    }
   ],
   "execution_count": 48
  },
  {
   "metadata": {
    "ExecuteTime": {
     "end_time": "2025-04-12T13:23:53.479870Z",
     "start_time": "2025-04-12T13:23:53.478402Z"
    }
   },
   "cell_type": "code",
   "source": "",
   "id": "1b740c4535da1dae",
   "outputs": [],
   "execution_count": null
  }
 ],
 "metadata": {
  "kernelspec": {
   "display_name": "Python 3 (ipykernel)",
   "language": "python",
   "name": "python3"
  },
  "language_info": {
   "codemirror_mode": {
    "name": "ipython",
    "version": 3
   },
   "file_extension": ".py",
   "mimetype": "text/x-python",
   "name": "python",
   "nbconvert_exporter": "python",
   "pygments_lexer": "ipython3",
   "version": "3.10.11"
  }
 },
 "nbformat": 4,
 "nbformat_minor": 5
}
