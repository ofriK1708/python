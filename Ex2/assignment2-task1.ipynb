{
 "cells": [
  {
   "cell_type": "code",
   "id": "2fcb5d3f-d1a8-41a6-a04c-4937e3c6cc78",
   "metadata": {
    "ExecuteTime": {
     "end_time": "2025-04-09T01:50:39.735951Z",
     "start_time": "2025-04-09T01:50:39.725649Z"
    }
   },
   "source": [
    "import pandas as pd\n",
    "import matplotlib.pyplot as plt\n",
    "from statsmodels.sandbox.distributions.genpareto import shape\n",
    "\n",
    "plt.rcParams.update({'font.size': 20, 'figure.figsize': (8, 4)})\n",
    "\n",
    "%matplotlib inline\n",
    "import matplotlib_inline\n",
    "matplotlib_inline.backend_inline.set_matplotlib_formats('svg')\n",
    "\n",
    "import seaborn as sns\n",
    "sns.set()"
   ],
   "outputs": [],
   "execution_count": 102
  },
  {
   "cell_type": "code",
   "id": "853121c6-73f1-47fe-aa64-a6ce99157712",
   "metadata": {
    "ExecuteTime": {
     "end_time": "2025-04-09T01:50:39.768856Z",
     "start_time": "2025-04-09T01:50:39.748615Z"
    }
   },
   "source": [
    "df = pd.read_csv(\"supermarket_sales.csv\")\n",
    "df.info()"
   ],
   "outputs": [
    {
     "name": "stdout",
     "output_type": "stream",
     "text": [
      "<class 'pandas.core.frame.DataFrame'>\n",
      "RangeIndex: 1000 entries, 0 to 999\n",
      "Data columns (total 14 columns):\n",
      " #   Column         Non-Null Count  Dtype  \n",
      "---  ------         --------------  -----  \n",
      " 0   Invoice ID     1000 non-null   object \n",
      " 1   Branch         1000 non-null   object \n",
      " 2   City           1000 non-null   object \n",
      " 3   Customer type  1000 non-null   object \n",
      " 4   Gender         1000 non-null   object \n",
      " 5   Product line   1000 non-null   object \n",
      " 6   Unit price     1000 non-null   float64\n",
      " 7   Quantity       1000 non-null   int64  \n",
      " 8   Tax 5%         1000 non-null   float64\n",
      " 9   Total          1000 non-null   float64\n",
      " 10  Date           1000 non-null   object \n",
      " 11  Time           1000 non-null   object \n",
      " 12  Payment        1000 non-null   object \n",
      " 13  Rating         1000 non-null   float64\n",
      "dtypes: float64(4), int64(1), object(9)\n",
      "memory usage: 109.5+ KB\n"
     ]
    }
   ],
   "execution_count": 103
  },
  {
   "cell_type": "markdown",
   "id": "33f7860c-a2de-43af-94e7-07066d358cfc",
   "metadata": {},
   "source": [
    "#### Question 1: Example"
   ]
  },
  {
   "cell_type": "code",
   "id": "c231798e-848a-4041-82fe-af048c7ab8b0",
   "metadata": {
    "ExecuteTime": {
     "end_time": "2025-04-09T01:50:39.789695Z",
     "start_time": "2025-04-09T01:50:39.787423Z"
    }
   },
   "source": [
    "### how many purchases (rows in the table, not 'Quantity') were done by Male and Female customers?"
   ],
   "outputs": [],
   "execution_count": 104
  },
  {
   "cell_type": "markdown",
   "id": "fb90cda0-7d66-47e4-81bb-e82c5b5a4190",
   "metadata": {},
   "source": [
    "#### Question 1 - solution: Example"
   ]
  },
  {
   "cell_type": "code",
   "id": "353eb1e0-d76b-4233-8529-d624811562c6",
   "metadata": {
    "ExecuteTime": {
     "end_time": "2025-04-09T01:50:39.811183Z",
     "start_time": "2025-04-09T01:50:39.805682Z"
    }
   },
   "source": [
    "m_amount = len(df[df['Gender'] == 'Male'])\n",
    "f_amount = len(df[df['Gender'] == 'Female'])\n",
    "\n",
    "# do not print any intermediate results\n",
    "# print *only your final* result in the form of a data frame (for clarity)\n",
    "\n",
    "result = [('purchases by male', m_amount), ('purchases by female', f_amount)]\n",
    "pd.DataFrame(result)"
   ],
   "outputs": [
    {
     "data": {
      "text/plain": [
       "                     0    1\n",
       "0    purchases by male  498\n",
       "1  purchases by female  502"
      ],
      "text/html": [
       "<div>\n",
       "<style scoped>\n",
       "    .dataframe tbody tr th:only-of-type {\n",
       "        vertical-align: middle;\n",
       "    }\n",
       "\n",
       "    .dataframe tbody tr th {\n",
       "        vertical-align: top;\n",
       "    }\n",
       "\n",
       "    .dataframe thead th {\n",
       "        text-align: right;\n",
       "    }\n",
       "</style>\n",
       "<table border=\"1\" class=\"dataframe\">\n",
       "  <thead>\n",
       "    <tr style=\"text-align: right;\">\n",
       "      <th></th>\n",
       "      <th>0</th>\n",
       "      <th>1</th>\n",
       "    </tr>\n",
       "  </thead>\n",
       "  <tbody>\n",
       "    <tr>\n",
       "      <th>0</th>\n",
       "      <td>purchases by male</td>\n",
       "      <td>498</td>\n",
       "    </tr>\n",
       "    <tr>\n",
       "      <th>1</th>\n",
       "      <td>purchases by female</td>\n",
       "      <td>502</td>\n",
       "    </tr>\n",
       "  </tbody>\n",
       "</table>\n",
       "</div>"
      ]
     },
     "execution_count": 105,
     "metadata": {},
     "output_type": "execute_result"
    }
   ],
   "execution_count": 105
  },
  {
   "cell_type": "markdown",
   "id": "9a8d18f7-4874-4bda-a50c-c9f57127a9ff",
   "metadata": {
    "tags": []
   },
   "source": [
    "#### Question 2"
   ]
  },
  {
   "cell_type": "code",
   "id": "1cac9cff-c6ec-4148-ba62-a2f499fc759e",
   "metadata": {
    "ExecuteTime": {
     "end_time": "2025-04-09T01:50:39.893720Z",
     "start_time": "2025-04-09T01:50:39.891092Z"
    }
   },
   "source": [
    "### what is the average Rating for products in the \"Home and lifestyle\" Product line?"
   ],
   "outputs": [],
   "execution_count": 106
  },
  {
   "metadata": {},
   "cell_type": "markdown",
   "source": "#### Question 2 - solution ",
   "id": "25472e813e9a6a7f"
  },
  {
   "metadata": {
    "ExecuteTime": {
     "end_time": "2025-04-09T01:50:39.938511Z",
     "start_time": "2025-04-09T01:50:39.935463Z"
    }
   },
   "cell_type": "code",
   "source": "print(\"testing123\")",
   "id": "a8c42b5d2484a358",
   "outputs": [
    {
     "name": "stdout",
     "output_type": "stream",
     "text": [
      "testing123\n"
     ]
    }
   ],
   "execution_count": 107
  },
  {
   "cell_type": "markdown",
   "id": "cff16f55-72b2-4238-98a0-1ad0187a4de6",
   "metadata": {},
   "source": [
    "#### Question 3"
   ]
  },
  {
   "cell_type": "code",
   "id": "c2d68cfd-8f93-47f6-9e65-ab85a78afd74",
   "metadata": {
    "ExecuteTime": {
     "end_time": "2025-04-09T01:50:39.980512Z",
     "start_time": "2025-04-09T01:50:39.978838Z"
    }
   },
   "source": [
    "### how many products in each Product line were sold during the first week (days 1-7 including) of February 2019?\n",
    "### use the 'Quantity' column for that purpose - the number of products purchased"
   ],
   "outputs": [],
   "execution_count": 108
  },
  {
   "metadata": {},
   "cell_type": "markdown",
   "source": "#### Question 3 - solution",
   "id": "24938d0fe91c6ff3"
  },
  {
   "metadata": {
    "ExecuteTime": {
     "end_time": "2025-04-09T02:28:28.170453Z",
     "start_time": "2025-04-09T02:28:28.158909Z"
    }
   },
   "cell_type": "code",
   "source": [
    "wanted_dates = {\n",
    "    \"02/01/2019\", \"02/02/2019\", \"02/03/2019\",\n",
    "    \"02/04/2019\", \"02/05/2019\", \"02/06/2019\", \"02/07/2019\"\n",
    "}\n",
    "df_in_dates = df[df['Date'].apply(lambda x: x in wanted_dates)]\n",
    "filtered_sales_in_date = df_in_dates.groupby('Product line')[\"Quantity\"].sum().reset_index()\n",
    "all_product_lines = pd.DataFrame(df['Product line'].unique(), columns=['Product line'])\n",
    "all_sales_in_dates = pd.merge(left = all_product_lines,right = filtered_sales_in_date, on='Product line', how= 'left')\n",
    "pd.DataFrame(all_sales_in_dates)\n"
   ],
   "id": "7974c7b21d8441df",
   "outputs": [
    {
     "data": {
      "text/plain": [
       "             Product line  Quantity\n",
       "0  Electronic accessories        92\n",
       "1     Fashion accessories        67\n",
       "2      Food and beverages       132\n",
       "3       Health and beauty        78\n",
       "4      Home and lifestyle        87\n",
       "5       Sports and travel        54"
      ],
      "text/html": [
       "<div>\n",
       "<style scoped>\n",
       "    .dataframe tbody tr th:only-of-type {\n",
       "        vertical-align: middle;\n",
       "    }\n",
       "\n",
       "    .dataframe tbody tr th {\n",
       "        vertical-align: top;\n",
       "    }\n",
       "\n",
       "    .dataframe thead th {\n",
       "        text-align: right;\n",
       "    }\n",
       "</style>\n",
       "<table border=\"1\" class=\"dataframe\">\n",
       "  <thead>\n",
       "    <tr style=\"text-align: right;\">\n",
       "      <th></th>\n",
       "      <th>Product line</th>\n",
       "      <th>Quantity</th>\n",
       "    </tr>\n",
       "  </thead>\n",
       "  <tbody>\n",
       "    <tr>\n",
       "      <th>0</th>\n",
       "      <td>Electronic accessories</td>\n",
       "      <td>92</td>\n",
       "    </tr>\n",
       "    <tr>\n",
       "      <th>1</th>\n",
       "      <td>Fashion accessories</td>\n",
       "      <td>67</td>\n",
       "    </tr>\n",
       "    <tr>\n",
       "      <th>2</th>\n",
       "      <td>Food and beverages</td>\n",
       "      <td>132</td>\n",
       "    </tr>\n",
       "    <tr>\n",
       "      <th>3</th>\n",
       "      <td>Health and beauty</td>\n",
       "      <td>78</td>\n",
       "    </tr>\n",
       "    <tr>\n",
       "      <th>4</th>\n",
       "      <td>Home and lifestyle</td>\n",
       "      <td>87</td>\n",
       "    </tr>\n",
       "    <tr>\n",
       "      <th>5</th>\n",
       "      <td>Sports and travel</td>\n",
       "      <td>54</td>\n",
       "    </tr>\n",
       "  </tbody>\n",
       "</table>\n",
       "</div>"
      ]
     },
     "execution_count": 138,
     "metadata": {},
     "output_type": "execute_result"
    }
   ],
   "execution_count": 138
  },
  {
   "cell_type": "markdown",
   "id": "8915f616-6c9b-4ff3-a222-b742ce3903f6",
   "metadata": {},
   "source": [
    "#### Question 4"
   ]
  },
  {
   "cell_type": "code",
   "id": "50945969-04ec-4a9d-aee5-614820ea9f6a",
   "metadata": {
    "ExecuteTime": {
     "end_time": "2025-04-09T01:50:40.050375Z",
     "start_time": "2025-04-09T01:50:40.047044Z"
    }
   },
   "source": [
    "### plot a bar chart showing the number of products per category computed in the previous question"
   ],
   "outputs": [],
   "execution_count": 110
  },
  {
   "cell_type": "markdown",
   "id": "e53c3f56-64b9-4e53-aa0c-d47732258120",
   "metadata": {},
   "source": [
    "#### Question 5"
   ]
  },
  {
   "cell_type": "code",
   "id": "e819fb76-9694-46ec-8961-6ddd56e53fdb",
   "metadata": {
    "ExecuteTime": {
     "end_time": "2025-04-09T01:50:40.074082Z",
     "start_time": "2025-04-09T01:50:40.071897Z"
    }
   },
   "source": [
    "### plot the same bar chart as above - split by gender (male, female)\n",
    "### the split bar chart is called stacked bar: look up \"plot stacked bar charts from a dataframe\" to see how to plot it"
   ],
   "outputs": [],
   "execution_count": 111
  },
  {
   "metadata": {},
   "cell_type": "markdown",
   "source": "#### Question 5 - solution",
   "id": "21e48933a99fc04d"
  },
  {
   "metadata": {
    "ExecuteTime": {
     "end_time": "2025-04-09T01:50:40.162085Z",
     "start_time": "2025-04-09T01:50:40.080138Z"
    }
   },
   "cell_type": "code",
   "source": [
    "gender_and_product_line = df_in_dates.groupby(['Gender', 'Product line'])[\"Quantity\"].sum().reset_index()\n",
    "gender_and_product_line_all_options = pd.DataFrame([(x, y) for x in df['Product line'].unique() for y in df['Gender'].unique()],\n",
    "                                columns=['Product line', 'Gender'])\n",
    "gender_and_product_line_final = pd.merge(left = gender_and_product_line_all_options, right = gender_and_product_line, on=['Product line', 'Gender'], how='left')\n",
    "gender_and_product_line_final.fillna(0, inplace = True)\n",
    "pivot_data = gender_and_product_line_final.pivot(index='Product line', columns='Gender', values='Quantity')\n",
    "pivot_data.plot(kind='bar',color=['#DA70D6', 'teal'])\n",
    "plt.title('Number of products sold per category by gender')\n",
    "plt.ylabel(\"Quantity sold\")\n"
   ],
   "id": "8e30bf60d163a49a",
   "outputs": [
    {
     "data": {
      "text/plain": [
       "Text(0, 0.5, 'Quantity sold')"
      ]
     },
     "execution_count": 112,
     "metadata": {},
     "output_type": "execute_result"
    },
    {
     "data": {
      "text/plain": [
       "<Figure size 800x400 with 1 Axes>"
      ],
      "image/svg+xml": "<?xml version=\"1.0\" encoding=\"utf-8\" standalone=\"no\"?>\n<!DOCTYPE svg PUBLIC \"-//W3C//DTD SVG 1.1//EN\"\n  \"http://www.w3.org/Graphics/SVG/1.1/DTD/svg11.dtd\">\n<svg xmlns:xlink=\"http://www.w3.org/1999/xlink\" width=\"497.802812pt\" height=\"384.795938pt\" viewBox=\"0 0 497.802812 384.795938\" xmlns=\"http://www.w3.org/2000/svg\" version=\"1.1\">\n <metadata>\n  <rdf:RDF xmlns:dc=\"http://purl.org/dc/elements/1.1/\" xmlns:cc=\"http://creativecommons.org/ns#\" xmlns:rdf=\"http://www.w3.org/1999/02/22-rdf-syntax-ns#\">\n   <cc:Work>\n    <dc:type rdf:resource=\"http://purl.org/dc/dcmitype/StillImage\"/>\n    <dc:date>2025-04-09T04:50:40.143164</dc:date>\n    <dc:format>image/svg+xml</dc:format>\n    <dc:creator>\n     <cc:Agent>\n      <dc:title>Matplotlib v3.10.1, https://matplotlib.org/</dc:title>\n     </cc:Agent>\n    </dc:creator>\n   </cc:Work>\n  </rdf:RDF>\n </metadata>\n <defs>\n  <style type=\"text/css\">*{stroke-linejoin: round; stroke-linecap: butt}</style>\n </defs>\n <g id=\"figure_1\">\n  <g id=\"patch_1\">\n   <path d=\"M 0 384.795938 \nL 497.802812 384.795938 \nL 497.802812 0 \nL 0 0 \nz\n\" style=\"fill: #ffffff\"/>\n  </g>\n  <g id=\"axes_1\">\n   <g id=\"patch_2\">\n    <path d=\"M 44.202813 243.695625 \nL 490.602812 243.695625 \nL 490.602812 21.935625 \nL 44.202813 21.935625 \nz\n\" style=\"fill: #eaeaf2\"/>\n   </g>\n   <g id=\"matplotlib.axis_1\">\n    <g id=\"xtick_1\">\n     <g id=\"line2d_1\">\n      <path d=\"M 81.402813 243.695625 \nL 81.402813 21.935625 \n\" clip-path=\"url(#p3002654693)\" style=\"fill: none; stroke: #ffffff; stroke-linecap: round\"/>\n     </g>\n     <g id=\"text_1\">\n      <!-- Electronic accessories -->\n      <g style=\"fill: #262626\" transform=\"translate(84.246484 362.621563) rotate(-90) scale(0.11 -0.11)\">\n       <defs>\n        <path id=\"ArialMT-45\" d=\"M 506 0 \nL 506 4581 \nL 3819 4581 \nL 3819 4041 \nL 1113 4041 \nL 1113 2638 \nL 3647 2638 \nL 3647 2100 \nL 1113 2100 \nL 1113 541 \nL 3925 541 \nL 3925 0 \nL 506 0 \nz\n\" transform=\"scale(0.015625)\"/>\n        <path id=\"ArialMT-6c\" d=\"M 409 0 \nL 409 4581 \nL 972 4581 \nL 972 0 \nL 409 0 \nz\n\" transform=\"scale(0.015625)\"/>\n        <path id=\"ArialMT-65\" d=\"M 2694 1069 \nL 3275 997 \nQ 3138 488 2766 206 \nQ 2394 -75 1816 -75 \nQ 1088 -75 661 373 \nQ 234 822 234 1631 \nQ 234 2469 665 2931 \nQ 1097 3394 1784 3394 \nQ 2450 3394 2872 2941 \nQ 3294 2488 3294 1666 \nQ 3294 1616 3291 1516 \nL 816 1516 \nQ 847 969 1125 678 \nQ 1403 388 1819 388 \nQ 2128 388 2347 550 \nQ 2566 713 2694 1069 \nz\nM 847 1978 \nL 2700 1978 \nQ 2663 2397 2488 2606 \nQ 2219 2931 1791 2931 \nQ 1403 2931 1139 2672 \nQ 875 2413 847 1978 \nz\n\" transform=\"scale(0.015625)\"/>\n        <path id=\"ArialMT-63\" d=\"M 2588 1216 \nL 3141 1144 \nQ 3050 572 2676 248 \nQ 2303 -75 1759 -75 \nQ 1078 -75 664 370 \nQ 250 816 250 1647 \nQ 250 2184 428 2587 \nQ 606 2991 970 3192 \nQ 1334 3394 1763 3394 \nQ 2303 3394 2647 3120 \nQ 2991 2847 3088 2344 \nL 2541 2259 \nQ 2463 2594 2264 2762 \nQ 2066 2931 1784 2931 \nQ 1359 2931 1093 2626 \nQ 828 2322 828 1663 \nQ 828 994 1084 691 \nQ 1341 388 1753 388 \nQ 2084 388 2306 591 \nQ 2528 794 2588 1216 \nz\n\" transform=\"scale(0.015625)\"/>\n        <path id=\"ArialMT-74\" d=\"M 1650 503 \nL 1731 6 \nQ 1494 -44 1306 -44 \nQ 1000 -44 831 53 \nQ 663 150 594 308 \nQ 525 466 525 972 \nL 525 2881 \nL 113 2881 \nL 113 3319 \nL 525 3319 \nL 525 4141 \nL 1084 4478 \nL 1084 3319 \nL 1650 3319 \nL 1650 2881 \nL 1084 2881 \nL 1084 941 \nQ 1084 700 1114 631 \nQ 1144 563 1211 522 \nQ 1278 481 1403 481 \nQ 1497 481 1650 503 \nz\n\" transform=\"scale(0.015625)\"/>\n        <path id=\"ArialMT-72\" d=\"M 416 0 \nL 416 3319 \nL 922 3319 \nL 922 2816 \nQ 1116 3169 1280 3281 \nQ 1444 3394 1641 3394 \nQ 1925 3394 2219 3213 \nL 2025 2691 \nQ 1819 2813 1613 2813 \nQ 1428 2813 1281 2702 \nQ 1134 2591 1072 2394 \nQ 978 2094 978 1738 \nL 978 0 \nL 416 0 \nz\n\" transform=\"scale(0.015625)\"/>\n        <path id=\"ArialMT-6f\" d=\"M 213 1659 \nQ 213 2581 725 3025 \nQ 1153 3394 1769 3394 \nQ 2453 3394 2887 2945 \nQ 3322 2497 3322 1706 \nQ 3322 1066 3130 698 \nQ 2938 331 2570 128 \nQ 2203 -75 1769 -75 \nQ 1072 -75 642 372 \nQ 213 819 213 1659 \nz\nM 791 1659 \nQ 791 1022 1069 705 \nQ 1347 388 1769 388 \nQ 2188 388 2466 706 \nQ 2744 1025 2744 1678 \nQ 2744 2294 2464 2611 \nQ 2184 2928 1769 2928 \nQ 1347 2928 1069 2612 \nQ 791 2297 791 1659 \nz\n\" transform=\"scale(0.015625)\"/>\n        <path id=\"ArialMT-6e\" d=\"M 422 0 \nL 422 3319 \nL 928 3319 \nL 928 2847 \nQ 1294 3394 1984 3394 \nQ 2284 3394 2536 3286 \nQ 2788 3178 2913 3003 \nQ 3038 2828 3088 2588 \nQ 3119 2431 3119 2041 \nL 3119 0 \nL 2556 0 \nL 2556 2019 \nQ 2556 2363 2490 2533 \nQ 2425 2703 2258 2804 \nQ 2091 2906 1866 2906 \nQ 1506 2906 1245 2678 \nQ 984 2450 984 1813 \nL 984 0 \nL 422 0 \nz\n\" transform=\"scale(0.015625)\"/>\n        <path id=\"ArialMT-69\" d=\"M 425 3934 \nL 425 4581 \nL 988 4581 \nL 988 3934 \nL 425 3934 \nz\nM 425 0 \nL 425 3319 \nL 988 3319 \nL 988 0 \nL 425 0 \nz\n\" transform=\"scale(0.015625)\"/>\n        <path id=\"ArialMT-20\" transform=\"scale(0.015625)\"/>\n        <path id=\"ArialMT-61\" d=\"M 2588 409 \nQ 2275 144 1986 34 \nQ 1697 -75 1366 -75 \nQ 819 -75 525 192 \nQ 231 459 231 875 \nQ 231 1119 342 1320 \nQ 453 1522 633 1644 \nQ 813 1766 1038 1828 \nQ 1203 1872 1538 1913 \nQ 2219 1994 2541 2106 \nQ 2544 2222 2544 2253 \nQ 2544 2597 2384 2738 \nQ 2169 2928 1744 2928 \nQ 1347 2928 1158 2789 \nQ 969 2650 878 2297 \nL 328 2372 \nQ 403 2725 575 2942 \nQ 747 3159 1072 3276 \nQ 1397 3394 1825 3394 \nQ 2250 3394 2515 3294 \nQ 2781 3194 2906 3042 \nQ 3031 2891 3081 2659 \nQ 3109 2516 3109 2141 \nL 3109 1391 \nQ 3109 606 3145 398 \nQ 3181 191 3288 0 \nL 2700 0 \nQ 2613 175 2588 409 \nz\nM 2541 1666 \nQ 2234 1541 1622 1453 \nQ 1275 1403 1131 1340 \nQ 988 1278 909 1158 \nQ 831 1038 831 891 \nQ 831 666 1001 516 \nQ 1172 366 1500 366 \nQ 1825 366 2078 508 \nQ 2331 650 2450 897 \nQ 2541 1088 2541 1459 \nL 2541 1666 \nz\n\" transform=\"scale(0.015625)\"/>\n        <path id=\"ArialMT-73\" d=\"M 197 991 \nL 753 1078 \nQ 800 744 1014 566 \nQ 1228 388 1613 388 \nQ 2000 388 2187 545 \nQ 2375 703 2375 916 \nQ 2375 1106 2209 1216 \nQ 2094 1291 1634 1406 \nQ 1016 1563 777 1677 \nQ 538 1791 414 1992 \nQ 291 2194 291 2438 \nQ 291 2659 392 2848 \nQ 494 3038 669 3163 \nQ 800 3259 1026 3326 \nQ 1253 3394 1513 3394 \nQ 1903 3394 2198 3281 \nQ 2494 3169 2634 2976 \nQ 2775 2784 2828 2463 \nL 2278 2388 \nQ 2241 2644 2061 2787 \nQ 1881 2931 1553 2931 \nQ 1166 2931 1000 2803 \nQ 834 2675 834 2503 \nQ 834 2394 903 2306 \nQ 972 2216 1119 2156 \nQ 1203 2125 1616 2013 \nQ 2213 1853 2448 1751 \nQ 2684 1650 2818 1456 \nQ 2953 1263 2953 975 \nQ 2953 694 2789 445 \nQ 2625 197 2315 61 \nQ 2006 -75 1616 -75 \nQ 969 -75 630 194 \nQ 291 463 197 991 \nz\n\" transform=\"scale(0.015625)\"/>\n       </defs>\n       <use xlink:href=\"#ArialMT-45\"/>\n       <use xlink:href=\"#ArialMT-6c\" transform=\"translate(66.699219 0)\"/>\n       <use xlink:href=\"#ArialMT-65\" transform=\"translate(88.916016 0)\"/>\n       <use xlink:href=\"#ArialMT-63\" transform=\"translate(144.53125 0)\"/>\n       <use xlink:href=\"#ArialMT-74\" transform=\"translate(194.53125 0)\"/>\n       <use xlink:href=\"#ArialMT-72\" transform=\"translate(222.314453 0)\"/>\n       <use xlink:href=\"#ArialMT-6f\" transform=\"translate(255.615234 0)\"/>\n       <use xlink:href=\"#ArialMT-6e\" transform=\"translate(311.230469 0)\"/>\n       <use xlink:href=\"#ArialMT-69\" transform=\"translate(366.845703 0)\"/>\n       <use xlink:href=\"#ArialMT-63\" transform=\"translate(389.0625 0)\"/>\n       <use xlink:href=\"#ArialMT-20\" transform=\"translate(439.0625 0)\"/>\n       <use xlink:href=\"#ArialMT-61\" transform=\"translate(466.845703 0)\"/>\n       <use xlink:href=\"#ArialMT-63\" transform=\"translate(522.460938 0)\"/>\n       <use xlink:href=\"#ArialMT-63\" transform=\"translate(572.460938 0)\"/>\n       <use xlink:href=\"#ArialMT-65\" transform=\"translate(622.460938 0)\"/>\n       <use xlink:href=\"#ArialMT-73\" transform=\"translate(678.076172 0)\"/>\n       <use xlink:href=\"#ArialMT-73\" transform=\"translate(728.076172 0)\"/>\n       <use xlink:href=\"#ArialMT-6f\" transform=\"translate(778.076172 0)\"/>\n       <use xlink:href=\"#ArialMT-72\" transform=\"translate(833.691406 0)\"/>\n       <use xlink:href=\"#ArialMT-69\" transform=\"translate(866.992188 0)\"/>\n       <use xlink:href=\"#ArialMT-65\" transform=\"translate(889.208984 0)\"/>\n       <use xlink:href=\"#ArialMT-73\" transform=\"translate(944.824219 0)\"/>\n      </g>\n     </g>\n    </g>\n    <g id=\"xtick_2\">\n     <g id=\"line2d_2\">\n      <path d=\"M 155.802813 243.695625 \nL 155.802813 21.935625 \n\" clip-path=\"url(#p3002654693)\" style=\"fill: none; stroke: #ffffff; stroke-linecap: round\"/>\n     </g>\n     <g id=\"text_2\">\n      <!-- Fashion accessories -->\n      <g style=\"fill: #262626\" transform=\"translate(158.646484 353.457188) rotate(-90) scale(0.11 -0.11)\">\n       <defs>\n        <path id=\"ArialMT-46\" d=\"M 525 0 \nL 525 4581 \nL 3616 4581 \nL 3616 4041 \nL 1131 4041 \nL 1131 2622 \nL 3281 2622 \nL 3281 2081 \nL 1131 2081 \nL 1131 0 \nL 525 0 \nz\n\" transform=\"scale(0.015625)\"/>\n        <path id=\"ArialMT-68\" d=\"M 422 0 \nL 422 4581 \nL 984 4581 \nL 984 2938 \nQ 1378 3394 1978 3394 \nQ 2347 3394 2619 3248 \nQ 2891 3103 3008 2847 \nQ 3125 2591 3125 2103 \nL 3125 0 \nL 2563 0 \nL 2563 2103 \nQ 2563 2525 2380 2717 \nQ 2197 2909 1863 2909 \nQ 1613 2909 1392 2779 \nQ 1172 2650 1078 2428 \nQ 984 2206 984 1816 \nL 984 0 \nL 422 0 \nz\n\" transform=\"scale(0.015625)\"/>\n       </defs>\n       <use xlink:href=\"#ArialMT-46\"/>\n       <use xlink:href=\"#ArialMT-61\" transform=\"translate(61.083984 0)\"/>\n       <use xlink:href=\"#ArialMT-73\" transform=\"translate(116.699219 0)\"/>\n       <use xlink:href=\"#ArialMT-68\" transform=\"translate(166.699219 0)\"/>\n       <use xlink:href=\"#ArialMT-69\" transform=\"translate(222.314453 0)\"/>\n       <use xlink:href=\"#ArialMT-6f\" transform=\"translate(244.53125 0)\"/>\n       <use xlink:href=\"#ArialMT-6e\" transform=\"translate(300.146484 0)\"/>\n       <use xlink:href=\"#ArialMT-20\" transform=\"translate(355.761719 0)\"/>\n       <use xlink:href=\"#ArialMT-61\" transform=\"translate(383.544922 0)\"/>\n       <use xlink:href=\"#ArialMT-63\" transform=\"translate(439.160156 0)\"/>\n       <use xlink:href=\"#ArialMT-63\" transform=\"translate(489.160156 0)\"/>\n       <use xlink:href=\"#ArialMT-65\" transform=\"translate(539.160156 0)\"/>\n       <use xlink:href=\"#ArialMT-73\" transform=\"translate(594.775391 0)\"/>\n       <use xlink:href=\"#ArialMT-73\" transform=\"translate(644.775391 0)\"/>\n       <use xlink:href=\"#ArialMT-6f\" transform=\"translate(694.775391 0)\"/>\n       <use xlink:href=\"#ArialMT-72\" transform=\"translate(750.390625 0)\"/>\n       <use xlink:href=\"#ArialMT-69\" transform=\"translate(783.691406 0)\"/>\n       <use xlink:href=\"#ArialMT-65\" transform=\"translate(805.908203 0)\"/>\n       <use xlink:href=\"#ArialMT-73\" transform=\"translate(861.523438 0)\"/>\n      </g>\n     </g>\n    </g>\n    <g id=\"xtick_3\">\n     <g id=\"line2d_3\">\n      <path d=\"M 230.202812 243.695625 \nL 230.202812 21.935625 \n\" clip-path=\"url(#p3002654693)\" style=\"fill: none; stroke: #ffffff; stroke-linecap: round\"/>\n     </g>\n     <g id=\"text_3\">\n      <!-- Food and beverages -->\n      <g style=\"fill: #262626\" transform=\"translate(232.982031 354.093125) rotate(-90) scale(0.11 -0.11)\">\n       <defs>\n        <path id=\"ArialMT-64\" d=\"M 2575 0 \nL 2575 419 \nQ 2259 -75 1647 -75 \nQ 1250 -75 917 144 \nQ 584 363 401 755 \nQ 219 1147 219 1656 \nQ 219 2153 384 2558 \nQ 550 2963 881 3178 \nQ 1213 3394 1622 3394 \nQ 1922 3394 2156 3267 \nQ 2391 3141 2538 2938 \nL 2538 4581 \nL 3097 4581 \nL 3097 0 \nL 2575 0 \nz\nM 797 1656 \nQ 797 1019 1065 703 \nQ 1334 388 1700 388 \nQ 2069 388 2326 689 \nQ 2584 991 2584 1609 \nQ 2584 2291 2321 2609 \nQ 2059 2928 1675 2928 \nQ 1300 2928 1048 2622 \nQ 797 2316 797 1656 \nz\n\" transform=\"scale(0.015625)\"/>\n        <path id=\"ArialMT-62\" d=\"M 941 0 \nL 419 0 \nL 419 4581 \nL 981 4581 \nL 981 2947 \nQ 1338 3394 1891 3394 \nQ 2197 3394 2470 3270 \nQ 2744 3147 2920 2923 \nQ 3097 2700 3197 2384 \nQ 3297 2069 3297 1709 \nQ 3297 856 2875 390 \nQ 2453 -75 1863 -75 \nQ 1275 -75 941 416 \nL 941 0 \nz\nM 934 1684 \nQ 934 1088 1097 822 \nQ 1363 388 1816 388 \nQ 2184 388 2453 708 \nQ 2722 1028 2722 1663 \nQ 2722 2313 2464 2622 \nQ 2206 2931 1841 2931 \nQ 1472 2931 1203 2611 \nQ 934 2291 934 1684 \nz\n\" transform=\"scale(0.015625)\"/>\n        <path id=\"ArialMT-76\" d=\"M 1344 0 \nL 81 3319 \nL 675 3319 \nL 1388 1331 \nQ 1503 1009 1600 663 \nQ 1675 925 1809 1294 \nL 2547 3319 \nL 3125 3319 \nL 1869 0 \nL 1344 0 \nz\n\" transform=\"scale(0.015625)\"/>\n        <path id=\"ArialMT-67\" d=\"M 319 -275 \nL 866 -356 \nQ 900 -609 1056 -725 \nQ 1266 -881 1628 -881 \nQ 2019 -881 2231 -725 \nQ 2444 -569 2519 -288 \nQ 2563 -116 2559 434 \nQ 2191 0 1641 0 \nQ 956 0 581 494 \nQ 206 988 206 1678 \nQ 206 2153 378 2554 \nQ 550 2956 876 3175 \nQ 1203 3394 1644 3394 \nQ 2231 3394 2613 2919 \nL 2613 3319 \nL 3131 3319 \nL 3131 450 \nQ 3131 -325 2973 -648 \nQ 2816 -972 2473 -1159 \nQ 2131 -1347 1631 -1347 \nQ 1038 -1347 672 -1080 \nQ 306 -813 319 -275 \nz\nM 784 1719 \nQ 784 1066 1043 766 \nQ 1303 466 1694 466 \nQ 2081 466 2343 764 \nQ 2606 1063 2606 1700 \nQ 2606 2309 2336 2618 \nQ 2066 2928 1684 2928 \nQ 1309 2928 1046 2623 \nQ 784 2319 784 1719 \nz\n\" transform=\"scale(0.015625)\"/>\n       </defs>\n       <use xlink:href=\"#ArialMT-46\"/>\n       <use xlink:href=\"#ArialMT-6f\" transform=\"translate(61.083984 0)\"/>\n       <use xlink:href=\"#ArialMT-6f\" transform=\"translate(116.699219 0)\"/>\n       <use xlink:href=\"#ArialMT-64\" transform=\"translate(172.314453 0)\"/>\n       <use xlink:href=\"#ArialMT-20\" transform=\"translate(227.929688 0)\"/>\n       <use xlink:href=\"#ArialMT-61\" transform=\"translate(255.712891 0)\"/>\n       <use xlink:href=\"#ArialMT-6e\" transform=\"translate(311.328125 0)\"/>\n       <use xlink:href=\"#ArialMT-64\" transform=\"translate(366.943359 0)\"/>\n       <use xlink:href=\"#ArialMT-20\" transform=\"translate(422.558594 0)\"/>\n       <use xlink:href=\"#ArialMT-62\" transform=\"translate(450.341797 0)\"/>\n       <use xlink:href=\"#ArialMT-65\" transform=\"translate(505.957031 0)\"/>\n       <use xlink:href=\"#ArialMT-76\" transform=\"translate(561.572266 0)\"/>\n       <use xlink:href=\"#ArialMT-65\" transform=\"translate(611.572266 0)\"/>\n       <use xlink:href=\"#ArialMT-72\" transform=\"translate(667.1875 0)\"/>\n       <use xlink:href=\"#ArialMT-61\" transform=\"translate(700.488281 0)\"/>\n       <use xlink:href=\"#ArialMT-67\" transform=\"translate(756.103516 0)\"/>\n       <use xlink:href=\"#ArialMT-65\" transform=\"translate(811.71875 0)\"/>\n       <use xlink:href=\"#ArialMT-73\" transform=\"translate(867.333984 0)\"/>\n      </g>\n     </g>\n    </g>\n    <g id=\"xtick_4\">\n     <g id=\"line2d_4\">\n      <path d=\"M 304.602813 243.695625 \nL 304.602813 21.935625 \n\" clip-path=\"url(#p3002654693)\" style=\"fill: none; stroke: #ffffff; stroke-linecap: round\"/>\n     </g>\n     <g id=\"text_4\">\n      <!-- Health and beauty -->\n      <g style=\"fill: #262626\" transform=\"translate(307.382031 342.477813) rotate(-90) scale(0.11 -0.11)\">\n       <defs>\n        <path id=\"ArialMT-48\" d=\"M 513 0 \nL 513 4581 \nL 1119 4581 \nL 1119 2700 \nL 3500 2700 \nL 3500 4581 \nL 4106 4581 \nL 4106 0 \nL 3500 0 \nL 3500 2159 \nL 1119 2159 \nL 1119 0 \nL 513 0 \nz\n\" transform=\"scale(0.015625)\"/>\n        <path id=\"ArialMT-75\" d=\"M 2597 0 \nL 2597 488 \nQ 2209 -75 1544 -75 \nQ 1250 -75 995 37 \nQ 741 150 617 320 \nQ 494 491 444 738 \nQ 409 903 409 1263 \nL 409 3319 \nL 972 3319 \nL 972 1478 \nQ 972 1038 1006 884 \nQ 1059 663 1231 536 \nQ 1403 409 1656 409 \nQ 1909 409 2131 539 \nQ 2353 669 2445 892 \nQ 2538 1116 2538 1541 \nL 2538 3319 \nL 3100 3319 \nL 3100 0 \nL 2597 0 \nz\n\" transform=\"scale(0.015625)\"/>\n        <path id=\"ArialMT-79\" d=\"M 397 -1278 \nL 334 -750 \nQ 519 -800 656 -800 \nQ 844 -800 956 -737 \nQ 1069 -675 1141 -563 \nQ 1194 -478 1313 -144 \nQ 1328 -97 1363 -6 \nL 103 3319 \nL 709 3319 \nL 1400 1397 \nQ 1534 1031 1641 628 \nQ 1738 1016 1872 1384 \nL 2581 3319 \nL 3144 3319 \nL 1881 -56 \nQ 1678 -603 1566 -809 \nQ 1416 -1088 1222 -1217 \nQ 1028 -1347 759 -1347 \nQ 597 -1347 397 -1278 \nz\n\" transform=\"scale(0.015625)\"/>\n       </defs>\n       <use xlink:href=\"#ArialMT-48\"/>\n       <use xlink:href=\"#ArialMT-65\" transform=\"translate(72.216797 0)\"/>\n       <use xlink:href=\"#ArialMT-61\" transform=\"translate(127.832031 0)\"/>\n       <use xlink:href=\"#ArialMT-6c\" transform=\"translate(183.447266 0)\"/>\n       <use xlink:href=\"#ArialMT-74\" transform=\"translate(205.664062 0)\"/>\n       <use xlink:href=\"#ArialMT-68\" transform=\"translate(233.447266 0)\"/>\n       <use xlink:href=\"#ArialMT-20\" transform=\"translate(289.0625 0)\"/>\n       <use xlink:href=\"#ArialMT-61\" transform=\"translate(316.845703 0)\"/>\n       <use xlink:href=\"#ArialMT-6e\" transform=\"translate(372.460938 0)\"/>\n       <use xlink:href=\"#ArialMT-64\" transform=\"translate(428.076172 0)\"/>\n       <use xlink:href=\"#ArialMT-20\" transform=\"translate(483.691406 0)\"/>\n       <use xlink:href=\"#ArialMT-62\" transform=\"translate(511.474609 0)\"/>\n       <use xlink:href=\"#ArialMT-65\" transform=\"translate(567.089844 0)\"/>\n       <use xlink:href=\"#ArialMT-61\" transform=\"translate(622.705078 0)\"/>\n       <use xlink:href=\"#ArialMT-75\" transform=\"translate(678.320312 0)\"/>\n       <use xlink:href=\"#ArialMT-74\" transform=\"translate(733.935547 0)\"/>\n       <use xlink:href=\"#ArialMT-79\" transform=\"translate(761.71875 0)\"/>\n      </g>\n     </g>\n    </g>\n    <g id=\"xtick_5\">\n     <g id=\"line2d_5\">\n      <path d=\"M 379.002813 243.695625 \nL 379.002813 21.935625 \n\" clip-path=\"url(#p3002654693)\" style=\"fill: none; stroke: #ffffff; stroke-linecap: round\"/>\n     </g>\n     <g id=\"text_5\">\n      <!-- Home and lifestyle -->\n      <g style=\"fill: #262626\" transform=\"translate(381.849063 343.6775) rotate(-90) scale(0.11 -0.11)\">\n       <defs>\n        <path id=\"ArialMT-6d\" d=\"M 422 0 \nL 422 3319 \nL 925 3319 \nL 925 2853 \nQ 1081 3097 1340 3245 \nQ 1600 3394 1931 3394 \nQ 2300 3394 2536 3241 \nQ 2772 3088 2869 2813 \nQ 3263 3394 3894 3394 \nQ 4388 3394 4653 3120 \nQ 4919 2847 4919 2278 \nL 4919 0 \nL 4359 0 \nL 4359 2091 \nQ 4359 2428 4304 2576 \nQ 4250 2725 4106 2815 \nQ 3963 2906 3769 2906 \nQ 3419 2906 3187 2673 \nQ 2956 2441 2956 1928 \nL 2956 0 \nL 2394 0 \nL 2394 2156 \nQ 2394 2531 2256 2718 \nQ 2119 2906 1806 2906 \nQ 1569 2906 1367 2781 \nQ 1166 2656 1075 2415 \nQ 984 2175 984 1722 \nL 984 0 \nL 422 0 \nz\n\" transform=\"scale(0.015625)\"/>\n        <path id=\"ArialMT-66\" d=\"M 556 0 \nL 556 2881 \nL 59 2881 \nL 59 3319 \nL 556 3319 \nL 556 3672 \nQ 556 4006 616 4169 \nQ 697 4388 901 4523 \nQ 1106 4659 1475 4659 \nQ 1713 4659 2000 4603 \nL 1916 4113 \nQ 1741 4144 1584 4144 \nQ 1328 4144 1222 4034 \nQ 1116 3925 1116 3625 \nL 1116 3319 \nL 1763 3319 \nL 1763 2881 \nL 1116 2881 \nL 1116 0 \nL 556 0 \nz\n\" transform=\"scale(0.015625)\"/>\n       </defs>\n       <use xlink:href=\"#ArialMT-48\"/>\n       <use xlink:href=\"#ArialMT-6f\" transform=\"translate(72.216797 0)\"/>\n       <use xlink:href=\"#ArialMT-6d\" transform=\"translate(127.832031 0)\"/>\n       <use xlink:href=\"#ArialMT-65\" transform=\"translate(211.132812 0)\"/>\n       <use xlink:href=\"#ArialMT-20\" transform=\"translate(266.748047 0)\"/>\n       <use xlink:href=\"#ArialMT-61\" transform=\"translate(294.53125 0)\"/>\n       <use xlink:href=\"#ArialMT-6e\" transform=\"translate(350.146484 0)\"/>\n       <use xlink:href=\"#ArialMT-64\" transform=\"translate(405.761719 0)\"/>\n       <use xlink:href=\"#ArialMT-20\" transform=\"translate(461.376953 0)\"/>\n       <use xlink:href=\"#ArialMT-6c\" transform=\"translate(489.160156 0)\"/>\n       <use xlink:href=\"#ArialMT-69\" transform=\"translate(511.376953 0)\"/>\n       <use xlink:href=\"#ArialMT-66\" transform=\"translate(533.59375 0)\"/>\n       <use xlink:href=\"#ArialMT-65\" transform=\"translate(561.376953 0)\"/>\n       <use xlink:href=\"#ArialMT-73\" transform=\"translate(616.992188 0)\"/>\n       <use xlink:href=\"#ArialMT-74\" transform=\"translate(666.992188 0)\"/>\n       <use xlink:href=\"#ArialMT-79\" transform=\"translate(694.775391 0)\"/>\n       <use xlink:href=\"#ArialMT-6c\" transform=\"translate(744.775391 0)\"/>\n       <use xlink:href=\"#ArialMT-65\" transform=\"translate(766.992188 0)\"/>\n      </g>\n     </g>\n    </g>\n    <g id=\"xtick_6\">\n     <g id=\"line2d_6\">\n      <path d=\"M 453.402812 243.695625 \nL 453.402812 21.935625 \n\" clip-path=\"url(#p3002654693)\" style=\"fill: none; stroke: #ffffff; stroke-linecap: round\"/>\n     </g>\n     <g id=\"text_6\">\n      <!-- Sports and travel -->\n      <g style=\"fill: #262626\" transform=\"translate(456.313516 336.345313) rotate(-90) scale(0.11 -0.11)\">\n       <defs>\n        <path id=\"ArialMT-53\" d=\"M 288 1472 \nL 859 1522 \nQ 900 1178 1048 958 \nQ 1197 738 1509 602 \nQ 1822 466 2213 466 \nQ 2559 466 2825 569 \nQ 3091 672 3220 851 \nQ 3350 1031 3350 1244 \nQ 3350 1459 3225 1620 \nQ 3100 1781 2813 1891 \nQ 2628 1963 1997 2114 \nQ 1366 2266 1113 2400 \nQ 784 2572 623 2826 \nQ 463 3081 463 3397 \nQ 463 3744 659 4045 \nQ 856 4347 1234 4503 \nQ 1613 4659 2075 4659 \nQ 2584 4659 2973 4495 \nQ 3363 4331 3572 4012 \nQ 3781 3694 3797 3291 \nL 3216 3247 \nQ 3169 3681 2898 3903 \nQ 2628 4125 2100 4125 \nQ 1550 4125 1298 3923 \nQ 1047 3722 1047 3438 \nQ 1047 3191 1225 3031 \nQ 1400 2872 2139 2705 \nQ 2878 2538 3153 2413 \nQ 3553 2228 3743 1945 \nQ 3934 1663 3934 1294 \nQ 3934 928 3725 604 \nQ 3516 281 3123 101 \nQ 2731 -78 2241 -78 \nQ 1619 -78 1198 103 \nQ 778 284 539 648 \nQ 300 1013 288 1472 \nz\n\" transform=\"scale(0.015625)\"/>\n        <path id=\"ArialMT-70\" d=\"M 422 -1272 \nL 422 3319 \nL 934 3319 \nL 934 2888 \nQ 1116 3141 1344 3267 \nQ 1572 3394 1897 3394 \nQ 2322 3394 2647 3175 \nQ 2972 2956 3137 2557 \nQ 3303 2159 3303 1684 \nQ 3303 1175 3120 767 \nQ 2938 359 2589 142 \nQ 2241 -75 1856 -75 \nQ 1575 -75 1351 44 \nQ 1128 163 984 344 \nL 984 -1272 \nL 422 -1272 \nz\nM 931 1641 \nQ 931 1000 1190 694 \nQ 1450 388 1819 388 \nQ 2194 388 2461 705 \nQ 2728 1022 2728 1688 \nQ 2728 2322 2467 2637 \nQ 2206 2953 1844 2953 \nQ 1484 2953 1207 2617 \nQ 931 2281 931 1641 \nz\n\" transform=\"scale(0.015625)\"/>\n       </defs>\n       <use xlink:href=\"#ArialMT-53\"/>\n       <use xlink:href=\"#ArialMT-70\" transform=\"translate(66.699219 0)\"/>\n       <use xlink:href=\"#ArialMT-6f\" transform=\"translate(122.314453 0)\"/>\n       <use xlink:href=\"#ArialMT-72\" transform=\"translate(177.929688 0)\"/>\n       <use xlink:href=\"#ArialMT-74\" transform=\"translate(211.230469 0)\"/>\n       <use xlink:href=\"#ArialMT-73\" transform=\"translate(239.013672 0)\"/>\n       <use xlink:href=\"#ArialMT-20\" transform=\"translate(289.013672 0)\"/>\n       <use xlink:href=\"#ArialMT-61\" transform=\"translate(316.796875 0)\"/>\n       <use xlink:href=\"#ArialMT-6e\" transform=\"translate(372.412109 0)\"/>\n       <use xlink:href=\"#ArialMT-64\" transform=\"translate(428.027344 0)\"/>\n       <use xlink:href=\"#ArialMT-20\" transform=\"translate(483.642578 0)\"/>\n       <use xlink:href=\"#ArialMT-74\" transform=\"translate(511.425781 0)\"/>\n       <use xlink:href=\"#ArialMT-72\" transform=\"translate(539.208984 0)\"/>\n       <use xlink:href=\"#ArialMT-61\" transform=\"translate(572.509766 0)\"/>\n       <use xlink:href=\"#ArialMT-76\" transform=\"translate(628.125 0)\"/>\n       <use xlink:href=\"#ArialMT-65\" transform=\"translate(678.125 0)\"/>\n       <use xlink:href=\"#ArialMT-6c\" transform=\"translate(733.740234 0)\"/>\n      </g>\n     </g>\n    </g>\n    <g id=\"text_7\">\n     <!-- Product line -->\n     <g style=\"fill: #262626\" transform=\"translate(235.72 375.210938) scale(0.12 -0.12)\">\n      <defs>\n       <path id=\"ArialMT-50\" d=\"M 494 0 \nL 494 4581 \nL 2222 4581 \nQ 2678 4581 2919 4538 \nQ 3256 4481 3484 4323 \nQ 3713 4166 3852 3881 \nQ 3991 3597 3991 3256 \nQ 3991 2672 3619 2267 \nQ 3247 1863 2275 1863 \nL 1100 1863 \nL 1100 0 \nL 494 0 \nz\nM 1100 2403 \nL 2284 2403 \nQ 2872 2403 3119 2622 \nQ 3366 2841 3366 3238 \nQ 3366 3525 3220 3729 \nQ 3075 3934 2838 4000 \nQ 2684 4041 2272 4041 \nL 1100 4041 \nL 1100 2403 \nz\n\" transform=\"scale(0.015625)\"/>\n      </defs>\n      <use xlink:href=\"#ArialMT-50\"/>\n      <use xlink:href=\"#ArialMT-72\" transform=\"translate(66.699219 0)\"/>\n      <use xlink:href=\"#ArialMT-6f\" transform=\"translate(100 0)\"/>\n      <use xlink:href=\"#ArialMT-64\" transform=\"translate(155.615234 0)\"/>\n      <use xlink:href=\"#ArialMT-75\" transform=\"translate(211.230469 0)\"/>\n      <use xlink:href=\"#ArialMT-63\" transform=\"translate(266.845703 0)\"/>\n      <use xlink:href=\"#ArialMT-74\" transform=\"translate(316.845703 0)\"/>\n      <use xlink:href=\"#ArialMT-20\" transform=\"translate(344.628906 0)\"/>\n      <use xlink:href=\"#ArialMT-6c\" transform=\"translate(372.412109 0)\"/>\n      <use xlink:href=\"#ArialMT-69\" transform=\"translate(394.628906 0)\"/>\n      <use xlink:href=\"#ArialMT-6e\" transform=\"translate(416.845703 0)\"/>\n      <use xlink:href=\"#ArialMT-65\" transform=\"translate(472.460938 0)\"/>\n     </g>\n    </g>\n   </g>\n   <g id=\"matplotlib.axis_2\">\n    <g id=\"ytick_1\">\n     <g id=\"line2d_7\">\n      <path d=\"M 44.202813 243.695625 \nL 490.602812 243.695625 \n\" clip-path=\"url(#p3002654693)\" style=\"fill: none; stroke: #ffffff; stroke-linecap: round\"/>\n     </g>\n     <g id=\"text_8\">\n      <!-- 0 -->\n      <g style=\"fill: #262626\" transform=\"translate(28.585781 247.632422) scale(0.11 -0.11)\">\n       <defs>\n        <path id=\"ArialMT-30\" d=\"M 266 2259 \nQ 266 3072 433 3567 \nQ 600 4063 929 4331 \nQ 1259 4600 1759 4600 \nQ 2128 4600 2406 4451 \nQ 2684 4303 2865 4023 \nQ 3047 3744 3150 3342 \nQ 3253 2941 3253 2259 \nQ 3253 1453 3087 958 \nQ 2922 463 2592 192 \nQ 2263 -78 1759 -78 \nQ 1097 -78 719 397 \nQ 266 969 266 2259 \nz\nM 844 2259 \nQ 844 1131 1108 757 \nQ 1372 384 1759 384 \nQ 2147 384 2411 759 \nQ 2675 1134 2675 2259 \nQ 2675 3391 2411 3762 \nQ 2147 4134 1753 4134 \nQ 1366 4134 1134 3806 \nQ 844 3388 844 2259 \nz\n\" transform=\"scale(0.015625)\"/>\n       </defs>\n       <use xlink:href=\"#ArialMT-30\"/>\n      </g>\n     </g>\n    </g>\n    <g id=\"ytick_2\">\n     <g id=\"line2d_8\">\n      <path d=\"M 44.202813 216.618702 \nL 490.602812 216.618702 \n\" clip-path=\"url(#p3002654693)\" style=\"fill: none; stroke: #ffffff; stroke-linecap: round\"/>\n     </g>\n     <g id=\"text_9\">\n      <!-- 10 -->\n      <g style=\"fill: #262626\" transform=\"translate(22.46875 220.555499) scale(0.11 -0.11)\">\n       <defs>\n        <path id=\"ArialMT-31\" d=\"M 2384 0 \nL 1822 0 \nL 1822 3584 \nQ 1619 3391 1289 3197 \nQ 959 3003 697 2906 \nL 697 3450 \nQ 1169 3672 1522 3987 \nQ 1875 4303 2022 4600 \nL 2384 4600 \nL 2384 0 \nz\n\" transform=\"scale(0.015625)\"/>\n       </defs>\n       <use xlink:href=\"#ArialMT-31\"/>\n       <use xlink:href=\"#ArialMT-30\" transform=\"translate(55.615234 0)\"/>\n      </g>\n     </g>\n    </g>\n    <g id=\"ytick_3\">\n     <g id=\"line2d_9\">\n      <path d=\"M 44.202813 189.541779 \nL 490.602812 189.541779 \n\" clip-path=\"url(#p3002654693)\" style=\"fill: none; stroke: #ffffff; stroke-linecap: round\"/>\n     </g>\n     <g id=\"text_10\">\n      <!-- 20 -->\n      <g style=\"fill: #262626\" transform=\"translate(22.46875 193.478576) scale(0.11 -0.11)\">\n       <defs>\n        <path id=\"ArialMT-32\" d=\"M 3222 541 \nL 3222 0 \nL 194 0 \nQ 188 203 259 391 \nQ 375 700 629 1000 \nQ 884 1300 1366 1694 \nQ 2113 2306 2375 2664 \nQ 2638 3022 2638 3341 \nQ 2638 3675 2398 3904 \nQ 2159 4134 1775 4134 \nQ 1369 4134 1125 3890 \nQ 881 3647 878 3216 \nL 300 3275 \nQ 359 3922 746 4261 \nQ 1134 4600 1788 4600 \nQ 2447 4600 2831 4234 \nQ 3216 3869 3216 3328 \nQ 3216 3053 3103 2787 \nQ 2991 2522 2730 2228 \nQ 2469 1934 1863 1422 \nQ 1356 997 1212 845 \nQ 1069 694 975 541 \nL 3222 541 \nz\n\" transform=\"scale(0.015625)\"/>\n       </defs>\n       <use xlink:href=\"#ArialMT-32\"/>\n       <use xlink:href=\"#ArialMT-30\" transform=\"translate(55.615234 0)\"/>\n      </g>\n     </g>\n    </g>\n    <g id=\"ytick_4\">\n     <g id=\"line2d_10\">\n      <path d=\"M 44.202813 162.464856 \nL 490.602812 162.464856 \n\" clip-path=\"url(#p3002654693)\" style=\"fill: none; stroke: #ffffff; stroke-linecap: round\"/>\n     </g>\n     <g id=\"text_11\">\n      <!-- 30 -->\n      <g style=\"fill: #262626\" transform=\"translate(22.46875 166.401653) scale(0.11 -0.11)\">\n       <defs>\n        <path id=\"ArialMT-33\" d=\"M 269 1209 \nL 831 1284 \nQ 928 806 1161 595 \nQ 1394 384 1728 384 \nQ 2125 384 2398 659 \nQ 2672 934 2672 1341 \nQ 2672 1728 2419 1979 \nQ 2166 2231 1775 2231 \nQ 1616 2231 1378 2169 \nL 1441 2663 \nQ 1497 2656 1531 2656 \nQ 1891 2656 2178 2843 \nQ 2466 3031 2466 3422 \nQ 2466 3731 2256 3934 \nQ 2047 4138 1716 4138 \nQ 1388 4138 1169 3931 \nQ 950 3725 888 3313 \nL 325 3413 \nQ 428 3978 793 4289 \nQ 1159 4600 1703 4600 \nQ 2078 4600 2393 4439 \nQ 2709 4278 2876 4000 \nQ 3044 3722 3044 3409 \nQ 3044 3113 2884 2869 \nQ 2725 2625 2413 2481 \nQ 2819 2388 3044 2092 \nQ 3269 1797 3269 1353 \nQ 3269 753 2831 336 \nQ 2394 -81 1725 -81 \nQ 1122 -81 723 278 \nQ 325 638 269 1209 \nz\n\" transform=\"scale(0.015625)\"/>\n       </defs>\n       <use xlink:href=\"#ArialMT-33\"/>\n       <use xlink:href=\"#ArialMT-30\" transform=\"translate(55.615234 0)\"/>\n      </g>\n     </g>\n    </g>\n    <g id=\"ytick_5\">\n     <g id=\"line2d_11\">\n      <path d=\"M 44.202813 135.387933 \nL 490.602812 135.387933 \n\" clip-path=\"url(#p3002654693)\" style=\"fill: none; stroke: #ffffff; stroke-linecap: round\"/>\n     </g>\n     <g id=\"text_12\">\n      <!-- 40 -->\n      <g style=\"fill: #262626\" transform=\"translate(22.46875 139.32473) scale(0.11 -0.11)\">\n       <defs>\n        <path id=\"ArialMT-34\" d=\"M 2069 0 \nL 2069 1097 \nL 81 1097 \nL 81 1613 \nL 2172 4581 \nL 2631 4581 \nL 2631 1613 \nL 3250 1613 \nL 3250 1097 \nL 2631 1097 \nL 2631 0 \nL 2069 0 \nz\nM 2069 1613 \nL 2069 3678 \nL 634 1613 \nL 2069 1613 \nz\n\" transform=\"scale(0.015625)\"/>\n       </defs>\n       <use xlink:href=\"#ArialMT-34\"/>\n       <use xlink:href=\"#ArialMT-30\" transform=\"translate(55.615234 0)\"/>\n      </g>\n     </g>\n    </g>\n    <g id=\"ytick_6\">\n     <g id=\"line2d_12\">\n      <path d=\"M 44.202813 108.31101 \nL 490.602812 108.31101 \n\" clip-path=\"url(#p3002654693)\" style=\"fill: none; stroke: #ffffff; stroke-linecap: round\"/>\n     </g>\n     <g id=\"text_13\">\n      <!-- 50 -->\n      <g style=\"fill: #262626\" transform=\"translate(22.46875 112.247806) scale(0.11 -0.11)\">\n       <defs>\n        <path id=\"ArialMT-35\" d=\"M 266 1200 \nL 856 1250 \nQ 922 819 1161 601 \nQ 1400 384 1738 384 \nQ 2144 384 2425 690 \nQ 2706 997 2706 1503 \nQ 2706 1984 2436 2262 \nQ 2166 2541 1728 2541 \nQ 1456 2541 1237 2417 \nQ 1019 2294 894 2097 \nL 366 2166 \nL 809 4519 \nL 3088 4519 \nL 3088 3981 \nL 1259 3981 \nL 1013 2750 \nQ 1425 3038 1878 3038 \nQ 2478 3038 2890 2622 \nQ 3303 2206 3303 1553 \nQ 3303 931 2941 478 \nQ 2500 -78 1738 -78 \nQ 1113 -78 717 272 \nQ 322 622 266 1200 \nz\n\" transform=\"scale(0.015625)\"/>\n       </defs>\n       <use xlink:href=\"#ArialMT-35\"/>\n       <use xlink:href=\"#ArialMT-30\" transform=\"translate(55.615234 0)\"/>\n      </g>\n     </g>\n    </g>\n    <g id=\"ytick_7\">\n     <g id=\"line2d_13\">\n      <path d=\"M 44.202813 81.234087 \nL 490.602812 81.234087 \n\" clip-path=\"url(#p3002654693)\" style=\"fill: none; stroke: #ffffff; stroke-linecap: round\"/>\n     </g>\n     <g id=\"text_14\">\n      <!-- 60 -->\n      <g style=\"fill: #262626\" transform=\"translate(22.46875 85.170883) scale(0.11 -0.11)\">\n       <defs>\n        <path id=\"ArialMT-36\" d=\"M 3184 3459 \nL 2625 3416 \nQ 2550 3747 2413 3897 \nQ 2184 4138 1850 4138 \nQ 1581 4138 1378 3988 \nQ 1113 3794 959 3422 \nQ 806 3050 800 2363 \nQ 1003 2672 1297 2822 \nQ 1591 2972 1913 2972 \nQ 2475 2972 2870 2558 \nQ 3266 2144 3266 1488 \nQ 3266 1056 3080 686 \nQ 2894 316 2569 119 \nQ 2244 -78 1831 -78 \nQ 1128 -78 684 439 \nQ 241 956 241 2144 \nQ 241 3472 731 4075 \nQ 1159 4600 1884 4600 \nQ 2425 4600 2770 4297 \nQ 3116 3994 3184 3459 \nz\nM 888 1484 \nQ 888 1194 1011 928 \nQ 1134 663 1356 523 \nQ 1578 384 1822 384 \nQ 2178 384 2434 671 \nQ 2691 959 2691 1453 \nQ 2691 1928 2437 2201 \nQ 2184 2475 1800 2475 \nQ 1419 2475 1153 2201 \nQ 888 1928 888 1484 \nz\n\" transform=\"scale(0.015625)\"/>\n       </defs>\n       <use xlink:href=\"#ArialMT-36\"/>\n       <use xlink:href=\"#ArialMT-30\" transform=\"translate(55.615234 0)\"/>\n      </g>\n     </g>\n    </g>\n    <g id=\"ytick_8\">\n     <g id=\"line2d_14\">\n      <path d=\"M 44.202813 54.157163 \nL 490.602812 54.157163 \n\" clip-path=\"url(#p3002654693)\" style=\"fill: none; stroke: #ffffff; stroke-linecap: round\"/>\n     </g>\n     <g id=\"text_15\">\n      <!-- 70 -->\n      <g style=\"fill: #262626\" transform=\"translate(22.46875 58.09396) scale(0.11 -0.11)\">\n       <defs>\n        <path id=\"ArialMT-37\" d=\"M 303 3981 \nL 303 4522 \nL 3269 4522 \nL 3269 4084 \nQ 2831 3619 2401 2847 \nQ 1972 2075 1738 1259 \nQ 1569 684 1522 0 \nL 944 0 \nQ 953 541 1156 1306 \nQ 1359 2072 1739 2783 \nQ 2119 3494 2547 3981 \nL 303 3981 \nz\n\" transform=\"scale(0.015625)\"/>\n       </defs>\n       <use xlink:href=\"#ArialMT-37\"/>\n       <use xlink:href=\"#ArialMT-30\" transform=\"translate(55.615234 0)\"/>\n      </g>\n     </g>\n    </g>\n    <g id=\"ytick_9\">\n     <g id=\"line2d_15\">\n      <path d=\"M 44.202813 27.08024 \nL 490.602812 27.08024 \n\" clip-path=\"url(#p3002654693)\" style=\"fill: none; stroke: #ffffff; stroke-linecap: round\"/>\n     </g>\n     <g id=\"text_16\">\n      <!-- 80 -->\n      <g style=\"fill: #262626\" transform=\"translate(22.46875 31.017037) scale(0.11 -0.11)\">\n       <defs>\n        <path id=\"ArialMT-38\" d=\"M 1131 2484 \nQ 781 2613 612 2850 \nQ 444 3088 444 3419 \nQ 444 3919 803 4259 \nQ 1163 4600 1759 4600 \nQ 2359 4600 2725 4251 \nQ 3091 3903 3091 3403 \nQ 3091 3084 2923 2848 \nQ 2756 2613 2416 2484 \nQ 2838 2347 3058 2040 \nQ 3278 1734 3278 1309 \nQ 3278 722 2862 322 \nQ 2447 -78 1769 -78 \nQ 1091 -78 675 323 \nQ 259 725 259 1325 \nQ 259 1772 486 2073 \nQ 713 2375 1131 2484 \nz\nM 1019 3438 \nQ 1019 3113 1228 2906 \nQ 1438 2700 1772 2700 \nQ 2097 2700 2305 2904 \nQ 2513 3109 2513 3406 \nQ 2513 3716 2298 3927 \nQ 2084 4138 1766 4138 \nQ 1444 4138 1231 3931 \nQ 1019 3725 1019 3438 \nz\nM 838 1322 \nQ 838 1081 952 856 \nQ 1066 631 1291 507 \nQ 1516 384 1775 384 \nQ 2178 384 2440 643 \nQ 2703 903 2703 1303 \nQ 2703 1709 2433 1975 \nQ 2163 2241 1756 2241 \nQ 1359 2241 1098 1978 \nQ 838 1716 838 1322 \nz\n\" transform=\"scale(0.015625)\"/>\n       </defs>\n       <use xlink:href=\"#ArialMT-38\"/>\n       <use xlink:href=\"#ArialMT-30\" transform=\"translate(55.615234 0)\"/>\n      </g>\n     </g>\n    </g>\n    <g id=\"text_17\">\n     <!-- Quantity sold -->\n     <g style=\"fill: #262626\" transform=\"translate(15.943125 167.832188) rotate(-90) scale(0.12 -0.12)\">\n      <defs>\n       <path id=\"ArialMT-51\" d=\"M 3966 491 \nQ 4388 200 4744 66 \nL 4566 -356 \nQ 4072 -178 3581 206 \nQ 3072 -78 2456 -78 \nQ 1834 -78 1328 222 \nQ 822 522 548 1065 \nQ 275 1609 275 2291 \nQ 275 2969 550 3525 \nQ 825 4081 1333 4372 \nQ 1841 4663 2469 4663 \nQ 3103 4663 3612 4361 \nQ 4122 4059 4389 3517 \nQ 4656 2975 4656 2294 \nQ 4656 1728 4484 1276 \nQ 4313 825 3966 491 \nz\nM 2631 1266 \nQ 3156 1119 3497 828 \nQ 4031 1316 4031 2294 \nQ 4031 2850 3842 3265 \nQ 3653 3681 3289 3911 \nQ 2925 4141 2472 4141 \nQ 1794 4141 1347 3677 \nQ 900 3213 900 2291 \nQ 900 1397 1342 919 \nQ 1784 441 2472 441 \nQ 2797 441 3084 563 \nQ 2800 747 2484 825 \nL 2631 1266 \nz\n\" transform=\"scale(0.015625)\"/>\n      </defs>\n      <use xlink:href=\"#ArialMT-51\"/>\n      <use xlink:href=\"#ArialMT-75\" transform=\"translate(77.783203 0)\"/>\n      <use xlink:href=\"#ArialMT-61\" transform=\"translate(133.398438 0)\"/>\n      <use xlink:href=\"#ArialMT-6e\" transform=\"translate(189.013672 0)\"/>\n      <use xlink:href=\"#ArialMT-74\" transform=\"translate(244.628906 0)\"/>\n      <use xlink:href=\"#ArialMT-69\" transform=\"translate(272.412109 0)\"/>\n      <use xlink:href=\"#ArialMT-74\" transform=\"translate(294.628906 0)\"/>\n      <use xlink:href=\"#ArialMT-79\" transform=\"translate(322.412109 0)\"/>\n      <use xlink:href=\"#ArialMT-20\" transform=\"translate(372.412109 0)\"/>\n      <use xlink:href=\"#ArialMT-73\" transform=\"translate(400.195312 0)\"/>\n      <use xlink:href=\"#ArialMT-6f\" transform=\"translate(450.195312 0)\"/>\n      <use xlink:href=\"#ArialMT-6c\" transform=\"translate(505.810547 0)\"/>\n      <use xlink:href=\"#ArialMT-64\" transform=\"translate(528.027344 0)\"/>\n     </g>\n    </g>\n   </g>\n   <g id=\"patch_3\">\n    <path d=\"M 62.802813 243.695625 \nL 81.402813 243.695625 \nL 81.402813 119.141779 \nL 62.802813 119.141779 \nz\n\" clip-path=\"url(#p3002654693)\" style=\"fill: #da70d6; stroke: #ffffff; stroke-linejoin: miter\"/>\n   </g>\n   <g id=\"patch_4\">\n    <path d=\"M 137.202812 243.695625 \nL 155.802812 243.695625 \nL 155.802812 62.28024 \nL 137.202812 62.28024 \nz\n\" clip-path=\"url(#p3002654693)\" style=\"fill: #da70d6; stroke: #ffffff; stroke-linejoin: miter\"/>\n   </g>\n   <g id=\"patch_5\">\n    <path d=\"M 211.602812 243.695625 \nL 230.202812 243.695625 \nL 230.202812 46.034087 \nL 211.602812 46.034087 \nz\n\" clip-path=\"url(#p3002654693)\" style=\"fill: #da70d6; stroke: #ffffff; stroke-linejoin: miter\"/>\n   </g>\n   <g id=\"patch_6\">\n    <path d=\"M 286.002813 243.695625 \nL 304.602813 243.695625 \nL 304.602813 32.495625 \nL 286.002813 32.495625 \nz\n\" clip-path=\"url(#p3002654693)\" style=\"fill: #da70d6; stroke: #ffffff; stroke-linejoin: miter\"/>\n   </g>\n   <g id=\"patch_7\">\n    <path d=\"M 360.402812 243.695625 \nL 379.002813 243.695625 \nL 379.002813 138.095625 \nL 360.402812 138.095625 \nz\n\" clip-path=\"url(#p3002654693)\" style=\"fill: #da70d6; stroke: #ffffff; stroke-linejoin: miter\"/>\n   </g>\n   <g id=\"patch_8\">\n    <path d=\"M 434.802812 243.695625 \nL 453.402812 243.695625 \nL 453.402812 124.557163 \nL 434.802812 124.557163 \nz\n\" clip-path=\"url(#p3002654693)\" style=\"fill: #da70d6; stroke: #ffffff; stroke-linejoin: miter\"/>\n   </g>\n   <g id=\"patch_9\">\n    <path d=\"M 81.402813 243.695625 \nL 100.002813 243.695625 \nL 100.002813 119.141779 \nL 81.402813 119.141779 \nz\n\" clip-path=\"url(#p3002654693)\" style=\"fill: #008080; stroke: #ffffff; stroke-linejoin: miter\"/>\n   </g>\n   <g id=\"patch_10\">\n    <path d=\"M 155.802813 243.695625 \nL 174.402813 243.695625 \nL 174.402813 243.695625 \nL 155.802813 243.695625 \nz\n\" clip-path=\"url(#p3002654693)\" style=\"fill: #008080; stroke: #ffffff; stroke-linejoin: miter\"/>\n   </g>\n   <g id=\"patch_11\">\n    <path d=\"M 230.202812 243.695625 \nL 248.802812 243.695625 \nL 248.802812 83.941779 \nL 230.202812 83.941779 \nz\n\" clip-path=\"url(#p3002654693)\" style=\"fill: #008080; stroke: #ffffff; stroke-linejoin: miter\"/>\n   </g>\n   <g id=\"patch_12\">\n    <path d=\"M 304.602813 243.695625 \nL 323.202813 243.695625 \nL 323.202813 243.695625 \nL 304.602813 243.695625 \nz\n\" clip-path=\"url(#p3002654693)\" style=\"fill: #008080; stroke: #ffffff; stroke-linejoin: miter\"/>\n   </g>\n   <g id=\"patch_13\">\n    <path d=\"M 379.002813 243.695625 \nL 397.602813 243.695625 \nL 397.602813 113.726394 \nL 379.002813 113.726394 \nz\n\" clip-path=\"url(#p3002654693)\" style=\"fill: #008080; stroke: #ffffff; stroke-linejoin: miter\"/>\n   </g>\n   <g id=\"patch_14\">\n    <path d=\"M 453.402812 243.695625 \nL 472.002813 243.695625 \nL 472.002813 216.618702 \nL 453.402812 216.618702 \nz\n\" clip-path=\"url(#p3002654693)\" style=\"fill: #008080; stroke: #ffffff; stroke-linejoin: miter\"/>\n   </g>\n   <g id=\"patch_15\">\n    <path d=\"M 44.202813 243.695625 \nL 44.202813 21.935625 \n\" style=\"fill: none; stroke: #ffffff; stroke-width: 1.25; stroke-linejoin: miter; stroke-linecap: square\"/>\n   </g>\n   <g id=\"patch_16\">\n    <path d=\"M 490.602812 243.695625 \nL 490.602812 21.935625 \n\" style=\"fill: none; stroke: #ffffff; stroke-width: 1.25; stroke-linejoin: miter; stroke-linecap: square\"/>\n   </g>\n   <g id=\"patch_17\">\n    <path d=\"M 44.202813 243.695625 \nL 490.602812 243.695625 \n\" style=\"fill: none; stroke: #ffffff; stroke-width: 1.25; stroke-linejoin: miter; stroke-linecap: square\"/>\n   </g>\n   <g id=\"patch_18\">\n    <path d=\"M 44.202813 21.935625 \nL 490.602812 21.935625 \n\" style=\"fill: none; stroke: #ffffff; stroke-width: 1.25; stroke-linejoin: miter; stroke-linecap: square\"/>\n   </g>\n   <g id=\"text_18\">\n    <!-- Number of products sold per category by gender -->\n    <g style=\"fill: #262626\" transform=\"translate(138.676562 15.935625) scale(0.12 -0.12)\">\n     <defs>\n      <path id=\"ArialMT-4e\" d=\"M 488 0 \nL 488 4581 \nL 1109 4581 \nL 3516 984 \nL 3516 4581 \nL 4097 4581 \nL 4097 0 \nL 3475 0 \nL 1069 3600 \nL 1069 0 \nL 488 0 \nz\n\" transform=\"scale(0.015625)\"/>\n     </defs>\n     <use xlink:href=\"#ArialMT-4e\"/>\n     <use xlink:href=\"#ArialMT-75\" transform=\"translate(72.216797 0)\"/>\n     <use xlink:href=\"#ArialMT-6d\" transform=\"translate(127.832031 0)\"/>\n     <use xlink:href=\"#ArialMT-62\" transform=\"translate(211.132812 0)\"/>\n     <use xlink:href=\"#ArialMT-65\" transform=\"translate(266.748047 0)\"/>\n     <use xlink:href=\"#ArialMT-72\" transform=\"translate(322.363281 0)\"/>\n     <use xlink:href=\"#ArialMT-20\" transform=\"translate(355.664062 0)\"/>\n     <use xlink:href=\"#ArialMT-6f\" transform=\"translate(383.447266 0)\"/>\n     <use xlink:href=\"#ArialMT-66\" transform=\"translate(439.0625 0)\"/>\n     <use xlink:href=\"#ArialMT-20\" transform=\"translate(466.845703 0)\"/>\n     <use xlink:href=\"#ArialMT-70\" transform=\"translate(494.628906 0)\"/>\n     <use xlink:href=\"#ArialMT-72\" transform=\"translate(550.244141 0)\"/>\n     <use xlink:href=\"#ArialMT-6f\" transform=\"translate(583.544922 0)\"/>\n     <use xlink:href=\"#ArialMT-64\" transform=\"translate(639.160156 0)\"/>\n     <use xlink:href=\"#ArialMT-75\" transform=\"translate(694.775391 0)\"/>\n     <use xlink:href=\"#ArialMT-63\" transform=\"translate(750.390625 0)\"/>\n     <use xlink:href=\"#ArialMT-74\" transform=\"translate(800.390625 0)\"/>\n     <use xlink:href=\"#ArialMT-73\" transform=\"translate(828.173828 0)\"/>\n     <use xlink:href=\"#ArialMT-20\" transform=\"translate(878.173828 0)\"/>\n     <use xlink:href=\"#ArialMT-73\" transform=\"translate(905.957031 0)\"/>\n     <use xlink:href=\"#ArialMT-6f\" transform=\"translate(955.957031 0)\"/>\n     <use xlink:href=\"#ArialMT-6c\" transform=\"translate(1011.572266 0)\"/>\n     <use xlink:href=\"#ArialMT-64\" transform=\"translate(1033.789062 0)\"/>\n     <use xlink:href=\"#ArialMT-20\" transform=\"translate(1089.404297 0)\"/>\n     <use xlink:href=\"#ArialMT-70\" transform=\"translate(1117.1875 0)\"/>\n     <use xlink:href=\"#ArialMT-65\" transform=\"translate(1172.802734 0)\"/>\n     <use xlink:href=\"#ArialMT-72\" transform=\"translate(1228.417969 0)\"/>\n     <use xlink:href=\"#ArialMT-20\" transform=\"translate(1261.71875 0)\"/>\n     <use xlink:href=\"#ArialMT-63\" transform=\"translate(1289.501953 0)\"/>\n     <use xlink:href=\"#ArialMT-61\" transform=\"translate(1339.501953 0)\"/>\n     <use xlink:href=\"#ArialMT-74\" transform=\"translate(1395.117188 0)\"/>\n     <use xlink:href=\"#ArialMT-65\" transform=\"translate(1422.900391 0)\"/>\n     <use xlink:href=\"#ArialMT-67\" transform=\"translate(1478.515625 0)\"/>\n     <use xlink:href=\"#ArialMT-6f\" transform=\"translate(1534.130859 0)\"/>\n     <use xlink:href=\"#ArialMT-72\" transform=\"translate(1589.746094 0)\"/>\n     <use xlink:href=\"#ArialMT-79\" transform=\"translate(1623.046875 0)\"/>\n     <use xlink:href=\"#ArialMT-20\" transform=\"translate(1673.046875 0)\"/>\n     <use xlink:href=\"#ArialMT-62\" transform=\"translate(1700.830078 0)\"/>\n     <use xlink:href=\"#ArialMT-79\" transform=\"translate(1756.445312 0)\"/>\n     <use xlink:href=\"#ArialMT-20\" transform=\"translate(1806.445312 0)\"/>\n     <use xlink:href=\"#ArialMT-67\" transform=\"translate(1834.228516 0)\"/>\n     <use xlink:href=\"#ArialMT-65\" transform=\"translate(1889.84375 0)\"/>\n     <use xlink:href=\"#ArialMT-6e\" transform=\"translate(1945.458984 0)\"/>\n     <use xlink:href=\"#ArialMT-64\" transform=\"translate(2001.074219 0)\"/>\n     <use xlink:href=\"#ArialMT-65\" transform=\"translate(2056.689453 0)\"/>\n     <use xlink:href=\"#ArialMT-72\" transform=\"translate(2112.304688 0)\"/>\n    </g>\n   </g>\n   <g id=\"legend_1\">\n    <g id=\"patch_19\">\n     <path d=\"M 411.026406 78.329687 \nL 482.902812 78.329687 \nQ 485.102812 78.329687 485.102812 76.129687 \nL 485.102812 29.635625 \nQ 485.102812 27.435625 482.902812 27.435625 \nL 411.026406 27.435625 \nQ 408.826406 27.435625 408.826406 29.635625 \nL 408.826406 76.129687 \nQ 408.826406 78.329687 411.026406 78.329687 \nz\n\" style=\"fill: #eaeaf2; opacity: 0.8; stroke: #cccccc; stroke-linejoin: miter\"/>\n    </g>\n    <g id=\"text_19\">\n     <!-- Gender -->\n     <g style=\"fill: #262626\" transform=\"translate(426.953672 40.425) scale(0.12 -0.12)\">\n      <defs>\n       <path id=\"ArialMT-47\" d=\"M 2638 1797 \nL 2638 2334 \nL 4578 2338 \nL 4578 638 \nQ 4131 281 3656 101 \nQ 3181 -78 2681 -78 \nQ 2006 -78 1454 211 \nQ 903 500 622 1047 \nQ 341 1594 341 2269 \nQ 341 2938 620 3517 \nQ 900 4097 1425 4378 \nQ 1950 4659 2634 4659 \nQ 3131 4659 3532 4498 \nQ 3934 4338 4162 4050 \nQ 4391 3763 4509 3300 \nL 3963 3150 \nQ 3859 3500 3706 3700 \nQ 3553 3900 3268 4020 \nQ 2984 4141 2638 4141 \nQ 2222 4141 1919 4014 \nQ 1616 3888 1430 3681 \nQ 1244 3475 1141 3228 \nQ 966 2803 966 2306 \nQ 966 1694 1177 1281 \nQ 1388 869 1791 669 \nQ 2194 469 2647 469 \nQ 3041 469 3416 620 \nQ 3791 772 3984 944 \nL 3984 1797 \nL 2638 1797 \nz\n\" transform=\"scale(0.015625)\"/>\n      </defs>\n      <use xlink:href=\"#ArialMT-47\"/>\n      <use xlink:href=\"#ArialMT-65\" transform=\"translate(77.783203 0)\"/>\n      <use xlink:href=\"#ArialMT-6e\" transform=\"translate(133.398438 0)\"/>\n      <use xlink:href=\"#ArialMT-64\" transform=\"translate(189.013672 0)\"/>\n      <use xlink:href=\"#ArialMT-65\" transform=\"translate(244.628906 0)\"/>\n      <use xlink:href=\"#ArialMT-72\" transform=\"translate(300.244141 0)\"/>\n     </g>\n    </g>\n    <g id=\"patch_20\">\n     <path d=\"M 413.226406 56.183594 \nL 435.226406 56.183594 \nL 435.226406 48.483594 \nL 413.226406 48.483594 \nz\n\" style=\"fill: #da70d6; stroke: #ffffff; stroke-linejoin: miter\"/>\n    </g>\n    <g id=\"text_20\">\n     <!-- Female -->\n     <g style=\"fill: #262626\" transform=\"translate(444.026406 56.183594) scale(0.11 -0.11)\">\n      <use xlink:href=\"#ArialMT-46\"/>\n      <use xlink:href=\"#ArialMT-65\" transform=\"translate(61.083984 0)\"/>\n      <use xlink:href=\"#ArialMT-6d\" transform=\"translate(116.699219 0)\"/>\n      <use xlink:href=\"#ArialMT-61\" transform=\"translate(200 0)\"/>\n      <use xlink:href=\"#ArialMT-6c\" transform=\"translate(255.615234 0)\"/>\n      <use xlink:href=\"#ArialMT-65\" transform=\"translate(277.832031 0)\"/>\n     </g>\n    </g>\n    <g id=\"patch_21\">\n     <path d=\"M 413.226406 71.743437 \nL 435.226406 71.743437 \nL 435.226406 64.043437 \nL 413.226406 64.043437 \nz\n\" style=\"fill: #008080; stroke: #ffffff; stroke-linejoin: miter\"/>\n    </g>\n    <g id=\"text_21\">\n     <!-- Male -->\n     <g style=\"fill: #262626\" transform=\"translate(444.026406 71.743437) scale(0.11 -0.11)\">\n      <defs>\n       <path id=\"ArialMT-4d\" d=\"M 475 0 \nL 475 4581 \nL 1388 4581 \nL 2472 1338 \nQ 2622 884 2691 659 \nQ 2769 909 2934 1394 \nL 4031 4581 \nL 4847 4581 \nL 4847 0 \nL 4263 0 \nL 4263 3834 \nL 2931 0 \nL 2384 0 \nL 1059 3900 \nL 1059 0 \nL 475 0 \nz\n\" transform=\"scale(0.015625)\"/>\n      </defs>\n      <use xlink:href=\"#ArialMT-4d\"/>\n      <use xlink:href=\"#ArialMT-61\" transform=\"translate(83.300781 0)\"/>\n      <use xlink:href=\"#ArialMT-6c\" transform=\"translate(138.916016 0)\"/>\n      <use xlink:href=\"#ArialMT-65\" transform=\"translate(161.132812 0)\"/>\n     </g>\n    </g>\n   </g>\n  </g>\n </g>\n <defs>\n  <clipPath id=\"p3002654693\">\n   <rect x=\"44.202813\" y=\"21.935625\" width=\"446.4\" height=\"221.76\"/>\n  </clipPath>\n </defs>\n</svg>\n"
     },
     "metadata": {},
     "output_type": "display_data"
    }
   ],
   "execution_count": 112
  },
  {
   "cell_type": "markdown",
   "id": "2a76058a-cb74-40b1-b39d-3e324a1612cf",
   "metadata": {},
   "source": [
    "#### Question 6"
   ]
  },
  {
   "cell_type": "code",
   "id": "7fa3a312-1328-4d5f-8135-264bb74eb9c6",
   "metadata": {
    "ExecuteTime": {
     "end_time": "2025-04-09T01:50:40.177184Z",
     "start_time": "2025-04-09T01:50:40.175441Z"
    }
   },
   "source": [
    "### what is the total sales ('Total') done by each Payment type during the whole period?\n",
    "### use the full data in the dataset (not the first week of March) from now on"
   ],
   "outputs": [],
   "execution_count": 113
  },
  {
   "cell_type": "markdown",
   "id": "864ff541-d50f-4bb6-8716-6dee409c5486",
   "metadata": {},
   "source": [
    "#### Question 7"
   ]
  },
  {
   "cell_type": "code",
   "id": "45f533cc-af40-44f0-bbb9-c2aa58262cad",
   "metadata": {
    "ExecuteTime": {
     "end_time": "2025-04-09T01:50:40.194394Z",
     "start_time": "2025-04-09T01:50:40.192822Z"
    }
   },
   "source": [
    "### plot a chart with total sales ('Total') of the \"Sports and travel\" products by calendar week (Monday-Sunday): \n",
    "### note the first and the last week can be incomplete (for instance, the data starts on Wednesday, and ends on Friday)\n",
    "### assume all our sales data spans the same year (for instance, 2019)\n",
    "\n",
    "### you can make use of the isocalendar() function: https://www.geeksforgeeks.org/isocalendar-function-of-datetime-date-class-in-python/\n",
    "\n",
    "### x axis are weeks enumerated from the first to the last calendar week in the data\n",
    "### y axis is the total sales that week"
   ],
   "outputs": [],
   "execution_count": 114
  },
  {
   "metadata": {},
   "cell_type": "markdown",
   "source": "#### Question 7 - solution",
   "id": "b4a1bcf855f34a7c"
  },
  {
   "metadata": {
    "ExecuteTime": {
     "end_time": "2025-04-09T02:32:56.436248Z",
     "start_time": "2025-04-09T02:32:56.413131Z"
    }
   },
   "cell_type": "code",
   "source": [
    "from datetime import date\n",
    "def get_num_of_week(st_date:str) -> int:\n",
    "    date = pd.to_datetime(st_date,format='%m/%d/%Y')\n",
    "    year,week_num,weekday = date.isocalendar()\n",
    "    return week_num\n",
    "\n",
    "\n",
    "sport_and_travel_sales = df[df['Product line'] == 'Sports and travel'].copy()\n",
    "sport_and_travel_sales['week_day'] = sport_and_travel_sales['Date'].apply(get_num_of_week)\n",
    "res = sport_and_travel_sales.groupby('week_day')['Total'].sum()\n",
    "pd.DataFrame(res)"
   ],
   "id": "48159900d4231fec",
   "outputs": [
    {
     "data": {
      "text/plain": [
       "              Total\n",
       "week_day           \n",
       "1         2266.8345\n",
       "2         5622.2565\n",
       "3         5966.8560\n",
       "4         4761.8655\n",
       "5         5554.9410\n",
       "6         3200.0325\n",
       "7         3884.9790\n",
       "8         2767.6110\n",
       "9         3013.2270\n",
       "10        5174.6730\n",
       "11        6211.5585\n",
       "12        5107.1475\n",
       "13        1590.8445"
      ],
      "text/html": [
       "<div>\n",
       "<style scoped>\n",
       "    .dataframe tbody tr th:only-of-type {\n",
       "        vertical-align: middle;\n",
       "    }\n",
       "\n",
       "    .dataframe tbody tr th {\n",
       "        vertical-align: top;\n",
       "    }\n",
       "\n",
       "    .dataframe thead th {\n",
       "        text-align: right;\n",
       "    }\n",
       "</style>\n",
       "<table border=\"1\" class=\"dataframe\">\n",
       "  <thead>\n",
       "    <tr style=\"text-align: right;\">\n",
       "      <th></th>\n",
       "      <th>Total</th>\n",
       "    </tr>\n",
       "    <tr>\n",
       "      <th>week_day</th>\n",
       "      <th></th>\n",
       "    </tr>\n",
       "  </thead>\n",
       "  <tbody>\n",
       "    <tr>\n",
       "      <th>1</th>\n",
       "      <td>2266.8345</td>\n",
       "    </tr>\n",
       "    <tr>\n",
       "      <th>2</th>\n",
       "      <td>5622.2565</td>\n",
       "    </tr>\n",
       "    <tr>\n",
       "      <th>3</th>\n",
       "      <td>5966.8560</td>\n",
       "    </tr>\n",
       "    <tr>\n",
       "      <th>4</th>\n",
       "      <td>4761.8655</td>\n",
       "    </tr>\n",
       "    <tr>\n",
       "      <th>5</th>\n",
       "      <td>5554.9410</td>\n",
       "    </tr>\n",
       "    <tr>\n",
       "      <th>6</th>\n",
       "      <td>3200.0325</td>\n",
       "    </tr>\n",
       "    <tr>\n",
       "      <th>7</th>\n",
       "      <td>3884.9790</td>\n",
       "    </tr>\n",
       "    <tr>\n",
       "      <th>8</th>\n",
       "      <td>2767.6110</td>\n",
       "    </tr>\n",
       "    <tr>\n",
       "      <th>9</th>\n",
       "      <td>3013.2270</td>\n",
       "    </tr>\n",
       "    <tr>\n",
       "      <th>10</th>\n",
       "      <td>5174.6730</td>\n",
       "    </tr>\n",
       "    <tr>\n",
       "      <th>11</th>\n",
       "      <td>6211.5585</td>\n",
       "    </tr>\n",
       "    <tr>\n",
       "      <th>12</th>\n",
       "      <td>5107.1475</td>\n",
       "    </tr>\n",
       "    <tr>\n",
       "      <th>13</th>\n",
       "      <td>1590.8445</td>\n",
       "    </tr>\n",
       "  </tbody>\n",
       "</table>\n",
       "</div>"
      ]
     },
     "execution_count": 142,
     "metadata": {},
     "output_type": "execute_result"
    }
   ],
   "execution_count": 142
  },
  {
   "cell_type": "markdown",
   "id": "f069e260-9c4d-4d03-b9bd-04a1ad34b0c9",
   "metadata": {},
   "source": [
    "#### Question 8"
   ]
  },
  {
   "cell_type": "code",
   "id": "2366719b-50f3-4149-aa73-dd8a489d7820",
   "metadata": {
    "ExecuteTime": {
     "end_time": "2025-04-09T01:50:40.207628Z",
     "start_time": "2025-04-09T01:50:40.206205Z"
    }
   },
   "source": [
    "### plot a line chart of total sales ('Total') per hour in our dataset\n",
    "### the x axis will be an hour (e.g., 9, 10, 11), and the y axis will be the total amout of sales during that hour\n",
    "### (e.g., for 9 - all sales between 09:00 and 10:00)"
   ],
   "outputs": [],
   "execution_count": 115
  },
  {
   "cell_type": "markdown",
   "id": "32115916-06de-4cfe-9af3-c2b7c2832dd6",
   "metadata": {},
   "source": [
    "#### Question 9"
   ]
  },
  {
   "cell_type": "code",
   "id": "5741bfef-46e1-414b-a7b0-b450fa26ff12",
   "metadata": {
    "ExecuteTime": {
     "end_time": "2025-04-09T01:50:40.230341Z",
     "start_time": "2025-04-09T01:50:40.228943Z"
    }
   },
   "source": [
    "### plot a line chart of the total number of purchases (rows) per hour in our dataset\n",
    "### the x axis will be an hour (e.g., 9, 10, 11), and the y axis will be the total number of purchases during that hour\n",
    "### (e.g., for 9 - all sales between 09:00 and 10:00)"
   ],
   "outputs": [],
   "execution_count": 116
  },
  {
   "metadata": {},
   "cell_type": "markdown",
   "source": "#### Question 9 - solution",
   "id": "e2d979aeadd06275"
  },
  {
   "metadata": {
    "ExecuteTime": {
     "end_time": "2025-04-09T03:53:05.493423Z",
     "start_time": "2025-04-09T03:53:05.476326Z"
    }
   },
   "cell_type": "code",
   "source": [
    "from datetime import datetime\n",
    "\n",
    "#hour = datetime.strptime(hour_in_str, '%H:%M').hour\n",
    "#print(hour)\n",
    "df_copy = df.copy()\n",
    "df_copy['hour'] = df_copy['Time'].apply(lambda x: datetime.strptime(x, '%H:%M').hour)\n",
    "res = df_copy.groupby('hour')\n",
    "hours_and_purchases = []\n",
    "for hour, group in res:\n",
    "    hours_and_purchases.append((hour, group.shape[0]))\n",
    "pd.DataFrame(hours_and_purchases,columns=['hour','purchases'])\n"
   ],
   "id": "d972191257eec3b1",
   "outputs": [
    {
     "data": {
      "text/plain": [
       "    hour  purchases\n",
       "0     10        101\n",
       "1     11         90\n",
       "2     12         89\n",
       "3     13        103\n",
       "4     14         83\n",
       "5     15        102\n",
       "6     16         77\n",
       "7     17         74\n",
       "8     18         93\n",
       "9     19        113\n",
       "10    20         75"
      ],
      "text/html": [
       "<div>\n",
       "<style scoped>\n",
       "    .dataframe tbody tr th:only-of-type {\n",
       "        vertical-align: middle;\n",
       "    }\n",
       "\n",
       "    .dataframe tbody tr th {\n",
       "        vertical-align: top;\n",
       "    }\n",
       "\n",
       "    .dataframe thead th {\n",
       "        text-align: right;\n",
       "    }\n",
       "</style>\n",
       "<table border=\"1\" class=\"dataframe\">\n",
       "  <thead>\n",
       "    <tr style=\"text-align: right;\">\n",
       "      <th></th>\n",
       "      <th>hour</th>\n",
       "      <th>purchases</th>\n",
       "    </tr>\n",
       "  </thead>\n",
       "  <tbody>\n",
       "    <tr>\n",
       "      <th>0</th>\n",
       "      <td>10</td>\n",
       "      <td>101</td>\n",
       "    </tr>\n",
       "    <tr>\n",
       "      <th>1</th>\n",
       "      <td>11</td>\n",
       "      <td>90</td>\n",
       "    </tr>\n",
       "    <tr>\n",
       "      <th>2</th>\n",
       "      <td>12</td>\n",
       "      <td>89</td>\n",
       "    </tr>\n",
       "    <tr>\n",
       "      <th>3</th>\n",
       "      <td>13</td>\n",
       "      <td>103</td>\n",
       "    </tr>\n",
       "    <tr>\n",
       "      <th>4</th>\n",
       "      <td>14</td>\n",
       "      <td>83</td>\n",
       "    </tr>\n",
       "    <tr>\n",
       "      <th>5</th>\n",
       "      <td>15</td>\n",
       "      <td>102</td>\n",
       "    </tr>\n",
       "    <tr>\n",
       "      <th>6</th>\n",
       "      <td>16</td>\n",
       "      <td>77</td>\n",
       "    </tr>\n",
       "    <tr>\n",
       "      <th>7</th>\n",
       "      <td>17</td>\n",
       "      <td>74</td>\n",
       "    </tr>\n",
       "    <tr>\n",
       "      <th>8</th>\n",
       "      <td>18</td>\n",
       "      <td>93</td>\n",
       "    </tr>\n",
       "    <tr>\n",
       "      <th>9</th>\n",
       "      <td>19</td>\n",
       "      <td>113</td>\n",
       "    </tr>\n",
       "    <tr>\n",
       "      <th>10</th>\n",
       "      <td>20</td>\n",
       "      <td>75</td>\n",
       "    </tr>\n",
       "  </tbody>\n",
       "</table>\n",
       "</div>"
      ]
     },
     "execution_count": 156,
     "metadata": {},
     "output_type": "execute_result"
    }
   ],
   "execution_count": 156
  },
  {
   "cell_type": "markdown",
   "id": "f93bef93-a5bf-44c5-88c6-7ca71169dda5",
   "metadata": {},
   "source": [
    "#### Question 10"
   ]
  },
  {
   "cell_type": "code",
   "id": "b00b7c99-ec39-49e2-901d-ef23c6e88d10",
   "metadata": {
    "ExecuteTime": {
     "end_time": "2025-04-09T01:50:40.235913Z",
     "start_time": "2025-04-09T01:50:40.234289Z"
    }
   },
   "source": [
    "### what is the total income of strategic products by City?\n",
    "\n",
    "### for each non-strategic product (as detailed in the product_types_strategy.csv file), \n",
    "###    display break down of total sales by cities - a table with three columns: \n",
    "###    (1) product line, (2) city and (3) total sales (the \"Total\" column) for that line in the city"
   ],
   "outputs": [],
   "execution_count": 117
  },
  {
   "cell_type": "code",
   "id": "8ef2b8fa-cbd7-4606-971e-86715c83e47d",
   "metadata": {
    "ExecuteTime": {
     "end_time": "2025-04-09T01:50:40.248714Z",
     "start_time": "2025-04-09T01:50:40.247365Z"
    }
   },
   "source": [],
   "outputs": [],
   "execution_count": null
  }
 ],
 "metadata": {
  "kernelspec": {
   "display_name": "Python 3 (ipykernel)",
   "language": "python",
   "name": "python3"
  },
  "language_info": {
   "codemirror_mode": {
    "name": "ipython",
    "version": 3
   },
   "file_extension": ".py",
   "mimetype": "text/x-python",
   "name": "python",
   "nbconvert_exporter": "python",
   "pygments_lexer": "ipython3",
   "version": "3.11.5"
  }
 },
 "nbformat": 4,
 "nbformat_minor": 5
}
