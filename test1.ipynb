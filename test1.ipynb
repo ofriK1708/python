{
 "cells": [
  {
   "cell_type": "code",
   "id": "initial_id",
   "metadata": {
    "collapsed": true,
    "ExecuteTime": {
     "end_time": "2025-03-22T15:08:36.068788Z",
     "start_time": "2025-03-22T15:08:36.065312Z"
    }
   },
   "source": [
    "import numpy as np\n",
    "\n",
    "arr = np.array([1, 2, 3, 4, 5])\n",
    "print(arr)"
   ],
   "outputs": [
    {
     "name": "stdout",
     "output_type": "stream",
     "text": [
      "[1 2 3 4 5]\n"
     ]
    }
   ],
   "execution_count": 5
  },
  {
   "metadata": {
    "ExecuteTime": {
     "end_time": "2025-03-22T15:08:36.093266Z",
     "start_time": "2025-03-22T15:08:36.089953Z"
    }
   },
   "cell_type": "code",
   "source": [
    "mean = arr.mean()\n",
    "median = np.median(arr)\n",
    "print(mean, median)"
   ],
   "id": "1065177478de96b1",
   "outputs": [
    {
     "name": "stdout",
     "output_type": "stream",
     "text": [
      "3.0 3.0\n"
     ]
    }
   ],
   "execution_count": 6
  },
  {
   "metadata": {
    "ExecuteTime": {
     "end_time": "2025-03-24T10:27:05.380836Z",
     "start_time": "2025-03-24T10:27:05.370389Z"
    }
   },
   "cell_type": "code",
   "source": "print(\"bakakakaka\")",
   "id": "89b8b5b14e251415",
   "outputs": [
    {
     "name": "stdout",
     "output_type": "stream",
     "text": [
      "bakakakaka\n"
     ]
    }
   ],
   "execution_count": 7
  },
  {
   "metadata": {},
   "cell_type": "code",
   "outputs": [],
   "execution_count": null,
   "source": "",
   "id": "9d1e22765c307314"
  }
 ],
 "metadata": {
  "kernelspec": {
   "display_name": "Python 3",
   "language": "python",
   "name": "python3"
  },
  "language_info": {
   "codemirror_mode": {
    "name": "ipython",
    "version": 2
   },
   "file_extension": ".py",
   "mimetype": "text/x-python",
   "name": "python",
   "nbconvert_exporter": "python",
   "pygments_lexer": "ipython2",
   "version": "2.7.6"
  }
 },
 "nbformat": 4,
 "nbformat_minor": 5
}
